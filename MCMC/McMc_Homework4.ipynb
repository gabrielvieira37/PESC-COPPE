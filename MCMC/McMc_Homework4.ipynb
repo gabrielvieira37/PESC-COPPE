{
  "nbformat": 4,
  "nbformat_minor": 0,
  "metadata": {
    "colab": {
      "name": "McMc_Homework4.ipynb",
      "provenance": [],
      "collapsed_sections": []
    },
    "kernelspec": {
      "name": "python3",
      "display_name": "Python 3"
    },
    "widgets": {
      "application/vnd.jupyter.widget-state+json": {
        "55769273fcb74434a6c4e3c275bda3ee": {
          "model_module": "@jupyter-widgets/controls",
          "model_name": "HBoxModel",
          "state": {
            "_view_name": "HBoxView",
            "_dom_classes": [],
            "_model_name": "HBoxModel",
            "_view_module": "@jupyter-widgets/controls",
            "_model_module_version": "1.5.0",
            "_view_count": null,
            "_view_module_version": "1.5.0",
            "box_style": "",
            "layout": "IPY_MODEL_68d4fa4404c94b67a6b410d33aadc3d5",
            "_model_module": "@jupyter-widgets/controls",
            "children": [
              "IPY_MODEL_986a05c3cdbc43739df24f9302262502",
              "IPY_MODEL_04ef5a7f7b564d89b2a1270b8e443c1f"
            ]
          }
        },
        "68d4fa4404c94b67a6b410d33aadc3d5": {
          "model_module": "@jupyter-widgets/base",
          "model_name": "LayoutModel",
          "state": {
            "_view_name": "LayoutView",
            "grid_template_rows": null,
            "right": null,
            "justify_content": null,
            "_view_module": "@jupyter-widgets/base",
            "overflow": null,
            "_model_module_version": "1.2.0",
            "_view_count": null,
            "flex_flow": null,
            "width": null,
            "min_width": null,
            "border": null,
            "align_items": null,
            "bottom": null,
            "_model_module": "@jupyter-widgets/base",
            "top": null,
            "grid_column": null,
            "overflow_y": null,
            "overflow_x": null,
            "grid_auto_flow": null,
            "grid_area": null,
            "grid_template_columns": null,
            "flex": null,
            "_model_name": "LayoutModel",
            "justify_items": null,
            "grid_row": null,
            "max_height": null,
            "align_content": null,
            "visibility": null,
            "align_self": null,
            "height": null,
            "min_height": null,
            "padding": null,
            "grid_auto_rows": null,
            "grid_gap": null,
            "max_width": null,
            "order": null,
            "_view_module_version": "1.2.0",
            "grid_template_areas": null,
            "object_position": null,
            "object_fit": null,
            "grid_auto_columns": null,
            "margin": null,
            "display": null,
            "left": null
          }
        },
        "986a05c3cdbc43739df24f9302262502": {
          "model_module": "@jupyter-widgets/controls",
          "model_name": "FloatProgressModel",
          "state": {
            "_view_name": "ProgressView",
            "style": "IPY_MODEL_b9aeb312f3d84e2aac29789d999dfa9b",
            "_dom_classes": [],
            "description": "100%",
            "_model_name": "FloatProgressModel",
            "bar_style": "success",
            "max": 6,
            "_view_module": "@jupyter-widgets/controls",
            "_model_module_version": "1.5.0",
            "value": 6,
            "_view_count": null,
            "_view_module_version": "1.5.0",
            "orientation": "horizontal",
            "min": 0,
            "description_tooltip": null,
            "_model_module": "@jupyter-widgets/controls",
            "layout": "IPY_MODEL_07e7cb6746b94423b7e6f588f5a749a6"
          }
        },
        "04ef5a7f7b564d89b2a1270b8e443c1f": {
          "model_module": "@jupyter-widgets/controls",
          "model_name": "HTMLModel",
          "state": {
            "_view_name": "HTMLView",
            "style": "IPY_MODEL_a090a18c4bab49bcb87a7c9fe4a8174b",
            "_dom_classes": [],
            "description": "",
            "_model_name": "HTMLModel",
            "placeholder": "​",
            "_view_module": "@jupyter-widgets/controls",
            "_model_module_version": "1.5.0",
            "value": " 6/6 [09:43&lt;00:00, 97.26s/it]",
            "_view_count": null,
            "_view_module_version": "1.5.0",
            "description_tooltip": null,
            "_model_module": "@jupyter-widgets/controls",
            "layout": "IPY_MODEL_13fe0b887f1d4ad2ab397608c303c647"
          }
        },
        "b9aeb312f3d84e2aac29789d999dfa9b": {
          "model_module": "@jupyter-widgets/controls",
          "model_name": "ProgressStyleModel",
          "state": {
            "_view_name": "StyleView",
            "_model_name": "ProgressStyleModel",
            "description_width": "initial",
            "_view_module": "@jupyter-widgets/base",
            "_model_module_version": "1.5.0",
            "_view_count": null,
            "_view_module_version": "1.2.0",
            "bar_color": null,
            "_model_module": "@jupyter-widgets/controls"
          }
        },
        "07e7cb6746b94423b7e6f588f5a749a6": {
          "model_module": "@jupyter-widgets/base",
          "model_name": "LayoutModel",
          "state": {
            "_view_name": "LayoutView",
            "grid_template_rows": null,
            "right": null,
            "justify_content": null,
            "_view_module": "@jupyter-widgets/base",
            "overflow": null,
            "_model_module_version": "1.2.0",
            "_view_count": null,
            "flex_flow": null,
            "width": null,
            "min_width": null,
            "border": null,
            "align_items": null,
            "bottom": null,
            "_model_module": "@jupyter-widgets/base",
            "top": null,
            "grid_column": null,
            "overflow_y": null,
            "overflow_x": null,
            "grid_auto_flow": null,
            "grid_area": null,
            "grid_template_columns": null,
            "flex": null,
            "_model_name": "LayoutModel",
            "justify_items": null,
            "grid_row": null,
            "max_height": null,
            "align_content": null,
            "visibility": null,
            "align_self": null,
            "height": null,
            "min_height": null,
            "padding": null,
            "grid_auto_rows": null,
            "grid_gap": null,
            "max_width": null,
            "order": null,
            "_view_module_version": "1.2.0",
            "grid_template_areas": null,
            "object_position": null,
            "object_fit": null,
            "grid_auto_columns": null,
            "margin": null,
            "display": null,
            "left": null
          }
        },
        "a090a18c4bab49bcb87a7c9fe4a8174b": {
          "model_module": "@jupyter-widgets/controls",
          "model_name": "DescriptionStyleModel",
          "state": {
            "_view_name": "StyleView",
            "_model_name": "DescriptionStyleModel",
            "description_width": "",
            "_view_module": "@jupyter-widgets/base",
            "_model_module_version": "1.5.0",
            "_view_count": null,
            "_view_module_version": "1.2.0",
            "_model_module": "@jupyter-widgets/controls"
          }
        },
        "13fe0b887f1d4ad2ab397608c303c647": {
          "model_module": "@jupyter-widgets/base",
          "model_name": "LayoutModel",
          "state": {
            "_view_name": "LayoutView",
            "grid_template_rows": null,
            "right": null,
            "justify_content": null,
            "_view_module": "@jupyter-widgets/base",
            "overflow": null,
            "_model_module_version": "1.2.0",
            "_view_count": null,
            "flex_flow": null,
            "width": null,
            "min_width": null,
            "border": null,
            "align_items": null,
            "bottom": null,
            "_model_module": "@jupyter-widgets/base",
            "top": null,
            "grid_column": null,
            "overflow_y": null,
            "overflow_x": null,
            "grid_auto_flow": null,
            "grid_area": null,
            "grid_template_columns": null,
            "flex": null,
            "_model_name": "LayoutModel",
            "justify_items": null,
            "grid_row": null,
            "max_height": null,
            "align_content": null,
            "visibility": null,
            "align_self": null,
            "height": null,
            "min_height": null,
            "padding": null,
            "grid_auto_rows": null,
            "grid_gap": null,
            "max_width": null,
            "order": null,
            "_view_module_version": "1.2.0",
            "grid_template_areas": null,
            "object_position": null,
            "object_fit": null,
            "grid_auto_columns": null,
            "margin": null,
            "display": null,
            "left": null
          }
        }
      }
    }
  },
  "cells": [
    {
      "cell_type": "code",
      "metadata": {
        "id": "4PE7jfplTz95",
        "colab_type": "code",
        "colab": {}
      },
      "source": [
        "import math\n",
        "import numpy as np\n",
        "import matplotlib.pyplot as plt\n",
        "from tqdm.notebook import tqdm\n",
        "from scipy import sparse"
      ],
      "execution_count": null,
      "outputs": []
    },
    {
      "cell_type": "markdown",
      "metadata": {
        "id": "_HSUEbNm7bXu",
        "colab_type": "text"
      },
      "source": [
        "## Lazy random walk"
      ]
    },
    {
      "cell_type": "code",
      "metadata": {
        "id": "_f61Gm9YsKwU",
        "colab_type": "code",
        "colab": {}
      },
      "source": [
        "def create_transition_matrix(n):\n",
        "    \"\"\"\n",
        "    Create transition matrix of each\n",
        "    graph: Ring, Binary tree and 2D grid\n",
        "    like torus. Performing a Lazy Random\n",
        "    Walk over each graph.\n",
        "\n",
        "    Parameters\n",
        "    ----------\n",
        "    n : int\n",
        "        Number of vertices of each graph\n",
        "        preferred to be a power of 2\n",
        "\n",
        "    Returns\n",
        "    -------\n",
        "    P_graphs: dict\n",
        "        Return a dictionary containing\n",
        "        the ring graph, binary tree graph\n",
        "        and 2D grid torus like graph\n",
        "        probabilities\n",
        "    \n",
        "    pi_graphs: dict\n",
        "        Return a stationary distribution\n",
        "        of each graph based on the analytic\n",
        "        solution \\pi_i= d_i/2m where d_i is the\n",
        "        degree of vertice i\n",
        "    \"\"\"\n",
        "    P_graphs = {}\n",
        "    pi_graphs = {}\n",
        "    # Graph ring\n",
        "    P = np.zeros((n,n),dtype=np.float64)\n",
        "    pi = np.zeros((n), dtype=np.float64)\n",
        "    # number of vertex = number of edges on ring\n",
        "    m = n\n",
        "    di = 2\n",
        "    for i in range(n):\n",
        "        P[i,i] = 1/2\n",
        "        P[i,(i+1)%n] = 1/4\n",
        "        P[i,i-1] = 1/4\n",
        "        pi[i] = di/(2*m)\n",
        "    P_graphs['ring'] = P\n",
        "    pi_graphs['ring'] = pi\n",
        "    \n",
        "    # 127 vertices on Complete Binary Tree graph\n",
        "    level = int(np.log2(n))\n",
        "    # 2 times the number of vertices besides leafs\n",
        "    m = 2*(2**(level-1)-1)\n",
        "    P = np.zeros((n-1,n-1))\n",
        "    pi = np.zeros((n-1))\n",
        "    for l in range(level):\n",
        "        number_start_leaf = (2**(level-1))-1\n",
        "        for i in range(2**l):\n",
        "            vertex = 2**l + i - 1\n",
        "            vertex_less = 2**(l+1) + 2*i - 1\n",
        "            vertex_more = 2**(l+1) + 2*i \n",
        "            vertex_previous = int(2**(l-1) + i/2) -1\n",
        "\n",
        "            P[vertex, vertex] = 1/2\n",
        "\n",
        "            if (vertex > 0) and (vertex < number_start_leaf):\n",
        "                di = 3\n",
        "                P[vertex, vertex_less] = 1/6\n",
        "                P[vertex, vertex_more] = 1/6\n",
        "                P[vertex, vertex_previous] = 1/6\n",
        "\n",
        "            if vertex == 0:\n",
        "                di = 2\n",
        "                P[vertex, vertex_less] = 1/4\n",
        "                P[vertex, vertex_more] = 1/4\n",
        "\n",
        "            if vertex >= number_start_leaf:\n",
        "                di = 1\n",
        "                P[vertex, vertex_previous] = 1/2\n",
        "\n",
        "            pi[vertex] = di/(2*m)\n",
        "\n",
        "    P_graphs['tree'] = P\n",
        "    pi_graphs['tree'] = pi\n",
        "\n",
        "    # 2D grid as Torus\n",
        "    size = int(np.ceil(np.sqrt(n)))\n",
        "    vertices = size**2\n",
        "    P = np.zeros((vertices,vertices))\n",
        "    pi = np.zeros((vertices))\n",
        "    # 2 times the number of vertices\n",
        "    m = 2*vertices\n",
        "    di = 4\n",
        "    for i in range(vertices):\n",
        "        row = int(i/size)\n",
        "        vertex = i\n",
        "        vertex_left = row*size+(i-1)%size\n",
        "        vertex_right = row*size + (i+1)%size\n",
        "        vertex_up = i-size\n",
        "        vertex_down = (i+size)%vertices\n",
        "\n",
        "        P[vertex, vertex] = 1/2\n",
        "        P[vertex, vertex_left] = 1/8\n",
        "        P[vertex, vertex_right] = 1/8\n",
        "        P[vertex, vertex_up] = 1/8\n",
        "        P[vertex, vertex_down] = 1/8\n",
        "        pi[vertex] = di/(2*m)\n",
        "\n",
        "    P_graphs['grid'] = P\n",
        "    pi_graphs['grid'] = pi\n",
        "\n",
        "    return P_graphs , pi_graphs"
      ],
      "execution_count": null,
      "outputs": []
    },
    {
      "cell_type": "code",
      "metadata": {
        "id": "PKkb1SjWsgdg",
        "colab_type": "code",
        "colab": {}
      },
      "source": [
        "def total_variation(vec_a, vec_b):\n",
        "    \"\"\"\n",
        "    Calculate total variation distance\n",
        "\n",
        "    Parameters\n",
        "    ----------\n",
        "    vec_a : ndarray\n",
        "        Array alpha\n",
        "    \n",
        "    vec_b: ndarray\n",
        "        Array betha\n",
        "\n",
        "    Returns\n",
        "    -------\n",
        "    d_vt : float\n",
        "        d_vt = 1/2 * \\sum_k |alpha_k - betha_k| \n",
        "    \"\"\"\n",
        "    d_vt = np.sum(abs(vec_a-vec_b),dtype=np.float128)/2\n",
        "    return d_vt"
      ],
      "execution_count": null,
      "outputs": []
    },
    {
      "cell_type": "code",
      "metadata": {
        "id": "uq0jkgmltITk",
        "colab_type": "code",
        "colab": {}
      },
      "source": [
        "def calculate_dvt_over_time(n, time):\n",
        "    \"\"\"\n",
        "    Calculate total variation \n",
        "    over time for each graph\n",
        "    created on previously\n",
        "    functions.\n",
        "\n",
        "    Parameters\n",
        "    ----------\n",
        "    n : int\n",
        "        Number of vertices of \n",
        "        each graph, preferred \n",
        "        to be a power of 2.\n",
        "\n",
        "    time: int\n",
        "        Max time of d_vt analysis\n",
        "\n",
        "    Returns\n",
        "    -------\n",
        "    dvt_graph: dict\n",
        "        Return dvt for each\n",
        "        interval of 10 points of t\n",
        "        of each graph on a dict\n",
        "\n",
        "    t : list\n",
        "        Invervals of time used\n",
        "    \"\"\"\n",
        "    P_graph, pi_graphs = create_transition_matrix(n)\n",
        "    max_time = time\n",
        "    t = np.arange(1, max_time,10)\n",
        "    dvt_graph = {}\n",
        "    for graph in P_graph:\n",
        "        P = P_graph[graph]\n",
        "        pi = pi_graphs[graph]\n",
        "        pi_zero = np.zeros_like(pi)\n",
        "        pi_zero[0] = 1\n",
        "        dvt_list = []\n",
        "        for i in range(max_time):\n",
        "            pi_zero = pi_zero.dot(P)\n",
        "            if i in t:\n",
        "                dvt = total_variation(pi, pi_zero)\n",
        "                dvt_list.append(dvt)\n",
        "\n",
        "        dvt_graph[graph] = dvt_list\n",
        "    return dvt_graph , t"
      ],
      "execution_count": null,
      "outputs": []
    },
    {
      "cell_type": "code",
      "metadata": {
        "id": "wbXG4fJx53_w",
        "colab_type": "code",
        "colab": {}
      },
      "source": [
        "def calculate_mixing_time(n_list, epsilon):\n",
        "    \"\"\"\n",
        "    Calculate mixing time for each graph\n",
        "    described previously \n",
        "\n",
        "    Parameters\n",
        "    ----------\n",
        "    n_list : list\n",
        "        List with each number of \n",
        "        vertices.\n",
        "    \n",
        "    epsilon : float\n",
        "        Threshold for stopping mixing \n",
        "        time.\n",
        "\n",
        "    Returns\n",
        "    -------\n",
        "    t_graph : dict\n",
        "        Return mixing time for each\n",
        "        graph related of each number\n",
        "        of vertices on n_list\n",
        "    \"\"\"\n",
        "    t_graph = {}\n",
        "    for n in tqdm(n_list):\n",
        "        P_graph, pi_graphs = create_transition_matrix(n)\n",
        "        for graph in P_graph:\n",
        "            if graph not in t_graph:\n",
        "                t_graph[graph] = []\n",
        "            P = P_graph[graph]\n",
        "            # Create a sparse matrix to handle ring graph\n",
        "            sP = sparse.csr_matrix(P)\n",
        "            pi = pi_graphs[graph]\n",
        "            pi_zero = np.zeros_like(pi)\n",
        "            pi_zero[0] = 1\n",
        "            t_list = []\n",
        "            dvt = 1\n",
        "            t = 0 \n",
        "            while dvt > epsilon:\n",
        "                # Change pi_zero (pi(t)) to sparse\n",
        "                # to be able to perform sparse \n",
        "                # matrix multiplication\n",
        "                pi_zero = sparse.csr_matrix(pi_zero)\n",
        "                pi_zero = pi_zero.dot(sP).toarray()\n",
        "                dvt = total_variation(pi, pi_zero)\n",
        "                t+=1\n",
        "            t_graph[graph].append(t)\n",
        "\n",
        "    return t_graph"
      ],
      "execution_count": null,
      "outputs": []
    },
    {
      "cell_type": "code",
      "metadata": {
        "id": "BUmTkwl_zP9X",
        "colab_type": "code",
        "colab": {}
      },
      "source": [
        "def calculate_spectral_gap(n_list):\n",
        "    \"\"\"\n",
        "    Calculate spectral gap over\n",
        "    each graph defined\n",
        "\n",
        "    Parameters\n",
        "    ----------\n",
        "    n_list : list\n",
        "        List of each value\n",
        "        of vertices n\n",
        "    Returns\n",
        "    -------\n",
        "    spectal_gap_graph : dict\n",
        "        Return a dict with each\n",
        "        spectral gap related with\n",
        "        each graph and each n\n",
        "    \"\"\"\n",
        "    spectral_gap_graph = {}\n",
        "    for n in n_list:\n",
        "        P_graph, pi_graphs = create_transition_matrix(n)\n",
        "        for graph in P_graph:\n",
        "            if graph not in spectral_gap_graph:\n",
        "                spectral_gap_graph[graph] = []\n",
        "            values = np.linalg.eigvals(P_graph[graph])\n",
        "            values_set = set(np.real(values)) \n",
        "            values_set.remove(max(values_set)) \n",
        "            second_largest_eig_value = max(values_set)\n",
        "            spectral_gap = 1 - second_largest_eig_value\n",
        "            spectral_gap_graph[graph].append(spectral_gap)\n",
        "    return spectral_gap_graph"
      ],
      "execution_count": null,
      "outputs": []
    },
    {
      "cell_type": "code",
      "metadata": {
        "id": "MPB2bSTL5I6c",
        "colab_type": "code",
        "colab": {}
      },
      "source": [
        "# Using n=128 instead of 100\n",
        "dvt_graph, t = calculate_dvt_over_time(128, 10**3)"
      ],
      "execution_count": null,
      "outputs": []
    },
    {
      "cell_type": "code",
      "metadata": {
        "id": "Djzbw2yJJgx8",
        "colab_type": "code",
        "colab": {
          "base_uri": "https://localhost:8080/",
          "height": 569
        },
        "outputId": "b56e36ae-89ae-4904-bd6f-46767c4261e3"
      },
      "source": [
        "plt.figure(figsize=(12,9))\n",
        "plt.title(\"Graph of $d_{vt}$ over time on log-log scale\")\n",
        "plt.ylabel(\"log $d_{vt}$\")\n",
        "plt.xlabel(\"log t\")\n",
        "for graph in dvt_graph:\n",
        "    plt.plot(np.log(t), np.log(dvt_graph[graph]), label=graph)\n",
        "plt.grid()\n",
        "plt.legend()\n",
        "plt.show()"
      ],
      "execution_count": null,
      "outputs": [
        {
          "output_type": "display_data",
          "data": {
            "image/png": "[encoded data removed]",
            "text/plain": [
              "<Figure size 864x648 with 1 Axes>"
            ]
          },
          "metadata": {
            "tags": [],
            "needs_background": "light"
          }
        }
      ]
    },
    {
      "cell_type": "code",
      "metadata": {
        "id": "SOTeTAKzpTUG",
        "colab_type": "code",
        "colab": {
          "base_uri": "https://localhost:8080/",
          "height": 66,
          "referenced_widgets": [
            "55769273fcb74434a6c4e3c275bda3ee",
            "68d4fa4404c94b67a6b410d33aadc3d5",
            "986a05c3cdbc43739df24f9302262502",
            "04ef5a7f7b564d89b2a1270b8e443c1f",
            "b9aeb312f3d84e2aac29789d999dfa9b",
            "07e7cb6746b94423b7e6f588f5a749a6",
            "a090a18c4bab49bcb87a7c9fe4a8174b",
            "13fe0b887f1d4ad2ab397608c303c647"
          ]
        },
        "outputId": "c49d5c84-a9f9-476d-e8b0-3bd97db014b9"
      },
      "source": [
        "# Due to full binary tree all n are in power of 2\n",
        "n_list = [8,32,128,256,512,1024]\n",
        "t_graph = calculate_mixing_time(n_list,1e-4)"
      ],
      "execution_count": null,
      "outputs": [
        {
          "output_type": "display_data",
          "data": {
            "application/vnd.jupyter.widget-view+json": {
              "model_id": "55769273fcb74434a6c4e3c275bda3ee",
              "version_minor": 0,
              "version_major": 2
            },
            "text/plain": [
              "HBox(children=(FloatProgress(value=0.0, max=6.0), HTML(value='')))"
            ]
          },
          "metadata": {
            "tags": []
          }
        },
        {
          "output_type": "stream",
          "text": [
            "\n"
          ],
          "name": "stdout"
        }
      ]
    },
    {
      "cell_type": "code",
      "metadata": {
        "id": "EdUdzgiXSU5o",
        "colab_type": "code",
        "colab": {
          "base_uri": "https://localhost:8080/",
          "height": 569
        },
        "outputId": "2ec46292-a78e-4125-e471-0ba4a6830ead"
      },
      "source": [
        "plt.figure(figsize=(12,9))\n",
        "plt.title(\"Graph of the mixing time $\\\\tau_{\\\\epsilon}$ over the number of states/vertices on log-log scale\")\n",
        "plt.ylabel(\"log $\\\\tau_{\\\\epsilon}$\")\n",
        "plt.xlabel(\"log n\")\n",
        "for graph in t_graph:\n",
        "    plt.plot(np.log(n_list), np.log(t_graph[graph]), label=graph)\n",
        "plt.grid()\n",
        "plt.legend()\n",
        "plt.show()"
      ],
      "execution_count": null,
      "outputs": [
        {
          "output_type": "display_data",
          "data": {
            "image/png": "[encoded data removed]",
            "text/plain": [
              "<Figure size 864x648 with 1 Axes>"
            ]
          },
          "metadata": {
            "tags": [],
            "needs_background": "light"
          }
        }
      ]
    },
    {
      "cell_type": "code",
      "metadata": {
        "id": "oYeq2ODb5Ggx",
        "colab_type": "code",
        "colab": {}
      },
      "source": [
        "spectral_gap_graph = calculate_spectral_gap(n_list)"
      ],
      "execution_count": null,
      "outputs": []
    },
    {
      "cell_type": "code",
      "metadata": {
        "id": "uMr84Fv10wV_",
        "colab_type": "code",
        "colab": {
          "base_uri": "https://localhost:8080/",
          "height": 569
        },
        "outputId": "5d5cd1fa-eeae-4aa1-fb2e-6729819f8bca"
      },
      "source": [
        "plt.figure(figsize=(12,9))\n",
        "plt.title(\"Spectral gap $\\\\delta$ over the number of states/vertices on log-log scale\")\n",
        "plt.ylabel(\"log $\\\\delta$\")\n",
        "plt.xlabel(\"log n\")\n",
        "for graph in t_graph:\n",
        "    plt.plot(np.log(n_list), np.log(spectral_gap_graph[graph]), label=graph)\n",
        "plt.grid()\n",
        "plt.legend()\n",
        "plt.show()"
      ],
      "execution_count": null,
      "outputs": [
        {
          "output_type": "display_data",
          "data": {
            "image/png": "[encoded data removed]",
            "text/plain": [
              "<Figure size 864x648 with 1 Axes>"
            ]
          },
          "metadata": {
            "tags": [],
            "needs_background": "light"
          }
        }
      ]
    },
    {
      "cell_type": "code",
      "metadata": {
        "id": "6hZy-WBW2TY2",
        "colab_type": "code",
        "colab": {}
      },
      "source": [
        ""
      ],
      "execution_count": null,
      "outputs": []
    }
  ]
}