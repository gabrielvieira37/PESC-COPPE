{
  "nbformat": 4,
  "nbformat_minor": 0,
  "metadata": {
    "colab": {
      "name": "McMc_homework3.ipynb",
      "provenance": [],
      "collapsed_sections": [
        "ppRXSSsRmtQd",
        "L_PVwkJTmUTh",
        "HspG3T7Hl0_n",
        "pEvfK5-qtObu",
        "K-X4ST4zlsnd",
        "POU4i5xu2mx_",
        "NYqOnGrrWrEP"
      ]
    },
    "kernelspec": {
      "name": "python3",
      "display_name": "Python 3"
    },
    "widgets": {
      "application/vnd.jupyter.widget-state+json": {
        "268df22714e14cf584bdb49202b26768": {
          "model_module": "@jupyter-widgets/controls",
          "model_name": "HBoxModel",
          "state": {
            "_view_name": "HBoxView",
            "_dom_classes": [],
            "_model_name": "HBoxModel",
            "_view_module": "@jupyter-widgets/controls",
            "_model_module_version": "1.5.0",
            "_view_count": null,
            "_view_module_version": "1.5.0",
            "box_style": "",
            "layout": "IPY_MODEL_416762f98f7f455894ebb7f9302b7992",
            "_model_module": "@jupyter-widgets/controls",
            "children": [
              "IPY_MODEL_47b1a017ac664f8681866df4503af6da",
              "IPY_MODEL_57613541eeab465d830ab9b104d7919a"
            ]
          }
        },
        "416762f98f7f455894ebb7f9302b7992": {
          "model_module": "@jupyter-widgets/base",
          "model_name": "LayoutModel",
          "state": {
            "_view_name": "LayoutView",
            "grid_template_rows": null,
            "right": null,
            "justify_content": null,
            "_view_module": "@jupyter-widgets/base",
            "overflow": null,
            "_model_module_version": "1.2.0",
            "_view_count": null,
            "flex_flow": null,
            "width": null,
            "min_width": null,
            "border": null,
            "align_items": null,
            "bottom": null,
            "_model_module": "@jupyter-widgets/base",
            "top": null,
            "grid_column": null,
            "overflow_y": null,
            "overflow_x": null,
            "grid_auto_flow": null,
            "grid_area": null,
            "grid_template_columns": null,
            "flex": null,
            "_model_name": "LayoutModel",
            "justify_items": null,
            "grid_row": null,
            "max_height": null,
            "align_content": null,
            "visibility": null,
            "align_self": null,
            "height": null,
            "min_height": null,
            "padding": null,
            "grid_auto_rows": null,
            "grid_gap": null,
            "max_width": null,
            "order": null,
            "_view_module_version": "1.2.0",
            "grid_template_areas": null,
            "object_position": null,
            "object_fit": null,
            "grid_auto_columns": null,
            "margin": null,
            "display": null,
            "left": null
          }
        },
        "47b1a017ac664f8681866df4503af6da": {
          "model_module": "@jupyter-widgets/controls",
          "model_name": "FloatProgressModel",
          "state": {
            "_view_name": "ProgressView",
            "style": "IPY_MODEL_f9fc1c9e5a3b4c2bbe9751d655806c2d",
            "_dom_classes": [],
            "description": "100%",
            "_model_name": "FloatProgressModel",
            "bar_style": "success",
            "max": 10,
            "_view_module": "@jupyter-widgets/controls",
            "_model_module_version": "1.5.0",
            "value": 10,
            "_view_count": null,
            "_view_module_version": "1.5.0",
            "orientation": "horizontal",
            "min": 0,
            "description_tooltip": null,
            "_model_module": "@jupyter-widgets/controls",
            "layout": "IPY_MODEL_06a8d4d19afd4d3c91be5932869661c7"
          }
        },
        "57613541eeab465d830ab9b104d7919a": {
          "model_module": "@jupyter-widgets/controls",
          "model_name": "HTMLModel",
          "state": {
            "_view_name": "HTMLView",
            "style": "IPY_MODEL_7006ba584ab247689eb2033d3b6021b9",
            "_dom_classes": [],
            "description": "",
            "_model_name": "HTMLModel",
            "placeholder": "​",
            "_view_module": "@jupyter-widgets/controls",
            "_model_module_version": "1.5.0",
            "value": " 10/10 [1:34:45&lt;00:00, 568.55s/it]",
            "_view_count": null,
            "_view_module_version": "1.5.0",
            "description_tooltip": null,
            "_model_module": "@jupyter-widgets/controls",
            "layout": "IPY_MODEL_94edf5199241495f9f4e9d60d8678f60"
          }
        },
        "f9fc1c9e5a3b4c2bbe9751d655806c2d": {
          "model_module": "@jupyter-widgets/controls",
          "model_name": "ProgressStyleModel",
          "state": {
            "_view_name": "StyleView",
            "_model_name": "ProgressStyleModel",
            "description_width": "initial",
            "_view_module": "@jupyter-widgets/base",
            "_model_module_version": "1.5.0",
            "_view_count": null,
            "_view_module_version": "1.2.0",
            "bar_color": null,
            "_model_module": "@jupyter-widgets/controls"
          }
        },
        "06a8d4d19afd4d3c91be5932869661c7": {
          "model_module": "@jupyter-widgets/base",
          "model_name": "LayoutModel",
          "state": {
            "_view_name": "LayoutView",
            "grid_template_rows": null,
            "right": null,
            "justify_content": null,
            "_view_module": "@jupyter-widgets/base",
            "overflow": null,
            "_model_module_version": "1.2.0",
            "_view_count": null,
            "flex_flow": null,
            "width": null,
            "min_width": null,
            "border": null,
            "align_items": null,
            "bottom": null,
            "_model_module": "@jupyter-widgets/base",
            "top": null,
            "grid_column": null,
            "overflow_y": null,
            "overflow_x": null,
            "grid_auto_flow": null,
            "grid_area": null,
            "grid_template_columns": null,
            "flex": null,
            "_model_name": "LayoutModel",
            "justify_items": null,
            "grid_row": null,
            "max_height": null,
            "align_content": null,
            "visibility": null,
            "align_self": null,
            "height": null,
            "min_height": null,
            "padding": null,
            "grid_auto_rows": null,
            "grid_gap": null,
            "max_width": null,
            "order": null,
            "_view_module_version": "1.2.0",
            "grid_template_areas": null,
            "object_position": null,
            "object_fit": null,
            "grid_auto_columns": null,
            "margin": null,
            "display": null,
            "left": null
          }
        },
        "7006ba584ab247689eb2033d3b6021b9": {
          "model_module": "@jupyter-widgets/controls",
          "model_name": "DescriptionStyleModel",
          "state": {
            "_view_name": "StyleView",
            "_model_name": "DescriptionStyleModel",
            "description_width": "",
            "_view_module": "@jupyter-widgets/base",
            "_model_module_version": "1.5.0",
            "_view_count": null,
            "_view_module_version": "1.2.0",
            "_model_module": "@jupyter-widgets/controls"
          }
        },
        "94edf5199241495f9f4e9d60d8678f60": {
          "model_module": "@jupyter-widgets/base",
          "model_name": "LayoutModel",
          "state": {
            "_view_name": "LayoutView",
            "grid_template_rows": null,
            "right": null,
            "justify_content": null,
            "_view_module": "@jupyter-widgets/base",
            "overflow": null,
            "_model_module_version": "1.2.0",
            "_view_count": null,
            "flex_flow": null,
            "width": null,
            "min_width": null,
            "border": null,
            "align_items": null,
            "bottom": null,
            "_model_module": "@jupyter-widgets/base",
            "top": null,
            "grid_column": null,
            "overflow_y": null,
            "overflow_x": null,
            "grid_auto_flow": null,
            "grid_area": null,
            "grid_template_columns": null,
            "flex": null,
            "_model_name": "LayoutModel",
            "justify_items": null,
            "grid_row": null,
            "max_height": null,
            "align_content": null,
            "visibility": null,
            "align_self": null,
            "height": null,
            "min_height": null,
            "padding": null,
            "grid_auto_rows": null,
            "grid_gap": null,
            "max_width": null,
            "order": null,
            "_view_module_version": "1.2.0",
            "grid_template_areas": null,
            "object_position": null,
            "object_fit": null,
            "grid_auto_columns": null,
            "margin": null,
            "display": null,
            "left": null
          }
        },
        "18151d86889d40d6877104e3590bba07": {
          "model_module": "@jupyter-widgets/controls",
          "model_name": "HBoxModel",
          "state": {
            "_view_name": "HBoxView",
            "_dom_classes": [],
            "_model_name": "HBoxModel",
            "_view_module": "@jupyter-widgets/controls",
            "_model_module_version": "1.5.0",
            "_view_count": null,
            "_view_module_version": "1.5.0",
            "box_style": "",
            "layout": "IPY_MODEL_8e91afe2713b4d5283b2058db2dbf58e",
            "_model_module": "@jupyter-widgets/controls",
            "children": [
              "IPY_MODEL_07a2bbf3cdd54c3a81ad2dc622956252",
              "IPY_MODEL_3be9eaa6fbaf45fe93b5a7a6bdef457f"
            ]
          }
        },
        "8e91afe2713b4d5283b2058db2dbf58e": {
          "model_module": "@jupyter-widgets/base",
          "model_name": "LayoutModel",
          "state": {
            "_view_name": "LayoutView",
            "grid_template_rows": null,
            "right": null,
            "justify_content": null,
            "_view_module": "@jupyter-widgets/base",
            "overflow": null,
            "_model_module_version": "1.2.0",
            "_view_count": null,
            "flex_flow": null,
            "width": null,
            "min_width": null,
            "border": null,
            "align_items": null,
            "bottom": null,
            "_model_module": "@jupyter-widgets/base",
            "top": null,
            "grid_column": null,
            "overflow_y": null,
            "overflow_x": null,
            "grid_auto_flow": null,
            "grid_area": null,
            "grid_template_columns": null,
            "flex": null,
            "_model_name": "LayoutModel",
            "justify_items": null,
            "grid_row": null,
            "max_height": null,
            "align_content": null,
            "visibility": null,
            "align_self": null,
            "height": null,
            "min_height": null,
            "padding": null,
            "grid_auto_rows": null,
            "grid_gap": null,
            "max_width": null,
            "order": null,
            "_view_module_version": "1.2.0",
            "grid_template_areas": null,
            "object_position": null,
            "object_fit": null,
            "grid_auto_columns": null,
            "margin": null,
            "display": null,
            "left": null
          }
        },
        "07a2bbf3cdd54c3a81ad2dc622956252": {
          "model_module": "@jupyter-widgets/controls",
          "model_name": "FloatProgressModel",
          "state": {
            "_view_name": "ProgressView",
            "style": "IPY_MODEL_cd069efee9714d05bd07073d622500ea",
            "_dom_classes": [],
            "description": "100%",
            "_model_name": "FloatProgressModel",
            "bar_style": "success",
            "max": 4,
            "_view_module": "@jupyter-widgets/controls",
            "_model_module_version": "1.5.0",
            "value": 4,
            "_view_count": null,
            "_view_module_version": "1.5.0",
            "orientation": "horizontal",
            "min": 0,
            "description_tooltip": null,
            "_model_module": "@jupyter-widgets/controls",
            "layout": "IPY_MODEL_3d096448619f4e5c8414acfdab730b16"
          }
        },
        "3be9eaa6fbaf45fe93b5a7a6bdef457f": {
          "model_module": "@jupyter-widgets/controls",
          "model_name": "HTMLModel",
          "state": {
            "_view_name": "HTMLView",
            "style": "IPY_MODEL_be16f1ec3e474208af83d8e43d54dd1a",
            "_dom_classes": [],
            "description": "",
            "_model_name": "HTMLModel",
            "placeholder": "​",
            "_view_module": "@jupyter-widgets/controls",
            "_model_module_version": "1.5.0",
            "value": " 4/4 [01:57&lt;00:00, 29.45s/it]",
            "_view_count": null,
            "_view_module_version": "1.5.0",
            "description_tooltip": null,
            "_model_module": "@jupyter-widgets/controls",
            "layout": "IPY_MODEL_3052e9f3e6de40d09a152bafd18bffcb"
          }
        },
        "cd069efee9714d05bd07073d622500ea": {
          "model_module": "@jupyter-widgets/controls",
          "model_name": "ProgressStyleModel",
          "state": {
            "_view_name": "StyleView",
            "_model_name": "ProgressStyleModel",
            "description_width": "initial",
            "_view_module": "@jupyter-widgets/base",
            "_model_module_version": "1.5.0",
            "_view_count": null,
            "_view_module_version": "1.2.0",
            "bar_color": null,
            "_model_module": "@jupyter-widgets/controls"
          }
        },
        "3d096448619f4e5c8414acfdab730b16": {
          "model_module": "@jupyter-widgets/base",
          "model_name": "LayoutModel",
          "state": {
            "_view_name": "LayoutView",
            "grid_template_rows": null,
            "right": null,
            "justify_content": null,
            "_view_module": "@jupyter-widgets/base",
            "overflow": null,
            "_model_module_version": "1.2.0",
            "_view_count": null,
            "flex_flow": null,
            "width": null,
            "min_width": null,
            "border": null,
            "align_items": null,
            "bottom": null,
            "_model_module": "@jupyter-widgets/base",
            "top": null,
            "grid_column": null,
            "overflow_y": null,
            "overflow_x": null,
            "grid_auto_flow": null,
            "grid_area": null,
            "grid_template_columns": null,
            "flex": null,
            "_model_name": "LayoutModel",
            "justify_items": null,
            "grid_row": null,
            "max_height": null,
            "align_content": null,
            "visibility": null,
            "align_self": null,
            "height": null,
            "min_height": null,
            "padding": null,
            "grid_auto_rows": null,
            "grid_gap": null,
            "max_width": null,
            "order": null,
            "_view_module_version": "1.2.0",
            "grid_template_areas": null,
            "object_position": null,
            "object_fit": null,
            "grid_auto_columns": null,
            "margin": null,
            "display": null,
            "left": null
          }
        },
        "be16f1ec3e474208af83d8e43d54dd1a": {
          "model_module": "@jupyter-widgets/controls",
          "model_name": "DescriptionStyleModel",
          "state": {
            "_view_name": "StyleView",
            "_model_name": "DescriptionStyleModel",
            "description_width": "",
            "_view_module": "@jupyter-widgets/base",
            "_model_module_version": "1.5.0",
            "_view_count": null,
            "_view_module_version": "1.2.0",
            "_model_module": "@jupyter-widgets/controls"
          }
        },
        "3052e9f3e6de40d09a152bafd18bffcb": {
          "model_module": "@jupyter-widgets/base",
          "model_name": "LayoutModel",
          "state": {
            "_view_name": "LayoutView",
            "grid_template_rows": null,
            "right": null,
            "justify_content": null,
            "_view_module": "@jupyter-widgets/base",
            "overflow": null,
            "_model_module_version": "1.2.0",
            "_view_count": null,
            "flex_flow": null,
            "width": null,
            "min_width": null,
            "border": null,
            "align_items": null,
            "bottom": null,
            "_model_module": "@jupyter-widgets/base",
            "top": null,
            "grid_column": null,
            "overflow_y": null,
            "overflow_x": null,
            "grid_auto_flow": null,
            "grid_area": null,
            "grid_template_columns": null,
            "flex": null,
            "_model_name": "LayoutModel",
            "justify_items": null,
            "grid_row": null,
            "max_height": null,
            "align_content": null,
            "visibility": null,
            "align_self": null,
            "height": null,
            "min_height": null,
            "padding": null,
            "grid_auto_rows": null,
            "grid_gap": null,
            "max_width": null,
            "order": null,
            "_view_module_version": "1.2.0",
            "grid_template_areas": null,
            "object_position": null,
            "object_fit": null,
            "grid_auto_columns": null,
            "margin": null,
            "display": null,
            "left": null
          }
        },
        "098962b841db49a3ae875486c08363e3": {
          "model_module": "@jupyter-widgets/controls",
          "model_name": "HBoxModel",
          "state": {
            "_view_name": "HBoxView",
            "_dom_classes": [],
            "_model_name": "HBoxModel",
            "_view_module": "@jupyter-widgets/controls",
            "_model_module_version": "1.5.0",
            "_view_count": null,
            "_view_module_version": "1.5.0",
            "box_style": "",
            "layout": "IPY_MODEL_a4ef8e3f6c8e4d039b7f0e5739b13c3c",
            "_model_module": "@jupyter-widgets/controls",
            "children": [
              "IPY_MODEL_249e0340dc954c548426bd3fb11649a9",
              "IPY_MODEL_df911f0854a44ed4b8c58489c1e15c46"
            ]
          }
        },
        "a4ef8e3f6c8e4d039b7f0e5739b13c3c": {
          "model_module": "@jupyter-widgets/base",
          "model_name": "LayoutModel",
          "state": {
            "_view_name": "LayoutView",
            "grid_template_rows": null,
            "right": null,
            "justify_content": null,
            "_view_module": "@jupyter-widgets/base",
            "overflow": null,
            "_model_module_version": "1.2.0",
            "_view_count": null,
            "flex_flow": null,
            "width": null,
            "min_width": null,
            "border": null,
            "align_items": null,
            "bottom": null,
            "_model_module": "@jupyter-widgets/base",
            "top": null,
            "grid_column": null,
            "overflow_y": null,
            "overflow_x": null,
            "grid_auto_flow": null,
            "grid_area": null,
            "grid_template_columns": null,
            "flex": null,
            "_model_name": "LayoutModel",
            "justify_items": null,
            "grid_row": null,
            "max_height": null,
            "align_content": null,
            "visibility": null,
            "align_self": null,
            "height": null,
            "min_height": null,
            "padding": null,
            "grid_auto_rows": null,
            "grid_gap": null,
            "max_width": null,
            "order": null,
            "_view_module_version": "1.2.0",
            "grid_template_areas": null,
            "object_position": null,
            "object_fit": null,
            "grid_auto_columns": null,
            "margin": null,
            "display": null,
            "left": null
          }
        },
        "249e0340dc954c548426bd3fb11649a9": {
          "model_module": "@jupyter-widgets/controls",
          "model_name": "FloatProgressModel",
          "state": {
            "_view_name": "ProgressView",
            "style": "IPY_MODEL_212a9cf16d8e4ca389502703e9215389",
            "_dom_classes": [],
            "description": "100%",
            "_model_name": "FloatProgressModel",
            "bar_style": "success",
            "max": 4,
            "_view_module": "@jupyter-widgets/controls",
            "_model_module_version": "1.5.0",
            "value": 4,
            "_view_count": null,
            "_view_module_version": "1.5.0",
            "orientation": "horizontal",
            "min": 0,
            "description_tooltip": null,
            "_model_module": "@jupyter-widgets/controls",
            "layout": "IPY_MODEL_788308982f4949f4bbaa5cabc9715aff"
          }
        },
        "df911f0854a44ed4b8c58489c1e15c46": {
          "model_module": "@jupyter-widgets/controls",
          "model_name": "HTMLModel",
          "state": {
            "_view_name": "HTMLView",
            "style": "IPY_MODEL_61026b749ff14d7f8770e0bd6b11921c",
            "_dom_classes": [],
            "description": "",
            "_model_name": "HTMLModel",
            "placeholder": "​",
            "_view_module": "@jupyter-widgets/controls",
            "_model_module_version": "1.5.0",
            "value": " 4/4 [01:20&lt;00:00, 20.25s/it]",
            "_view_count": null,
            "_view_module_version": "1.5.0",
            "description_tooltip": null,
            "_model_module": "@jupyter-widgets/controls",
            "layout": "IPY_MODEL_2f418f6ba2fa461682de609860c835e5"
          }
        },
        "212a9cf16d8e4ca389502703e9215389": {
          "model_module": "@jupyter-widgets/controls",
          "model_name": "ProgressStyleModel",
          "state": {
            "_view_name": "StyleView",
            "_model_name": "ProgressStyleModel",
            "description_width": "initial",
            "_view_module": "@jupyter-widgets/base",
            "_model_module_version": "1.5.0",
            "_view_count": null,
            "_view_module_version": "1.2.0",
            "bar_color": null,
            "_model_module": "@jupyter-widgets/controls"
          }
        },
        "788308982f4949f4bbaa5cabc9715aff": {
          "model_module": "@jupyter-widgets/base",
          "model_name": "LayoutModel",
          "state": {
            "_view_name": "LayoutView",
            "grid_template_rows": null,
            "right": null,
            "justify_content": null,
            "_view_module": "@jupyter-widgets/base",
            "overflow": null,
            "_model_module_version": "1.2.0",
            "_view_count": null,
            "flex_flow": null,
            "width": null,
            "min_width": null,
            "border": null,
            "align_items": null,
            "bottom": null,
            "_model_module": "@jupyter-widgets/base",
            "top": null,
            "grid_column": null,
            "overflow_y": null,
            "overflow_x": null,
            "grid_auto_flow": null,
            "grid_area": null,
            "grid_template_columns": null,
            "flex": null,
            "_model_name": "LayoutModel",
            "justify_items": null,
            "grid_row": null,
            "max_height": null,
            "align_content": null,
            "visibility": null,
            "align_self": null,
            "height": null,
            "min_height": null,
            "padding": null,
            "grid_auto_rows": null,
            "grid_gap": null,
            "max_width": null,
            "order": null,
            "_view_module_version": "1.2.0",
            "grid_template_areas": null,
            "object_position": null,
            "object_fit": null,
            "grid_auto_columns": null,
            "margin": null,
            "display": null,
            "left": null
          }
        },
        "61026b749ff14d7f8770e0bd6b11921c": {
          "model_module": "@jupyter-widgets/controls",
          "model_name": "DescriptionStyleModel",
          "state": {
            "_view_name": "StyleView",
            "_model_name": "DescriptionStyleModel",
            "description_width": "",
            "_view_module": "@jupyter-widgets/base",
            "_model_module_version": "1.5.0",
            "_view_count": null,
            "_view_module_version": "1.2.0",
            "_model_module": "@jupyter-widgets/controls"
          }
        },
        "2f418f6ba2fa461682de609860c835e5": {
          "model_module": "@jupyter-widgets/base",
          "model_name": "LayoutModel",
          "state": {
            "_view_name": "LayoutView",
            "grid_template_rows": null,
            "right": null,
            "justify_content": null,
            "_view_module": "@jupyter-widgets/base",
            "overflow": null,
            "_model_module_version": "1.2.0",
            "_view_count": null,
            "flex_flow": null,
            "width": null,
            "min_width": null,
            "border": null,
            "align_items": null,
            "bottom": null,
            "_model_module": "@jupyter-widgets/base",
            "top": null,
            "grid_column": null,
            "overflow_y": null,
            "overflow_x": null,
            "grid_auto_flow": null,
            "grid_area": null,
            "grid_template_columns": null,
            "flex": null,
            "_model_name": "LayoutModel",
            "justify_items": null,
            "grid_row": null,
            "max_height": null,
            "align_content": null,
            "visibility": null,
            "align_self": null,
            "height": null,
            "min_height": null,
            "padding": null,
            "grid_auto_rows": null,
            "grid_gap": null,
            "max_width": null,
            "order": null,
            "_view_module_version": "1.2.0",
            "grid_template_areas": null,
            "object_position": null,
            "object_fit": null,
            "grid_auto_columns": null,
            "margin": null,
            "display": null,
            "left": null
          }
        },
        "561aa05696814f61a010b5f64045e7d9": {
          "model_module": "@jupyter-widgets/controls",
          "model_name": "HBoxModel",
          "state": {
            "_view_name": "HBoxView",
            "_dom_classes": [],
            "_model_name": "HBoxModel",
            "_view_module": "@jupyter-widgets/controls",
            "_model_module_version": "1.5.0",
            "_view_count": null,
            "_view_module_version": "1.5.0",
            "box_style": "",
            "layout": "IPY_MODEL_3381ebff43e942ce975e3659af61d7e1",
            "_model_module": "@jupyter-widgets/controls",
            "children": [
              "IPY_MODEL_88b94d0b2af741b784f3a96ffea33feb",
              "IPY_MODEL_3b1454ed61cc45e88e02f9c03d4e4a84"
            ]
          }
        },
        "3381ebff43e942ce975e3659af61d7e1": {
          "model_module": "@jupyter-widgets/base",
          "model_name": "LayoutModel",
          "state": {
            "_view_name": "LayoutView",
            "grid_template_rows": null,
            "right": null,
            "justify_content": null,
            "_view_module": "@jupyter-widgets/base",
            "overflow": null,
            "_model_module_version": "1.2.0",
            "_view_count": null,
            "flex_flow": null,
            "width": null,
            "min_width": null,
            "border": null,
            "align_items": null,
            "bottom": null,
            "_model_module": "@jupyter-widgets/base",
            "top": null,
            "grid_column": null,
            "overflow_y": null,
            "overflow_x": null,
            "grid_auto_flow": null,
            "grid_area": null,
            "grid_template_columns": null,
            "flex": null,
            "_model_name": "LayoutModel",
            "justify_items": null,
            "grid_row": null,
            "max_height": null,
            "align_content": null,
            "visibility": null,
            "align_self": null,
            "height": null,
            "min_height": null,
            "padding": null,
            "grid_auto_rows": null,
            "grid_gap": null,
            "max_width": null,
            "order": null,
            "_view_module_version": "1.2.0",
            "grid_template_areas": null,
            "object_position": null,
            "object_fit": null,
            "grid_auto_columns": null,
            "margin": null,
            "display": null,
            "left": null
          }
        },
        "88b94d0b2af741b784f3a96ffea33feb": {
          "model_module": "@jupyter-widgets/controls",
          "model_name": "FloatProgressModel",
          "state": {
            "_view_name": "ProgressView",
            "style": "IPY_MODEL_c9c5b84f8b4e4b6fb176e5a5db787439",
            "_dom_classes": [],
            "description": "100%",
            "_model_name": "FloatProgressModel",
            "bar_style": "success",
            "max": 4,
            "_view_module": "@jupyter-widgets/controls",
            "_model_module_version": "1.5.0",
            "value": 4,
            "_view_count": null,
            "_view_module_version": "1.5.0",
            "orientation": "horizontal",
            "min": 0,
            "description_tooltip": null,
            "_model_module": "@jupyter-widgets/controls",
            "layout": "IPY_MODEL_9445cb593d044584b27a391f43e9f6ab"
          }
        },
        "3b1454ed61cc45e88e02f9c03d4e4a84": {
          "model_module": "@jupyter-widgets/controls",
          "model_name": "HTMLModel",
          "state": {
            "_view_name": "HTMLView",
            "style": "IPY_MODEL_bed14453abd44819b527aac23414a8d1",
            "_dom_classes": [],
            "description": "",
            "_model_name": "HTMLModel",
            "placeholder": "​",
            "_view_module": "@jupyter-widgets/controls",
            "_model_module_version": "1.5.0",
            "value": " 4/4 [00:40&lt;00:00, 10.20s/it]",
            "_view_count": null,
            "_view_module_version": "1.5.0",
            "description_tooltip": null,
            "_model_module": "@jupyter-widgets/controls",
            "layout": "IPY_MODEL_98c9136a06834bdbbd06f4c5b183dc32"
          }
        },
        "c9c5b84f8b4e4b6fb176e5a5db787439": {
          "model_module": "@jupyter-widgets/controls",
          "model_name": "ProgressStyleModel",
          "state": {
            "_view_name": "StyleView",
            "_model_name": "ProgressStyleModel",
            "description_width": "initial",
            "_view_module": "@jupyter-widgets/base",
            "_model_module_version": "1.5.0",
            "_view_count": null,
            "_view_module_version": "1.2.0",
            "bar_color": null,
            "_model_module": "@jupyter-widgets/controls"
          }
        },
        "9445cb593d044584b27a391f43e9f6ab": {
          "model_module": "@jupyter-widgets/base",
          "model_name": "LayoutModel",
          "state": {
            "_view_name": "LayoutView",
            "grid_template_rows": null,
            "right": null,
            "justify_content": null,
            "_view_module": "@jupyter-widgets/base",
            "overflow": null,
            "_model_module_version": "1.2.0",
            "_view_count": null,
            "flex_flow": null,
            "width": null,
            "min_width": null,
            "border": null,
            "align_items": null,
            "bottom": null,
            "_model_module": "@jupyter-widgets/base",
            "top": null,
            "grid_column": null,
            "overflow_y": null,
            "overflow_x": null,
            "grid_auto_flow": null,
            "grid_area": null,
            "grid_template_columns": null,
            "flex": null,
            "_model_name": "LayoutModel",
            "justify_items": null,
            "grid_row": null,
            "max_height": null,
            "align_content": null,
            "visibility": null,
            "align_self": null,
            "height": null,
            "min_height": null,
            "padding": null,
            "grid_auto_rows": null,
            "grid_gap": null,
            "max_width": null,
            "order": null,
            "_view_module_version": "1.2.0",
            "grid_template_areas": null,
            "object_position": null,
            "object_fit": null,
            "grid_auto_columns": null,
            "margin": null,
            "display": null,
            "left": null
          }
        },
        "bed14453abd44819b527aac23414a8d1": {
          "model_module": "@jupyter-widgets/controls",
          "model_name": "DescriptionStyleModel",
          "state": {
            "_view_name": "StyleView",
            "_model_name": "DescriptionStyleModel",
            "description_width": "",
            "_view_module": "@jupyter-widgets/base",
            "_model_module_version": "1.5.0",
            "_view_count": null,
            "_view_module_version": "1.2.0",
            "_model_module": "@jupyter-widgets/controls"
          }
        },
        "98c9136a06834bdbbd06f4c5b183dc32": {
          "model_module": "@jupyter-widgets/base",
          "model_name": "LayoutModel",
          "state": {
            "_view_name": "LayoutView",
            "grid_template_rows": null,
            "right": null,
            "justify_content": null,
            "_view_module": "@jupyter-widgets/base",
            "overflow": null,
            "_model_module_version": "1.2.0",
            "_view_count": null,
            "flex_flow": null,
            "width": null,
            "min_width": null,
            "border": null,
            "align_items": null,
            "bottom": null,
            "_model_module": "@jupyter-widgets/base",
            "top": null,
            "grid_column": null,
            "overflow_y": null,
            "overflow_x": null,
            "grid_auto_flow": null,
            "grid_area": null,
            "grid_template_columns": null,
            "flex": null,
            "_model_name": "LayoutModel",
            "justify_items": null,
            "grid_row": null,
            "max_height": null,
            "align_content": null,
            "visibility": null,
            "align_self": null,
            "height": null,
            "min_height": null,
            "padding": null,
            "grid_auto_rows": null,
            "grid_gap": null,
            "max_width": null,
            "order": null,
            "_view_module_version": "1.2.0",
            "grid_template_areas": null,
            "object_position": null,
            "object_fit": null,
            "grid_auto_columns": null,
            "margin": null,
            "display": null,
            "left": null
          }
        }
      }
    }
  },
  "cells": [
    {
      "cell_type": "code",
      "metadata": {
        "id": "vcSNSQEhnW-U",
        "colab_type": "code",
        "colab": {}
      },
      "source": [
        "# numpy random uses Mersenne Twist pseudorandom number genarator \n",
        "import requests\n",
        "import numpy as np\n",
        "import pandas as pd\n",
        "import time\n",
        "import string\n",
        "from tqdm.notebook import tqdm\n",
        "from scipy.integrate import quad as integrate\n",
        "from scipy.stats import expon, pareto\n",
        "import matplotlib.pyplot as plt\n",
        "from matplotlib.patches import Rectangle\n",
        "from matplotlib.collections import PatchCollection\n",
        "import gc\n",
        "# Use to explicity free memory\n",
        "# gc.collect()"
      ],
      "execution_count": null,
      "outputs": []
    },
    {
      "cell_type": "markdown",
      "metadata": {
        "id": "ppRXSSsRmtQd",
        "colab_type": "text"
      },
      "source": [
        "## Monte Carlo to calculate $\\sqrt 2$"
      ]
    },
    {
      "cell_type": "code",
      "metadata": {
        "id": "eyNQknlHllNH",
        "colab_type": "code",
        "colab": {}
      },
      "source": [
        "def curve(x):\n",
        "    \"\"\"\n",
        "    Curve defined to find 2^(0.5)\n",
        "    f(x) = 2 - x^2\n",
        "    \"\"\"\n",
        "    return 2-x**2"
      ],
      "execution_count": null,
      "outputs": []
    },
    {
      "cell_type": "code",
      "metadata": {
        "id": "08x5-2E1922I",
        "colab_type": "code",
        "colab": {}
      },
      "source": [
        "def g_x_y(x_list,y_list):\n",
        "    \"\"\"\n",
        "    Indicator function g(X,Y)\n",
        "    \n",
        "    Parameters\n",
        "    ----------\n",
        "    x_list: list\n",
        "        List of x values\n",
        "\n",
        "    y_list: list\n",
        "        List of y values\n",
        "\n",
        "    Returns\n",
        "    -------\n",
        "    g_list: list\n",
        "        List of indicator \n",
        "        function results\n",
        "\n",
        "    \"\"\"\n",
        "    g_list = []\n",
        "    for x,y in zip(x_list,y_list):\n",
        "        if 2-x**2-y>=0:\n",
        "            g_list.append(1)\n",
        "        else:\n",
        "            g_list.append(0)\n",
        "    return g_list"
      ],
      "execution_count": null,
      "outputs": []
    },
    {
      "cell_type": "code",
      "metadata": {
        "id": "uQnMFDo8cGug",
        "colab_type": "code",
        "colab": {}
      },
      "source": [
        "def mcmc_sim_sqrt(n_list, points=False):\n",
        "    \"\"\"\n",
        "    Monte Carlo method to calculate\n",
        "    sqrt(2) based on the area of \n",
        "    the curve 2-x^2 and the area \n",
        "    of square with side=2\n",
        "\n",
        "    Parameters\n",
        "    ----------\n",
        "    n_list: list\n",
        "        List with number of \n",
        "        samples to use\n",
        "\n",
        "    Returns\n",
        "    -------\n",
        "    error_list: list\n",
        "        List of error for each \n",
        "        number of samples\n",
        "\n",
        "    points_dict: dict\n",
        "        Contains points to be\n",
        "        plotted\n",
        "    \"\"\"\n",
        "    np.random.seed(1)\n",
        "    error_list = []\n",
        "    for n in n_list:\n",
        "        x = np.random.uniform(high=2,size=n)\n",
        "        y = np.random.uniform(high=2,size=n)\n",
        "        # For plotting purpouses\n",
        "        if points:\n",
        "            points_dict = {'x':x, 'y':y}\n",
        "        M_n = sum(g_x_y(x,y))/n\n",
        "        e_hat = 3*M_n\n",
        "        rel_error = abs(e_hat-np.sqrt(2))/np.sqrt(2)\n",
        "        error_list.append(rel_error)\n",
        "    if points:\n",
        "        return error_list, points_dict\n",
        "    return error_list\n"
      ],
      "execution_count": null,
      "outputs": []
    },
    {
      "cell_type": "code",
      "metadata": {
        "id": "4dlKY54HcGpL",
        "colab_type": "code",
        "colab": {
          "base_uri": "https://localhost:8080/",
          "height": 513
        },
        "outputId": "833abf2a-47b6-4f0b-a2d3-5aff07696338"
      },
      "source": [
        "plt.figure(figsize=(12,8))\n",
        "plt.ylim(bottom=0, top=2)\n",
        "plt.xlim(left=0, right=2)\n",
        "plt.title(\"Space without simulated points\")\n",
        "plt.xlabel(\"x\")\n",
        "plt.ylabel(\"y\")\n",
        "x = np.linspace(0,2,50)\n",
        "plt.plot(x,curve(x), 'k', label='Curve 2-x^2')\n",
        "plt.legend()\n",
        "plt.show()"
      ],
      "execution_count": null,
      "outputs": [
        {
          "output_type": "display_data",
          "data": {
            "image/png": "[encoded data removed]",
            "text/plain": [
              "<Figure size 864x576 with 1 Axes>"
            ]
          },
          "metadata": {
            "tags": [],
            "needs_background": "light"
          }
        }
      ]
    },
    {
      "cell_type": "code",
      "metadata": {
        "id": "_VdfdUJvvuun",
        "colab_type": "code",
        "colab": {}
      },
      "source": [
        "n_list = [10**6]\n",
        "_,points_dict = mcmc_sim_sqrt(n_list,True)\n",
        "points_dict['point_class'] = g_x_y(points_dict['x'],points_dict['y'])\n",
        "points_df = pd.DataFrame(points_dict)\n",
        "points_inside = points_df[points_df['point_class']==1]\n",
        "points_outside = points_df[points_df['point_class']==0]"
      ],
      "execution_count": null,
      "outputs": []
    },
    {
      "cell_type": "code",
      "metadata": {
        "id": "6VF7ehjfwnMR",
        "colab_type": "code",
        "colab": {
          "base_uri": "https://localhost:8080/",
          "height": 513
        },
        "outputId": "c0370e31-506d-4e2f-938a-5c3853d71e4b"
      },
      "source": [
        "plt.figure(figsize=(12,8))\n",
        "plt.ylim(bottom=0, top=2)\n",
        "plt.xlim(left=0, right=2)\n",
        "plt.title(\"Space with simulated points\")\n",
        "plt.xlabel(\"x\")\n",
        "plt.ylabel(\"y\")\n",
        "plt.scatter(points_inside['x'], points_inside['y'], c='b')\n",
        "plt.scatter(points_outside['x'], points_outside['y'], c='r')\n",
        "plt.show()"
      ],
      "execution_count": null,
      "outputs": [
        {
          "output_type": "display_data",
          "data": {
            "image/png": "[encoded data removed]",
            "text/plain": [
              "<Figure size 864x576 with 1 Axes>"
            ]
          },
          "metadata": {
            "tags": [],
            "needs_background": "light"
          }
        }
      ]
    },
    {
      "cell_type": "code",
      "metadata": {
        "id": "58I0yA-w-kQk",
        "colab_type": "code",
        "colab": {
          "base_uri": "https://localhost:8080/",
          "height": 51
        },
        "outputId": "fb71563f-edf2-4a49-b2c1-970d6ebe1707"
      },
      "source": [
        "%%time\n",
        "# 100 n points from 1 to 10^6\n",
        "n_list = np.linspace(1,10**6,100, dtype=np.int32)\n",
        "error_list = mcmc_sim_sqrt(n_list)"
      ],
      "execution_count": null,
      "outputs": [
        {
          "output_type": "stream",
          "text": [
            "CPU times: user 59 s, sys: 342 ms, total: 59.4 s\n",
            "Wall time: 59.4 s\n"
          ],
          "name": "stdout"
        }
      ]
    },
    {
      "cell_type": "code",
      "metadata": {
        "id": "zp4Ev_3Zp-3i",
        "colab_type": "code",
        "colab": {
          "base_uri": "https://localhost:8080/",
          "height": 513
        },
        "outputId": "deaaea5b-97ac-4337-c61a-c10333f6979a"
      },
      "source": [
        "plt.figure(figsize=(12,8))\n",
        "x = np.linspace(0,2,50)\n",
        "plt.xlabel(\"Log of the number of samples\")\n",
        "plt.ylabel(\"Log of the relative error\")\n",
        "plt.title(\"Relative error of estimator on log-log\")\n",
        "plt.plot(np.log(n_list) , np.log(error_list), 'r')\n",
        "plt.grid()\n",
        "plt.show()"
      ],
      "execution_count": null,
      "outputs": [
        {
          "output_type": "display_data",
          "data": {
            "image/png": "[encoded data removed]",
            "text/plain": [
              "<Figure size 864x576 with 1 Axes>"
            ]
          },
          "metadata": {
            "tags": [],
            "needs_background": "light"
          }
        }
      ]
    },
    {
      "cell_type": "markdown",
      "metadata": {
        "id": "L_PVwkJTmUTh",
        "colab_type": "text"
      },
      "source": [
        "## Inverse Transform Sampling"
      ]
    },
    {
      "cell_type": "code",
      "metadata": {
        "id": "MSSZ_oXemb5W",
        "colab_type": "code",
        "colab": {}
      },
      "source": [
        "def exp_inv_sampling(n, lmbda):\n",
        "    \"\"\"\n",
        "    Inverse transform sampling\n",
        "    of exponential distribution\n",
        "\n",
        "    Parameters\n",
        "    ----------\n",
        "    n : int\n",
        "        Number of samples\n",
        "    \n",
        "    lmbda : float\n",
        "        Exponential parameter lambda\n",
        "\n",
        "    Returns\n",
        "    -------\n",
        "    samples : list\n",
        "        List of samples \n",
        "        \n",
        "    \"\"\"\n",
        "    np.random.seed(1)\n",
        "    u = np.random.uniform(size=n)\n",
        "    samples = np.log(u)/(-lmbda)\n",
        "    return samples\n"
      ],
      "execution_count": null,
      "outputs": []
    },
    {
      "cell_type": "code",
      "metadata": {
        "id": "TJzSOD_XH08r",
        "colab_type": "code",
        "colab": {}
      },
      "source": [
        "lmbda = 1 \n",
        "# 10^6 samples\n",
        "samples = exp_inv_sampling(10**6, lmbda)"
      ],
      "execution_count": null,
      "outputs": []
    },
    {
      "cell_type": "code",
      "metadata": {
        "id": "xryqUv-PIOD7",
        "colab_type": "code",
        "colab": {
          "base_uri": "https://localhost:8080/",
          "height": 513
        },
        "outputId": "108b0ac3-ae03-4207-9d86-2838b1ab502b"
      },
      "source": [
        "x = np.linspace(0, 15, 1000)\n",
        "plt.figure(figsize=(12,8))\n",
        "plt.title('Sampled Exponential over Exponential distribution')\n",
        "plt.ylabel('y')\n",
        "plt.xlabel('x')\n",
        "plt.plot(samples , expon.pdf(samples), 'b+', label='Sampled Exponential')\n",
        "plt.plot(x , expon.pdf(x), 'r', label='Exponential')\n",
        "plt.grid()\n",
        "plt.legend()\n",
        "plt.show()"
      ],
      "execution_count": null,
      "outputs": [
        {
          "output_type": "display_data",
          "data": {
            "image/png": "[encoded data removed]",
            "text/plain": [
              "<Figure size 864x576 with 1 Axes>"
            ]
          },
          "metadata": {
            "tags": [],
            "needs_background": "light"
          }
        }
      ]
    },
    {
      "cell_type": "code",
      "metadata": {
        "id": "vCJaQl9HKR92",
        "colab_type": "code",
        "colab": {}
      },
      "source": [
        "def par_inv_sampling(n, x0, alpha):\n",
        "    \"\"\"\n",
        "    Inverse transform sampling\n",
        "    of pareto distribution\n",
        "\n",
        "    Parameters\n",
        "    ----------\n",
        "    n : int\n",
        "        Number of samples\n",
        "    \n",
        "    x0 : float\n",
        "        Pareto parameter x0\n",
        "    \n",
        "    alpha: float\n",
        "        Pareto parameter alpha\n",
        "    Returns\n",
        "    -------\n",
        "    samples : list\n",
        "        List of samples \n",
        "        \n",
        "    \"\"\"\n",
        "    np.random.seed(1)\n",
        "    u = np.random.uniform(size=n)\n",
        "    samples = x0/(u**(1/alpha))\n",
        "    return samples\n"
      ],
      "execution_count": null,
      "outputs": []
    },
    {
      "cell_type": "code",
      "metadata": {
        "id": "b-ZX6XDIKXHx",
        "colab_type": "code",
        "colab": {}
      },
      "source": [
        "x0 = 1\n",
        "alpha = 3\n",
        "# 10^6 samples\n",
        "samples = par_inv_sampling(10**6, x0, alpha)"
      ],
      "execution_count": null,
      "outputs": []
    },
    {
      "cell_type": "code",
      "metadata": {
        "id": "5UfVQLkqLqsh",
        "colab_type": "code",
        "colab": {
          "base_uri": "https://localhost:8080/",
          "height": 513
        },
        "outputId": "4441d931-f23d-4a4c-a91e-01643ac1c8ba"
      },
      "source": [
        "x = np.linspace(1, 150, 1000)\n",
        "plt.figure(figsize=(12,8))\n",
        "plt.title('Sampled Pareto over Pareto distribution using log-log')\n",
        "plt.ylabel('log y')\n",
        "plt.xlabel('log x')\n",
        "plt.plot(np.log(samples), np.log(pareto.pdf(samples, b=alpha)), 'b+', label='Sampled Pareto')\n",
        "plt.plot(np.log(x) , np.log(pareto.pdf(x, b=alpha)), 'r', label='Pareto')\n",
        "plt.grid()\n",
        "plt.legend()\n",
        "plt.show()"
      ],
      "execution_count": null,
      "outputs": [
        {
          "output_type": "display_data",
          "data": {
            "image/png": "[encoded data removed]",
            "text/plain": [
              "<Figure size 864x576 with 1 Axes>"
            ]
          },
          "metadata": {
            "tags": [],
            "needs_background": "light"
          }
        }
      ]
    },
    {
      "cell_type": "markdown",
      "metadata": {
        "id": "HspG3T7Hl0_n",
        "colab_type": "text"
      },
      "source": [
        "## Monte Carlo to count Web Domains"
      ]
    },
    {
      "cell_type": "code",
      "metadata": {
        "id": "DNtRi_tBBBBf",
        "colab_type": "code",
        "colab": {}
      },
      "source": [
        "def g(url):\n",
        "    \"\"\"\n",
        "    Indicator function to find\n",
        "    if the domain exists\n",
        "    \"\"\"\n",
        "    try:\n",
        "        req = requests.get(url, verify=False)\n",
        "        if req.status_code==200:\n",
        "            print(f'Valid url found: {url}')\n",
        "            return 1\n",
        "        return 0\n",
        "    except requests.ConnectionError:\n",
        "        return 0  \n",
        "    "
      ],
      "execution_count": null,
      "outputs": []
    },
    {
      "cell_type": "code",
      "metadata": {
        "id": "vVAc4-lTmR5X",
        "colab_type": "code",
        "colab": {}
      },
      "source": [
        "def mc_sim_ufrj(k, n_list):\n",
        "    \"\"\"\n",
        "    Monte Carlo method to find \n",
        "    the number of UFRJ valid \n",
        "    domains using only words\n",
        "    with length <= k and only\n",
        "    letters.\n",
        "\n",
        "    Parameters\n",
        "    ----------\n",
        "    k: int\n",
        "        Max Length of the words\n",
        "    \n",
        "    n_list: list\n",
        "        List of each number of samples\n",
        "\n",
        "    Return\n",
        "    -------\n",
        "    j_list: list\n",
        "        List with the number of domains\n",
        "        found in each number of samples\n",
        "    \"\"\"\n",
        "    np.random.seed(1)\n",
        "    #List of letters\n",
        "    letter_list = list(string.ascii_lowercase)\n",
        "    size_s_k = 0\n",
        "    for i in range(k):\n",
        "        # Number of possible domains\n",
        "        # 26^k + 26^k-1 + ... + 26^2 + 26^1\n",
        "        size_s_k += 26**(i+1)\n",
        "\n",
        "    j_list = []\n",
        "    for n in tqdm(n_list):\n",
        "        g_list = []\n",
        "        for i in range(n):\n",
        "            # Uniform to find k less or equal of k\n",
        "            length_k = int(np.random.uniform(1,k+1))\n",
        "            letter_number = np.random.uniform(0,26,length_k).astype(np.int32)\n",
        "            word = ''.join(letter_list[l] for l in letter_number)\n",
        "            url = f'http://www.{word}.ufrj.br/'\n",
        "            result = g(url)\n",
        "            g_list.append(result)\n",
        "\n",
        "        m_n = sum(g_list)/n\n",
        "        j = m_n * size_s_k\n",
        "        j_list.append(j)\n",
        "\n",
        "    return j_list\n",
        "\n"
      ],
      "execution_count": null,
      "outputs": []
    },
    {
      "cell_type": "code",
      "metadata": {
        "id": "hyZpLaps5vjv",
        "colab_type": "code",
        "colab": {
          "base_uri": "https://localhost:8080/",
          "height": 1000,
          "referenced_widgets": [
            "268df22714e14cf584bdb49202b26768",
            "416762f98f7f455894ebb7f9302b7992",
            "47b1a017ac664f8681866df4503af6da",
            "57613541eeab465d830ab9b104d7919a",
            "f9fc1c9e5a3b4c2bbe9751d655806c2d",
            "06a8d4d19afd4d3c91be5932869661c7",
            "7006ba584ab247689eb2033d3b6021b9",
            "94edf5199241495f9f4e9d60d8678f60"
          ]
        },
        "outputId": "f142b2ac-a6dc-4401-817b-76caa792df78"
      },
      "source": [
        "%%time\n",
        "n_list = np.linspace(1,10**4, 10, dtype=np.int32)\n",
        "j_list = mc_sim_ufrj(4, n_list)"
      ],
      "execution_count": null,
      "outputs": [
        {
          "output_type": "display_data",
          "data": {
            "application/vnd.jupyter.widget-view+json": {
              "model_id": "268df22714e14cf584bdb49202b26768",
              "version_minor": 0,
              "version_major": 2
            },
            "text/plain": [
              "HBox(children=(FloatProgress(value=0.0, max=10.0), HTML(value='')))"
            ]
          },
          "metadata": {
            "tags": []
          }
        },
        {
          "output_type": "stream",
          "text": [
            "/usr/local/lib/python3.6/dist-packages/urllib3/connectionpool.py:847: InsecureRequestWarning: Unverified HTTPS request is being made. Adding certificate verification is strongly advised. See: https://urllib3.readthedocs.io/en/latest/advanced-usage.html#ssl-warnings\n",
            "  InsecureRequestWarning)\n"
          ],
          "name": "stderr"
        },
        {
          "output_type": "stream",
          "text": [
            "Valid url found: http://www.iq.ufrj.br/\n",
            "Valid url found: http://www.me.ufrj.br/\n",
            "Valid url found: http://www.eq.ufrj.br/\n",
            "Valid url found: http://www.me.ufrj.br/\n"
          ],
          "name": "stdout"
        },
        {
          "output_type": "stream",
          "text": [
            "/usr/local/lib/python3.6/dist-packages/urllib3/connectionpool.py:847: InsecureRequestWarning: Unverified HTTPS request is being made. Adding certificate verification is strongly advised. See: https://urllib3.readthedocs.io/en/latest/advanced-usage.html#ssl-warnings\n",
            "  InsecureRequestWarning)\n"
          ],
          "name": "stderr"
        },
        {
          "output_type": "stream",
          "text": [
            "Valid url found: http://www.ov.ufrj.br/\n",
            "Valid url found: http://www.me.ufrj.br/\n",
            "Valid url found: http://www.ch.ufrj.br/\n"
          ],
          "name": "stdout"
        },
        {
          "output_type": "stream",
          "text": [
            "/usr/local/lib/python3.6/dist-packages/urllib3/connectionpool.py:847: InsecureRequestWarning: Unverified HTTPS request is being made. Adding certificate verification is strongly advised. See: https://urllib3.readthedocs.io/en/latest/advanced-usage.html#ssl-warnings\n",
            "  InsecureRequestWarning)\n"
          ],
          "name": "stderr"
        },
        {
          "output_type": "stream",
          "text": [
            "Valid url found: http://www.iq.ufrj.br/\n",
            "Valid url found: http://www.eq.ufrj.br/\n"
          ],
          "name": "stdout"
        },
        {
          "output_type": "stream",
          "text": [
            "/usr/local/lib/python3.6/dist-packages/urllib3/connectionpool.py:847: InsecureRequestWarning: Unverified HTTPS request is being made. Adding certificate verification is strongly advised. See: https://urllib3.readthedocs.io/en/latest/advanced-usage.html#ssl-warnings\n",
            "  InsecureRequestWarning)\n"
          ],
          "name": "stderr"
        },
        {
          "output_type": "stream",
          "text": [
            "Valid url found: http://www.ru.ufrj.br/\n"
          ],
          "name": "stdout"
        },
        {
          "output_type": "stream",
          "text": [
            "/usr/local/lib/python3.6/dist-packages/urllib3/connectionpool.py:847: InsecureRequestWarning: Unverified HTTPS request is being made. Adding certificate verification is strongly advised. See: https://urllib3.readthedocs.io/en/latest/advanced-usage.html#ssl-warnings\n",
            "  InsecureRequestWarning)\n"
          ],
          "name": "stderr"
        },
        {
          "output_type": "stream",
          "text": [
            "Valid url found: http://www.if.ufrj.br/\n"
          ],
          "name": "stdout"
        },
        {
          "output_type": "stream",
          "text": [
            "/usr/local/lib/python3.6/dist-packages/urllib3/connectionpool.py:847: InsecureRequestWarning: Unverified HTTPS request is being made. Adding certificate verification is strongly advised. See: https://urllib3.readthedocs.io/en/latest/advanced-usage.html#ssl-warnings\n",
            "  InsecureRequestWarning)\n"
          ],
          "name": "stderr"
        },
        {
          "output_type": "stream",
          "text": [
            "Valid url found: http://www.ov.ufrj.br/\n",
            "Valid url found: http://www.con.ufrj.br/\n",
            "Valid url found: http://www.me.ufrj.br/\n"
          ],
          "name": "stdout"
        },
        {
          "output_type": "stream",
          "text": [
            "/usr/local/lib/python3.6/dist-packages/urllib3/connectionpool.py:847: InsecureRequestWarning: Unverified HTTPS request is being made. Adding certificate verification is strongly advised. See: https://urllib3.readthedocs.io/en/latest/advanced-usage.html#ssl-warnings\n",
            "  InsecureRequestWarning)\n"
          ],
          "name": "stderr"
        },
        {
          "output_type": "stream",
          "text": [
            "Valid url found: http://www.ov.ufrj.br/\n",
            "Valid url found: http://www.me.ufrj.br/\n"
          ],
          "name": "stdout"
        },
        {
          "output_type": "stream",
          "text": [
            "/usr/local/lib/python3.6/dist-packages/urllib3/connectionpool.py:847: InsecureRequestWarning: Unverified HTTPS request is being made. Adding certificate verification is strongly advised. See: https://urllib3.readthedocs.io/en/latest/advanced-usage.html#ssl-warnings\n",
            "  InsecureRequestWarning)\n"
          ],
          "name": "stderr"
        },
        {
          "output_type": "stream",
          "text": [
            "Valid url found: http://www.fe.ufrj.br/\n"
          ],
          "name": "stdout"
        },
        {
          "output_type": "stream",
          "text": [
            "/usr/local/lib/python3.6/dist-packages/urllib3/connectionpool.py:847: InsecureRequestWarning: Unverified HTTPS request is being made. Adding certificate verification is strongly advised. See: https://urllib3.readthedocs.io/en/latest/advanced-usage.html#ssl-warnings\n",
            "  InsecureRequestWarning)\n",
            "/usr/local/lib/python3.6/dist-packages/urllib3/connectionpool.py:847: InsecureRequestWarning: Unverified HTTPS request is being made. Adding certificate verification is strongly advised. See: https://urllib3.readthedocs.io/en/latest/advanced-usage.html#ssl-warnings\n",
            "  InsecureRequestWarning)\n"
          ],
          "name": "stderr"
        },
        {
          "output_type": "stream",
          "text": [
            "Valid url found: http://www.if.ufrj.br/\n",
            "Valid url found: http://www.pu.ufrj.br/\n",
            "Valid url found: http://www.pec.ufrj.br/\n"
          ],
          "name": "stdout"
        },
        {
          "output_type": "stream",
          "text": [
            "/usr/local/lib/python3.6/dist-packages/urllib3/connectionpool.py:847: InsecureRequestWarning: Unverified HTTPS request is being made. Adding certificate verification is strongly advised. See: https://urllib3.readthedocs.io/en/latest/advanced-usage.html#ssl-warnings\n",
            "  InsecureRequestWarning)\n"
          ],
          "name": "stderr"
        },
        {
          "output_type": "stream",
          "text": [
            "Valid url found: http://www.if.ufrj.br/\n"
          ],
          "name": "stdout"
        },
        {
          "output_type": "stream",
          "text": [
            "/usr/local/lib/python3.6/dist-packages/urllib3/connectionpool.py:847: InsecureRequestWarning: Unverified HTTPS request is being made. Adding certificate verification is strongly advised. See: https://urllib3.readthedocs.io/en/latest/advanced-usage.html#ssl-warnings\n",
            "  InsecureRequestWarning)\n"
          ],
          "name": "stderr"
        },
        {
          "output_type": "stream",
          "text": [
            "Valid url found: http://www.if.ufrj.br/\n"
          ],
          "name": "stdout"
        },
        {
          "output_type": "stream",
          "text": [
            "/usr/local/lib/python3.6/dist-packages/urllib3/connectionpool.py:847: InsecureRequestWarning: Unverified HTTPS request is being made. Adding certificate verification is strongly advised. See: https://urllib3.readthedocs.io/en/latest/advanced-usage.html#ssl-warnings\n",
            "  InsecureRequestWarning)\n"
          ],
          "name": "stderr"
        },
        {
          "output_type": "stream",
          "text": [
            "Valid url found: http://www.iq.ufrj.br/\n",
            "Valid url found: http://www.eq.ufrj.br/\n"
          ],
          "name": "stdout"
        },
        {
          "output_type": "stream",
          "text": [
            "/usr/local/lib/python3.6/dist-packages/urllib3/connectionpool.py:847: InsecureRequestWarning: Unverified HTTPS request is being made. Adding certificate verification is strongly advised. See: https://urllib3.readthedocs.io/en/latest/advanced-usage.html#ssl-warnings\n",
            "  InsecureRequestWarning)\n"
          ],
          "name": "stderr"
        },
        {
          "output_type": "stream",
          "text": [
            "Valid url found: http://www.iq.ufrj.br/\n"
          ],
          "name": "stdout"
        },
        {
          "output_type": "stream",
          "text": [
            "/usr/local/lib/python3.6/dist-packages/urllib3/connectionpool.py:847: InsecureRequestWarning: Unverified HTTPS request is being made. Adding certificate verification is strongly advised. See: https://urllib3.readthedocs.io/en/latest/advanced-usage.html#ssl-warnings\n",
            "  InsecureRequestWarning)\n"
          ],
          "name": "stderr"
        },
        {
          "output_type": "stream",
          "text": [
            "Valid url found: http://www.if.ufrj.br/\n"
          ],
          "name": "stdout"
        },
        {
          "output_type": "stream",
          "text": [
            "/usr/local/lib/python3.6/dist-packages/urllib3/connectionpool.py:847: InsecureRequestWarning: Unverified HTTPS request is being made. Adding certificate verification is strongly advised. See: https://urllib3.readthedocs.io/en/latest/advanced-usage.html#ssl-warnings\n",
            "  InsecureRequestWarning)\n"
          ],
          "name": "stderr"
        },
        {
          "output_type": "stream",
          "text": [
            "Valid url found: http://www.im.ufrj.br/\n",
            "Valid url found: http://www.pu.ufrj.br/\n",
            "Valid url found: http://www.im.ufrj.br/\n"
          ],
          "name": "stdout"
        },
        {
          "output_type": "stream",
          "text": [
            "/usr/local/lib/python3.6/dist-packages/urllib3/connectionpool.py:847: InsecureRequestWarning: Unverified HTTPS request is being made. Adding certificate verification is strongly advised. See: https://urllib3.readthedocs.io/en/latest/advanced-usage.html#ssl-warnings\n",
            "  InsecureRequestWarning)\n"
          ],
          "name": "stderr"
        },
        {
          "output_type": "stream",
          "text": [
            "Valid url found: http://www.iq.ufrj.br/\n",
            "Valid url found: http://www.me.ufrj.br/\n",
            "Valid url found: http://www.ru.ufrj.br/\n",
            "Valid url found: http://www.eq.ufrj.br/\n",
            "Valid url found: http://www.fe.ufrj.br/\n",
            "Valid url found: http://www.ru.ufrj.br/\n",
            "Valid url found: http://www.im.ufrj.br/\n"
          ],
          "name": "stdout"
        },
        {
          "output_type": "stream",
          "text": [
            "/usr/local/lib/python3.6/dist-packages/urllib3/connectionpool.py:847: InsecureRequestWarning: Unverified HTTPS request is being made. Adding certificate verification is strongly advised. See: https://urllib3.readthedocs.io/en/latest/advanced-usage.html#ssl-warnings\n",
            "  InsecureRequestWarning)\n"
          ],
          "name": "stderr"
        },
        {
          "output_type": "stream",
          "text": [
            "Valid url found: http://www.iq.ufrj.br/\n"
          ],
          "name": "stdout"
        },
        {
          "output_type": "stream",
          "text": [
            "/usr/local/lib/python3.6/dist-packages/urllib3/connectionpool.py:847: InsecureRequestWarning: Unverified HTTPS request is being made. Adding certificate verification is strongly advised. See: https://urllib3.readthedocs.io/en/latest/advanced-usage.html#ssl-warnings\n",
            "  InsecureRequestWarning)\n"
          ],
          "name": "stderr"
        },
        {
          "output_type": "stream",
          "text": [
            "Valid url found: http://www.iq.ufrj.br/\n",
            "Valid url found: http://www.me.ufrj.br/\n"
          ],
          "name": "stdout"
        },
        {
          "output_type": "stream",
          "text": [
            "/usr/local/lib/python3.6/dist-packages/urllib3/connectionpool.py:847: InsecureRequestWarning: Unverified HTTPS request is being made. Adding certificate verification is strongly advised. See: https://urllib3.readthedocs.io/en/latest/advanced-usage.html#ssl-warnings\n",
            "  InsecureRequestWarning)\n"
          ],
          "name": "stderr"
        },
        {
          "output_type": "stream",
          "text": [
            "Valid url found: http://www.fe.ufrj.br/\n"
          ],
          "name": "stdout"
        },
        {
          "output_type": "stream",
          "text": [
            "/usr/local/lib/python3.6/dist-packages/urllib3/connectionpool.py:847: InsecureRequestWarning: Unverified HTTPS request is being made. Adding certificate verification is strongly advised. See: https://urllib3.readthedocs.io/en/latest/advanced-usage.html#ssl-warnings\n",
            "  InsecureRequestWarning)\n"
          ],
          "name": "stderr"
        },
        {
          "output_type": "stream",
          "text": [
            "Valid url found: http://www.fe.ufrj.br/\n"
          ],
          "name": "stdout"
        },
        {
          "output_type": "stream",
          "text": [
            "/usr/local/lib/python3.6/dist-packages/urllib3/connectionpool.py:847: InsecureRequestWarning: Unverified HTTPS request is being made. Adding certificate verification is strongly advised. See: https://urllib3.readthedocs.io/en/latest/advanced-usage.html#ssl-warnings\n",
            "  InsecureRequestWarning)\n"
          ],
          "name": "stderr"
        },
        {
          "output_type": "stream",
          "text": [
            "Valid url found: http://www.me.ufrj.br/\n"
          ],
          "name": "stdout"
        },
        {
          "output_type": "stream",
          "text": [
            "/usr/local/lib/python3.6/dist-packages/urllib3/connectionpool.py:847: InsecureRequestWarning: Unverified HTTPS request is being made. Adding certificate verification is strongly advised. See: https://urllib3.readthedocs.io/en/latest/advanced-usage.html#ssl-warnings\n",
            "  InsecureRequestWarning)\n"
          ],
          "name": "stderr"
        },
        {
          "output_type": "stream",
          "text": [
            "Valid url found: http://www.if.ufrj.br/\n",
            "Valid url found: http://www.im.ufrj.br/\n",
            "Valid url found: http://www.cav.ufrj.br/\n",
            "Valid url found: http://www.cla.ufrj.br/\n",
            "Valid url found: http://www.im.ufrj.br/\n",
            "Valid url found: http://www.eq.ufrj.br/\n",
            "Valid url found: http://www.im.ufrj.br/\n",
            "Valid url found: http://www.me.ufrj.br/\n"
          ],
          "name": "stdout"
        },
        {
          "output_type": "stream",
          "text": [
            "/usr/local/lib/python3.6/dist-packages/urllib3/connectionpool.py:847: InsecureRequestWarning: Unverified HTTPS request is being made. Adding certificate verification is strongly advised. See: https://urllib3.readthedocs.io/en/latest/advanced-usage.html#ssl-warnings\n",
            "  InsecureRequestWarning)\n"
          ],
          "name": "stderr"
        },
        {
          "output_type": "stream",
          "text": [
            "Valid url found: http://www.im.ufrj.br/\n",
            "Valid url found: http://www.im.ufrj.br/\n",
            "Valid url found: http://www.me.ufrj.br/\n"
          ],
          "name": "stdout"
        },
        {
          "output_type": "stream",
          "text": [
            "/usr/local/lib/python3.6/dist-packages/urllib3/connectionpool.py:847: InsecureRequestWarning: Unverified HTTPS request is being made. Adding certificate verification is strongly advised. See: https://urllib3.readthedocs.io/en/latest/advanced-usage.html#ssl-warnings\n",
            "  InsecureRequestWarning)\n"
          ],
          "name": "stderr"
        },
        {
          "output_type": "stream",
          "text": [
            "Valid url found: http://www.iq.ufrj.br/\n",
            "Valid url found: http://www.ru.ufrj.br/\n",
            "Valid url found: http://www.cap.ufrj.br/\n",
            "Valid url found: http://www.eq.ufrj.br/\n"
          ],
          "name": "stdout"
        },
        {
          "output_type": "stream",
          "text": [
            "/usr/local/lib/python3.6/dist-packages/urllib3/connectionpool.py:847: InsecureRequestWarning: Unverified HTTPS request is being made. Adding certificate verification is strongly advised. See: https://urllib3.readthedocs.io/en/latest/advanced-usage.html#ssl-warnings\n",
            "  InsecureRequestWarning)\n",
            "/usr/local/lib/python3.6/dist-packages/urllib3/connectionpool.py:847: InsecureRequestWarning: Unverified HTTPS request is being made. Adding certificate verification is strongly advised. See: https://urllib3.readthedocs.io/en/latest/advanced-usage.html#ssl-warnings\n",
            "  InsecureRequestWarning)\n"
          ],
          "name": "stderr"
        },
        {
          "output_type": "stream",
          "text": [
            "Valid url found: http://www.pdi.ufrj.br/\n"
          ],
          "name": "stdout"
        },
        {
          "output_type": "stream",
          "text": [
            "/usr/local/lib/python3.6/dist-packages/urllib3/connectionpool.py:847: InsecureRequestWarning: Unverified HTTPS request is being made. Adding certificate verification is strongly advised. See: https://urllib3.readthedocs.io/en/latest/advanced-usage.html#ssl-warnings\n",
            "  InsecureRequestWarning)\n"
          ],
          "name": "stderr"
        },
        {
          "output_type": "stream",
          "text": [
            "Valid url found: http://www.iq.ufrj.br/\n",
            "Valid url found: http://www.ru.ufrj.br/\n",
            "Valid url found: http://www.im.ufrj.br/\n"
          ],
          "name": "stdout"
        },
        {
          "output_type": "stream",
          "text": [
            "/usr/local/lib/python3.6/dist-packages/urllib3/connectionpool.py:847: InsecureRequestWarning: Unverified HTTPS request is being made. Adding certificate verification is strongly advised. See: https://urllib3.readthedocs.io/en/latest/advanced-usage.html#ssl-warnings\n",
            "  InsecureRequestWarning)\n"
          ],
          "name": "stderr"
        },
        {
          "output_type": "stream",
          "text": [
            "Valid url found: http://www.eco.ufrj.br/\n",
            "Valid url found: http://www.im.ufrj.br/\n"
          ],
          "name": "stdout"
        },
        {
          "output_type": "stream",
          "text": [
            "/usr/local/lib/python3.6/dist-packages/urllib3/connectionpool.py:847: InsecureRequestWarning: Unverified HTTPS request is being made. Adding certificate verification is strongly advised. See: https://urllib3.readthedocs.io/en/latest/advanced-usage.html#ssl-warnings\n",
            "  InsecureRequestWarning)\n"
          ],
          "name": "stderr"
        },
        {
          "output_type": "stream",
          "text": [
            "Valid url found: http://www.ru.ufrj.br/\n",
            "Valid url found: http://www.ru.ufrj.br/\n"
          ],
          "name": "stdout"
        },
        {
          "output_type": "stream",
          "text": [
            "/usr/local/lib/python3.6/dist-packages/urllib3/connectionpool.py:847: InsecureRequestWarning: Unverified HTTPS request is being made. Adding certificate verification is strongly advised. See: https://urllib3.readthedocs.io/en/latest/advanced-usage.html#ssl-warnings\n",
            "  InsecureRequestWarning)\n"
          ],
          "name": "stderr"
        },
        {
          "output_type": "stream",
          "text": [
            "Valid url found: http://www.if.ufrj.br/\n"
          ],
          "name": "stdout"
        },
        {
          "output_type": "stream",
          "text": [
            "/usr/local/lib/python3.6/dist-packages/urllib3/connectionpool.py:847: InsecureRequestWarning: Unverified HTTPS request is being made. Adding certificate verification is strongly advised. See: https://urllib3.readthedocs.io/en/latest/advanced-usage.html#ssl-warnings\n",
            "  InsecureRequestWarning)\n"
          ],
          "name": "stderr"
        },
        {
          "output_type": "stream",
          "text": [
            "Valid url found: http://www.iq.ufrj.br/\n"
          ],
          "name": "stdout"
        },
        {
          "output_type": "stream",
          "text": [
            "/usr/local/lib/python3.6/dist-packages/urllib3/connectionpool.py:847: InsecureRequestWarning: Unverified HTTPS request is being made. Adding certificate verification is strongly advised. See: https://urllib3.readthedocs.io/en/latest/advanced-usage.html#ssl-warnings\n",
            "  InsecureRequestWarning)\n"
          ],
          "name": "stderr"
        },
        {
          "output_type": "stream",
          "text": [
            "Valid url found: http://www.iq.ufrj.br/\n",
            "Valid url found: http://www.pre.ufrj.br/\n"
          ],
          "name": "stdout"
        },
        {
          "output_type": "stream",
          "text": [
            "/usr/local/lib/python3.6/dist-packages/urllib3/connectionpool.py:847: InsecureRequestWarning: Unverified HTTPS request is being made. Adding certificate verification is strongly advised. See: https://urllib3.readthedocs.io/en/latest/advanced-usage.html#ssl-warnings\n",
            "  InsecureRequestWarning)\n"
          ],
          "name": "stderr"
        },
        {
          "output_type": "stream",
          "text": [
            "Valid url found: http://www.ov.ufrj.br/\n",
            "Valid url found: http://www.fe.ufrj.br/\n"
          ],
          "name": "stdout"
        },
        {
          "output_type": "stream",
          "text": [
            "/usr/local/lib/python3.6/dist-packages/urllib3/connectionpool.py:847: InsecureRequestWarning: Unverified HTTPS request is being made. Adding certificate verification is strongly advised. See: https://urllib3.readthedocs.io/en/latest/advanced-usage.html#ssl-warnings\n",
            "  InsecureRequestWarning)\n"
          ],
          "name": "stderr"
        },
        {
          "output_type": "stream",
          "text": [
            "Valid url found: http://www.if.ufrj.br/\n"
          ],
          "name": "stdout"
        },
        {
          "output_type": "stream",
          "text": [
            "/usr/local/lib/python3.6/dist-packages/urllib3/connectionpool.py:847: InsecureRequestWarning: Unverified HTTPS request is being made. Adding certificate verification is strongly advised. See: https://urllib3.readthedocs.io/en/latest/advanced-usage.html#ssl-warnings\n",
            "  InsecureRequestWarning)\n",
            "/usr/local/lib/python3.6/dist-packages/urllib3/connectionpool.py:847: InsecureRequestWarning: Unverified HTTPS request is being made. Adding certificate verification is strongly advised. See: https://urllib3.readthedocs.io/en/latest/advanced-usage.html#ssl-warnings\n",
            "  InsecureRequestWarning)\n"
          ],
          "name": "stderr"
        },
        {
          "output_type": "stream",
          "text": [
            "Valid url found: http://www.ead.ufrj.br/\n"
          ],
          "name": "stdout"
        },
        {
          "output_type": "stream",
          "text": [
            "/usr/local/lib/python3.6/dist-packages/urllib3/connectionpool.py:847: InsecureRequestWarning: Unverified HTTPS request is being made. Adding certificate verification is strongly advised. See: https://urllib3.readthedocs.io/en/latest/advanced-usage.html#ssl-warnings\n",
            "  InsecureRequestWarning)\n"
          ],
          "name": "stderr"
        },
        {
          "output_type": "stream",
          "text": [
            "Valid url found: http://www.if.ufrj.br/\n"
          ],
          "name": "stdout"
        },
        {
          "output_type": "stream",
          "text": [
            "/usr/local/lib/python3.6/dist-packages/urllib3/connectionpool.py:847: InsecureRequestWarning: Unverified HTTPS request is being made. Adding certificate verification is strongly advised. See: https://urllib3.readthedocs.io/en/latest/advanced-usage.html#ssl-warnings\n",
            "  InsecureRequestWarning)\n"
          ],
          "name": "stderr"
        },
        {
          "output_type": "stream",
          "text": [
            "Valid url found: http://www.if.ufrj.br/\n",
            "Valid url found: http://www.eq.ufrj.br/\n",
            "Valid url found: http://www.ru.ufrj.br/\n",
            "Valid url found: http://www.csf.ufrj.br/\n"
          ],
          "name": "stdout"
        },
        {
          "output_type": "stream",
          "text": [
            "/usr/local/lib/python3.6/dist-packages/urllib3/connectionpool.py:847: InsecureRequestWarning: Unverified HTTPS request is being made. Adding certificate verification is strongly advised. See: https://urllib3.readthedocs.io/en/latest/advanced-usage.html#ssl-warnings\n",
            "  InsecureRequestWarning)\n"
          ],
          "name": "stderr"
        },
        {
          "output_type": "stream",
          "text": [
            "Valid url found: http://www.if.ufrj.br/\n"
          ],
          "name": "stdout"
        },
        {
          "output_type": "stream",
          "text": [
            "/usr/local/lib/python3.6/dist-packages/urllib3/connectionpool.py:847: InsecureRequestWarning: Unverified HTTPS request is being made. Adding certificate verification is strongly advised. See: https://urllib3.readthedocs.io/en/latest/advanced-usage.html#ssl-warnings\n",
            "  InsecureRequestWarning)\n"
          ],
          "name": "stderr"
        },
        {
          "output_type": "stream",
          "text": [
            "Valid url found: http://www.iq.ufrj.br/\n"
          ],
          "name": "stdout"
        },
        {
          "output_type": "stream",
          "text": [
            "/usr/local/lib/python3.6/dist-packages/urllib3/connectionpool.py:847: InsecureRequestWarning: Unverified HTTPS request is being made. Adding certificate verification is strongly advised. See: https://urllib3.readthedocs.io/en/latest/advanced-usage.html#ssl-warnings\n",
            "  InsecureRequestWarning)\n"
          ],
          "name": "stderr"
        },
        {
          "output_type": "stream",
          "text": [
            "Valid url found: http://www.iq.ufrj.br/\n",
            "Valid url found: http://www.im.ufrj.br/\n",
            "Valid url found: http://www.eq.ufrj.br/\n"
          ],
          "name": "stdout"
        },
        {
          "output_type": "stream",
          "text": [
            "/usr/local/lib/python3.6/dist-packages/urllib3/connectionpool.py:847: InsecureRequestWarning: Unverified HTTPS request is being made. Adding certificate verification is strongly advised. See: https://urllib3.readthedocs.io/en/latest/advanced-usage.html#ssl-warnings\n",
            "  InsecureRequestWarning)\n"
          ],
          "name": "stderr"
        },
        {
          "output_type": "stream",
          "text": [
            "Valid url found: http://www.if.ufrj.br/\n",
            "Valid url found: http://www.pu.ufrj.br/\n"
          ],
          "name": "stdout"
        },
        {
          "output_type": "stream",
          "text": [
            "/usr/local/lib/python3.6/dist-packages/urllib3/connectionpool.py:847: InsecureRequestWarning: Unverified HTTPS request is being made. Adding certificate verification is strongly advised. See: https://urllib3.readthedocs.io/en/latest/advanced-usage.html#ssl-warnings\n",
            "  InsecureRequestWarning)\n",
            "/usr/local/lib/python3.6/dist-packages/urllib3/connectionpool.py:847: InsecureRequestWarning: Unverified HTTPS request is being made. Adding certificate verification is strongly advised. See: https://urllib3.readthedocs.io/en/latest/advanced-usage.html#ssl-warnings\n",
            "  InsecureRequestWarning)\n"
          ],
          "name": "stderr"
        },
        {
          "output_type": "stream",
          "text": [
            "Valid url found: http://www.ead.ufrj.br/\n"
          ],
          "name": "stdout"
        },
        {
          "output_type": "stream",
          "text": [
            "/usr/local/lib/python3.6/dist-packages/urllib3/connectionpool.py:847: InsecureRequestWarning: Unverified HTTPS request is being made. Adding certificate verification is strongly advised. See: https://urllib3.readthedocs.io/en/latest/advanced-usage.html#ssl-warnings\n",
            "  InsecureRequestWarning)\n",
            "/usr/local/lib/python3.6/dist-packages/urllib3/connectionpool.py:847: InsecureRequestWarning: Unverified HTTPS request is being made. Adding certificate verification is strongly advised. See: https://urllib3.readthedocs.io/en/latest/advanced-usage.html#ssl-warnings\n",
            "  InsecureRequestWarning)\n"
          ],
          "name": "stderr"
        },
        {
          "output_type": "stream",
          "text": [
            "Valid url found: http://www.smt.ufrj.br/\n"
          ],
          "name": "stdout"
        },
        {
          "output_type": "stream",
          "text": [
            "/usr/local/lib/python3.6/dist-packages/urllib3/connectionpool.py:847: InsecureRequestWarning: Unverified HTTPS request is being made. Adding certificate verification is strongly advised. See: https://urllib3.readthedocs.io/en/latest/advanced-usage.html#ssl-warnings\n",
            "  InsecureRequestWarning)\n"
          ],
          "name": "stderr"
        },
        {
          "output_type": "stream",
          "text": [
            "Valid url found: http://www.ru.ufrj.br/\n",
            "Valid url found: http://www.ru.ufrj.br/\n",
            "Valid url found: http://www.pea.ufrj.br/\n"
          ],
          "name": "stdout"
        },
        {
          "output_type": "stream",
          "text": [
            "/usr/local/lib/python3.6/dist-packages/urllib3/connectionpool.py:847: InsecureRequestWarning: Unverified HTTPS request is being made. Adding certificate verification is strongly advised. See: https://urllib3.readthedocs.io/en/latest/advanced-usage.html#ssl-warnings\n",
            "  InsecureRequestWarning)\n",
            "/usr/local/lib/python3.6/dist-packages/urllib3/connectionpool.py:847: InsecureRequestWarning: Unverified HTTPS request is being made. Adding certificate verification is strongly advised. See: https://urllib3.readthedocs.io/en/latest/advanced-usage.html#ssl-warnings\n",
            "  InsecureRequestWarning)\n"
          ],
          "name": "stderr"
        },
        {
          "output_type": "stream",
          "text": [
            "Valid url found: http://www.ov.ufrj.br/\n"
          ],
          "name": "stdout"
        },
        {
          "output_type": "stream",
          "text": [
            "/usr/local/lib/python3.6/dist-packages/urllib3/connectionpool.py:847: InsecureRequestWarning: Unverified HTTPS request is being made. Adding certificate verification is strongly advised. See: https://urllib3.readthedocs.io/en/latest/advanced-usage.html#ssl-warnings\n",
            "  InsecureRequestWarning)\n"
          ],
          "name": "stderr"
        },
        {
          "output_type": "stream",
          "text": [
            "Valid url found: http://www.fe.ufrj.br/\n",
            "Valid url found: http://www.ru.ufrj.br/\n",
            "Valid url found: http://www.ch.ufrj.br/\n"
          ],
          "name": "stdout"
        },
        {
          "output_type": "stream",
          "text": [
            "/usr/local/lib/python3.6/dist-packages/urllib3/connectionpool.py:847: InsecureRequestWarning: Unverified HTTPS request is being made. Adding certificate verification is strongly advised. See: https://urllib3.readthedocs.io/en/latest/advanced-usage.html#ssl-warnings\n",
            "  InsecureRequestWarning)\n"
          ],
          "name": "stderr"
        },
        {
          "output_type": "stream",
          "text": [
            "Valid url found: http://www.iq.ufrj.br/\n",
            "Valid url found: http://www.eq.ufrj.br/\n",
            "Valid url found: http://www.im.ufrj.br/\n"
          ],
          "name": "stdout"
        },
        {
          "output_type": "stream",
          "text": [
            "/usr/local/lib/python3.6/dist-packages/urllib3/connectionpool.py:847: InsecureRequestWarning: Unverified HTTPS request is being made. Adding certificate verification is strongly advised. See: https://urllib3.readthedocs.io/en/latest/advanced-usage.html#ssl-warnings\n",
            "  InsecureRequestWarning)\n"
          ],
          "name": "stderr"
        },
        {
          "output_type": "stream",
          "text": [
            "Valid url found: http://www.if.ufrj.br/\n",
            "Valid url found: http://www.cap.ufrj.br/\n"
          ],
          "name": "stdout"
        },
        {
          "output_type": "stream",
          "text": [
            "/usr/local/lib/python3.6/dist-packages/urllib3/connectionpool.py:847: InsecureRequestWarning: Unverified HTTPS request is being made. Adding certificate verification is strongly advised. See: https://urllib3.readthedocs.io/en/latest/advanced-usage.html#ssl-warnings\n",
            "  InsecureRequestWarning)\n"
          ],
          "name": "stderr"
        },
        {
          "output_type": "stream",
          "text": [
            "Valid url found: http://www.pu.ufrj.br/\n"
          ],
          "name": "stdout"
        },
        {
          "output_type": "stream",
          "text": [
            "/usr/local/lib/python3.6/dist-packages/urllib3/connectionpool.py:847: InsecureRequestWarning: Unverified HTTPS request is being made. Adding certificate verification is strongly advised. See: https://urllib3.readthedocs.io/en/latest/advanced-usage.html#ssl-warnings\n",
            "  InsecureRequestWarning)\n"
          ],
          "name": "stderr"
        },
        {
          "output_type": "stream",
          "text": [
            "Valid url found: http://www.ov.ufrj.br/\n",
            "Valid url found: http://www.me.ufrj.br/\n"
          ],
          "name": "stdout"
        },
        {
          "output_type": "stream",
          "text": [
            "/usr/local/lib/python3.6/dist-packages/urllib3/connectionpool.py:847: InsecureRequestWarning: Unverified HTTPS request is being made. Adding certificate verification is strongly advised. See: https://urllib3.readthedocs.io/en/latest/advanced-usage.html#ssl-warnings\n",
            "  InsecureRequestWarning)\n"
          ],
          "name": "stderr"
        },
        {
          "output_type": "stream",
          "text": [
            "Valid url found: http://www.me.ufrj.br/\n",
            "Valid url found: http://www.nce.ufrj.br/\n",
            "Valid url found: http://www.pu.ufrj.br/\n",
            "Valid url found: http://www.csf.ufrj.br/\n"
          ],
          "name": "stdout"
        },
        {
          "output_type": "stream",
          "text": [
            "/usr/local/lib/python3.6/dist-packages/urllib3/connectionpool.py:847: InsecureRequestWarning: Unverified HTTPS request is being made. Adding certificate verification is strongly advised. See: https://urllib3.readthedocs.io/en/latest/advanced-usage.html#ssl-warnings\n",
            "  InsecureRequestWarning)\n"
          ],
          "name": "stderr"
        },
        {
          "output_type": "stream",
          "text": [
            "Valid url found: http://www.eco.ufrj.br/\n",
            "Valid url found: http://www.ppe.ufrj.br/\n",
            "Valid url found: http://www.pu.ufrj.br/\n",
            "Valid url found: http://www.im.ufrj.br/\n",
            "Valid url found: http://www.ch.ufrj.br/\n",
            "Valid url found: http://www.eq.ufrj.br/\n"
          ],
          "name": "stdout"
        },
        {
          "output_type": "stream",
          "text": [
            "/usr/local/lib/python3.6/dist-packages/urllib3/connectionpool.py:847: InsecureRequestWarning: Unverified HTTPS request is being made. Adding certificate verification is strongly advised. See: https://urllib3.readthedocs.io/en/latest/advanced-usage.html#ssl-warnings\n",
            "  InsecureRequestWarning)\n"
          ],
          "name": "stderr"
        },
        {
          "output_type": "stream",
          "text": [
            "Valid url found: http://www.eq.ufrj.br/\n",
            "Valid url found: http://www.me.ufrj.br/\n",
            "Valid url found: http://www.eq.ufrj.br/\n"
          ],
          "name": "stdout"
        },
        {
          "output_type": "stream",
          "text": [
            "/usr/local/lib/python3.6/dist-packages/urllib3/connectionpool.py:847: InsecureRequestWarning: Unverified HTTPS request is being made. Adding certificate verification is strongly advised. See: https://urllib3.readthedocs.io/en/latest/advanced-usage.html#ssl-warnings\n",
            "  InsecureRequestWarning)\n"
          ],
          "name": "stderr"
        },
        {
          "output_type": "stream",
          "text": [
            "Valid url found: http://www.iq.ufrj.br/\n",
            "Valid url found: http://www.ru.ufrj.br/\n"
          ],
          "name": "stdout"
        },
        {
          "output_type": "stream",
          "text": [
            "/usr/local/lib/python3.6/dist-packages/urllib3/connectionpool.py:847: InsecureRequestWarning: Unverified HTTPS request is being made. Adding certificate verification is strongly advised. See: https://urllib3.readthedocs.io/en/latest/advanced-usage.html#ssl-warnings\n",
            "  InsecureRequestWarning)\n"
          ],
          "name": "stderr"
        },
        {
          "output_type": "stream",
          "text": [
            "Valid url found: http://www.if.ufrj.br/\n",
            "Valid url found: http://www.me.ufrj.br/\n",
            "Valid url found: http://www.fe.ufrj.br/\n",
            "Valid url found: http://www.eq.ufrj.br/\n",
            "Valid url found: http://www.ru.ufrj.br/\n"
          ],
          "name": "stdout"
        },
        {
          "output_type": "stream",
          "text": [
            "/usr/local/lib/python3.6/dist-packages/urllib3/connectionpool.py:847: InsecureRequestWarning: Unverified HTTPS request is being made. Adding certificate verification is strongly advised. See: https://urllib3.readthedocs.io/en/latest/advanced-usage.html#ssl-warnings\n",
            "  InsecureRequestWarning)\n",
            "/usr/local/lib/python3.6/dist-packages/urllib3/connectionpool.py:847: InsecureRequestWarning: Unverified HTTPS request is being made. Adding certificate verification is strongly advised. See: https://urllib3.readthedocs.io/en/latest/advanced-usage.html#ssl-warnings\n",
            "  InsecureRequestWarning)\n"
          ],
          "name": "stderr"
        },
        {
          "output_type": "stream",
          "text": [
            "Valid url found: http://www.if.ufrj.br/\n",
            "Valid url found: http://www.ch.ufrj.br/\n",
            "Valid url found: http://www.pu.ufrj.br/\n",
            "Valid url found: http://www.me.ufrj.br/\n",
            "Valid url found: http://www.me.ufrj.br/\n",
            "Valid url found: http://www.pu.ufrj.br/\n"
          ],
          "name": "stdout"
        },
        {
          "output_type": "stream",
          "text": [
            "/usr/local/lib/python3.6/dist-packages/urllib3/connectionpool.py:847: InsecureRequestWarning: Unverified HTTPS request is being made. Adding certificate verification is strongly advised. See: https://urllib3.readthedocs.io/en/latest/advanced-usage.html#ssl-warnings\n",
            "  InsecureRequestWarning)\n",
            "/usr/local/lib/python3.6/dist-packages/urllib3/connectionpool.py:847: InsecureRequestWarning: Unverified HTTPS request is being made. Adding certificate verification is strongly advised. See: https://urllib3.readthedocs.io/en/latest/advanced-usage.html#ssl-warnings\n",
            "  InsecureRequestWarning)\n",
            "/usr/local/lib/python3.6/dist-packages/urllib3/connectionpool.py:847: InsecureRequestWarning: Unverified HTTPS request is being made. Adding certificate verification is strongly advised. See: https://urllib3.readthedocs.io/en/latest/advanced-usage.html#ssl-warnings\n",
            "  InsecureRequestWarning)\n",
            "/usr/local/lib/python3.6/dist-packages/urllib3/connectionpool.py:847: InsecureRequestWarning: Unverified HTTPS request is being made. Adding certificate verification is strongly advised. See: https://urllib3.readthedocs.io/en/latest/advanced-usage.html#ssl-warnings\n",
            "  InsecureRequestWarning)\n"
          ],
          "name": "stderr"
        },
        {
          "output_type": "stream",
          "text": [
            "Valid url found: http://www.iq.ufrj.br/\n",
            "Valid url found: http://www.im.ufrj.br/\n",
            "Valid url found: http://www.ch.ufrj.br/\n"
          ],
          "name": "stdout"
        },
        {
          "output_type": "stream",
          "text": [
            "/usr/local/lib/python3.6/dist-packages/urllib3/connectionpool.py:847: InsecureRequestWarning: Unverified HTTPS request is being made. Adding certificate verification is strongly advised. See: https://urllib3.readthedocs.io/en/latest/advanced-usage.html#ssl-warnings\n",
            "  InsecureRequestWarning)\n",
            "/usr/local/lib/python3.6/dist-packages/urllib3/connectionpool.py:847: InsecureRequestWarning: Unverified HTTPS request is being made. Adding certificate verification is strongly advised. See: https://urllib3.readthedocs.io/en/latest/advanced-usage.html#ssl-warnings\n",
            "  InsecureRequestWarning)\n"
          ],
          "name": "stderr"
        },
        {
          "output_type": "stream",
          "text": [
            "Valid url found: http://www.pdi.ufrj.br/\n",
            "Valid url found: http://www.dme.ufrj.br/\n",
            "Valid url found: http://www.ru.ufrj.br/\n",
            "Valid url found: http://www.pu.ufrj.br/\n",
            "Valid url found: http://www.nce.ufrj.br/\n"
          ],
          "name": "stdout"
        },
        {
          "output_type": "stream",
          "text": [
            "/usr/local/lib/python3.6/dist-packages/urllib3/connectionpool.py:847: InsecureRequestWarning: Unverified HTTPS request is being made. Adding certificate verification is strongly advised. See: https://urllib3.readthedocs.io/en/latest/advanced-usage.html#ssl-warnings\n",
            "  InsecureRequestWarning)\n"
          ],
          "name": "stderr"
        },
        {
          "output_type": "stream",
          "text": [
            "Valid url found: http://www.ov.ufrj.br/\n",
            "Valid url found: http://www.me.ufrj.br/\n",
            "Valid url found: http://www.ru.ufrj.br/\n",
            "Valid url found: http://www.fe.ufrj.br/\n"
          ],
          "name": "stdout"
        },
        {
          "output_type": "stream",
          "text": [
            "/usr/local/lib/python3.6/dist-packages/urllib3/connectionpool.py:847: InsecureRequestWarning: Unverified HTTPS request is being made. Adding certificate verification is strongly advised. See: https://urllib3.readthedocs.io/en/latest/advanced-usage.html#ssl-warnings\n",
            "  InsecureRequestWarning)\n"
          ],
          "name": "stderr"
        },
        {
          "output_type": "stream",
          "text": [
            "Valid url found: http://www.fe.ufrj.br/\n",
            "Valid url found: http://www.me.ufrj.br/\n"
          ],
          "name": "stdout"
        },
        {
          "output_type": "stream",
          "text": [
            "/usr/local/lib/python3.6/dist-packages/urllib3/connectionpool.py:847: InsecureRequestWarning: Unverified HTTPS request is being made. Adding certificate verification is strongly advised. See: https://urllib3.readthedocs.io/en/latest/advanced-usage.html#ssl-warnings\n",
            "  InsecureRequestWarning)\n"
          ],
          "name": "stderr"
        },
        {
          "output_type": "stream",
          "text": [
            "Valid url found: http://www.me.ufrj.br/\n"
          ],
          "name": "stdout"
        },
        {
          "output_type": "stream",
          "text": [
            "/usr/local/lib/python3.6/dist-packages/urllib3/connectionpool.py:847: InsecureRequestWarning: Unverified HTTPS request is being made. Adding certificate verification is strongly advised. See: https://urllib3.readthedocs.io/en/latest/advanced-usage.html#ssl-warnings\n",
            "  InsecureRequestWarning)\n"
          ],
          "name": "stderr"
        },
        {
          "output_type": "stream",
          "text": [
            "Valid url found: http://www.if.ufrj.br/\n",
            "Valid url found: http://www.ru.ufrj.br/\n",
            "Valid url found: http://www.fe.ufrj.br/\n",
            "Valid url found: http://www.pec.ufrj.br/\n"
          ],
          "name": "stdout"
        },
        {
          "output_type": "stream",
          "text": [
            "/usr/local/lib/python3.6/dist-packages/urllib3/connectionpool.py:847: InsecureRequestWarning: Unverified HTTPS request is being made. Adding certificate verification is strongly advised. See: https://urllib3.readthedocs.io/en/latest/advanced-usage.html#ssl-warnings\n",
            "  InsecureRequestWarning)\n"
          ],
          "name": "stderr"
        },
        {
          "output_type": "stream",
          "text": [
            "Valid url found: http://www.iq.ufrj.br/\n",
            "Valid url found: http://www.fe.ufrj.br/\n"
          ],
          "name": "stdout"
        },
        {
          "output_type": "stream",
          "text": [
            "/usr/local/lib/python3.6/dist-packages/urllib3/connectionpool.py:847: InsecureRequestWarning: Unverified HTTPS request is being made. Adding certificate verification is strongly advised. See: https://urllib3.readthedocs.io/en/latest/advanced-usage.html#ssl-warnings\n",
            "  InsecureRequestWarning)\n"
          ],
          "name": "stderr"
        },
        {
          "output_type": "stream",
          "text": [
            "Valid url found: http://www.if.ufrj.br/\n",
            "Valid url found: http://www.lin.ufrj.br/\n",
            "Valid url found: http://www.fe.ufrj.br/\n",
            "Valid url found: http://www.eq.ufrj.br/\n",
            "Valid url found: http://www.ru.ufrj.br/\n",
            "Valid url found: http://www.fe.ufrj.br/\n",
            "Valid url found: http://www.im.ufrj.br/\n"
          ],
          "name": "stdout"
        },
        {
          "output_type": "stream",
          "text": [
            "/usr/local/lib/python3.6/dist-packages/urllib3/connectionpool.py:847: InsecureRequestWarning: Unverified HTTPS request is being made. Adding certificate verification is strongly advised. See: https://urllib3.readthedocs.io/en/latest/advanced-usage.html#ssl-warnings\n",
            "  InsecureRequestWarning)\n",
            "/usr/local/lib/python3.6/dist-packages/urllib3/connectionpool.py:847: InsecureRequestWarning: Unverified HTTPS request is being made. Adding certificate verification is strongly advised. See: https://urllib3.readthedocs.io/en/latest/advanced-usage.html#ssl-warnings\n",
            "  InsecureRequestWarning)\n",
            "/usr/local/lib/python3.6/dist-packages/urllib3/connectionpool.py:847: InsecureRequestWarning: Unverified HTTPS request is being made. Adding certificate verification is strongly advised. See: https://urllib3.readthedocs.io/en/latest/advanced-usage.html#ssl-warnings\n",
            "  InsecureRequestWarning)\n"
          ],
          "name": "stderr"
        },
        {
          "output_type": "stream",
          "text": [
            "Valid url found: http://www.ru.ufrj.br/\n"
          ],
          "name": "stdout"
        },
        {
          "output_type": "stream",
          "text": [
            "/usr/local/lib/python3.6/dist-packages/urllib3/connectionpool.py:847: InsecureRequestWarning: Unverified HTTPS request is being made. Adding certificate verification is strongly advised. See: https://urllib3.readthedocs.io/en/latest/advanced-usage.html#ssl-warnings\n",
            "  InsecureRequestWarning)\n"
          ],
          "name": "stderr"
        },
        {
          "output_type": "stream",
          "text": [
            "Valid url found: http://www.ov.ufrj.br/\n",
            "Valid url found: http://www.im.ufrj.br/\n"
          ],
          "name": "stdout"
        },
        {
          "output_type": "stream",
          "text": [
            "/usr/local/lib/python3.6/dist-packages/urllib3/connectionpool.py:847: InsecureRequestWarning: Unverified HTTPS request is being made. Adding certificate verification is strongly advised. See: https://urllib3.readthedocs.io/en/latest/advanced-usage.html#ssl-warnings\n",
            "  InsecureRequestWarning)\n"
          ],
          "name": "stderr"
        },
        {
          "output_type": "stream",
          "text": [
            "Valid url found: http://www.ov.ufrj.br/\n",
            "Valid url found: http://www.eq.ufrj.br/\n"
          ],
          "name": "stdout"
        },
        {
          "output_type": "stream",
          "text": [
            "/usr/local/lib/python3.6/dist-packages/urllib3/connectionpool.py:847: InsecureRequestWarning: Unverified HTTPS request is being made. Adding certificate verification is strongly advised. See: https://urllib3.readthedocs.io/en/latest/advanced-usage.html#ssl-warnings\n",
            "  InsecureRequestWarning)\n"
          ],
          "name": "stderr"
        },
        {
          "output_type": "stream",
          "text": [
            "Valid url found: http://www.iq.ufrj.br/\n",
            "Valid url found: http://www.pu.ufrj.br/\n"
          ],
          "name": "stdout"
        },
        {
          "output_type": "stream",
          "text": [
            "/usr/local/lib/python3.6/dist-packages/urllib3/connectionpool.py:847: InsecureRequestWarning: Unverified HTTPS request is being made. Adding certificate verification is strongly advised. See: https://urllib3.readthedocs.io/en/latest/advanced-usage.html#ssl-warnings\n",
            "  InsecureRequestWarning)\n"
          ],
          "name": "stderr"
        },
        {
          "output_type": "stream",
          "text": [
            "Valid url found: http://www.im.ufrj.br/\n"
          ],
          "name": "stdout"
        },
        {
          "output_type": "stream",
          "text": [
            "/usr/local/lib/python3.6/dist-packages/urllib3/connectionpool.py:847: InsecureRequestWarning: Unverified HTTPS request is being made. Adding certificate verification is strongly advised. See: https://urllib3.readthedocs.io/en/latest/advanced-usage.html#ssl-warnings\n",
            "  InsecureRequestWarning)\n"
          ],
          "name": "stderr"
        },
        {
          "output_type": "stream",
          "text": [
            "Valid url found: http://www.if.ufrj.br/\n"
          ],
          "name": "stdout"
        },
        {
          "output_type": "stream",
          "text": [
            "/usr/local/lib/python3.6/dist-packages/urllib3/connectionpool.py:847: InsecureRequestWarning: Unverified HTTPS request is being made. Adding certificate verification is strongly advised. See: https://urllib3.readthedocs.io/en/latest/advanced-usage.html#ssl-warnings\n",
            "  InsecureRequestWarning)\n"
          ],
          "name": "stderr"
        },
        {
          "output_type": "stream",
          "text": [
            "Valid url found: http://www.ov.ufrj.br/\n"
          ],
          "name": "stdout"
        },
        {
          "output_type": "stream",
          "text": [
            "/usr/local/lib/python3.6/dist-packages/urllib3/connectionpool.py:847: InsecureRequestWarning: Unverified HTTPS request is being made. Adding certificate verification is strongly advised. See: https://urllib3.readthedocs.io/en/latest/advanced-usage.html#ssl-warnings\n",
            "  InsecureRequestWarning)\n"
          ],
          "name": "stderr"
        },
        {
          "output_type": "stream",
          "text": [
            "Valid url found: http://www.if.ufrj.br/\n",
            "Valid url found: http://www.im.ufrj.br/\n"
          ],
          "name": "stdout"
        },
        {
          "output_type": "stream",
          "text": [
            "/usr/local/lib/python3.6/dist-packages/urllib3/connectionpool.py:847: InsecureRequestWarning: Unverified HTTPS request is being made. Adding certificate verification is strongly advised. See: https://urllib3.readthedocs.io/en/latest/advanced-usage.html#ssl-warnings\n",
            "  InsecureRequestWarning)\n",
            "/usr/local/lib/python3.6/dist-packages/urllib3/connectionpool.py:847: InsecureRequestWarning: Unverified HTTPS request is being made. Adding certificate verification is strongly advised. See: https://urllib3.readthedocs.io/en/latest/advanced-usage.html#ssl-warnings\n",
            "  InsecureRequestWarning)\n"
          ],
          "name": "stderr"
        },
        {
          "output_type": "stream",
          "text": [
            "Valid url found: http://www.ov.ufrj.br/\n",
            "Valid url found: http://www.im.ufrj.br/\n",
            "Valid url found: http://www.eq.ufrj.br/\n",
            "Valid url found: http://www.me.ufrj.br/\n"
          ],
          "name": "stdout"
        },
        {
          "output_type": "stream",
          "text": [
            "/usr/local/lib/python3.6/dist-packages/urllib3/connectionpool.py:847: InsecureRequestWarning: Unverified HTTPS request is being made. Adding certificate verification is strongly advised. See: https://urllib3.readthedocs.io/en/latest/advanced-usage.html#ssl-warnings\n",
            "  InsecureRequestWarning)\n"
          ],
          "name": "stderr"
        },
        {
          "output_type": "stream",
          "text": [
            "Valid url found: http://www.if.ufrj.br/\n"
          ],
          "name": "stdout"
        },
        {
          "output_type": "stream",
          "text": [
            "/usr/local/lib/python3.6/dist-packages/urllib3/connectionpool.py:847: InsecureRequestWarning: Unverified HTTPS request is being made. Adding certificate verification is strongly advised. See: https://urllib3.readthedocs.io/en/latest/advanced-usage.html#ssl-warnings\n",
            "  InsecureRequestWarning)\n"
          ],
          "name": "stderr"
        },
        {
          "output_type": "stream",
          "text": [
            "Valid url found: http://www.ov.ufrj.br/\n",
            "Valid url found: http://www.ch.ufrj.br/\n",
            "Valid url found: http://www.eei.ufrj.br/\n",
            "Valid url found: http://www.fnm.ufrj.br/\n",
            "Valid url found: http://www.pu.ufrj.br/\n",
            "Valid url found: http://www.im.ufrj.br/\n"
          ],
          "name": "stdout"
        },
        {
          "output_type": "stream",
          "text": [
            "/usr/local/lib/python3.6/dist-packages/urllib3/connectionpool.py:847: InsecureRequestWarning: Unverified HTTPS request is being made. Adding certificate verification is strongly advised. See: https://urllib3.readthedocs.io/en/latest/advanced-usage.html#ssl-warnings\n",
            "  InsecureRequestWarning)\n"
          ],
          "name": "stderr"
        },
        {
          "output_type": "stream",
          "text": [
            "Valid url found: http://www.pu.ufrj.br/\n",
            "Valid url found: http://www.ch.ufrj.br/\n",
            "Valid url found: http://www.eq.ufrj.br/\n",
            "Valid url found: http://www.eq.ufrj.br/\n"
          ],
          "name": "stdout"
        },
        {
          "output_type": "stream",
          "text": [
            "/usr/local/lib/python3.6/dist-packages/urllib3/connectionpool.py:847: InsecureRequestWarning: Unverified HTTPS request is being made. Adding certificate verification is strongly advised. See: https://urllib3.readthedocs.io/en/latest/advanced-usage.html#ssl-warnings\n",
            "  InsecureRequestWarning)\n"
          ],
          "name": "stderr"
        },
        {
          "output_type": "stream",
          "text": [
            "Valid url found: http://www.if.ufrj.br/\n",
            "Valid url found: http://www.eq.ufrj.br/\n",
            "Valid url found: http://www.ru.ufrj.br/\n",
            "Valid url found: http://www.oec.ufrj.br/\n",
            "Valid url found: http://www.fe.ufrj.br/\n"
          ],
          "name": "stdout"
        },
        {
          "output_type": "stream",
          "text": [
            "/usr/local/lib/python3.6/dist-packages/urllib3/connectionpool.py:847: InsecureRequestWarning: Unverified HTTPS request is being made. Adding certificate verification is strongly advised. See: https://urllib3.readthedocs.io/en/latest/advanced-usage.html#ssl-warnings\n",
            "  InsecureRequestWarning)\n"
          ],
          "name": "stderr"
        },
        {
          "output_type": "stream",
          "text": [
            "Valid url found: http://www.if.ufrj.br/\n",
            "Valid url found: http://www.ru.ufrj.br/\n"
          ],
          "name": "stdout"
        },
        {
          "output_type": "stream",
          "text": [
            "/usr/local/lib/python3.6/dist-packages/urllib3/connectionpool.py:847: InsecureRequestWarning: Unverified HTTPS request is being made. Adding certificate verification is strongly advised. See: https://urllib3.readthedocs.io/en/latest/advanced-usage.html#ssl-warnings\n",
            "  InsecureRequestWarning)\n"
          ],
          "name": "stderr"
        },
        {
          "output_type": "stream",
          "text": [
            "Valid url found: http://www.if.ufrj.br/\n",
            "Valid url found: http://www.me.ufrj.br/\n"
          ],
          "name": "stdout"
        },
        {
          "output_type": "stream",
          "text": [
            "/usr/local/lib/python3.6/dist-packages/urllib3/connectionpool.py:847: InsecureRequestWarning: Unverified HTTPS request is being made. Adding certificate verification is strongly advised. See: https://urllib3.readthedocs.io/en/latest/advanced-usage.html#ssl-warnings\n",
            "  InsecureRequestWarning)\n"
          ],
          "name": "stderr"
        },
        {
          "output_type": "stream",
          "text": [
            "Valid url found: http://www.iq.ufrj.br/\n",
            "Valid url found: http://www.cva.ufrj.br/\n",
            "Valid url found: http://www.eq.ufrj.br/\n"
          ],
          "name": "stdout"
        },
        {
          "output_type": "stream",
          "text": [
            "/usr/local/lib/python3.6/dist-packages/urllib3/connectionpool.py:847: InsecureRequestWarning: Unverified HTTPS request is being made. Adding certificate verification is strongly advised. See: https://urllib3.readthedocs.io/en/latest/advanced-usage.html#ssl-warnings\n",
            "  InsecureRequestWarning)\n"
          ],
          "name": "stderr"
        },
        {
          "output_type": "stream",
          "text": [
            "Valid url found: http://www.ch.ufrj.br/\n"
          ],
          "name": "stdout"
        },
        {
          "output_type": "stream",
          "text": [
            "/usr/local/lib/python3.6/dist-packages/urllib3/connectionpool.py:847: InsecureRequestWarning: Unverified HTTPS request is being made. Adding certificate verification is strongly advised. See: https://urllib3.readthedocs.io/en/latest/advanced-usage.html#ssl-warnings\n",
            "  InsecureRequestWarning)\n"
          ],
          "name": "stderr"
        },
        {
          "output_type": "stream",
          "text": [
            "Valid url found: http://www.if.ufrj.br/\n",
            "Valid url found: http://www.pu.ufrj.br/\n"
          ],
          "name": "stdout"
        },
        {
          "output_type": "stream",
          "text": [
            "/usr/local/lib/python3.6/dist-packages/urllib3/connectionpool.py:847: InsecureRequestWarning: Unverified HTTPS request is being made. Adding certificate verification is strongly advised. See: https://urllib3.readthedocs.io/en/latest/advanced-usage.html#ssl-warnings\n",
            "  InsecureRequestWarning)\n"
          ],
          "name": "stderr"
        },
        {
          "output_type": "stream",
          "text": [
            "Valid url found: http://www.ava.ufrj.br/\n"
          ],
          "name": "stdout"
        },
        {
          "output_type": "stream",
          "text": [
            "/usr/local/lib/python3.6/dist-packages/urllib3/connectionpool.py:847: InsecureRequestWarning: Unverified HTTPS request is being made. Adding certificate verification is strongly advised. See: https://urllib3.readthedocs.io/en/latest/advanced-usage.html#ssl-warnings\n",
            "  InsecureRequestWarning)\n"
          ],
          "name": "stderr"
        },
        {
          "output_type": "stream",
          "text": [
            "Valid url found: http://www.iq.ufrj.br/\n",
            "Valid url found: http://www.ru.ufrj.br/\n"
          ],
          "name": "stdout"
        },
        {
          "output_type": "stream",
          "text": [
            "/usr/local/lib/python3.6/dist-packages/urllib3/connectionpool.py:847: InsecureRequestWarning: Unverified HTTPS request is being made. Adding certificate verification is strongly advised. See: https://urllib3.readthedocs.io/en/latest/advanced-usage.html#ssl-warnings\n",
            "  InsecureRequestWarning)\n",
            "/usr/local/lib/python3.6/dist-packages/urllib3/connectionpool.py:847: InsecureRequestWarning: Unverified HTTPS request is being made. Adding certificate verification is strongly advised. See: https://urllib3.readthedocs.io/en/latest/advanced-usage.html#ssl-warnings\n",
            "  InsecureRequestWarning)\n"
          ],
          "name": "stderr"
        },
        {
          "output_type": "stream",
          "text": [
            "Valid url found: http://www.if.ufrj.br/\n"
          ],
          "name": "stdout"
        },
        {
          "output_type": "stream",
          "text": [
            "/usr/local/lib/python3.6/dist-packages/urllib3/connectionpool.py:847: InsecureRequestWarning: Unverified HTTPS request is being made. Adding certificate verification is strongly advised. See: https://urllib3.readthedocs.io/en/latest/advanced-usage.html#ssl-warnings\n",
            "  InsecureRequestWarning)\n",
            "/usr/local/lib/python3.6/dist-packages/urllib3/connectionpool.py:847: InsecureRequestWarning: Unverified HTTPS request is being made. Adding certificate verification is strongly advised. See: https://urllib3.readthedocs.io/en/latest/advanced-usage.html#ssl-warnings\n",
            "  InsecureRequestWarning)\n"
          ],
          "name": "stderr"
        },
        {
          "output_type": "stream",
          "text": [
            "Valid url found: http://www.dri.ufrj.br/\n",
            "Valid url found: http://www.ch.ufrj.br/\n"
          ],
          "name": "stdout"
        },
        {
          "output_type": "stream",
          "text": [
            "/usr/local/lib/python3.6/dist-packages/urllib3/connectionpool.py:847: InsecureRequestWarning: Unverified HTTPS request is being made. Adding certificate verification is strongly advised. See: https://urllib3.readthedocs.io/en/latest/advanced-usage.html#ssl-warnings\n",
            "  InsecureRequestWarning)\n"
          ],
          "name": "stderr"
        },
        {
          "output_type": "stream",
          "text": [
            "Valid url found: http://www.pu.ufrj.br/\n"
          ],
          "name": "stdout"
        },
        {
          "output_type": "stream",
          "text": [
            "/usr/local/lib/python3.6/dist-packages/urllib3/connectionpool.py:847: InsecureRequestWarning: Unverified HTTPS request is being made. Adding certificate verification is strongly advised. See: https://urllib3.readthedocs.io/en/latest/advanced-usage.html#ssl-warnings\n",
            "  InsecureRequestWarning)\n",
            "/usr/local/lib/python3.6/dist-packages/urllib3/connectionpool.py:847: InsecureRequestWarning: Unverified HTTPS request is being made. Adding certificate verification is strongly advised. See: https://urllib3.readthedocs.io/en/latest/advanced-usage.html#ssl-warnings\n",
            "  InsecureRequestWarning)\n",
            "/usr/local/lib/python3.6/dist-packages/urllib3/connectionpool.py:847: InsecureRequestWarning: Unverified HTTPS request is being made. Adding certificate verification is strongly advised. See: https://urllib3.readthedocs.io/en/latest/advanced-usage.html#ssl-warnings\n",
            "  InsecureRequestWarning)\n"
          ],
          "name": "stderr"
        },
        {
          "output_type": "stream",
          "text": [
            "Valid url found: http://www.if.ufrj.br/\n",
            "Valid url found: http://www.eq.ufrj.br/\n"
          ],
          "name": "stdout"
        },
        {
          "output_type": "stream",
          "text": [
            "/usr/local/lib/python3.6/dist-packages/urllib3/connectionpool.py:847: InsecureRequestWarning: Unverified HTTPS request is being made. Adding certificate verification is strongly advised. See: https://urllib3.readthedocs.io/en/latest/advanced-usage.html#ssl-warnings\n",
            "  InsecureRequestWarning)\n"
          ],
          "name": "stderr"
        },
        {
          "output_type": "stream",
          "text": [
            "Valid url found: http://www.ccs.ufrj.br/\n",
            "Valid url found: http://www.eq.ufrj.br/\n",
            "Valid url found: http://www.im.ufrj.br/\n"
          ],
          "name": "stdout"
        },
        {
          "output_type": "stream",
          "text": [
            "/usr/local/lib/python3.6/dist-packages/urllib3/connectionpool.py:847: InsecureRequestWarning: Unverified HTTPS request is being made. Adding certificate verification is strongly advised. See: https://urllib3.readthedocs.io/en/latest/advanced-usage.html#ssl-warnings\n",
            "  InsecureRequestWarning)\n"
          ],
          "name": "stderr"
        },
        {
          "output_type": "stream",
          "text": [
            "Valid url found: http://www.fe.ufrj.br/\n",
            "Valid url found: http://www.ch.ufrj.br/\n"
          ],
          "name": "stdout"
        },
        {
          "output_type": "stream",
          "text": [
            "/usr/local/lib/python3.6/dist-packages/urllib3/connectionpool.py:847: InsecureRequestWarning: Unverified HTTPS request is being made. Adding certificate verification is strongly advised. See: https://urllib3.readthedocs.io/en/latest/advanced-usage.html#ssl-warnings\n",
            "  InsecureRequestWarning)\n"
          ],
          "name": "stderr"
        },
        {
          "output_type": "stream",
          "text": [
            "Valid url found: http://www.ov.ufrj.br/\n",
            "Valid url found: http://www.pu.ufrj.br/\n"
          ],
          "name": "stdout"
        },
        {
          "output_type": "stream",
          "text": [
            "/usr/local/lib/python3.6/dist-packages/urllib3/connectionpool.py:847: InsecureRequestWarning: Unverified HTTPS request is being made. Adding certificate verification is strongly advised. See: https://urllib3.readthedocs.io/en/latest/advanced-usage.html#ssl-warnings\n",
            "  InsecureRequestWarning)\n"
          ],
          "name": "stderr"
        },
        {
          "output_type": "stream",
          "text": [
            "Valid url found: http://www.lam.ufrj.br/\n",
            "Valid url found: http://www.ru.ufrj.br/\n"
          ],
          "name": "stdout"
        },
        {
          "output_type": "stream",
          "text": [
            "/usr/local/lib/python3.6/dist-packages/urllib3/connectionpool.py:847: InsecureRequestWarning: Unverified HTTPS request is being made. Adding certificate verification is strongly advised. See: https://urllib3.readthedocs.io/en/latest/advanced-usage.html#ssl-warnings\n",
            "  InsecureRequestWarning)\n"
          ],
          "name": "stderr"
        },
        {
          "output_type": "stream",
          "text": [
            "Valid url found: http://www.iq.ufrj.br/\n"
          ],
          "name": "stdout"
        },
        {
          "output_type": "stream",
          "text": [
            "/usr/local/lib/python3.6/dist-packages/urllib3/connectionpool.py:847: InsecureRequestWarning: Unverified HTTPS request is being made. Adding certificate verification is strongly advised. See: https://urllib3.readthedocs.io/en/latest/advanced-usage.html#ssl-warnings\n",
            "  InsecureRequestWarning)\n"
          ],
          "name": "stderr"
        },
        {
          "output_type": "stream",
          "text": [
            "Valid url found: http://www.ru.ufrj.br/\n",
            "Valid url found: http://www.me.ufrj.br/\n",
            "Valid url found: http://www.eq.ufrj.br/\n",
            "Valid url found: http://www.fe.ufrj.br/\n",
            "Valid url found: http://www.me.ufrj.br/\n",
            "Valid url found: http://www.ch.ufrj.br/\n",
            "Valid url found: http://www.me.ufrj.br/\n"
          ],
          "name": "stdout"
        },
        {
          "output_type": "stream",
          "text": [
            "/usr/local/lib/python3.6/dist-packages/urllib3/connectionpool.py:847: InsecureRequestWarning: Unverified HTTPS request is being made. Adding certificate verification is strongly advised. See: https://urllib3.readthedocs.io/en/latest/advanced-usage.html#ssl-warnings\n",
            "  InsecureRequestWarning)\n"
          ],
          "name": "stderr"
        },
        {
          "output_type": "stream",
          "text": [
            "Valid url found: http://www.if.ufrj.br/\n"
          ],
          "name": "stdout"
        },
        {
          "output_type": "stream",
          "text": [
            "/usr/local/lib/python3.6/dist-packages/urllib3/connectionpool.py:847: InsecureRequestWarning: Unverified HTTPS request is being made. Adding certificate verification is strongly advised. See: https://urllib3.readthedocs.io/en/latest/advanced-usage.html#ssl-warnings\n",
            "  InsecureRequestWarning)\n",
            "/usr/local/lib/python3.6/dist-packages/urllib3/connectionpool.py:847: InsecureRequestWarning: Unverified HTTPS request is being made. Adding certificate verification is strongly advised. See: https://urllib3.readthedocs.io/en/latest/advanced-usage.html#ssl-warnings\n",
            "  InsecureRequestWarning)\n"
          ],
          "name": "stderr"
        },
        {
          "output_type": "stream",
          "text": [
            "Valid url found: http://www.dri.ufrj.br/\n",
            "Valid url found: http://www.me.ufrj.br/\n"
          ],
          "name": "stdout"
        },
        {
          "output_type": "stream",
          "text": [
            "/usr/local/lib/python3.6/dist-packages/urllib3/connectionpool.py:847: InsecureRequestWarning: Unverified HTTPS request is being made. Adding certificate verification is strongly advised. See: https://urllib3.readthedocs.io/en/latest/advanced-usage.html#ssl-warnings\n",
            "  InsecureRequestWarning)\n"
          ],
          "name": "stderr"
        },
        {
          "output_type": "stream",
          "text": [
            "Valid url found: http://www.ov.ufrj.br/\n",
            "Valid url found: http://www.me.ufrj.br/\n"
          ],
          "name": "stdout"
        },
        {
          "output_type": "stream",
          "text": [
            "/usr/local/lib/python3.6/dist-packages/urllib3/connectionpool.py:847: InsecureRequestWarning: Unverified HTTPS request is being made. Adding certificate verification is strongly advised. See: https://urllib3.readthedocs.io/en/latest/advanced-usage.html#ssl-warnings\n",
            "  InsecureRequestWarning)\n"
          ],
          "name": "stderr"
        },
        {
          "output_type": "stream",
          "text": [
            "Valid url found: http://www.ov.ufrj.br/\n"
          ],
          "name": "stdout"
        },
        {
          "output_type": "stream",
          "text": [
            "/usr/local/lib/python3.6/dist-packages/urllib3/connectionpool.py:847: InsecureRequestWarning: Unverified HTTPS request is being made. Adding certificate verification is strongly advised. See: https://urllib3.readthedocs.io/en/latest/advanced-usage.html#ssl-warnings\n",
            "  InsecureRequestWarning)\n"
          ],
          "name": "stderr"
        },
        {
          "output_type": "stream",
          "text": [
            "Valid url found: http://www.iq.ufrj.br/\n",
            "Valid url found: http://www.me.ufrj.br/\n"
          ],
          "name": "stdout"
        },
        {
          "output_type": "stream",
          "text": [
            "/usr/local/lib/python3.6/dist-packages/urllib3/connectionpool.py:847: InsecureRequestWarning: Unverified HTTPS request is being made. Adding certificate verification is strongly advised. See: https://urllib3.readthedocs.io/en/latest/advanced-usage.html#ssl-warnings\n",
            "  InsecureRequestWarning)\n"
          ],
          "name": "stderr"
        },
        {
          "output_type": "stream",
          "text": [
            "Valid url found: http://www.ov.ufrj.br/\n",
            "\n",
            "CPU times: user 1min 25s, sys: 11.1 s, total: 1min 36s\n",
            "Wall time: 1h 34min 45s\n"
          ],
          "name": "stdout"
        }
      ]
    },
    {
      "cell_type": "code",
      "metadata": {
        "id": "RQwoSmQu4p3X",
        "colab_type": "code",
        "colab": {}
      },
      "source": [
        "# add 1 to 0 to make log(1) = 0\n",
        "j_list[0] = 1"
      ],
      "execution_count": null,
      "outputs": []
    },
    {
      "cell_type": "code",
      "metadata": {
        "id": "3V60EKOVdSit",
        "colab_type": "code",
        "colab": {
          "base_uri": "https://localhost:8080/",
          "height": 187
        },
        "outputId": "bcbbbde8-9263-46dc-dc61-687ddb47fab8"
      },
      "source": [
        "j_list"
      ],
      "execution_count": null,
      "outputs": [
        {
          "output_type": "execute_result",
          "data": {
            "text/plain": [
              "[1,\n",
              " 3419.0935251798564,\n",
              " 1710.3157894736842,\n",
              " 2280.7630473905215,\n",
              " 2672.9696287964002,\n",
              " 2993.8606911447087,\n",
              " 1782.1133943302834,\n",
              " 1894.172537927488,\n",
              " 1871.2892338845763,\n",
              " 2376.27]"
            ]
          },
          "metadata": {
            "tags": []
          },
          "execution_count": 43
        }
      ]
    },
    {
      "cell_type": "code",
      "metadata": {
        "id": "pVZn4Pui_1FZ",
        "colab_type": "code",
        "colab": {
          "base_uri": "https://localhost:8080/",
          "height": 513
        },
        "outputId": "37a9ee37-d28d-47dd-8b96-58ac647a0380"
      },
      "source": [
        "plt.figure(figsize=(12,8))\n",
        "plt.title(\"UFRJ valid domains on log-log\")\n",
        "plt.ylabel(\"Log of the number of valid domains\")\n",
        "plt.xlabel(\"Log of the number of samples\")\n",
        "plt.plot(np.log(n_list),np.log(j_list))\n",
        "plt.grid()\n",
        "plt.show()"
      ],
      "execution_count": null,
      "outputs": [
        {
          "output_type": "display_data",
          "data": {
            "image/png": "[encoded data removed]",
            "text/plain": [
              "<Figure size 864x576 with 1 Axes>"
            ]
          },
          "metadata": {
            "tags": [],
            "needs_background": "light"
          }
        }
      ]
    },
    {
      "cell_type": "code",
      "metadata": {
        "id": "dhVBIkn6dRb7",
        "colab_type": "code",
        "colab": {}
      },
      "source": [
        ""
      ],
      "execution_count": null,
      "outputs": []
    },
    {
      "cell_type": "markdown",
      "metadata": {
        "id": "pEvfK5-qtObu",
        "colab_type": "text"
      },
      "source": [
        "## Rejection Sampling"
      ]
    },
    {
      "cell_type": "code",
      "metadata": {
        "id": "Gi1rwzWUtRSk",
        "colab_type": "code",
        "colab": {}
      },
      "source": [
        "def q_Z(z):\n",
        "    \"\"\"\n",
        "    Normal distribution function\n",
        "\n",
        "    Parameters\n",
        "    ----------\n",
        "    z : float\n",
        "        Random sample\n",
        "\n",
        "    Returns\n",
        "    -------\n",
        "     y: float\n",
        "        Normal value on z\n",
        "\n",
        "    \"\"\"\n",
        "    y = (1/(np.sqrt(2*np.pi))*np.e**((-z**2)/2))\n",
        "    return y"
      ],
      "execution_count": null,
      "outputs": []
    },
    {
      "cell_type": "code",
      "metadata": {
        "id": "XAK67FscpE7Z",
        "colab_type": "code",
        "colab": {}
      },
      "source": [
        "def p_Z(z):\n",
        "    \"\"\"\n",
        "    Uniform distribution on 1\n",
        "    (what is uniform is the choice\n",
        "    of z, the value of the function\n",
        "    is 1)\n",
        "\n",
        "    Parameters\n",
        "    ----------\n",
        "    z : float\n",
        "        Random sample\n",
        "\n",
        "    Returns\n",
        "    -------\n",
        "    z/z : float\n",
        "        Return 1 with the dimension\n",
        "        of the variable z\n",
        "\n",
        "    \"\"\"\n",
        "    # to return 1\n",
        "    return z/z\n"
      ],
      "execution_count": null,
      "outputs": []
    },
    {
      "cell_type": "code",
      "metadata": {
        "id": "gasC5ODmVEjZ",
        "colab_type": "code",
        "colab": {}
      },
      "source": [
        "def Z(a,b):\n",
        "    \"\"\"\n",
        "    Distribution used to generate z\n",
        "    here i use a uniform distribution\n",
        "\n",
        "    Parameters\n",
        "    -------\n",
        "    a : int\n",
        "        Lower limit for uniform of z\n",
        "    b : int\n",
        "        Upper limit for uniform of z\n",
        "    \n",
        "    Returns\n",
        "    -------\n",
        "    z : float\n",
        "        Random sample\n",
        "\n",
        "    \"\"\"\n",
        "    z = np.random.uniform(a,b)\n",
        "    return z"
      ],
      "execution_count": null,
      "outputs": []
    },
    {
      "cell_type": "code",
      "metadata": {
        "id": "TGuAZ1vi9dZ2",
        "colab_type": "code",
        "colab": {}
      },
      "source": [
        "def rejection_sampling(n, a, b, c):\n",
        "    \"\"\"\n",
        "    Perform rejection sampling\n",
        "    to sample from a hard to sample\n",
        "    distribution q_z using a simple\n",
        "    uniform distribution of z \n",
        "    defined on 1.\n",
        "\n",
        "    Parameters\n",
        "    ----------\n",
        "    n : int\n",
        "        Number of samples\n",
        "    a : int\n",
        "        Lower limit for uniform of z\n",
        "    b : int\n",
        "        Upper limit for uniform of z\n",
        "    c : float\n",
        "        constant that is used to envelope q\n",
        "    \n",
        "    Returns\n",
        "    -------\n",
        "    samples : list\n",
        "        List of samples\n",
        "\n",
        "    \"\"\"\n",
        "    np.random.seed(1)\n",
        "    samples = []\n",
        "    # half of the samples are positive\n",
        "    for i in range(int(n/2)):\n",
        "        no_sample = False\n",
        "        while not no_sample:\n",
        "            z = Z(a, b)\n",
        "            u = np.random.uniform(0, c*p_Z(z))\n",
        "            no_sample = u < q_Z(z) \n",
        "        samples.append(z)\n",
        "    # half of the samples are negative\n",
        "    # work for symetric q_Z\n",
        "    negative_samples = [-i for i in samples]\n",
        "    samples.extend(negative_samples)\n",
        "    return samples"
      ],
      "execution_count": null,
      "outputs": []
    },
    {
      "cell_type": "code",
      "metadata": {
        "id": "tJ1iXbl086Xh",
        "colab_type": "code",
        "colab": {
          "base_uri": "https://localhost:8080/",
          "height": 34
        },
        "outputId": "9d5ac4d7-4933-417b-ab37-c9f992d73fdb"
      },
      "source": [
        "    # Normal max value on mean, mean=0\n",
        "    c = q_Z(0)\n",
        "    print(f\"c: {c}\")"
      ],
      "execution_count": null,
      "outputs": [
        {
          "output_type": "stream",
          "text": [
            "c: 0.3989422804014327\n"
          ],
          "name": "stdout"
        }
      ]
    },
    {
      "cell_type": "code",
      "metadata": {
        "id": "WjVVOcCd-L_2",
        "colab_type": "code",
        "colab": {}
      },
      "source": [
        "# Retrieving 100 samples\n",
        "samples = rejection_sampling(100, 0, 3, c)\n",
        "samples.sort()"
      ],
      "execution_count": null,
      "outputs": []
    },
    {
      "cell_type": "code",
      "metadata": {
        "id": "9OcG4v2bLdmK",
        "colab_type": "code",
        "colab": {
          "base_uri": "https://localhost:8080/",
          "height": 513
        },
        "outputId": "2e9fc451-910d-4b2e-8e54-429165ec2d7e"
      },
      "source": [
        "x = np.linspace(-3,3,100)\n",
        "plt.figure(figsize=(12,8))\n",
        "plt.title('Uniform enveloping a standard normal distribution')\n",
        "plt.ylabel('P[X=x]')\n",
        "plt.xlabel('x')\n",
        "plt.plot(x, p_Z(x)*c, label='Uniform')\n",
        "plt.plot(x, q_Z(x), label='Normal')\n",
        "samples = np.array(samples)\n",
        "plt.plot(samples, q_Z(samples), 'k--', label='Sampled Normal', alpha=0.7)\n",
        "plt.legend()\n",
        "plt.grid()\n",
        "plt.show()"
      ],
      "execution_count": null,
      "outputs": [
        {
          "output_type": "display_data",
          "data": {
            "image/png": "[encoded data removed]",
            "text/plain": [
              "<Figure size 864x576 with 1 Axes>"
            ]
          },
          "metadata": {
            "tags": [],
            "needs_background": "light"
          }
        }
      ]
    },
    {
      "cell_type": "code",
      "metadata": {
        "id": "XBzHxNzlVfPh",
        "colab_type": "code",
        "colab": {}
      },
      "source": [
        "def Z(a,b):\n",
        "    \"\"\"\n",
        "    Here i use an Exponential\n",
        "    distribution to find z\n",
        "\n",
        "    a,b parameters are here for \n",
        "    compatibility\n",
        "\n",
        "    We don't need them since we\n",
        "    are sampling from 0 to inf\n",
        "\n",
        "    Returns\n",
        "    -------\n",
        "     z: float\n",
        "        Random value with exponential\n",
        "        probability from 0 to inf\n",
        "\n",
        "    \"\"\"\n",
        "    z = np.random.exponential()\n",
        "    return z"
      ],
      "execution_count": null,
      "outputs": []
    },
    {
      "cell_type": "code",
      "metadata": {
        "id": "sArPn8d3V_Lo",
        "colab_type": "code",
        "colab": {}
      },
      "source": [
        "def p_Z(z):\n",
        "    \"\"\"\n",
        "    Exponential distribution to envelope\n",
        "    the Normal distribution using z\n",
        "\n",
        "    Parameters\n",
        "    ----------\n",
        "    z : float\n",
        "        Random sample\n",
        "\n",
        "    Returns\n",
        "    -------\n",
        "     y: float\n",
        "        Exponential value on z\n",
        "\n",
        "    \"\"\"\n",
        "    y = expon.pdf(z)\n",
        "    return y"
      ],
      "execution_count": null,
      "outputs": []
    },
    {
      "cell_type": "code",
      "metadata": {
        "id": "jNpv1yfFV2LB",
        "colab_type": "code",
        "colab": {}
      },
      "source": [
        "c = 1\n",
        "# Retrieving 10**6 samples using exponential\n",
        "samples = rejection_sampling(10**6, 1, 1, c)\n",
        "samples.sort()"
      ],
      "execution_count": null,
      "outputs": []
    },
    {
      "cell_type": "code",
      "metadata": {
        "id": "X0CHYqENTyS4",
        "colab_type": "code",
        "colab": {
          "base_uri": "https://localhost:8080/",
          "height": 513
        },
        "outputId": "d37750d4-c788-4b14-c6bc-0c38c6db6880"
      },
      "source": [
        "x = np.linspace(0,10,1000)\n",
        "plt.figure(figsize=(12,8))\n",
        "plt.title('Exponential enveloping a standard normal distribution')\n",
        "plt.ylabel('P[Z=z]')\n",
        "plt.xlabel('x')\n",
        "plt.plot(x, p_Z(x), c='r', label='Exponential')\n",
        "plt.plot(-x, p_Z(x), c='r')\n",
        "plt.plot(x, q_Z(x), c='g', label=\"Normal\")\n",
        "plt.plot(-x, q_Z(x), c='g')\n",
        "samples = np.array(samples)\n",
        "plt.plot(samples, q_Z(samples), 'k--', label='Sampled Normal')\n",
        "plt.grid()\n",
        "plt.legend()\n",
        "plt.show()"
      ],
      "execution_count": null,
      "outputs": [
        {
          "output_type": "display_data",
          "data": {
            "image/png": "[encoded data removed]",
            "text/plain": [
              "<Figure size 864x576 with 1 Axes>"
            ]
          },
          "metadata": {
            "tags": [],
            "needs_background": "light"
          }
        }
      ]
    },
    {
      "cell_type": "markdown",
      "metadata": {
        "id": "K-X4ST4zlsnd",
        "colab_type": "text"
      },
      "source": [
        "## Importance Sampling"
      ]
    },
    {
      "cell_type": "code",
      "metadata": {
        "id": "CTpc2TqOlvBN",
        "colab_type": "code",
        "colab": {}
      },
      "source": [
        "def g(i):\n",
        "    \"\"\"\n",
        "    Function to sample\n",
        "    \"\"\"\n",
        "    return i*np.log(i)\n",
        "\n",
        "def h(i,k):\n",
        "    \"\"\"\n",
        "    Distribution proportional to i\n",
        "    \"\"\"\n",
        "    return i/k\n",
        "\n",
        "def second_moment(N):\n",
        "    \"\"\"\n",
        "    Second moment of estimator\n",
        "    based on importance sampling\n",
        "\n",
        "    Parameters\n",
        "    ----------\n",
        "    N : int\n",
        "        Size of the summatory\n",
        "    \n",
        "    Returns\n",
        "    -------\n",
        "    second_moment : float\n",
        "        The second moment of \n",
        "        estimator using N\n",
        "\n",
        "    \"\"\"\n",
        "    second_moment = 0\n",
        "    k = (N*(N-1))/2\n",
        "    for i in range(1,N+1):\n",
        "        second_moment += (g(i)**2)/h(i,k)\n",
        "    return second_moment"
      ],
      "execution_count": null,
      "outputs": []
    },
    {
      "cell_type": "code",
      "metadata": {
        "id": "siLW0Jy0CgSd",
        "colab_type": "code",
        "colab": {
          "base_uri": "https://localhost:8080/",
          "height": 34
        },
        "outputId": "8db1c83a-8e80-4eb2-e45a-c2fd2287dc0c"
      },
      "source": [
        "second_moment(10**6)"
      ],
      "execution_count": null,
      "outputs": [
        {
          "output_type": "execute_result",
          "data": {
            "text/plain": [
              "4.438820868365481e+25"
            ]
          },
          "metadata": {
            "tags": []
          },
          "execution_count": 12
        }
      ]
    },
    {
      "cell_type": "code",
      "metadata": {
        "id": "39pmioNDNOv0",
        "colab_type": "code",
        "colab": {}
      },
      "source": [
        "def importance_sampling(N, list_samples):\n",
        "    \"\"\"\n",
        "    Monte Carlo Method used to sample \n",
        "    giving different importance to\n",
        "    each data on the sample space\n",
        "    this is used to try to reduce \n",
        "    the variance of the estimator\n",
        "\n",
        "    Parameters\n",
        "    ----------\n",
        "    N : int\n",
        "        Size of the summatory\n",
        "    \n",
        "    list_samples: list\n",
        "        List of the number of samples\n",
        "\n",
        "    Returns\n",
        "    -------\n",
        "    error_list: list\n",
        "        List of relative error of \n",
        "        the estimator\n",
        "    \"\"\"\n",
        "    k = (N*(N-1))/2\n",
        "    all_i = np.arange(1, N)\n",
        "    g_n = np.sum(g(all_i))\n",
        "    error_list = []\n",
        "    for number_samples in list_samples:\n",
        "        np.random.seed(1)\n",
        "        sampled_i = np.random.choice(all_i, p=h(all_i,k), size=number_samples)\n",
        "        g_hat = np.sum(g(sampled_i)/h(sampled_i,k))/number_samples\n",
        "        rel_error = abs(g_hat - g_n)/g_n\n",
        "        error_list.append(rel_error)\n",
        "    return error_list"
      ],
      "execution_count": null,
      "outputs": []
    },
    {
      "cell_type": "code",
      "metadata": {
        "id": "dmPMzSZuN0-j",
        "colab_type": "code",
        "colab": {
          "base_uri": "https://localhost:8080/",
          "height": 51
        },
        "outputId": "c887d2b8-ff61-46e4-abb8-7bcbf77cc9f8"
      },
      "source": [
        "%%time\n",
        "# 10 points from 1 to 10**7\n",
        "n_list = np.linspace(1, 10**7, 100, dtype=np.int32)\n",
        "error_list = importance_sampling(10**6, n_list)"
      ],
      "execution_count": null,
      "outputs": [
        {
          "output_type": "stream",
          "text": [
            "CPU times: user 2min 58s, sys: 212 ms, total: 2min 58s\n",
            "Wall time: 2min 58s\n"
          ],
          "name": "stdout"
        }
      ]
    },
    {
      "cell_type": "code",
      "metadata": {
        "id": "Bl_Otxk1SpyT",
        "colab_type": "code",
        "colab": {
          "base_uri": "https://localhost:8080/",
          "height": 515
        },
        "outputId": "d20e54d6-ac47-4936-981a-ec33cd3976e3"
      },
      "source": [
        "plt.figure(figsize=(12,8))\n",
        "plt.title(\"Relative error of $G_N$ over samples on log-log\")\n",
        "plt.ylabel(\"Log of relative error\")\n",
        "plt.xlabel(\"Log of number of samples\")\n",
        "plt.plot(np.log(n_list), np.log(error_list))\n",
        "plt.grid()\n",
        "plt.show()"
      ],
      "execution_count": null,
      "outputs": [
        {
          "output_type": "display_data",
          "data": {
            "image/png": "[encoded data removed]",
            "text/plain": [
              "<Figure size 864x576 with 1 Axes>"
            ]
          },
          "metadata": {
            "tags": [],
            "needs_background": "light"
          }
        }
      ]
    },
    {
      "cell_type": "markdown",
      "metadata": {
        "id": "POU4i5xu2mx_",
        "colab_type": "text"
      },
      "source": [
        "## Monte carlo Integration"
      ]
    },
    {
      "cell_type": "code",
      "metadata": {
        "id": "IPEjaJlaqfYY",
        "colab_type": "code",
        "colab": {}
      },
      "source": [
        "def f(x, alpha):\n",
        "    \"\"\"\n",
        "    f(x) = x^alpha\n",
        "    \"\"\"\n",
        "    return x**alpha"
      ],
      "execution_count": null,
      "outputs": []
    },
    {
      "cell_type": "code",
      "metadata": {
        "id": "JWr_bkT4ggrV",
        "colab_type": "code",
        "colab": {}
      },
      "source": [
        "def monte_carlo_integration(alpha, a, b, n_list):\n",
        "    \"\"\"\n",
        "    Perform monte carlo algorithm to find\n",
        "    integration of x^alpha from a to b.\n",
        "\n",
        "    Parameters\n",
        "    ----------\n",
        "    alpha : float\n",
        "        Power of x\n",
        "    a : float\n",
        "        Lower bound of integration\n",
        "    b : float\n",
        "        Upper bound of integration\n",
        "    n_list : list\n",
        "        List of number of samples\n",
        "    \n",
        "    Returns\n",
        "    -------\n",
        "    g_hat : float\n",
        "        Simulated integration value\n",
        "    \n",
        "    g : float\n",
        "        Numerically solved integral\n",
        "    \n",
        "    relative_error_list : list\n",
        "        Relative error list between \n",
        "        g_hat and g\n",
        "\n",
        "    \"\"\"\n",
        "    np.random.seed(1)\n",
        "    relative_error_list = []\n",
        "    for n in n_list:\n",
        "        x = np.random.uniform(low=a,high=b,size=(n))\n",
        "        M_n = f(x, alpha).sum()/n\n",
        "        g_hat = (b-a)*M_n\n",
        "        g = integrate(f,a,b,args=alpha)[0]\n",
        "        relative_error = abs(g_hat - g)/g\n",
        "        relative_error_list.append(relative_error)\n",
        "\n",
        "\n",
        "    return g_hat,g,relative_error_list\n",
        "    "
      ],
      "execution_count": null,
      "outputs": []
    },
    {
      "cell_type": "code",
      "metadata": {
        "id": "K0LyIBD6p3lH",
        "colab_type": "code",
        "colab": {
          "base_uri": "https://localhost:8080/",
          "height": 34
        },
        "outputId": "b0b60bf3-e1f8-4e3d-e9d7-7ae674de672b"
      },
      "source": [
        "monte_carlo_integration(1,0,1,[10**5])"
      ],
      "execution_count": null,
      "outputs": [
        {
          "output_type": "execute_result",
          "data": {
            "text/plain": [
              "(0.49921911340158587, 0.5, [0.0015617731968282644])"
            ]
          },
          "metadata": {
            "tags": []
          },
          "execution_count": 5
        }
      ]
    },
    {
      "cell_type": "code",
      "metadata": {
        "id": "5Ofv0z8BpFuo",
        "colab_type": "code",
        "colab": {
          "base_uri": "https://localhost:8080/",
          "height": 547
        },
        "outputId": "f6709c65-ed68-4753-898b-34eafefda752"
      },
      "source": [
        "%%time\n",
        "# 1000 points between 1 and 10^6\n",
        "n_list = np.linspace(1, 10**6, num=1000, dtype=np.int32)\n",
        "a = 0\n",
        "b_list = [1,2,4]\n",
        "alpha_list = [1,2,3]\n",
        "\n",
        "plt.figure(figsize=(12,8))\n",
        "plt.title('M.C. Integration using different parameters')\n",
        "plt.ylabel('Relative error in base 10 log')\n",
        "plt.xlabel('Number of samples in base 10 log')\n",
        "for alpha in alpha_list:\n",
        "    for b in b_list:\n",
        "        _,_,error_list = monte_carlo_integration(alpha,a,b, n_list)\n",
        "        # plot each error of combination of parameters\n",
        "        # log-log plot using base 10\n",
        "        plt.plot(np.log10(n_list),                \n",
        "                np.log10(error_list),\n",
        "                label=f'a:{str(a)}, b:{str(b)}, alpha:{str(alpha)}')\n",
        "plt.legend()\n",
        "plt.show()\n",
        "\n"
      ],
      "execution_count": null,
      "outputs": [
        {
          "output_type": "display_data",
          "data": {
            "image/png": "[encoded data removed]",
            "text/plain": [
              "<Figure size 864x576 with 1 Axes>"
            ]
          },
          "metadata": {
            "tags": [],
            "needs_background": "light"
          }
        },
        {
          "output_type": "stream",
          "text": [
            "CPU times: user 2min 33s, sys: 990 ms, total: 2min 34s\n",
            "Wall time: 2min 34s\n"
          ],
          "name": "stdout"
        }
      ]
    },
    {
      "cell_type": "markdown",
      "metadata": {
        "id": "NYqOnGrrWrEP",
        "colab_type": "text"
      },
      "source": [
        "## Random Permutation Sampling"
      ]
    },
    {
      "cell_type": "code",
      "metadata": {
        "id": "OvecYnc2mSXD",
        "colab_type": "code",
        "colab": {}
      },
      "source": [
        "def random_permutation(n, k_list):\n",
        "    \"\"\"\n",
        "    Perform random permutation using\n",
        "    Knuth shuffle algoritm.\n",
        "\n",
        "    Parameters\n",
        "    ----------\n",
        "    n : int\n",
        "        Number of objects.\n",
        "    k_list : list\n",
        "        List of k, k is the \n",
        "        number of selected\n",
        "        objects.\n",
        "    \n",
        "    Returns\n",
        "    -------\n",
        "    time_list : list\n",
        "        List of average time elapsed\n",
        "        during rounds using each k.\n",
        "    \"\"\"\n",
        "    # number of rounds\n",
        "    num_rounds = 10**3\n",
        "    time_list = []\n",
        "    elapsed_time = 0\n",
        "    # Create a vector to permute\n",
        "    original_vector = np.arange(n, dtype=np.int32)\n",
        "    inner_original_vector = original_vector.copy()\n",
        "    for k in tqdm(k_list):\n",
        "        for r in range(num_rounds):\n",
        "            start_time = time.time()\n",
        "            permutation_vector = []\n",
        "            # Select k objects\n",
        "            for i in range(k):\n",
        "                index = int(np.random.uniform(0,n-i))\n",
        "                selected_element = inner_original_vector[index]\n",
        "                # change with last position not used\n",
        "                inner_original_vector[index] = inner_original_vector[-1-i]\n",
        "                # set last position with selected element\n",
        "                inner_original_vector[-1-i] = selected_element\n",
        "                permutation_vector.append(selected_element)\n",
        "            finish_time = time.time()\n",
        "            elapsed_time += (finish_time - start_time)\n",
        "\n",
        "        mean_elapsed_time = elapsed_time/num_rounds\n",
        "        time_list.append(mean_elapsed_time)\n",
        "    \n",
        "    return time_list"
      ],
      "execution_count": null,
      "outputs": []
    },
    {
      "cell_type": "code",
      "metadata": {
        "id": "xyiXr3ieqbTr",
        "colab_type": "code",
        "colab": {}
      },
      "source": [
        "n_list = [10**4, 10**6, 10**8]\n",
        "k_list = [10, 10**2, 10**3, 10**4]"
      ],
      "execution_count": null,
      "outputs": []
    },
    {
      "cell_type": "code",
      "metadata": {
        "id": "0U7zX0gdqdHL",
        "colab_type": "code",
        "colab": {
          "base_uri": "https://localhost:8080/",
          "height": 660,
          "referenced_widgets": [
            "18151d86889d40d6877104e3590bba07",
            "8e91afe2713b4d5283b2058db2dbf58e",
            "07a2bbf3cdd54c3a81ad2dc622956252",
            "3be9eaa6fbaf45fe93b5a7a6bdef457f",
            "cd069efee9714d05bd07073d622500ea",
            "3d096448619f4e5c8414acfdab730b16",
            "be16f1ec3e474208af83d8e43d54dd1a",
            "3052e9f3e6de40d09a152bafd18bffcb",
            "098962b841db49a3ae875486c08363e3",
            "a4ef8e3f6c8e4d039b7f0e5739b13c3c",
            "249e0340dc954c548426bd3fb11649a9",
            "df911f0854a44ed4b8c58489c1e15c46",
            "212a9cf16d8e4ca389502703e9215389",
            "788308982f4949f4bbaa5cabc9715aff",
            "61026b749ff14d7f8770e0bd6b11921c",
            "2f418f6ba2fa461682de609860c835e5",
            "561aa05696814f61a010b5f64045e7d9",
            "3381ebff43e942ce975e3659af61d7e1",
            "88b94d0b2af741b784f3a96ffea33feb",
            "3b1454ed61cc45e88e02f9c03d4e4a84",
            "c9c5b84f8b4e4b6fb176e5a5db787439",
            "9445cb593d044584b27a391f43e9f6ab",
            "bed14453abd44819b527aac23414a8d1",
            "98c9136a06834bdbbd06f4c5b183dc32"
          ]
        },
        "outputId": "ce0360f0-543d-4daf-d388-834654c2c4d5"
      },
      "source": [
        "plt.figure(figsize=(12,8))\n",
        "plt.title('Time executing Knuth Shuffle Algorithm')\n",
        "plt.ylabel('Average Time each 1000 rounds')\n",
        "plt.xlabel('k selected objects')\n",
        "for n in n_list:\n",
        "    time_list = random_permutation(n, k_list)\n",
        "    plt.plot(k_list,time_list, label=f'N: {n}')\n",
        "plt.grid()\n",
        "plt.legend()\n",
        "plt.show()"
      ],
      "execution_count": null,
      "outputs": [
        {
          "output_type": "display_data",
          "data": {
            "application/vnd.jupyter.widget-view+json": {
              "model_id": "18151d86889d40d6877104e3590bba07",
              "version_minor": 0,
              "version_major": 2
            },
            "text/plain": [
              "HBox(children=(FloatProgress(value=0.0, max=4.0), HTML(value='')))"
            ]
          },
          "metadata": {
            "tags": []
          }
        },
        {
          "output_type": "stream",
          "text": [
            "\n"
          ],
          "name": "stdout"
        },
        {
          "output_type": "display_data",
          "data": {
            "application/vnd.jupyter.widget-view+json": {
              "model_id": "098962b841db49a3ae875486c08363e3",
              "version_minor": 0,
              "version_major": 2
            },
            "text/plain": [
              "HBox(children=(FloatProgress(value=0.0, max=4.0), HTML(value='')))"
            ]
          },
          "metadata": {
            "tags": []
          }
        },
        {
          "output_type": "stream",
          "text": [
            "\n"
          ],
          "name": "stdout"
        },
        {
          "output_type": "display_data",
          "data": {
            "application/vnd.jupyter.widget-view+json": {
              "model_id": "561aa05696814f61a010b5f64045e7d9",
              "version_minor": 0,
              "version_major": 2
            },
            "text/plain": [
              "HBox(children=(FloatProgress(value=0.0, max=4.0), HTML(value='')))"
            ]
          },
          "metadata": {
            "tags": []
          }
        },
        {
          "output_type": "stream",
          "text": [
            "\n"
          ],
          "name": "stdout"
        },
        {
          "output_type": "display_data",
          "data": {
            "image/png": "[encoded data removed]",
            "text/plain": [
              "<Figure size 864x576 with 1 Axes>"
            ]
          },
          "metadata": {
            "tags": [],
            "needs_background": "light"
          }
        }
      ]
    },
    {
      "cell_type": "code",
      "metadata": {
        "id": "vhjGkb7p-fYN",
        "colab_type": "code",
        "colab": {}
      },
      "source": [
        ""
      ],
      "execution_count": null,
      "outputs": []
    }
  ]
}