{
  "cells": [
    {
      "cell_type": "markdown",
      "metadata": {
        "id": "MDCr_iTxPnee",
        "colab_type": "text"
      },
      "source": [
        "## Queries"
      ]
    },
    {
      "cell_type": "code",
      "metadata": {
        "id": "9FBjhY0kPnHi",
        "colab_type": "code",
        "colab": {}
      },
      "source": [
        "import ast\n",
        "import configparser\n",
        "import json\n",
        "import pandas as pd\n",
        "import numpy as np\n",
        "from collections import Counter\n",
        "from lxml import etree\n",
        "from nltk.corpus import stopwords\n",
        "from nltk.tokenize import RegexpTokenizer\n",
        "from pathlib import Path"
      ],
      "execution_count": 1,
      "outputs": []
    },
    {
      "cell_type": "code",
      "metadata": {
        "id": "cS_UscnYQJAA",
        "colab_type": "code",
        "colab": {}
      },
      "source": [
        "config = configparser.ConfigParser()\n",
        "config['PC']= {'LEIA' : 'Homework_XML/data/cfquery.xml'}\n",
        "config['PC']['CONSULTAS'] =  '/RESULT/query.csv'\n",
        "config['PC']['ESPERADOS'] =  '/RESULT/expected.csv'\n",
        "with open('PC.CFG','w') as configfile:\n",
        "    config.write(configfile)"
      ],
      "execution_count": 2,
      "outputs": []
    },
    {
      "cell_type": "code",
      "metadata": {
        "id": "g0Ph1hoztI37",
        "colab_type": "code",
        "colab": {
          "base_uri": "https://localhost:8080/",
          "height": 34
        },
        "outputId": "881f869f-eb56-4d35-ccf6-41141b8df043"
      },
      "source": [
        "config = configparser.ConfigParser()\n",
        "config.read('PC.CFG')"
      ],
      "execution_count": null,
      "outputs": [
        {
          "output_type": "execute_result",
          "data": {
            "text/plain": [
              "['PC.CFG']"
            ]
          },
          "metadata": {
            "tags": []
          },
          "execution_count": 456
        }
      ]
    },
    {
      "cell_type": "code",
      "metadata": {
        "id": "AEhZbFeatK8c",
        "colab_type": "code",
        "colab": {
          "base_uri": "https://localhost:8080/",
          "height": 68
        },
        "outputId": "af6ef190-0707-412d-a174-e57823b98bc6"
      },
      "source": [
        "print(config['PC'].get('LEIA'))\n",
        "print(config['PC'].get('CONSULTAS'))\n",
        "print(config['PC'].get('ESPERADOS'))"
      ],
      "execution_count": null,
      "outputs": [
        {
          "output_type": "stream",
          "text": [
            "Homework_XML/data/cfquery.xml\n",
            "query.csv\n",
            "expected.csv\n"
          ],
          "name": "stdout"
        }
      ]
    },
    {
      "cell_type": "code",
      "metadata": {
        "id": "I7bXikFiQJIV",
        "colab_type": "code",
        "colab": {
          "base_uri": "https://localhost:8080/",
          "height": 102
        },
        "outputId": "c6ae920a-19ba-4fc4-a87e-625041ee5940"
      },
      "source": [
        "!ls gabriel_vieira/Homework_XML/data/"
      ],
      "execution_count": null,
      "outputs": [
        {
          "output_type": "stream",
          "text": [
            " cf74.xml   cf79.xml\n",
            " cf75.xml   cfc-2.dtd\n",
            " cf76.xml   cfcquery-2.dtd\n",
            " cf77.xml   cfquery.xml\n",
            " cf78.xml  'Modern Information Retrieval - Cystic Fibrosis Collection.htm'\n"
          ],
          "name": "stdout"
        }
      ]
    },
    {
      "cell_type": "code",
      "metadata": {
        "id": "dyqNOOoUQJDL",
        "colab_type": "code",
        "colab": {
          "base_uri": "https://localhost:8080/",
          "height": 34
        },
        "outputId": "a0987b49-63c0-4de1-d583-473e47e699f2"
      },
      "source": [
        "file_path = config['PC'].get('LEIA')\n",
        "root = Path().resolve().parent\n",
        "# Remove above line to use anywhere\n",
        "root = 'gabriel_vieira/'\n",
        "full_path = root + file_path\n",
        "print(full_path)\n",
        "# load xml on a ElementTree\n",
        "tree = etree.parse(full_path)\n",
        "# # from anywhere on the document find all tags named QUERY\n",
        "queries = tree.findall('//QUERY')"
      ],
      "execution_count": null,
      "outputs": [
        {
          "output_type": "stream",
          "text": [
            "gabriel_vieira/Homework_XML/data/cfquery.xml\n"
          ],
          "name": "stdout"
        }
      ]
    },
    {
      "cell_type": "code",
      "metadata": {
        "id": "xH1RLATOwfoH",
        "colab_type": "code",
        "colab": {}
      },
      "source": [
        "# Create a set with stopwords with capital letters\n",
        "stop_words = [stop_word.upper() for stop_word in stopwords.words('english')]\n",
        "# Get only words with length greater than 2\n",
        "# and without any number\n",
        "tokenizer = RegexpTokenizer(r'([A-Za-z]{3,})')\n",
        "\n",
        "query_dict = {'query_number':[],'text':[]}\n",
        "expected_dict = {}\n",
        "\n",
        "for query in queries:\n",
        "    query_number = int(query.find('QueryNumber').text)\n",
        "    text = query.find('QueryText').text\n",
        "    word_list = tokenizer.tokenize(text.upper())\n",
        "    word_list = [word for word in word_list if word not in stop_words]\n",
        "    query_dict['query_number'].append(query_number)\n",
        "    query_dict['text'].append(word_list)\n",
        "\n",
        "    items = query.find('Records').findall('Item')\n",
        "    \n",
        "    expected_dict[query_number] = {'docs_result_list':[], 'score_result_list':[]}\n",
        "    # Giving less importance to author colleagues\n",
        "    for item in items:\n",
        "        # Score string\n",
        "        score = item.values()[0]\n",
        "        # Author weight\n",
        "        auth = int(score[0]) * 2\n",
        "        # Author colleagues weight\n",
        "        auth_col = int(score[1])\n",
        "        # Author Posdoc colleagues weight\n",
        "        auth_pos = int(score[2]) * 2\n",
        "        # Another Authors\n",
        "        auth_ano = int(score[3]) * 2\n",
        "        final_score = (auth + auth_col + auth_pos + auth_ano)/4\n",
        "        # Document number\n",
        "        doc_num = int(item.text)\n",
        "            \n",
        "        expected_dict[query_number]['docs_result_list'].append(doc_num)\n",
        "        expected_dict[query_number]['score_result_list'].append(final_score)\n",
        "\n",
        "    score_list = expected_dict[query_number]['score_result_list']\n",
        "    # To make scalar operations on list\n",
        "    score_array = np.array(score_list)\n",
        "    # Reduce score into probability\n",
        "    normalized_score_array = score_array/score_array.sum()\n",
        "    expected_dict[query_number]['score_result_list'] = list(normalized_score_array)"
      ],
      "execution_count": null,
      "outputs": []
    },
    {
      "cell_type": "code",
      "metadata": {
        "id": "hsPR_d0_wnAl",
        "colab_type": "code",
        "colab": {
          "base_uri": "https://localhost:8080/",
          "height": 204
        },
        "outputId": "6c76aac7-4561-432e-b642-d6c7604f44c7"
      },
      "source": [
        "query_numbers = list(expected_dict.keys())\n",
        "docs_info =  list(expected_dict.values())\n",
        "expected_dict_for_df = {'query_numbers': [], 'doc_number_list':[],'doc_score_list':[]}\n",
        "for query_number,doc_info in zip(query_numbers, docs_info):\n",
        "    expected_dict_for_df['query_numbers'].append(query_number)\n",
        "    expected_dict_for_df['doc_number_list'].append(doc_info['docs_result_list'])\n",
        "    expected_dict_for_df['doc_score_list'].append(doc_info['score_result_list'])\n",
        "    \n",
        "expected_df = pd.DataFrame(expected_dict_for_df)\n",
        "expected_df.head()"
      ],
      "execution_count": null,
      "outputs": [
        {
          "output_type": "execute_result",
          "data": {
            "text/html": [
              "<div>\n",
              "<style scoped>\n",
              "    .dataframe tbody tr th:only-of-type {\n",
              "        vertical-align: middle;\n",
              "    }\n",
              "\n",
              "    .dataframe tbody tr th {\n",
              "        vertical-align: top;\n",
              "    }\n",
              "\n",
              "    .dataframe thead th {\n",
              "        text-align: right;\n",
              "    }\n",
              "</style>\n",
              "<table border=\"1\" class=\"dataframe\">\n",
              "  <thead>\n",
              "    <tr style=\"text-align: right;\">\n",
              "      <th></th>\n",
              "      <th>query_numbers</th>\n",
              "      <th>doc_number_list</th>\n",
              "      <th>doc_score_list</th>\n",
              "    </tr>\n",
              "  </thead>\n",
              "  <tbody>\n",
              "    <tr>\n",
              "      <th>0</th>\n",
              "      <td>1</td>\n",
              "      <td>[139, 151, 166, 311, 370, 392, 439, 440, 441, ...</td>\n",
              "      <td>[0.08759124087591241, 0.072992700729927, 0.014...</td>\n",
              "    </tr>\n",
              "    <tr>\n",
              "      <th>1</th>\n",
              "      <td>2</td>\n",
              "      <td>[169, 434, 454, 498, 499, 592, 875]</td>\n",
              "      <td>[0.09523809523809523, 0.19047619047619047, 0.0...</td>\n",
              "    </tr>\n",
              "    <tr>\n",
              "      <th>2</th>\n",
              "      <td>3</td>\n",
              "      <td>[23, 40, 139, 190, 221, 246, 309, 311, 325, 34...</td>\n",
              "      <td>[0.012422360248447204, 0.012422360248447204, 0...</td>\n",
              "    </tr>\n",
              "    <tr>\n",
              "      <th>3</th>\n",
              "      <td>4</td>\n",
              "      <td>[503, 538, 539, 540, 553, 604, 669, 711, 876]</td>\n",
              "      <td>[0.038461538461538464, 0.019230769230769232, 0...</td>\n",
              "    </tr>\n",
              "    <tr>\n",
              "      <th>4</th>\n",
              "      <td>5</td>\n",
              "      <td>[23, 47, 50, 60, 114, 132, 135, 139, 151, 169,...</td>\n",
              "      <td>[0.01773049645390071, 0.02127659574468085, 0.0...</td>\n",
              "    </tr>\n",
              "  </tbody>\n",
              "</table>\n",
              "</div>"
            ],
            "text/plain": [
              "   query_numbers  ...                                     doc_score_list\n",
              "0              1  ...  [0.08759124087591241, 0.072992700729927, 0.014...\n",
              "1              2  ...  [0.09523809523809523, 0.19047619047619047, 0.0...\n",
              "2              3  ...  [0.012422360248447204, 0.012422360248447204, 0...\n",
              "3              4  ...  [0.038461538461538464, 0.019230769230769232, 0...\n",
              "4              5  ...  [0.01773049645390071, 0.02127659574468085, 0.0...\n",
              "\n",
              "[5 rows x 3 columns]"
            ]
          },
          "metadata": {
            "tags": []
          },
          "execution_count": 461
        }
      ]
    },
    {
      "cell_type": "code",
      "metadata": {
        "id": "nU-IKCj7XvMT",
        "colab_type": "code",
        "colab": {
          "base_uri": "https://localhost:8080/",
          "height": 204
        },
        "outputId": "c478d827-065f-4dc5-8c8d-d9787ca3fe03"
      },
      "source": [
        "query_df = pd.DataFrame(query_dict)   \n",
        "query_df.head()"
      ],
      "execution_count": null,
      "outputs": [
        {
          "output_type": "execute_result",
          "data": {
            "text/html": [
              "<div>\n",
              "<style scoped>\n",
              "    .dataframe tbody tr th:only-of-type {\n",
              "        vertical-align: middle;\n",
              "    }\n",
              "\n",
              "    .dataframe tbody tr th {\n",
              "        vertical-align: top;\n",
              "    }\n",
              "\n",
              "    .dataframe thead th {\n",
              "        text-align: right;\n",
              "    }\n",
              "</style>\n",
              "<table border=\"1\" class=\"dataframe\">\n",
              "  <thead>\n",
              "    <tr style=\"text-align: right;\">\n",
              "      <th></th>\n",
              "      <th>query_number</th>\n",
              "      <th>text</th>\n",
              "    </tr>\n",
              "  </thead>\n",
              "  <tbody>\n",
              "    <tr>\n",
              "      <th>0</th>\n",
              "      <td>1</td>\n",
              "      <td>[EFFECTS, CALCIUM, PHYSICAL, PROPERTIES, MUCUS...</td>\n",
              "    </tr>\n",
              "    <tr>\n",
              "      <th>1</th>\n",
              "      <td>2</td>\n",
              "      <td>[ONE, DISTINGUISH, EFFECTS, MUCUS, HYPERSECRET...</td>\n",
              "    </tr>\n",
              "    <tr>\n",
              "      <th>2</th>\n",
              "      <td>3</td>\n",
              "      <td>[SALIVARY, GLYCOPROTEINS, PATIENTS, DIFFERENT,...</td>\n",
              "    </tr>\n",
              "    <tr>\n",
              "      <th>3</th>\n",
              "      <td>4</td>\n",
              "      <td>[LIPID, COMPOSITION, RESPIRATORY, SECRETIONS]</td>\n",
              "    </tr>\n",
              "    <tr>\n",
              "      <th>4</th>\n",
              "      <td>5</td>\n",
              "      <td>[MUCUS, ABNORMAL]</td>\n",
              "    </tr>\n",
              "  </tbody>\n",
              "</table>\n",
              "</div>"
            ],
            "text/plain": [
              "   query_number                                               text\n",
              "0             1  [EFFECTS, CALCIUM, PHYSICAL, PROPERTIES, MUCUS...\n",
              "1             2  [ONE, DISTINGUISH, EFFECTS, MUCUS, HYPERSECRET...\n",
              "2             3  [SALIVARY, GLYCOPROTEINS, PATIENTS, DIFFERENT,...\n",
              "3             4      [LIPID, COMPOSITION, RESPIRATORY, SECRETIONS]\n",
              "4             5                                  [MUCUS, ABNORMAL]"
            ]
          },
          "metadata": {
            "tags": []
          },
          "execution_count": 462
        }
      ]
    },
    {
      "cell_type": "code",
      "metadata": {
        "id": "VSLYX7wwYqVc",
        "colab_type": "code",
        "colab": {}
      },
      "source": [
        "query_file = config['PC'].get('CONSULTAS')\n",
        "expected_file = config['PC'].get('ESPERADOS')\n",
        "query_df.to_csv(query_file, sep=';', index=False)\n",
        "expected_df.to_csv(expected_file, sep=';', index=False)"
      ],
      "execution_count": null,
      "outputs": []
    },
    {
      "cell_type": "code",
      "metadata": {
        "id": "trZgXaGXQI-j",
        "colab_type": "code",
        "colab": {}
      },
      "source": [
        ""
      ],
      "execution_count": null,
      "outputs": []
    },
    {
      "cell_type": "code",
      "metadata": {
        "id": "DRCoOc2gPnTR",
        "colab_type": "code",
        "colab": {}
      },
      "source": [
        ""
      ],
      "execution_count": null,
      "outputs": []
    },
    {
      "cell_type": "markdown",
      "metadata": {
        "id": "r815VK32PftG",
        "colab_type": "text"
      },
      "source": [
        "## GLI"
      ]
    },
    {
      "cell_type": "code",
      "metadata": {
        "id": "bvQBOsRQYi-y",
        "colab_type": "code",
        "colab": {}
      },
      "source": [
        "import ast\n",
        "import configparser\n",
        "import json\n",
        "import pandas as pd\n",
        "from collections import Counter\n",
        "from lxml import etree\n",
        "from nltk.corpus import stopwords\n",
        "from nltk.tokenize import RegexpTokenizer\n",
        "from pathlib import Path"
      ],
      "execution_count": null,
      "outputs": []
    },
    {
      "cell_type": "code",
      "metadata": {
        "id": "oJusgNIqAyeR",
        "colab_type": "code",
        "colab": {
          "base_uri": "https://localhost:8080/",
          "height": 68
        },
        "outputId": "466417ca-4880-4788-fac0-381d072f0aa0"
      },
      "source": [
        "import nltk\n",
        "nltk.download('stopwords')"
      ],
      "execution_count": null,
      "outputs": [
        {
          "output_type": "stream",
          "text": [
            "[nltk_data] Downloading package stopwords to /root/nltk_data...\n",
            "[nltk_data]   Package stopwords is already up-to-date!\n"
          ],
          "name": "stdout"
        },
        {
          "output_type": "execute_result",
          "data": {
            "text/plain": [
              "True"
            ]
          },
          "metadata": {
            "tags": []
          },
          "execution_count": 465
        }
      ]
    },
    {
      "cell_type": "code",
      "metadata": {
        "id": "hPe0vsoBYvSz",
        "colab_type": "code",
        "colab": {}
      },
      "source": [
        "config = configparser.ConfigParser()\n",
        "config['GLI']= {'LEIA' : ['Homework_XML/data/cf74.xml', 'Homework_XML/data/cf79.xml', 'Homework_XML/data/cf75.xml','Homework_XML/data/cf76.xml','Homework_XML/data/cf77.xml','Homework_XML/data/cf78.xml']}\n",
        "config['GLI']['ESCREVA'] =  \"['inverted_index.csv', 'doc_index.csv']\"\n",
        "with open('GLI.CFG','w') as configfile:\n",
        "    config.write(configfile)"
      ],
      "execution_count": null,
      "outputs": []
    },
    {
      "cell_type": "code",
      "metadata": {
        "id": "heaQXSYumVY7",
        "colab_type": "code",
        "colab": {
          "base_uri": "https://localhost:8080/",
          "height": 105
        },
        "outputId": "5de2dc17-3fdf-4411-921e-2e54d5ee66f6"
      },
      "source": [
        "!cat GLI.CFG"
      ],
      "execution_count": null,
      "outputs": [
        {
          "output_type": "stream",
          "text": [
            "[GLI]\n",
            "leia = ['Homework_XML/data/cf74.xml', 'Homework_XML/data/cf79.xml', 'Homework_XML/data/cf75.xml', 'Homework_XML/data/cf76.xml', 'Homework_XML/data/cf77.xml', 'Homework_XML/data/cf78.xml']\n",
            "escreva = ['inverted_index.csv', 'doc_index.csv']\n",
            "\n"
          ],
          "name": "stdout"
        }
      ]
    },
    {
      "cell_type": "code",
      "metadata": {
        "id": "060tJi5vKJ6a",
        "colab_type": "code",
        "colab": {
          "base_uri": "https://localhost:8080/",
          "height": 34
        },
        "outputId": "753627be-38b8-4ed2-ea34-d6df2ffd74e1"
      },
      "source": [
        "config = configparser.ConfigParser()\n",
        "config.read('GLI.CFG')"
      ],
      "execution_count": null,
      "outputs": [
        {
          "output_type": "execute_result",
          "data": {
            "text/plain": [
              "['GLI.CFG']"
            ]
          },
          "metadata": {
            "tags": []
          },
          "execution_count": 468
        }
      ]
    },
    {
      "cell_type": "code",
      "metadata": {
        "id": "a1_t5JOudYet",
        "colab_type": "code",
        "colab": {
          "base_uri": "https://localhost:8080/",
          "height": 71
        },
        "outputId": "cb2d3fc7-10a6-459b-e9df-39509cb4d449"
      },
      "source": [
        "print(config['GLI'].get('LEIA'))\n",
        "print(config['GLI'].get('ESCREVA'))"
      ],
      "execution_count": null,
      "outputs": [
        {
          "output_type": "stream",
          "text": [
            "['Homework_XML/data/cf74.xml', 'Homework_XML/data/cf79.xml', 'Homework_XML/data/cf75.xml', 'Homework_XML/data/cf76.xml', 'Homework_XML/data/cf77.xml', 'Homework_XML/data/cf78.xml']\n",
            "['inverted_index.csv', 'doc_index.csv']\n"
          ],
          "name": "stdout"
        }
      ]
    },
    {
      "cell_type": "code",
      "metadata": {
        "id": "bhiK0SXxfy-4",
        "colab_type": "code",
        "colab": {}
      },
      "source": [
        "files_list_str = config['GLI'].get('LEIA')\n",
        "# Load list from string\n",
        "files_list = ast.literal_eval(files_list_str)"
      ],
      "execution_count": null,
      "outputs": []
    },
    {
      "cell_type": "code",
      "metadata": {
        "id": "O-C-RaOygcap",
        "colab_type": "code",
        "colab": {
          "base_uri": "https://localhost:8080/",
          "height": 119
        },
        "outputId": "82ccfbbd-2a5a-40e6-a19c-0754cf612a60"
      },
      "source": [
        "files_list"
      ],
      "execution_count": null,
      "outputs": [
        {
          "output_type": "execute_result",
          "data": {
            "text/plain": [
              "['Homework_XML/data/cf74.xml',\n",
              " 'Homework_XML/data/cf79.xml',\n",
              " 'Homework_XML/data/cf75.xml',\n",
              " 'Homework_XML/data/cf76.xml',\n",
              " 'Homework_XML/data/cf77.xml',\n",
              " 'Homework_XML/data/cf78.xml']"
            ]
          },
          "metadata": {
            "tags": []
          },
          "execution_count": 471
        }
      ]
    },
    {
      "cell_type": "code",
      "metadata": {
        "id": "bJ1e2Fnmhlc2",
        "colab_type": "code",
        "colab": {
          "base_uri": "https://localhost:8080/",
          "height": 119
        },
        "outputId": "dfbb3a80-2d92-4c6d-a900-e36b12953458"
      },
      "source": [
        "root = Path().resolve().parent\n",
        "# Remove above line to use anywhere\n",
        "root = 'gabriel_vieira/'\n",
        "\n",
        "docs_dict = {}\n",
        "# Create a set with stopwords with capital letters\n",
        "stop_words = set([stop_word.upper() for stop_word in stopwords.words('english')] )\n",
        "words = set()\n",
        "# Get only words with length greater than 2\n",
        "# and without any number\n",
        "tokenizer = RegexpTokenizer(r'([A-Za-z]{3,})')\n",
        "for file_path in files_list:\n",
        "    full_path = root + file_path\n",
        "    print(full_path)\n",
        "    # load xml on a ElementTree\n",
        "    tree = etree.parse(full_path)\n",
        "    # from anywhere on the document find all tags named RECORD\n",
        "    records = tree.findall('//RECORD')\n",
        "    for record in records:\n",
        "        # For each record find recordnum\n",
        "        # and check if there is abstract\n",
        "        # if not check extract\n",
        "        record_num = record.find('RECORDNUM')\n",
        "        record_num = int(record_num.text)\n",
        "        abstract = record.find('ABSTRACT')\n",
        "        if abstract is None:\n",
        "            extract = record.find('EXTRACT')\n",
        "            if extract is None:\n",
        "                continue\n",
        "            text = extract.text\n",
        "            word_list = tokenizer.tokenize(text.upper())\n",
        "            word_frequency = Counter(word_list)\n",
        "            # Check Stopwords present on counter and remove them\n",
        "            stop_words_present = set(word_frequency.keys()).intersection(stop_words)\n",
        "            for stop_word in stop_words_present:\n",
        "                del word_frequency[stop_word]\n",
        "            docs_dict[record_num] = dict(word_frequency)\n",
        "            \n",
        "            # Create a list only with unique words\n",
        "            words.update(word_list)\n",
        "            continue\n",
        "        text = abstract.text\n",
        "        word_list = tokenizer.tokenize(text.upper())\n",
        "        word_frequency = Counter(word_list)\n",
        "        # Check Stopwords present on counter and remove them\n",
        "        stop_words_present = set(word_frequency.keys()).intersection(stop_words)\n",
        "        for stop_word in stop_words_present:\n",
        "            del word_frequency[stop_word]\n",
        "        docs_dict[record_num] = dict(word_frequency)\n",
        " \n",
        "        # Create a list only with unique words\n",
        "        words.update(word_list)\n",
        "        \n",
        "# Remove all stopwords from the list of unique words\n",
        "words = words - stop_words\n",
        "# Make words be a list\n",
        "words = list(words)"
      ],
      "execution_count": null,
      "outputs": [
        {
          "output_type": "stream",
          "text": [
            "gabriel_vieira/Homework_XML/data/cf74.xml\n",
            "gabriel_vieira/Homework_XML/data/cf79.xml\n",
            "gabriel_vieira/Homework_XML/data/cf75.xml\n",
            "gabriel_vieira/Homework_XML/data/cf76.xml\n",
            "gabriel_vieira/Homework_XML/data/cf77.xml\n",
            "gabriel_vieira/Homework_XML/data/cf78.xml\n"
          ],
          "name": "stdout"
        }
      ]
    },
    {
      "cell_type": "code",
      "metadata": {
        "id": "Xh64WcqEslCZ",
        "colab_type": "code",
        "colab": {
          "base_uri": "https://localhost:8080/",
          "height": 51
        },
        "outputId": "81161223-2a4f-4adb-b0b3-917ed7313e69"
      },
      "source": [
        "print(f\"Number of docs: {len(docs_dict)}\")\n",
        "print(f\"Number of words: {len(words)}\")"
      ],
      "execution_count": null,
      "outputs": [
        {
          "output_type": "stream",
          "text": [
            "Number of docs: 1215\n",
            "Number of words: 9136\n"
          ],
          "name": "stdout"
        }
      ]
    },
    {
      "cell_type": "code",
      "metadata": {
        "id": "RjxsbM2BSNQH",
        "colab_type": "code",
        "colab": {
          "base_uri": "https://localhost:8080/",
          "height": 187
        },
        "outputId": "80608c09-2768-4335-c114-c3a2a0830095"
      },
      "source": [
        "words[:10]"
      ],
      "execution_count": null,
      "outputs": [
        {
          "output_type": "execute_result",
          "data": {
            "text/plain": [
              "['SUPPLY',\n",
              " 'ADAPTED',\n",
              " 'ACYL',\n",
              " 'REQUESTED',\n",
              " 'PROPORTIONAL',\n",
              " 'MATURING',\n",
              " 'BABY',\n",
              " 'ERADICATING',\n",
              " 'ADAPTING',\n",
              " 'PRODUCTS']"
            ]
          },
          "metadata": {
            "tags": []
          },
          "execution_count": 474
        }
      ]
    },
    {
      "cell_type": "code",
      "metadata": {
        "id": "TPYz-RzizH5G",
        "colab_type": "code",
        "colab": {}
      },
      "source": [
        "# Create inverted index \n",
        "inverted_index_dict = {}\n",
        "for word in words:\n",
        "    doc_freq = {}\n",
        "    for doc_num in docs_dict:\n",
        "        freq = docs_dict[doc_num].get(word, 0)\n",
        "        if freq > 0:\n",
        "            doc_freq[doc_num] = freq\n",
        "    inverted_index_dict[word] = doc_freq"
      ],
      "execution_count": null,
      "outputs": []
    },
    {
      "cell_type": "code",
      "metadata": {
        "id": "-2yXLAVdw7MD",
        "colab_type": "code",
        "colab": {}
      },
      "source": [
        "inverted_index = pd.DataFrame(inverted_index_dict.items(),columns=['Word', 'Adjacency Doc Frequency List'])"
      ],
      "execution_count": null,
      "outputs": []
    },
    {
      "cell_type": "code",
      "metadata": {
        "id": "dKRjuuuUw7eJ",
        "colab_type": "code",
        "colab": {
          "base_uri": "https://localhost:8080/",
          "height": 204
        },
        "outputId": "bac2922c-1505-4d79-d31f-5ab8c0a6b058"
      },
      "source": [
        "inverted_index.head()"
      ],
      "execution_count": null,
      "outputs": [
        {
          "output_type": "execute_result",
          "data": {
            "text/html": [
              "<div>\n",
              "<style scoped>\n",
              "    .dataframe tbody tr th:only-of-type {\n",
              "        vertical-align: middle;\n",
              "    }\n",
              "\n",
              "    .dataframe tbody tr th {\n",
              "        vertical-align: top;\n",
              "    }\n",
              "\n",
              "    .dataframe thead th {\n",
              "        text-align: right;\n",
              "    }\n",
              "</style>\n",
              "<table border=\"1\" class=\"dataframe\">\n",
              "  <thead>\n",
              "    <tr style=\"text-align: right;\">\n",
              "      <th></th>\n",
              "      <th>Word</th>\n",
              "      <th>Adjacency Doc Frequency List</th>\n",
              "    </tr>\n",
              "  </thead>\n",
              "  <tbody>\n",
              "    <tr>\n",
              "      <th>0</th>\n",
              "      <td>SUPPLY</td>\n",
              "      <td>{115: 1, 220: 1, 539: 1, 792: 1}</td>\n",
              "    </tr>\n",
              "    <tr>\n",
              "      <th>1</th>\n",
              "      <td>ADAPTED</td>\n",
              "      <td>{745: 1}</td>\n",
              "    </tr>\n",
              "    <tr>\n",
              "      <th>2</th>\n",
              "      <td>ACYL</td>\n",
              "      <td>{621: 1}</td>\n",
              "    </tr>\n",
              "    <tr>\n",
              "      <th>3</th>\n",
              "      <td>REQUESTED</td>\n",
              "      <td>{731: 1}</td>\n",
              "    </tr>\n",
              "    <tr>\n",
              "      <th>4</th>\n",
              "      <td>PROPORTIONAL</td>\n",
              "      <td>{1159: 1, 348: 1, 950: 1, 951: 1}</td>\n",
              "    </tr>\n",
              "  </tbody>\n",
              "</table>\n",
              "</div>"
            ],
            "text/plain": [
              "           Word       Adjacency Doc Frequency List\n",
              "0        SUPPLY   {115: 1, 220: 1, 539: 1, 792: 1}\n",
              "1       ADAPTED                           {745: 1}\n",
              "2          ACYL                           {621: 1}\n",
              "3     REQUESTED                           {731: 1}\n",
              "4  PROPORTIONAL  {1159: 1, 348: 1, 950: 1, 951: 1}"
            ]
          },
          "metadata": {
            "tags": []
          },
          "execution_count": 477
        }
      ]
    },
    {
      "cell_type": "code",
      "metadata": {
        "id": "SA5vce0qH7xW",
        "colab_type": "code",
        "colab": {}
      },
      "source": [
        "output_files = ast.literal_eval(config['GLI'].get('ESCREVA'))\n",
        "inverted_csv_file_name = output_files[0]\n",
        "docs_csv_file_name = output_files[1]"
      ],
      "execution_count": null,
      "outputs": []
    },
    {
      "cell_type": "code",
      "metadata": {
        "id": "09g6rHsXJCAw",
        "colab_type": "code",
        "colab": {}
      },
      "source": [
        "# Save inverted_index as csv\n",
        "inverted_index.to_csv(inverted_csv_file_name, sep=';', index=False)"
      ],
      "execution_count": null,
      "outputs": []
    },
    {
      "cell_type": "code",
      "metadata": {
        "id": "0AaSZ6yzqHlS",
        "colab_type": "code",
        "colab": {
          "base_uri": "https://localhost:8080/",
          "height": 204
        },
        "outputId": "b8c95bfe-e2db-412a-ec26-1e3b368a5878"
      },
      "source": [
        "doc_index = pd.DataFrame(docs_dict.items(),columns=['Doc', 'Adjacency Word Frequency List'])\n",
        "doc_index.head()"
      ],
      "execution_count": null,
      "outputs": [
        {
          "output_type": "execute_result",
          "data": {
            "text/html": [
              "<div>\n",
              "<style scoped>\n",
              "    .dataframe tbody tr th:only-of-type {\n",
              "        vertical-align: middle;\n",
              "    }\n",
              "\n",
              "    .dataframe tbody tr th {\n",
              "        vertical-align: top;\n",
              "    }\n",
              "\n",
              "    .dataframe thead th {\n",
              "        text-align: right;\n",
              "    }\n",
              "</style>\n",
              "<table border=\"1\" class=\"dataframe\">\n",
              "  <thead>\n",
              "    <tr style=\"text-align: right;\">\n",
              "      <th></th>\n",
              "      <th>Doc</th>\n",
              "      <th>Adjacency Word Frequency List</th>\n",
              "    </tr>\n",
              "  </thead>\n",
              "  <tbody>\n",
              "    <tr>\n",
              "      <th>0</th>\n",
              "      <td>1</td>\n",
              "      <td>{'SIGNIFICANCE': 1, 'PSEUDOMONAS': 3, 'AERUGIN...</td>\n",
              "    </tr>\n",
              "    <tr>\n",
              "      <th>1</th>\n",
              "      <td>2</td>\n",
              "      <td>{'SALIVARY': 3, 'AMYLASE': 5, 'LEVELS': 4, 'DE...</td>\n",
              "    </tr>\n",
              "    <tr>\n",
              "      <th>2</th>\n",
              "      <td>3</td>\n",
              "      <td>{'ARTICLE': 1, 'REPORTS': 1, 'POSSIBILITY': 1,...</td>\n",
              "    </tr>\n",
              "    <tr>\n",
              "      <th>3</th>\n",
              "      <td>4</td>\n",
              "      <td>{'INSTRUMENTAL': 1, 'NEUTRON': 1, 'ACTIVATION'...</td>\n",
              "    </tr>\n",
              "    <tr>\n",
              "      <th>4</th>\n",
              "      <td>5</td>\n",
              "      <td>{'CAPACITY': 1, 'DUODENAL': 3, 'JUICE': 3, 'HY...</td>\n",
              "    </tr>\n",
              "  </tbody>\n",
              "</table>\n",
              "</div>"
            ],
            "text/plain": [
              "   Doc                      Adjacency Word Frequency List\n",
              "0    1  {'SIGNIFICANCE': 1, 'PSEUDOMONAS': 3, 'AERUGIN...\n",
              "1    2  {'SALIVARY': 3, 'AMYLASE': 5, 'LEVELS': 4, 'DE...\n",
              "2    3  {'ARTICLE': 1, 'REPORTS': 1, 'POSSIBILITY': 1,...\n",
              "3    4  {'INSTRUMENTAL': 1, 'NEUTRON': 1, 'ACTIVATION'...\n",
              "4    5  {'CAPACITY': 1, 'DUODENAL': 3, 'JUICE': 3, 'HY..."
            ]
          },
          "metadata": {
            "tags": []
          },
          "execution_count": 480
        }
      ]
    },
    {
      "cell_type": "code",
      "metadata": {
        "id": "_iSzmey-VITH",
        "colab_type": "code",
        "colab": {}
      },
      "source": [
        "# Save doc_index as csv\n",
        "doc_index.to_csv(docs_csv_file_name, sep=';', index=False)"
      ],
      "execution_count": null,
      "outputs": []
    },
    {
      "cell_type": "markdown",
      "metadata": {
        "id": "DPgMlPbrqIEM",
        "colab_type": "text"
      },
      "source": [
        "## Indexer"
      ]
    },
    {
      "cell_type": "code",
      "metadata": {
        "id": "biJZzNAWqHgT",
        "colab_type": "code",
        "colab": {}
      },
      "source": [
        "import ast\n",
        "import configparser\n",
        "import json\n",
        "import pandas as pd\n",
        "import numpy as np\n",
        "from pathlib import Path"
      ],
      "execution_count": null,
      "outputs": []
    },
    {
      "cell_type": "code",
      "metadata": {
        "id": "MyW1xJOFqdvf",
        "colab_type": "code",
        "colab": {}
      },
      "source": [
        "config = configparser.ConfigParser()\n",
        "config['INDEX']= {'LEIA' : ['inverted_index.csv', 'doc_index.csv']}\n",
        "config['INDEX']['ESCREVA'] =  \"vectorial_model.json\"\n",
        "with open('INDEX.CFG','w') as configfile:\n",
        "    config.write(configfile)"
      ],
      "execution_count": null,
      "outputs": []
    },
    {
      "cell_type": "code",
      "metadata": {
        "id": "wUWwoArKrQ77",
        "colab_type": "code",
        "colab": {
          "base_uri": "https://localhost:8080/",
          "height": 34
        },
        "outputId": "3b0a4394-f8ad-434a-8bff-3cd462002759"
      },
      "source": [
        "config = configparser.ConfigParser()\n",
        "config.read('INDEX.CFG')"
      ],
      "execution_count": null,
      "outputs": [
        {
          "output_type": "execute_result",
          "data": {
            "text/plain": [
              "['INDEX.CFG']"
            ]
          },
          "metadata": {
            "tags": []
          },
          "execution_count": 484
        }
      ]
    },
    {
      "cell_type": "code",
      "metadata": {
        "id": "UhQ7V2IifFmN",
        "colab_type": "code",
        "colab": {
          "base_uri": "https://localhost:8080/",
          "height": 51
        },
        "outputId": "131ffcba-fa78-4790-8b60-3e17b7e28a2d"
      },
      "source": [
        "print(config['INDEX'].get('LEIA'))\n",
        "print(config['INDEX'].get('ESCREVA'))"
      ],
      "execution_count": null,
      "outputs": [
        {
          "output_type": "stream",
          "text": [
            "['inverted_index.csv', 'doc_index.csv']\n",
            "vectorial_model.json\n"
          ],
          "name": "stdout"
        }
      ]
    },
    {
      "cell_type": "code",
      "metadata": {
        "id": "YGi9IO8xfInW",
        "colab_type": "code",
        "colab": {}
      },
      "source": [
        "files_list_str = config['INDEX'].get('LEIA')\n",
        "# Load list from string\n",
        "files_list = ast.literal_eval(files_list_str)"
      ],
      "execution_count": null,
      "outputs": []
    },
    {
      "cell_type": "code",
      "metadata": {
        "id": "ATsI3faWfThH",
        "colab_type": "code",
        "colab": {
          "base_uri": "https://localhost:8080/",
          "height": 34
        },
        "outputId": "51075ba0-b0b9-4b73-eff9-5335878717a8"
      },
      "source": [
        "files_list"
      ],
      "execution_count": null,
      "outputs": [
        {
          "output_type": "execute_result",
          "data": {
            "text/plain": [
              "['inverted_index.csv', 'doc_index.csv']"
            ]
          },
          "metadata": {
            "tags": []
          },
          "execution_count": 487
        }
      ]
    },
    {
      "cell_type": "code",
      "metadata": {
        "id": "JTQA4EFGfYk7",
        "colab_type": "code",
        "colab": {}
      },
      "source": [
        "inverted_index = pd.read_csv(files_list[0], sep=';')\n",
        "doc_index = pd.read_csv(files_list[1], sep=';')"
      ],
      "execution_count": null,
      "outputs": []
    },
    {
      "cell_type": "code",
      "metadata": {
        "id": "jx6sSb44fuQ4",
        "colab_type": "code",
        "colab": {
          "base_uri": "https://localhost:8080/",
          "height": 204
        },
        "outputId": "ea4984a1-29cc-4b6c-e91d-fdbb5ef930ad"
      },
      "source": [
        "# Sorted words from a to z\n",
        "inverted_index.sort_values(by='Word', inplace=True)\n",
        "inverted_index.reset_index(drop=True, inplace=True)\n",
        "inverted_index.head()"
      ],
      "execution_count": null,
      "outputs": [
        {
          "output_type": "execute_result",
          "data": {
            "text/html": [
              "<div>\n",
              "<style scoped>\n",
              "    .dataframe tbody tr th:only-of-type {\n",
              "        vertical-align: middle;\n",
              "    }\n",
              "\n",
              "    .dataframe tbody tr th {\n",
              "        vertical-align: top;\n",
              "    }\n",
              "\n",
              "    .dataframe thead th {\n",
              "        text-align: right;\n",
              "    }\n",
              "</style>\n",
              "<table border=\"1\" class=\"dataframe\">\n",
              "  <thead>\n",
              "    <tr style=\"text-align: right;\">\n",
              "      <th></th>\n",
              "      <th>Word</th>\n",
              "      <th>Adjacency Doc Frequency List</th>\n",
              "    </tr>\n",
              "  </thead>\n",
              "  <tbody>\n",
              "    <tr>\n",
              "      <th>0</th>\n",
              "      <td>ABANDON</td>\n",
              "      <td>{90: 1}</td>\n",
              "    </tr>\n",
              "    <tr>\n",
              "      <th>1</th>\n",
              "      <td>ABANDONED</td>\n",
              "      <td>{550: 1}</td>\n",
              "    </tr>\n",
              "    <tr>\n",
              "      <th>2</th>\n",
              "      <td>ABDOMEN</td>\n",
              "      <td>{1063: 1}</td>\n",
              "    </tr>\n",
              "    <tr>\n",
              "      <th>3</th>\n",
              "      <td>ABDOMENS</td>\n",
              "      <td>{37: 1}</td>\n",
              "    </tr>\n",
              "    <tr>\n",
              "      <th>4</th>\n",
              "      <td>ABDOMINAL</td>\n",
              "      <td>{37: 2, 95: 2, 149: 2, 1063: 1, 182: 1, 202: 3...</td>\n",
              "    </tr>\n",
              "  </tbody>\n",
              "</table>\n",
              "</div>"
            ],
            "text/plain": [
              "        Word                       Adjacency Doc Frequency List\n",
              "0    ABANDON                                            {90: 1}\n",
              "1  ABANDONED                                           {550: 1}\n",
              "2    ABDOMEN                                          {1063: 1}\n",
              "3   ABDOMENS                                            {37: 1}\n",
              "4  ABDOMINAL  {37: 2, 95: 2, 149: 2, 1063: 1, 182: 1, 202: 3..."
            ]
          },
          "metadata": {
            "tags": []
          },
          "execution_count": 489
        }
      ]
    },
    {
      "cell_type": "code",
      "metadata": {
        "id": "qDG0dJhpntXJ",
        "colab_type": "code",
        "colab": {
          "base_uri": "https://localhost:8080/",
          "height": 235
        },
        "outputId": "ab233d81-8834-49ee-d012-b6a4cd573214"
      },
      "source": [
        "tf_idf_df =  inverted_index.copy()\n",
        "# Use word as a index\n",
        "tf_idf_df = tf_idf_df.set_index('Word')\n",
        "tf_idf_df.head()"
      ],
      "execution_count": null,
      "outputs": [
        {
          "output_type": "execute_result",
          "data": {
            "text/html": [
              "<div>\n",
              "<style scoped>\n",
              "    .dataframe tbody tr th:only-of-type {\n",
              "        vertical-align: middle;\n",
              "    }\n",
              "\n",
              "    .dataframe tbody tr th {\n",
              "        vertical-align: top;\n",
              "    }\n",
              "\n",
              "    .dataframe thead th {\n",
              "        text-align: right;\n",
              "    }\n",
              "</style>\n",
              "<table border=\"1\" class=\"dataframe\">\n",
              "  <thead>\n",
              "    <tr style=\"text-align: right;\">\n",
              "      <th></th>\n",
              "      <th>Adjacency Doc Frequency List</th>\n",
              "    </tr>\n",
              "    <tr>\n",
              "      <th>Word</th>\n",
              "      <th></th>\n",
              "    </tr>\n",
              "  </thead>\n",
              "  <tbody>\n",
              "    <tr>\n",
              "      <th>ABANDON</th>\n",
              "      <td>{90: 1}</td>\n",
              "    </tr>\n",
              "    <tr>\n",
              "      <th>ABANDONED</th>\n",
              "      <td>{550: 1}</td>\n",
              "    </tr>\n",
              "    <tr>\n",
              "      <th>ABDOMEN</th>\n",
              "      <td>{1063: 1}</td>\n",
              "    </tr>\n",
              "    <tr>\n",
              "      <th>ABDOMENS</th>\n",
              "      <td>{37: 1}</td>\n",
              "    </tr>\n",
              "    <tr>\n",
              "      <th>ABDOMINAL</th>\n",
              "      <td>{37: 2, 95: 2, 149: 2, 1063: 1, 182: 1, 202: 3...</td>\n",
              "    </tr>\n",
              "  </tbody>\n",
              "</table>\n",
              "</div>"
            ],
            "text/plain": [
              "                                Adjacency Doc Frequency List\n",
              "Word                                                        \n",
              "ABANDON                                              {90: 1}\n",
              "ABANDONED                                           {550: 1}\n",
              "ABDOMEN                                            {1063: 1}\n",
              "ABDOMENS                                             {37: 1}\n",
              "ABDOMINAL  {37: 2, 95: 2, 149: 2, 1063: 1, 182: 1, 202: 3..."
            ]
          },
          "metadata": {
            "tags": []
          },
          "execution_count": 490
        }
      ]
    },
    {
      "cell_type": "code",
      "metadata": {
        "id": "1FYAvnE7o848",
        "colab_type": "code",
        "colab": {}
      },
      "source": [
        "total_number_docs = doc_index['Doc'].count()\n",
        "word_idf_dict = {}\n",
        "word_tf_idf_dict = {}\n",
        "for word, row in tf_idf_df.iterrows():\n",
        "    # Get frequency on docs that it appear\n",
        "    word_frequencies_on_docs = ast.literal_eval(row['Adjacency Doc Frequency List'])\n",
        "    # Get number of docs word apperas\n",
        "    number_docs_word_appears = len(word_frequencies_on_docs)\n",
        "    # Calculate inverse document frequency\n",
        "    idf = np.log2(total_number_docs/number_docs_word_appears)\n",
        "    word_idf_dict[word] = idf   \n",
        "    tf_idf_dict = {}\n",
        "    for doc_number, frequency in word_frequencies_on_docs.items():\n",
        "        # using third recommended tf-idf weighting scheme\n",
        "        # implies using log normalization on term frequency\n",
        "        normalized_term_frequency = np.log2(1 + frequency)\n",
        "        tf_idf_dict[doc_number] = normalized_term_frequency * idf\n",
        "\n",
        "    # Put tf_idf for each word\n",
        "    word_tf_idf_dict[word] = tf_idf_dict\n",
        "\n",
        "# Create series object to insert on dataframe\n",
        "idf_series = pd.Series(word_idf_dict, index=list(word_idf_dict.keys()))\n",
        "tf_idf_series = pd.Series(word_tf_idf_dict, index=list(word_tf_idf_dict.keys()))"
      ],
      "execution_count": null,
      "outputs": []
    },
    {
      "cell_type": "code",
      "metadata": {
        "id": "QQLPkjHn0yzI",
        "colab_type": "code",
        "colab": {
          "base_uri": "https://localhost:8080/",
          "height": 235
        },
        "outputId": "1f0e4c19-b499-4775-cd9a-745ceedddcd2"
      },
      "source": [
        "tf_idf_df['Inverse Document Frequency'] = idf_series\n",
        "tf_idf_df['Tf-Idf'] = tf_idf_series\n",
        "tf_idf_df.drop(columns=['Adjacency Doc Frequency List'], inplace=True)\n",
        "tf_idf_df.head()"
      ],
      "execution_count": null,
      "outputs": [
        {
          "output_type": "execute_result",
          "data": {
            "text/html": [
              "<div>\n",
              "<style scoped>\n",
              "    .dataframe tbody tr th:only-of-type {\n",
              "        vertical-align: middle;\n",
              "    }\n",
              "\n",
              "    .dataframe tbody tr th {\n",
              "        vertical-align: top;\n",
              "    }\n",
              "\n",
              "    .dataframe thead th {\n",
              "        text-align: right;\n",
              "    }\n",
              "</style>\n",
              "<table border=\"1\" class=\"dataframe\">\n",
              "  <thead>\n",
              "    <tr style=\"text-align: right;\">\n",
              "      <th></th>\n",
              "      <th>Inverse Document Frequency</th>\n",
              "      <th>Tf-Idf</th>\n",
              "    </tr>\n",
              "    <tr>\n",
              "      <th>Word</th>\n",
              "      <th></th>\n",
              "      <th></th>\n",
              "    </tr>\n",
              "  </thead>\n",
              "  <tbody>\n",
              "    <tr>\n",
              "      <th>ABANDON</th>\n",
              "      <td>10.246741</td>\n",
              "      <td>{90: 10.246740598493144}</td>\n",
              "    </tr>\n",
              "    <tr>\n",
              "      <th>ABANDONED</th>\n",
              "      <td>10.246741</td>\n",
              "      <td>{550: 10.246740598493144}</td>\n",
              "    </tr>\n",
              "    <tr>\n",
              "      <th>ABDOMEN</th>\n",
              "      <td>10.246741</td>\n",
              "      <td>{1063: 10.246740598493144}</td>\n",
              "    </tr>\n",
              "    <tr>\n",
              "      <th>ABDOMENS</th>\n",
              "      <td>10.246741</td>\n",
              "      <td>{37: 10.246740598493144}</td>\n",
              "    </tr>\n",
              "    <tr>\n",
              "      <th>ABDOMINAL</th>\n",
              "      <td>6.159278</td>\n",
              "      <td>{37: 9.762224276755749, 95: 9.762224276755749,...</td>\n",
              "    </tr>\n",
              "  </tbody>\n",
              "</table>\n",
              "</div>"
            ],
            "text/plain": [
              "           Inverse Document Frequency                                             Tf-Idf\n",
              "Word                                                                                    \n",
              "ABANDON                     10.246741                           {90: 10.246740598493144}\n",
              "ABANDONED                   10.246741                          {550: 10.246740598493144}\n",
              "ABDOMEN                     10.246741                         {1063: 10.246740598493144}\n",
              "ABDOMENS                    10.246741                           {37: 10.246740598493144}\n",
              "ABDOMINAL                    6.159278  {37: 9.762224276755749, 95: 9.762224276755749,..."
            ]
          },
          "metadata": {
            "tags": []
          },
          "execution_count": 492
        }
      ]
    },
    {
      "cell_type": "code",
      "metadata": {
        "id": "Cycq78aFfZRI",
        "colab_type": "code",
        "colab": {}
      },
      "source": [
        "doc_tf_idf = doc_index.copy()\n",
        "doc_tf_idf.set_index('Doc', inplace=True)"
      ],
      "execution_count": null,
      "outputs": []
    },
    {
      "cell_type": "code",
      "metadata": {
        "id": "u-JLXWXNWK8S",
        "colab_type": "code",
        "colab": {}
      },
      "source": [
        "tf_idf_dict = {}\n",
        "for doc_number, row in doc_tf_idf.iterrows():\n",
        "    word_frequencies = ast.literal_eval(row['Adjacency Word Frequency List'])\n",
        "    tf_idf_word_dict = {}\n",
        "    for word in word_frequencies:\n",
        "        tf_idf_value = tf_idf_df['Tf-Idf'][word][doc_number]\n",
        "        tf_idf_word_dict[word] = tf_idf_value\n",
        "    tf_idf_dict[doc_number] = tf_idf_word_dict\n"
      ],
      "execution_count": null,
      "outputs": []
    },
    {
      "cell_type": "code",
      "metadata": {
        "id": "u-jTSZ00cKxk",
        "colab_type": "code",
        "colab": {}
      },
      "source": [
        "tf_idf_series = pd.Series(tf_idf_dict, index=list(tf_idf_dict.keys()))\n",
        "doc_tf_idf['Doc Tf-Idf'] = tf_idf_series"
      ],
      "execution_count": null,
      "outputs": []
    },
    {
      "cell_type": "code",
      "metadata": {
        "id": "DK7d__QhWle-",
        "colab_type": "code",
        "colab": {
          "base_uri": "https://localhost:8080/",
          "height": 235
        },
        "outputId": "46951f41-1cf2-47d4-e4f6-c1e1fc9135c0"
      },
      "source": [
        "doc_tf_idf.drop(columns=['Adjacency Word Frequency List'], inplace=True)\n",
        "doc_tf_idf.head()"
      ],
      "execution_count": null,
      "outputs": [
        {
          "output_type": "execute_result",
          "data": {
            "text/html": [
              "<div>\n",
              "<style scoped>\n",
              "    .dataframe tbody tr th:only-of-type {\n",
              "        vertical-align: middle;\n",
              "    }\n",
              "\n",
              "    .dataframe tbody tr th {\n",
              "        vertical-align: top;\n",
              "    }\n",
              "\n",
              "    .dataframe thead th {\n",
              "        text-align: right;\n",
              "    }\n",
              "</style>\n",
              "<table border=\"1\" class=\"dataframe\">\n",
              "  <thead>\n",
              "    <tr style=\"text-align: right;\">\n",
              "      <th></th>\n",
              "      <th>Doc Tf-Idf</th>\n",
              "    </tr>\n",
              "    <tr>\n",
              "      <th>Doc</th>\n",
              "      <th></th>\n",
              "    </tr>\n",
              "  </thead>\n",
              "  <tbody>\n",
              "    <tr>\n",
              "      <th>1</th>\n",
              "      <td>{'SIGNIFICANCE': 5.546300880352051, 'PSEUDOMON...</td>\n",
              "    </tr>\n",
              "    <tr>\n",
              "      <th>2</th>\n",
              "      <td>{'SALIVARY': 10.318555514485608, 'AMYLASE': 14...</td>\n",
              "    </tr>\n",
              "    <tr>\n",
              "      <th>3</th>\n",
              "      <td>{'ARTICLE': 5.388759603365571, 'REPORTS': 4.99...</td>\n",
              "    </tr>\n",
              "    <tr>\n",
              "      <th>4</th>\n",
              "      <td>{'INSTRUMENTAL': 9.246740598493144, 'NEUTRON':...</td>\n",
              "    </tr>\n",
              "    <tr>\n",
              "      <th>5</th>\n",
              "      <td>{'CAPACITY': 4.820475843791045, 'DUODENAL': 12...</td>\n",
              "    </tr>\n",
              "  </tbody>\n",
              "</table>\n",
              "</div>"
            ],
            "text/plain": [
              "                                            Doc Tf-Idf\n",
              "Doc                                                   \n",
              "1    {'SIGNIFICANCE': 5.546300880352051, 'PSEUDOMON...\n",
              "2    {'SALIVARY': 10.318555514485608, 'AMYLASE': 14...\n",
              "3    {'ARTICLE': 5.388759603365571, 'REPORTS': 4.99...\n",
              "4    {'INSTRUMENTAL': 9.246740598493144, 'NEUTRON':...\n",
              "5    {'CAPACITY': 4.820475843791045, 'DUODENAL': 12..."
            ]
          },
          "metadata": {
            "tags": []
          },
          "execution_count": 496
        }
      ]
    },
    {
      "cell_type": "code",
      "metadata": {
        "id": "BreRizjfWlUy",
        "colab_type": "code",
        "colab": {}
      },
      "source": [
        "doc_json_str = doc_tf_idf.to_json(orient=\"columns\")"
      ],
      "execution_count": null,
      "outputs": []
    },
    {
      "cell_type": "code",
      "metadata": {
        "id": "JnqXyV008-Wx",
        "colab_type": "code",
        "colab": {}
      },
      "source": [
        "vectorial_model_str = tf_idf_df.to_json(orient=\"columns\")"
      ],
      "execution_count": null,
      "outputs": []
    },
    {
      "cell_type": "code",
      "metadata": {
        "id": "Yblk7qcjglar",
        "colab_type": "code",
        "colab": {}
      },
      "source": [
        "vectorial_model = json.loads(vectorial_model_str)\n",
        "doc_json = json.loads(doc_json_str)"
      ],
      "execution_count": null,
      "outputs": []
    },
    {
      "cell_type": "code",
      "metadata": {
        "id": "bIv65NbEgvRU",
        "colab_type": "code",
        "colab": {
          "base_uri": "https://localhost:8080/",
          "height": 51
        },
        "outputId": "271c7ae3-3f6e-4671-ad1d-4dd67ea7937b"
      },
      "source": [
        "print(doc_json.keys())\n",
        "print(vectorial_model.keys())"
      ],
      "execution_count": null,
      "outputs": [
        {
          "output_type": "stream",
          "text": [
            "dict_keys(['Doc Tf-Idf'])\n",
            "dict_keys(['Inverse Document Frequency', 'Tf-Idf'])\n"
          ],
          "name": "stdout"
        }
      ]
    },
    {
      "cell_type": "code",
      "metadata": {
        "id": "okWIN0DjgznT",
        "colab_type": "code",
        "colab": {}
      },
      "source": [
        "vectorial_model['Doc Tf-Idf'] = doc_json['Doc Tf-Idf']"
      ],
      "execution_count": null,
      "outputs": []
    },
    {
      "cell_type": "code",
      "metadata": {
        "id": "Y8bFbWK7vIAO",
        "colab_type": "code",
        "colab": {}
      },
      "source": [
        "vectorial_model_file_path = config['INDEX'].get('ESCREVA')\n",
        "with open(vectorial_model_file_path, \"w\") as vectorial_model_file: \n",
        "    json.dump(vectorial_model, vectorial_model_file) "
      ],
      "execution_count": null,
      "outputs": []
    },
    {
      "cell_type": "markdown",
      "metadata": {
        "id": "DUKHOQkf9Cqq",
        "colab_type": "text"
      },
      "source": [
        "## Search engine"
      ]
    },
    {
      "cell_type": "code",
      "metadata": {
        "id": "l0c__qW29Gv8",
        "colab_type": "code",
        "colab": {}
      },
      "source": [
        "import ast\n",
        "import configparser\n",
        "import json\n",
        "import pandas as pd\n",
        "import numpy as np\n",
        "from collections import Counter\n",
        "from lxml import etree\n",
        "from nltk.corpus import stopwords\n",
        "from nltk.tokenize import RegexpTokenizer\n",
        "from pathlib import Path"
      ],
      "execution_count": null,
      "outputs": []
    },
    {
      "cell_type": "code",
      "metadata": {
        "id": "vGEAEJ0V9NuF",
        "colab_type": "code",
        "colab": {}
      },
      "source": [
        "config = configparser.ConfigParser()\n",
        "config['BUSCA']= {'MODELO' : 'vectorial_model.json'}\n",
        "config['BUSCA']['CONSULTAS'] =  \"query.csv\"\n",
        "config['BUSCA']['RESULTADOS'] =  \"results.csv\"\n",
        "with open('BUSCA.CFG','w') as configfile:\n",
        "    config.write(configfile)"
      ],
      "execution_count": null,
      "outputs": []
    },
    {
      "cell_type": "code",
      "metadata": {
        "id": "jTv_psAL-leV",
        "colab_type": "code",
        "colab": {
          "base_uri": "https://localhost:8080/",
          "height": 34
        },
        "outputId": "7a9cad8d-5ef8-481f-acd6-774469683737"
      },
      "source": [
        "config = configparser.ConfigParser()\n",
        "config.read('BUSCA.CFG')"
      ],
      "execution_count": null,
      "outputs": [
        {
          "output_type": "execute_result",
          "data": {
            "text/plain": [
              "['BUSCA.CFG']"
            ]
          },
          "metadata": {
            "tags": []
          },
          "execution_count": 505
        }
      ]
    },
    {
      "cell_type": "code",
      "metadata": {
        "id": "Vx-YPuAi97G7",
        "colab_type": "code",
        "colab": {
          "base_uri": "https://localhost:8080/",
          "height": 68
        },
        "outputId": "3b3cfece-d64d-4c6c-a73e-48436d492a2e"
      },
      "source": [
        "print(config['BUSCA'].get('MODELO'))\n",
        "print(config['BUSCA'].get('CONSULTAS'))\n",
        "print(config['BUSCA'].get('RESULTADOS'))"
      ],
      "execution_count": null,
      "outputs": [
        {
          "output_type": "stream",
          "text": [
            "vectorial_model.json\n",
            "query.csv\n",
            "results.csv\n"
          ],
          "name": "stdout"
        }
      ]
    },
    {
      "cell_type": "code",
      "metadata": {
        "id": "fGtfyKzh-oTq",
        "colab_type": "code",
        "colab": {}
      },
      "source": [
        "model_file = config['BUSCA'].get('MODELO')\n",
        "query_file = config['BUSCA'].get('CONSULTAS')"
      ],
      "execution_count": null,
      "outputs": []
    },
    {
      "cell_type": "code",
      "metadata": {
        "id": "hrisDJoa-y3W",
        "colab_type": "code",
        "colab": {}
      },
      "source": [
        "model = open(model_file)\n",
        "vectorial_model = json.load(model)\n",
        "query_df = pd.read_csv(query_file, sep=';')"
      ],
      "execution_count": null,
      "outputs": []
    },
    {
      "cell_type": "code",
      "metadata": {
        "id": "sNmSdp77_CD1",
        "colab_type": "code",
        "colab": {
          "base_uri": "https://localhost:8080/",
          "height": 34
        },
        "outputId": "6ed31119-65c0-42b8-bd80-5806dcd9fac0"
      },
      "source": [
        "vectorial_model.keys()"
      ],
      "execution_count": null,
      "outputs": [
        {
          "output_type": "execute_result",
          "data": {
            "text/plain": [
              "dict_keys(['Inverse Document Frequency', 'Tf-Idf', 'Doc Tf-Idf'])"
            ]
          },
          "metadata": {
            "tags": []
          },
          "execution_count": 509
        }
      ]
    },
    {
      "cell_type": "code",
      "metadata": {
        "id": "gHaI6Es7_FhM",
        "colab_type": "code",
        "colab": {
          "base_uri": "https://localhost:8080/",
          "height": 204
        },
        "outputId": "628c4b03-476f-431b-ea79-3e437fd6bf92"
      },
      "source": [
        "query_df.head()"
      ],
      "execution_count": null,
      "outputs": [
        {
          "output_type": "execute_result",
          "data": {
            "text/html": [
              "<div>\n",
              "<style scoped>\n",
              "    .dataframe tbody tr th:only-of-type {\n",
              "        vertical-align: middle;\n",
              "    }\n",
              "\n",
              "    .dataframe tbody tr th {\n",
              "        vertical-align: top;\n",
              "    }\n",
              "\n",
              "    .dataframe thead th {\n",
              "        text-align: right;\n",
              "    }\n",
              "</style>\n",
              "<table border=\"1\" class=\"dataframe\">\n",
              "  <thead>\n",
              "    <tr style=\"text-align: right;\">\n",
              "      <th></th>\n",
              "      <th>query_number</th>\n",
              "      <th>text</th>\n",
              "    </tr>\n",
              "  </thead>\n",
              "  <tbody>\n",
              "    <tr>\n",
              "      <th>0</th>\n",
              "      <td>1</td>\n",
              "      <td>['EFFECTS', 'CALCIUM', 'PHYSICAL', 'PROPERTIES...</td>\n",
              "    </tr>\n",
              "    <tr>\n",
              "      <th>1</th>\n",
              "      <td>2</td>\n",
              "      <td>['ONE', 'DISTINGUISH', 'EFFECTS', 'MUCUS', 'HY...</td>\n",
              "    </tr>\n",
              "    <tr>\n",
              "      <th>2</th>\n",
              "      <td>3</td>\n",
              "      <td>['SALIVARY', 'GLYCOPROTEINS', 'PATIENTS', 'DIF...</td>\n",
              "    </tr>\n",
              "    <tr>\n",
              "      <th>3</th>\n",
              "      <td>4</td>\n",
              "      <td>['LIPID', 'COMPOSITION', 'RESPIRATORY', 'SECRE...</td>\n",
              "    </tr>\n",
              "    <tr>\n",
              "      <th>4</th>\n",
              "      <td>5</td>\n",
              "      <td>['MUCUS', 'ABNORMAL']</td>\n",
              "    </tr>\n",
              "  </tbody>\n",
              "</table>\n",
              "</div>"
            ],
            "text/plain": [
              "   query_number                                               text\n",
              "0             1  ['EFFECTS', 'CALCIUM', 'PHYSICAL', 'PROPERTIES...\n",
              "1             2  ['ONE', 'DISTINGUISH', 'EFFECTS', 'MUCUS', 'HY...\n",
              "2             3  ['SALIVARY', 'GLYCOPROTEINS', 'PATIENTS', 'DIF...\n",
              "3             4  ['LIPID', 'COMPOSITION', 'RESPIRATORY', 'SECRE...\n",
              "4             5                              ['MUCUS', 'ABNORMAL']"
            ]
          },
          "metadata": {
            "tags": []
          },
          "execution_count": 510
        }
      ]
    },
    {
      "cell_type": "code",
      "metadata": {
        "id": "U0ExN3Ep_IPF",
        "colab_type": "code",
        "colab": {}
      },
      "source": [
        "# Store results for each query\n",
        "results = {}\n",
        "for idx, row in query_df.iterrows():\n",
        "    query_number = row['query_number']\n",
        "    query_words = ast.literal_eval(row['text'])\n",
        "    query_length=0\n",
        "    doc_norm = {}\n",
        "    rank_numerator = {}\n",
        "    for word in query_words:\n",
        "        # Get w_t_q \n",
        "        word_query_weight = vectorial_model['Inverse Document Frequency'].get(word)\n",
        "        if word_query_weight is None:\n",
        "            continue\n",
        "        # Query length = sum of all w_t_q\n",
        "        query_length += word_query_weight\n",
        "        tf_idf_word = vectorial_model['Tf-Idf'][word]\n",
        "        for doc in tf_idf_word:\n",
        "            # Get w_t_d \n",
        "            word_document_weight = tf_idf_word[doc]\n",
        "            if doc in rank_numerator:\n",
        "                rank_numerator[doc] += word_document_weight * word_query_weight\n",
        "            else:\n",
        "                # Create Doc length\n",
        "                rank_numerator[doc] = word_document_weight * word_query_weight\n",
        "\n",
        "            if doc not in doc_norm:\n",
        "                # Get doc norms\n",
        "                doc_vector_length = sum(list(vectorial_model['Doc Tf-Idf'][doc].values()))\n",
        "                doc_norm[doc] = np.sqrt(pow(doc_vector_length, 2))\n",
        "    # Get query norm\n",
        "    query_norm = np.sqrt(pow(query_length, 2))\n",
        "\n",
        "    rank = {}\n",
        "    for doc, numerator in rank_numerator.items():\n",
        "        # Rank each document that had at least\n",
        "        # one word that query provided\n",
        "        distance = numerator / (doc_norm[doc] * query_norm)\n",
        "        rank[int(doc)] = distance\n",
        "\n",
        "    # Change rank to be [rank_position, doc_number, distance]\n",
        "    rank_df = pd.Series(rank) \\\n",
        "        .sort_values() \\\n",
        "        .reset_index() \\\n",
        "        .reset_index() \\\n",
        "        .rename(columns={'level_0':'rank','index':'doc_number', 0:'distance'}) \\\n",
        "        .iloc[:20]\n",
        "    rank_df['rank']+=1\n",
        "    rank_matrix = rank_df.to_numpy()\n",
        "    # Store rank matrix\n",
        "    results[query_number] = rank_matrix"
      ],
      "execution_count": null,
      "outputs": []
    },
    {
      "cell_type": "code",
      "metadata": {
        "id": "PXR2ssFGSE5h",
        "colab_type": "code",
        "colab": {}
      },
      "source": [
        "results_df = pd.DataFrame(results.items(), columns=['Query_number','results'])"
      ],
      "execution_count": null,
      "outputs": []
    },
    {
      "cell_type": "code",
      "metadata": {
        "id": "G4XCXeBIyAF5",
        "colab_type": "code",
        "colab": {}
      },
      "source": [
        "results_file = config['BUSCA'].get('RESULTADOS')\n",
        "results_df.to_csv(results_file, sep=';', index=False)"
      ],
      "execution_count": null,
      "outputs": []
    },
    {
      "cell_type": "markdown",
      "metadata": {
        "colab": {},
        "colab_type": "code",
        "id": "yo0UeNvhpg5K"
      },
      "source": [
        "## Result Evaluation "
      ]
    },
    {
      "cell_type": "code",
      "execution_count": 1,
      "metadata": {},
      "outputs": [],
      "source": [
        "import ast\n",
        "import json\n",
        "import matplotlib.pyplot as plt\n",
        "import numpy as np\n",
        "import pandas as pd\n",
        "from pathlib import Path\n",
        "from tqdm import tqdm"
      ]
    },
    {
      "cell_type": "code",
      "execution_count": 2,
      "metadata": {},
      "outputs": [],
      "source": [
        "root = Path().resolve().parent"
      ]
    },
    {
      "cell_type": "code",
      "execution_count": 117,
      "metadata": {},
      "outputs": [],
      "source": [
        "results_file = str(root)+ '/RESULT/results_stemmer.json'\n",
        "expected_file = str(root)+ '/RESULT/expected.csv'\n",
        "eval_files_path = str(root) + '/EVALUATION/'"
      ]
    },
    {
      "cell_type": "code",
      "execution_count": 89,
      "metadata": {},
      "outputs": [],
      "source": [
        "results = open(results_file)\n",
        "results_json_str = json.load(results)\n",
        "results_json = json.loads(results_json_str)\n",
        "results_df = pd.DataFrame(results_json)\n",
        "expected_df = pd.read_csv(expected_file, sep=';')"
      ]
    },
    {
      "cell_type": "code",
      "execution_count": 90,
      "metadata": {},
      "outputs": [],
      "source": [
        "results_df.set_index('query_number', inplace=True)"
      ]
    },
    {
      "cell_type": "code",
      "execution_count": 46,
      "metadata": {},
      "outputs": [],
      "source": [
        "def rank_and_expected_rank(row, results_df, query_number):\n",
        "    \"\"\"\n",
        "    Return rank_df and expected_rank_df\n",
        "    \"\"\"\n",
        "    doc_number_list = ast.literal_eval(row['doc_number_list'])\n",
        "    score_list = ast.literal_eval(row['doc_score_list'])\n",
        "    size = len(doc_number_list)\n",
        "    rank = list(range(1, size+1))\n",
        "    expected_rank = {'doc_number':doc_number_list ,'score':score_list}\n",
        "    expected_rank_df = pd.DataFrame(expected_rank)\n",
        "    expected_rank_df = expected_rank_df.sort_values(by='score', ascending=False).reset_index(drop=True)\n",
        "    expected_rank_df['rank']= rank\n",
        "\n",
        "    results = results_df['results'][query_number]\n",
        "    rank_df = pd.DataFrame(results, columns=['rank','doc_number','distance'])\n",
        "    rank_df['doc_number'] = rank_df['doc_number'].astype(int)\n",
        "\n",
        "    return rank_df , expected_rank_df"
      ]
    },
    {
      "cell_type": "code",
      "execution_count": 69,
      "metadata": {},
      "outputs": [],
      "source": [
        "def recall_precision(rank_doc_set,expected_rank_doc_set):\n",
        "    \"\"\"\n",
        "    calculate recall and precision given rank\n",
        "    and expected rank\n",
        "    \"\"\"\n",
        "    relevant_documents_retrieved = rank_doc_set.intersection(expected_rank_doc_set)\n",
        "    relevant_doc_ret_size = len(relevant_documents_retrieved)\n",
        "    retrieved_doc_size = len(rank_doc_set)\n",
        "    relevant_doc_size = len(expected_rank_doc_set)\n",
        "\n",
        "    # Precision \n",
        "    precision = relevant_doc_ret_size/retrieved_doc_size\n",
        "\n",
        "    # Recall\n",
        "    recall = relevant_doc_ret_size/relevant_doc_size\n",
        "\n",
        "    return precision, recall"
      ]
    },
    {
      "cell_type": "code",
      "execution_count": 119,
      "metadata": {},
      "outputs": [],
      "source": [
        "def rel_pres_recall(rank_df, expected_rank_doc_set):\n",
        "    \"\"\"\n",
        "    Return recall and precision for each relevant found\n",
        "    on its rank position\n",
        "    \"\"\"\n",
        "    relevant_precis_recall = {'index':[],'precision':[],'recall':[]}\n",
        "    for _, rank_row in rank_df.iterrows():\n",
        "        if rank_row['doc_number'] in list(expected_rank_doc_set):\n",
        "            mask = rank_df['doc_number']==rank_row['doc_number']\n",
        "            slice_index = rank_df[mask].index[0]\n",
        "            slice_index +=1\n",
        "            rank_doc_set_sliced = set(rank_df.iloc[:slice_index]['doc_number'])\n",
        "\n",
        "            precision, recall = recall_precision(rank_doc_set_sliced, expected_rank_doc_set)\n",
        "            \n",
        "            relevant_precis_recall['index'].append(slice_index)\n",
        "            relevant_precis_recall['precision'].append(precision)\n",
        "            relevant_precis_recall['recall'].append(recall)\n",
        "    return relevant_precis_recall"
      ]
    },
    {
      "cell_type": "code",
      "execution_count": 49,
      "metadata": {},
      "outputs": [],
      "source": [
        "def recall_precision_11_points(relevant_precis_recall):\n",
        "    \"\"\"\n",
        "    Create 11 points precision recall curve using\n",
        "    recall and precision matri for each relevant \n",
        "    position\n",
        "    \"\"\"\n",
        "    recall_axis = np.linspace(0.0,1.0,num=11)\n",
        "    rec_prec_11_points = np.zeros((11,2))\n",
        "    precision_max = 0\n",
        "    for index, recall_point in enumerate(recall_axis):\n",
        "        flag_inserted = 0\n",
        "        for position, recall in enumerate(relevant_precis_recall['recall']):\n",
        "            precision = relevant_precis_recall['precision'][position] \n",
        "            if recall >= recall_point:\n",
        "                # Retrieve only max precision point from any recall >= recall%\n",
        "                precision_max = max(relevant_precis_recall['precision'][position:])\n",
        "                # index 0 = recall values\n",
        "                rec_prec_11_points[index][0] = recall_point\n",
        "                # index 1 = precision values\n",
        "                rec_prec_11_points[index][1] = precision_max\n",
        "                flag_inserted = 1\n",
        "                break\n",
        "        \n",
        "        # if didnt insert anything copy last precision point\n",
        "        if not flag_inserted:\n",
        "            rec_prec_11_points[index][0] = recall_point\n",
        "            rec_prec_11_points[index][1] = rec_prec_11_points[index-1][1]\n",
        "\n",
        "    return rec_prec_11_points"
      ]
    },
    {
      "cell_type": "code",
      "execution_count": 50,
      "metadata": {},
      "outputs": [],
      "source": [
        "def calculate_r_precision(rank_df, expected_rank_doc_set):\n",
        "    \"\"\"\n",
        "    Calculate precision on rank using relevant size\n",
        "    \"\"\"\n",
        "    relevant_size = len(expected_rank_doc_set)\n",
        "    rank_doc_set_sliced = set(rank_df.iloc[:relevant_size]['doc_number'])\n",
        "    r_precision, _ = recall_precision(rank_doc_set_sliced, expected_rank_doc_set)\n",
        "    return r_precision\n",
        "\n",
        "\n",
        "\n",
        "def calculate_reciprocal_rank(rank_df, expected_rank_df):\n",
        "    \"\"\"\n",
        "    Calculate reciprocal rank = 1/first_rank_relevant\n",
        "    \"\"\"\n",
        "    counter = 0\n",
        "    for relevant_doc in expected_rank_df['doc_number']:\n",
        "        if relevant_doc in list(rank_df['doc_number']):\n",
        "            mask = rank_df['doc_number']==relevant_doc\n",
        "            rank = int(rank_df.loc[mask]['rank'])\n",
        "            if counter == 0:\n",
        "                counter = 1\n",
        "                rank_min = rank\n",
        "            if rank < rank_min:\n",
        "                rank_min = rank\n",
        "    reciprocal_rank = 1/rank_min\n",
        "    return reciprocal_rank\n",
        "\n",
        "\n",
        "def calculate_dcg(rank_df, expected_rank_df):\n",
        "    \"\"\"\n",
        "    Calculate dcg using score from expected_rank_df\n",
        "    \"\"\"\n",
        "    for index, rank_row in rank_df.iterrows():\n",
        "        # Rank only to 10\n",
        "        if index>10:\n",
        "            break\n",
        "        rank = rank_row['rank']\n",
        "        doc_number = rank_row['doc_number']\n",
        "        score = 0\n",
        "        if doc_number in list(expected_rank_df['doc_number']):\n",
        "            mask = expected_rank_df['doc_number']==doc_number\n",
        "            score = float(expected_rank_df[mask]['score'])\n",
        "        if rank>1:\n",
        "            discounted_cumulative_gain += score/np.log2(rank)\n",
        "            continue\n",
        "        discounted_cumulative_gain = score\n",
        "    return discounted_cumulative_gain\n",
        "\n",
        "\n",
        "\n",
        "def calculate_idcg(expected_rank_df):\n",
        "    \"\"\"\n",
        "    Calculate idealized discounted \n",
        "    gain using expected_rank_df\n",
        "    score\n",
        "    \"\"\"\n",
        "    for index, expected_row in expected_rank_df.iterrows():\n",
        "        # Rank only to 10\n",
        "        if index>10:\n",
        "            break\n",
        "        rank = expected_row['rank']\n",
        "        if rank>1:\n",
        "            idealized_discounted_cumulative_gain += expected_row['score']/np.log2(rank)\n",
        "            continue\n",
        "        idealized_discounted_cumulative_gain = expected_row['score']\n",
        "    return idealized_discounted_cumulative_gain\n"
      ]
    },
    {
      "cell_type": "code",
      "execution_count": 123,
      "metadata": {},
      "outputs": [
        {
          "output_type": "stream",
          "name": "stderr",
          "text": "99it [00:16,  6.04it/s]\n"
        }
      ],
      "source": [
        "query_eval = {}\n",
        "mean_average_precision_total = []\n",
        "r_precision_total = []\n",
        "reciprocal_rank_total = []\n",
        "rec_prec_11_points_total = []\n",
        "dcg_total = []\n",
        "idcg_total = []\n",
        "stemmer_present = 'stemmer'\n",
        "for idx, row in tqdm(expected_df.iterrows()):\n",
        "    evaluations = {}\n",
        "    query_number = row['query_number']\n",
        "\n",
        "    rank_df, expected_rank_df = rank_and_expected_rank(row, results_df, query_number)\n",
        "    \n",
        "    expected_rank_doc_set = set(expected_rank_df['doc_number'])\n",
        "    rank_doc_set = set(rank_df['doc_number'])\n",
        "\n",
        "    precision, recall = recall_precision(rank_doc_set, expected_rank_doc_set)\n",
        "\n",
        "    # F1\n",
        "    epsilon = 1e-10\n",
        "    f1 = 2/((1/(recall+epsilon) )+(1/(precision+epsilon) ))\n",
        "    evaluations['f1'] = f1\n",
        "\n",
        "    top_5_doc_rank = set(rank_df['doc_number'][:5])\n",
        "    precision_at_5 = len(top_5_doc_rank.intersection(expected_rank_doc_set))/5\n",
        "\n",
        "    top_10_doc_rank = set(rank_df['doc_number'][:10])\n",
        "    precision_at_10 = len(top_10_doc_rank.intersection(expected_rank_doc_set))/10\n",
        "\n",
        "    evaluations['P@5'] = precision_at_5\n",
        "    evaluations['P@10'] = precision_at_10\n",
        "\n",
        "    relevant_precis_recall = rel_pres_recall(rank_df, expected_rank_doc_set)\n",
        "\n",
        "    rec_prec_11_points = recall_precision_11_points(relevant_precis_recall)\n",
        "    rec_prec_11_points_total.append(rec_prec_11_points)\n",
        "\n",
        "    r_precision = calculate_r_precision(rank_df, expected_rank_doc_set)\n",
        "    r_precision_total.append(r_precision)\n",
        "\n",
        "    relevant_size = len(expected_rank_doc_set)\n",
        "    mean_average_precision_query = sum(relevant_precis_recall['precision'])/relevant_size\n",
        "    mean_average_precision_total.append(mean_average_precision_query)\n",
        "\n",
        "    reciprocal_rank = calculate_reciprocal_rank(rank_df, expected_rank_df)\n",
        "    reciprocal_rank_total.append(reciprocal_rank)\n",
        "\n",
        "    discounted_cumulative_gain = calculate_dcg(rank_df, expected_rank_df)\n",
        "    dcg_total.append(discounted_cumulative_gain)\n",
        "\n",
        "    idealized_discounted_cumulative_gain = calculate_idcg(expected_rank_df)\n",
        "    idcg_total.append(idealized_discounted_cumulative_gain)\n",
        "\n",
        "    query_eval[query_number] = evaluations"
      ]
    },
    {
      "cell_type": "code",
      "execution_count": 93,
      "metadata": {},
      "outputs": [],
      "source": [
        "mean_reciprocal_rank = sum(reciprocal_rank_total)/len(reciprocal_rank_total)"
      ]
    },
    {
      "cell_type": "code",
      "execution_count": 94,
      "metadata": {},
      "outputs": [],
      "source": [
        "mean_average_precision = sum(mean_average_precision_total)/len(mean_average_precision_total)"
      ]
    },
    {
      "cell_type": "code",
      "execution_count": 95,
      "metadata": {},
      "outputs": [],
      "source": [
        "avg_dcg_10  = sum(dcg_total)/len(dcg_total)\n",
        "avg_idcg_10 = sum(idcg_total)/len(idcg_total)\n",
        "normalized_dcg_10 = avg_dcg_10/avg_idcg_10"
      ]
    },
    {
      "cell_type": "code",
      "execution_count": 115,
      "metadata": {},
      "outputs": [
        {
          "output_type": "execute_result",
          "data": {
            "text/plain": "           f1  P@5  P@10       MAP  R_precision\n1    0.136095  0.6   0.3  0.216848     0.294118\n2    0.019293  0.4   0.2  0.301020     0.285714\n3    0.138329  0.2   0.4  0.165244     0.302326\n4    0.061069  0.0   0.2  0.114236     0.111111\n5    0.297521  0.8   0.8  0.217876     0.335878\n..        ...  ...   ...       ...          ...\n96   0.050633  0.6   0.4  0.287361     0.333333\n97   0.057143  0.6   0.4  0.400246     0.363636\n98   0.037618  0.6   0.3  0.206298     0.200000\n99   0.019417  0.6   0.3  0.600000     0.600000\n100  0.031746  0.6   0.3  0.292757     0.272727\n\n[99 rows x 5 columns]",
            "text/html": "<div>\n<style scoped>\n    .dataframe tbody tr th:only-of-type {\n        vertical-align: middle;\n    }\n\n    .dataframe tbody tr th {\n        vertical-align: top;\n    }\n\n    .dataframe thead th {\n        text-align: right;\n    }\n</style>\n<table border=\"1\" class=\"dataframe\">\n  <thead>\n    <tr style=\"text-align: right;\">\n      <th></th>\n      <th>f1</th>\n      <th>P@5</th>\n      <th>P@10</th>\n      <th>MAP</th>\n      <th>R_precision</th>\n    </tr>\n  </thead>\n  <tbody>\n    <tr>\n      <th>1</th>\n      <td>0.136095</td>\n      <td>0.6</td>\n      <td>0.3</td>\n      <td>0.216848</td>\n      <td>0.294118</td>\n    </tr>\n    <tr>\n      <th>2</th>\n      <td>0.019293</td>\n      <td>0.4</td>\n      <td>0.2</td>\n      <td>0.301020</td>\n      <td>0.285714</td>\n    </tr>\n    <tr>\n      <th>3</th>\n      <td>0.138329</td>\n      <td>0.2</td>\n      <td>0.4</td>\n      <td>0.165244</td>\n      <td>0.302326</td>\n    </tr>\n    <tr>\n      <th>4</th>\n      <td>0.061069</td>\n      <td>0.0</td>\n      <td>0.2</td>\n      <td>0.114236</td>\n      <td>0.111111</td>\n    </tr>\n    <tr>\n      <th>5</th>\n      <td>0.297521</td>\n      <td>0.8</td>\n      <td>0.8</td>\n      <td>0.217876</td>\n      <td>0.335878</td>\n    </tr>\n    <tr>\n      <th>...</th>\n      <td>...</td>\n      <td>...</td>\n      <td>...</td>\n      <td>...</td>\n      <td>...</td>\n    </tr>\n    <tr>\n      <th>96</th>\n      <td>0.050633</td>\n      <td>0.6</td>\n      <td>0.4</td>\n      <td>0.287361</td>\n      <td>0.333333</td>\n    </tr>\n    <tr>\n      <th>97</th>\n      <td>0.057143</td>\n      <td>0.6</td>\n      <td>0.4</td>\n      <td>0.400246</td>\n      <td>0.363636</td>\n    </tr>\n    <tr>\n      <th>98</th>\n      <td>0.037618</td>\n      <td>0.6</td>\n      <td>0.3</td>\n      <td>0.206298</td>\n      <td>0.200000</td>\n    </tr>\n    <tr>\n      <th>99</th>\n      <td>0.019417</td>\n      <td>0.6</td>\n      <td>0.3</td>\n      <td>0.600000</td>\n      <td>0.600000</td>\n    </tr>\n    <tr>\n      <th>100</th>\n      <td>0.031746</td>\n      <td>0.6</td>\n      <td>0.3</td>\n      <td>0.292757</td>\n      <td>0.272727</td>\n    </tr>\n  </tbody>\n</table>\n<p>99 rows × 5 columns</p>\n</div>"
          },
          "metadata": {},
          "execution_count": 115
        }
      ],
      "source": [
        "query_eval_df = pd.DataFrame(query_eval.values(),index=query_eval.keys())\n",
        "query_eval_df['MAP'] = mean_average_precision_total\n",
        "query_eval_df['R_precision'] = r_precision_total\n",
        "query_eval_df"
      ]
    },
    {
      "cell_type": "code",
      "execution_count": 122,
      "metadata": {},
      "outputs": [
        {
          "output_type": "execute_result",
          "data": {
            "text/plain": "0.5555555555555556"
          },
          "metadata": {},
          "execution_count": 122
        }
      ],
      "source": [
        "query_eval_df['P@5'].mean()"
      ]
    },
    {
      "cell_type": "code",
      "execution_count": 126,
      "metadata": {},
      "outputs": [],
      "source": [
        "avg_rec_prec_11_points = np.zeros_like(rec_prec_11_points_total[0])\n",
        "for rec_prec_11_points in rec_prec_11_points_total:\n",
        "    avg_rec_prec_11_points+=rec_prec_11_points\n",
        "avg_rec_prec_11_points = avg_rec_prec_11_points/len(rec_prec_11_points_total)"
      ]
    },
    {
      "cell_type": "code",
      "execution_count": 127,
      "metadata": {},
      "outputs": [
        {
          "output_type": "execute_result",
          "data": {
            "text/plain": "array([[0.        , 0.85671336],\n       [0.1       , 0.64836418],\n       [0.2       , 0.52756778],\n       [0.3       , 0.36484928],\n       [0.4       , 0.29268888],\n       [0.5       , 0.23641008],\n       [0.6       , 0.19772952],\n       [0.7       , 0.17265412],\n       [0.8       , 0.16212727],\n       [0.9       , 0.16048302],\n       [1.        , 0.16048302]])"
          },
          "metadata": {},
          "execution_count": 127
        }
      ],
      "source": [
        "avg_rec_prec_11_points"
      ]
    },
    {
      "cell_type": "code",
      "execution_count": 141,
      "metadata": {},
      "outputs": [
        {
          "output_type": "display_data",
          "data": {
            "text/plain": "<Figure size 864x648 with 1 Axes>",
            "image/svg+xml": "<?xml version=\"1.0\" encoding=\"utf-8\" standalone=\"no\"?>\n<!DOCTYPE svg PUBLIC \"-//W3C//DTD SVG 1.1//EN\"\n  \"http://www.w3.org/Graphics/SVG/1.1/DTD/svg11.dtd\">\n<!-- Created with matplotlib (https://matplotlib.org/) -->\n<svg height=\"549.114375pt\" version=\"1.1\" viewBox=\"0 0 720.58125 549.114375\" width=\"720.58125pt\" xmlns=\"http://www.w3.org/2000/svg\" xmlns:xlink=\"http://www.w3.org/1999/xlink\">\n <defs>\n  <style type=\"text/css\">\n*{stroke-linecap:butt;stroke-linejoin:round;}\n  </style>\n </defs>\n <g id=\"figure_1\">\n  <g id=\"patch_1\">\n   <path d=\"M 0 549.114375 \nL 720.58125 549.114375 \nL 720.58125 0 \nL 0 0 \nz\n\" style=\"fill:none;\"/>\n  </g>\n  <g id=\"axes_1\">\n   <g id=\"patch_2\">\n    <path d=\"M 43.78125 511.558125 \nL 713.38125 511.558125 \nL 713.38125 22.318125 \nL 43.78125 22.318125 \nz\n\" style=\"fill:#ffffff;\"/>\n   </g>\n   <g id=\"matplotlib.axis_1\">\n    <g id=\"xtick_1\">\n     <g id=\"line2d_1\">\n      <path clip-path=\"url(#p93d1683efe)\" d=\"M 74.217614 511.558125 \nL 74.217614 22.318125 \n\" style=\"fill:none;stroke:#b0b0b0;stroke-linecap:square;stroke-width:0.8;\"/>\n     </g>\n     <g id=\"line2d_2\">\n      <defs>\n       <path d=\"M 0 0 \nL 0 3.5 \n\" id=\"m219b6fcfc9\" style=\"stroke:#000000;stroke-width:0.8;\"/>\n      </defs>\n      <g>\n       <use style=\"stroke:#000000;stroke-width:0.8;\" x=\"74.217614\" xlink:href=\"#m219b6fcfc9\" y=\"511.558125\"/>\n      </g>\n     </g>\n     <g id=\"text_1\">\n      <!-- 0.0 -->\n      <defs>\n       <path d=\"M 31.78125 66.40625 \nQ 24.171875 66.40625 20.328125 58.90625 \nQ 16.5 51.421875 16.5 36.375 \nQ 16.5 21.390625 20.328125 13.890625 \nQ 24.171875 6.390625 31.78125 6.390625 \nQ 39.453125 6.390625 43.28125 13.890625 \nQ 47.125 21.390625 47.125 36.375 \nQ 47.125 51.421875 43.28125 58.90625 \nQ 39.453125 66.40625 31.78125 66.40625 \nz\nM 31.78125 74.21875 \nQ 44.046875 74.21875 50.515625 64.515625 \nQ 56.984375 54.828125 56.984375 36.375 \nQ 56.984375 17.96875 50.515625 8.265625 \nQ 44.046875 -1.421875 31.78125 -1.421875 \nQ 19.53125 -1.421875 13.0625 8.265625 \nQ 6.59375 17.96875 6.59375 36.375 \nQ 6.59375 54.828125 13.0625 64.515625 \nQ 19.53125 74.21875 31.78125 74.21875 \nz\n\" id=\"DejaVuSans-48\"/>\n       <path d=\"M 10.6875 12.40625 \nL 21 12.40625 \nL 21 0 \nL 10.6875 0 \nz\n\" id=\"DejaVuSans-46\"/>\n      </defs>\n      <g transform=\"translate(66.266051 526.156562)scale(0.1 -0.1)\">\n       <use xlink:href=\"#DejaVuSans-48\"/>\n       <use x=\"63.623047\" xlink:href=\"#DejaVuSans-46\"/>\n       <use x=\"95.410156\" xlink:href=\"#DejaVuSans-48\"/>\n      </g>\n     </g>\n    </g>\n    <g id=\"xtick_2\">\n     <g id=\"line2d_3\">\n      <path clip-path=\"url(#p93d1683efe)\" d=\"M 195.963068 511.558125 \nL 195.963068 22.318125 \n\" style=\"fill:none;stroke:#b0b0b0;stroke-linecap:square;stroke-width:0.8;\"/>\n     </g>\n     <g id=\"line2d_4\">\n      <g>\n       <use style=\"stroke:#000000;stroke-width:0.8;\" x=\"195.963068\" xlink:href=\"#m219b6fcfc9\" y=\"511.558125\"/>\n      </g>\n     </g>\n     <g id=\"text_2\">\n      <!-- 0.2 -->\n      <defs>\n       <path d=\"M 19.1875 8.296875 \nL 53.609375 8.296875 \nL 53.609375 0 \nL 7.328125 0 \nL 7.328125 8.296875 \nQ 12.9375 14.109375 22.625 23.890625 \nQ 32.328125 33.6875 34.8125 36.53125 \nQ 39.546875 41.84375 41.421875 45.53125 \nQ 43.3125 49.21875 43.3125 52.78125 \nQ 43.3125 58.59375 39.234375 62.25 \nQ 35.15625 65.921875 28.609375 65.921875 \nQ 23.96875 65.921875 18.8125 64.3125 \nQ 13.671875 62.703125 7.8125 59.421875 \nL 7.8125 69.390625 \nQ 13.765625 71.78125 18.9375 73 \nQ 24.125 74.21875 28.421875 74.21875 \nQ 39.75 74.21875 46.484375 68.546875 \nQ 53.21875 62.890625 53.21875 53.421875 \nQ 53.21875 48.921875 51.53125 44.890625 \nQ 49.859375 40.875 45.40625 35.40625 \nQ 44.1875 33.984375 37.640625 27.21875 \nQ 31.109375 20.453125 19.1875 8.296875 \nz\n\" id=\"DejaVuSans-50\"/>\n      </defs>\n      <g transform=\"translate(188.011506 526.156562)scale(0.1 -0.1)\">\n       <use xlink:href=\"#DejaVuSans-48\"/>\n       <use x=\"63.623047\" xlink:href=\"#DejaVuSans-46\"/>\n       <use x=\"95.410156\" xlink:href=\"#DejaVuSans-50\"/>\n      </g>\n     </g>\n    </g>\n    <g id=\"xtick_3\">\n     <g id=\"line2d_5\">\n      <path clip-path=\"url(#p93d1683efe)\" d=\"M 317.708523 511.558125 \nL 317.708523 22.318125 \n\" style=\"fill:none;stroke:#b0b0b0;stroke-linecap:square;stroke-width:0.8;\"/>\n     </g>\n     <g id=\"line2d_6\">\n      <g>\n       <use style=\"stroke:#000000;stroke-width:0.8;\" x=\"317.708523\" xlink:href=\"#m219b6fcfc9\" y=\"511.558125\"/>\n      </g>\n     </g>\n     <g id=\"text_3\">\n      <!-- 0.4 -->\n      <defs>\n       <path d=\"M 37.796875 64.3125 \nL 12.890625 25.390625 \nL 37.796875 25.390625 \nz\nM 35.203125 72.90625 \nL 47.609375 72.90625 \nL 47.609375 25.390625 \nL 58.015625 25.390625 \nL 58.015625 17.1875 \nL 47.609375 17.1875 \nL 47.609375 0 \nL 37.796875 0 \nL 37.796875 17.1875 \nL 4.890625 17.1875 \nL 4.890625 26.703125 \nz\n\" id=\"DejaVuSans-52\"/>\n      </defs>\n      <g transform=\"translate(309.75696 526.156562)scale(0.1 -0.1)\">\n       <use xlink:href=\"#DejaVuSans-48\"/>\n       <use x=\"63.623047\" xlink:href=\"#DejaVuSans-46\"/>\n       <use x=\"95.410156\" xlink:href=\"#DejaVuSans-52\"/>\n      </g>\n     </g>\n    </g>\n    <g id=\"xtick_4\">\n     <g id=\"line2d_7\">\n      <path clip-path=\"url(#p93d1683efe)\" d=\"M 439.453977 511.558125 \nL 439.453977 22.318125 \n\" style=\"fill:none;stroke:#b0b0b0;stroke-linecap:square;stroke-width:0.8;\"/>\n     </g>\n     <g id=\"line2d_8\">\n      <g>\n       <use style=\"stroke:#000000;stroke-width:0.8;\" x=\"439.453977\" xlink:href=\"#m219b6fcfc9\" y=\"511.558125\"/>\n      </g>\n     </g>\n     <g id=\"text_4\">\n      <!-- 0.6 -->\n      <defs>\n       <path d=\"M 33.015625 40.375 \nQ 26.375 40.375 22.484375 35.828125 \nQ 18.609375 31.296875 18.609375 23.390625 \nQ 18.609375 15.53125 22.484375 10.953125 \nQ 26.375 6.390625 33.015625 6.390625 \nQ 39.65625 6.390625 43.53125 10.953125 \nQ 47.40625 15.53125 47.40625 23.390625 \nQ 47.40625 31.296875 43.53125 35.828125 \nQ 39.65625 40.375 33.015625 40.375 \nz\nM 52.59375 71.296875 \nL 52.59375 62.3125 \nQ 48.875 64.0625 45.09375 64.984375 \nQ 41.3125 65.921875 37.59375 65.921875 \nQ 27.828125 65.921875 22.671875 59.328125 \nQ 17.53125 52.734375 16.796875 39.40625 \nQ 19.671875 43.65625 24.015625 45.921875 \nQ 28.375 48.1875 33.59375 48.1875 \nQ 44.578125 48.1875 50.953125 41.515625 \nQ 57.328125 34.859375 57.328125 23.390625 \nQ 57.328125 12.15625 50.6875 5.359375 \nQ 44.046875 -1.421875 33.015625 -1.421875 \nQ 20.359375 -1.421875 13.671875 8.265625 \nQ 6.984375 17.96875 6.984375 36.375 \nQ 6.984375 53.65625 15.1875 63.9375 \nQ 23.390625 74.21875 37.203125 74.21875 \nQ 40.921875 74.21875 44.703125 73.484375 \nQ 48.484375 72.75 52.59375 71.296875 \nz\n\" id=\"DejaVuSans-54\"/>\n      </defs>\n      <g transform=\"translate(431.502415 526.156562)scale(0.1 -0.1)\">\n       <use xlink:href=\"#DejaVuSans-48\"/>\n       <use x=\"63.623047\" xlink:href=\"#DejaVuSans-46\"/>\n       <use x=\"95.410156\" xlink:href=\"#DejaVuSans-54\"/>\n      </g>\n     </g>\n    </g>\n    <g id=\"xtick_5\">\n     <g id=\"line2d_9\">\n      <path clip-path=\"url(#p93d1683efe)\" d=\"M 561.199432 511.558125 \nL 561.199432 22.318125 \n\" style=\"fill:none;stroke:#b0b0b0;stroke-linecap:square;stroke-width:0.8;\"/>\n     </g>\n     <g id=\"line2d_10\">\n      <g>\n       <use style=\"stroke:#000000;stroke-width:0.8;\" x=\"561.199432\" xlink:href=\"#m219b6fcfc9\" y=\"511.558125\"/>\n      </g>\n     </g>\n     <g id=\"text_5\">\n      <!-- 0.8 -->\n      <defs>\n       <path d=\"M 31.78125 34.625 \nQ 24.75 34.625 20.71875 30.859375 \nQ 16.703125 27.09375 16.703125 20.515625 \nQ 16.703125 13.921875 20.71875 10.15625 \nQ 24.75 6.390625 31.78125 6.390625 \nQ 38.8125 6.390625 42.859375 10.171875 \nQ 46.921875 13.96875 46.921875 20.515625 \nQ 46.921875 27.09375 42.890625 30.859375 \nQ 38.875 34.625 31.78125 34.625 \nz\nM 21.921875 38.8125 \nQ 15.578125 40.375 12.03125 44.71875 \nQ 8.5 49.078125 8.5 55.328125 \nQ 8.5 64.0625 14.71875 69.140625 \nQ 20.953125 74.21875 31.78125 74.21875 \nQ 42.671875 74.21875 48.875 69.140625 \nQ 55.078125 64.0625 55.078125 55.328125 \nQ 55.078125 49.078125 51.53125 44.71875 \nQ 48 40.375 41.703125 38.8125 \nQ 48.828125 37.15625 52.796875 32.3125 \nQ 56.78125 27.484375 56.78125 20.515625 \nQ 56.78125 9.90625 50.3125 4.234375 \nQ 43.84375 -1.421875 31.78125 -1.421875 \nQ 19.734375 -1.421875 13.25 4.234375 \nQ 6.78125 9.90625 6.78125 20.515625 \nQ 6.78125 27.484375 10.78125 32.3125 \nQ 14.796875 37.15625 21.921875 38.8125 \nz\nM 18.3125 54.390625 \nQ 18.3125 48.734375 21.84375 45.5625 \nQ 25.390625 42.390625 31.78125 42.390625 \nQ 38.140625 42.390625 41.71875 45.5625 \nQ 45.3125 48.734375 45.3125 54.390625 \nQ 45.3125 60.0625 41.71875 63.234375 \nQ 38.140625 66.40625 31.78125 66.40625 \nQ 25.390625 66.40625 21.84375 63.234375 \nQ 18.3125 60.0625 18.3125 54.390625 \nz\n\" id=\"DejaVuSans-56\"/>\n      </defs>\n      <g transform=\"translate(553.247869 526.156562)scale(0.1 -0.1)\">\n       <use xlink:href=\"#DejaVuSans-48\"/>\n       <use x=\"63.623047\" xlink:href=\"#DejaVuSans-46\"/>\n       <use x=\"95.410156\" xlink:href=\"#DejaVuSans-56\"/>\n      </g>\n     </g>\n    </g>\n    <g id=\"xtick_6\">\n     <g id=\"line2d_11\">\n      <path clip-path=\"url(#p93d1683efe)\" d=\"M 682.944886 511.558125 \nL 682.944886 22.318125 \n\" style=\"fill:none;stroke:#b0b0b0;stroke-linecap:square;stroke-width:0.8;\"/>\n     </g>\n     <g id=\"line2d_12\">\n      <g>\n       <use style=\"stroke:#000000;stroke-width:0.8;\" x=\"682.944886\" xlink:href=\"#m219b6fcfc9\" y=\"511.558125\"/>\n      </g>\n     </g>\n     <g id=\"text_6\">\n      <!-- 1.0 -->\n      <defs>\n       <path d=\"M 12.40625 8.296875 \nL 28.515625 8.296875 \nL 28.515625 63.921875 \nL 10.984375 60.40625 \nL 10.984375 69.390625 \nL 28.421875 72.90625 \nL 38.28125 72.90625 \nL 38.28125 8.296875 \nL 54.390625 8.296875 \nL 54.390625 0 \nL 12.40625 0 \nz\n\" id=\"DejaVuSans-49\"/>\n      </defs>\n      <g transform=\"translate(674.993324 526.156562)scale(0.1 -0.1)\">\n       <use xlink:href=\"#DejaVuSans-49\"/>\n       <use x=\"63.623047\" xlink:href=\"#DejaVuSans-46\"/>\n       <use x=\"95.410156\" xlink:href=\"#DejaVuSans-48\"/>\n      </g>\n     </g>\n    </g>\n    <g id=\"text_7\">\n     <!-- Recall -->\n     <defs>\n      <path d=\"M 44.390625 34.1875 \nQ 47.5625 33.109375 50.5625 29.59375 \nQ 53.5625 26.078125 56.59375 19.921875 \nL 66.609375 0 \nL 56 0 \nL 46.6875 18.703125 \nQ 43.0625 26.03125 39.671875 28.421875 \nQ 36.28125 30.8125 30.421875 30.8125 \nL 19.671875 30.8125 \nL 19.671875 0 \nL 9.8125 0 \nL 9.8125 72.90625 \nL 32.078125 72.90625 \nQ 44.578125 72.90625 50.734375 67.671875 \nQ 56.890625 62.453125 56.890625 51.90625 \nQ 56.890625 45.015625 53.6875 40.46875 \nQ 50.484375 35.9375 44.390625 34.1875 \nz\nM 19.671875 64.796875 \nL 19.671875 38.921875 \nL 32.078125 38.921875 \nQ 39.203125 38.921875 42.84375 42.21875 \nQ 46.484375 45.515625 46.484375 51.90625 \nQ 46.484375 58.296875 42.84375 61.546875 \nQ 39.203125 64.796875 32.078125 64.796875 \nz\n\" id=\"DejaVuSans-82\"/>\n      <path d=\"M 56.203125 29.59375 \nL 56.203125 25.203125 \nL 14.890625 25.203125 \nQ 15.484375 15.921875 20.484375 11.0625 \nQ 25.484375 6.203125 34.421875 6.203125 \nQ 39.59375 6.203125 44.453125 7.46875 \nQ 49.3125 8.734375 54.109375 11.28125 \nL 54.109375 2.78125 \nQ 49.265625 0.734375 44.1875 -0.34375 \nQ 39.109375 -1.421875 33.890625 -1.421875 \nQ 20.796875 -1.421875 13.15625 6.1875 \nQ 5.515625 13.8125 5.515625 26.8125 \nQ 5.515625 40.234375 12.765625 48.109375 \nQ 20.015625 56 32.328125 56 \nQ 43.359375 56 49.78125 48.890625 \nQ 56.203125 41.796875 56.203125 29.59375 \nz\nM 47.21875 32.234375 \nQ 47.125 39.59375 43.09375 43.984375 \nQ 39.0625 48.390625 32.421875 48.390625 \nQ 24.90625 48.390625 20.390625 44.140625 \nQ 15.875 39.890625 15.1875 32.171875 \nz\n\" id=\"DejaVuSans-101\"/>\n      <path d=\"M 48.78125 52.59375 \nL 48.78125 44.1875 \nQ 44.96875 46.296875 41.140625 47.34375 \nQ 37.3125 48.390625 33.40625 48.390625 \nQ 24.65625 48.390625 19.8125 42.84375 \nQ 14.984375 37.3125 14.984375 27.296875 \nQ 14.984375 17.28125 19.8125 11.734375 \nQ 24.65625 6.203125 33.40625 6.203125 \nQ 37.3125 6.203125 41.140625 7.25 \nQ 44.96875 8.296875 48.78125 10.40625 \nL 48.78125 2.09375 \nQ 45.015625 0.34375 40.984375 -0.53125 \nQ 36.96875 -1.421875 32.421875 -1.421875 \nQ 20.0625 -1.421875 12.78125 6.34375 \nQ 5.515625 14.109375 5.515625 27.296875 \nQ 5.515625 40.671875 12.859375 48.328125 \nQ 20.21875 56 33.015625 56 \nQ 37.15625 56 41.109375 55.140625 \nQ 45.0625 54.296875 48.78125 52.59375 \nz\n\" id=\"DejaVuSans-99\"/>\n      <path d=\"M 34.28125 27.484375 \nQ 23.390625 27.484375 19.1875 25 \nQ 14.984375 22.515625 14.984375 16.5 \nQ 14.984375 11.71875 18.140625 8.90625 \nQ 21.296875 6.109375 26.703125 6.109375 \nQ 34.1875 6.109375 38.703125 11.40625 \nQ 43.21875 16.703125 43.21875 25.484375 \nL 43.21875 27.484375 \nz\nM 52.203125 31.203125 \nL 52.203125 0 \nL 43.21875 0 \nL 43.21875 8.296875 \nQ 40.140625 3.328125 35.546875 0.953125 \nQ 30.953125 -1.421875 24.3125 -1.421875 \nQ 15.921875 -1.421875 10.953125 3.296875 \nQ 6 8.015625 6 15.921875 \nQ 6 25.140625 12.171875 29.828125 \nQ 18.359375 34.515625 30.609375 34.515625 \nL 43.21875 34.515625 \nL 43.21875 35.40625 \nQ 43.21875 41.609375 39.140625 45 \nQ 35.0625 48.390625 27.6875 48.390625 \nQ 23 48.390625 18.546875 47.265625 \nQ 14.109375 46.140625 10.015625 43.890625 \nL 10.015625 52.203125 \nQ 14.9375 54.109375 19.578125 55.046875 \nQ 24.21875 56 28.609375 56 \nQ 40.484375 56 46.34375 49.84375 \nQ 52.203125 43.703125 52.203125 31.203125 \nz\n\" id=\"DejaVuSans-97\"/>\n      <path d=\"M 9.421875 75.984375 \nL 18.40625 75.984375 \nL 18.40625 0 \nL 9.421875 0 \nz\n\" id=\"DejaVuSans-108\"/>\n     </defs>\n     <g transform=\"translate(363.664062 539.834687)scale(0.1 -0.1)\">\n      <use xlink:href=\"#DejaVuSans-82\"/>\n      <use x=\"64.982422\" xlink:href=\"#DejaVuSans-101\"/>\n      <use x=\"126.505859\" xlink:href=\"#DejaVuSans-99\"/>\n      <use x=\"181.486328\" xlink:href=\"#DejaVuSans-97\"/>\n      <use x=\"242.765625\" xlink:href=\"#DejaVuSans-108\"/>\n      <use x=\"270.548828\" xlink:href=\"#DejaVuSans-108\"/>\n     </g>\n    </g>\n   </g>\n   <g id=\"matplotlib.axis_2\">\n    <g id=\"ytick_1\">\n     <g id=\"line2d_13\">\n      <path clip-path=\"url(#p93d1683efe)\" d=\"M 43.78125 511.558125 \nL 713.38125 511.558125 \n\" style=\"fill:none;stroke:#b0b0b0;stroke-linecap:square;stroke-width:0.8;\"/>\n     </g>\n     <g id=\"line2d_14\">\n      <defs>\n       <path d=\"M 0 0 \nL -3.5 0 \n\" id=\"m3f5e25acac\" style=\"stroke:#000000;stroke-width:0.8;\"/>\n      </defs>\n      <g>\n       <use style=\"stroke:#000000;stroke-width:0.8;\" x=\"43.78125\" xlink:href=\"#m3f5e25acac\" y=\"511.558125\"/>\n      </g>\n     </g>\n     <g id=\"text_8\">\n      <!-- 0.0 -->\n      <g transform=\"translate(20.878125 515.357344)scale(0.1 -0.1)\">\n       <use xlink:href=\"#DejaVuSans-48\"/>\n       <use x=\"63.623047\" xlink:href=\"#DejaVuSans-46\"/>\n       <use x=\"95.410156\" xlink:href=\"#DejaVuSans-48\"/>\n      </g>\n     </g>\n    </g>\n    <g id=\"ytick_2\">\n     <g id=\"line2d_15\">\n      <path clip-path=\"url(#p93d1683efe)\" d=\"M 43.78125 413.710125 \nL 713.38125 413.710125 \n\" style=\"fill:none;stroke:#b0b0b0;stroke-linecap:square;stroke-width:0.8;\"/>\n     </g>\n     <g id=\"line2d_16\">\n      <g>\n       <use style=\"stroke:#000000;stroke-width:0.8;\" x=\"43.78125\" xlink:href=\"#m3f5e25acac\" y=\"413.710125\"/>\n      </g>\n     </g>\n     <g id=\"text_9\">\n      <!-- 0.2 -->\n      <g transform=\"translate(20.878125 417.509344)scale(0.1 -0.1)\">\n       <use xlink:href=\"#DejaVuSans-48\"/>\n       <use x=\"63.623047\" xlink:href=\"#DejaVuSans-46\"/>\n       <use x=\"95.410156\" xlink:href=\"#DejaVuSans-50\"/>\n      </g>\n     </g>\n    </g>\n    <g id=\"ytick_3\">\n     <g id=\"line2d_17\">\n      <path clip-path=\"url(#p93d1683efe)\" d=\"M 43.78125 315.862125 \nL 713.38125 315.862125 \n\" style=\"fill:none;stroke:#b0b0b0;stroke-linecap:square;stroke-width:0.8;\"/>\n     </g>\n     <g id=\"line2d_18\">\n      <g>\n       <use style=\"stroke:#000000;stroke-width:0.8;\" x=\"43.78125\" xlink:href=\"#m3f5e25acac\" y=\"315.862125\"/>\n      </g>\n     </g>\n     <g id=\"text_10\">\n      <!-- 0.4 -->\n      <g transform=\"translate(20.878125 319.661344)scale(0.1 -0.1)\">\n       <use xlink:href=\"#DejaVuSans-48\"/>\n       <use x=\"63.623047\" xlink:href=\"#DejaVuSans-46\"/>\n       <use x=\"95.410156\" xlink:href=\"#DejaVuSans-52\"/>\n      </g>\n     </g>\n    </g>\n    <g id=\"ytick_4\">\n     <g id=\"line2d_19\">\n      <path clip-path=\"url(#p93d1683efe)\" d=\"M 43.78125 218.014125 \nL 713.38125 218.014125 \n\" style=\"fill:none;stroke:#b0b0b0;stroke-linecap:square;stroke-width:0.8;\"/>\n     </g>\n     <g id=\"line2d_20\">\n      <g>\n       <use style=\"stroke:#000000;stroke-width:0.8;\" x=\"43.78125\" xlink:href=\"#m3f5e25acac\" y=\"218.014125\"/>\n      </g>\n     </g>\n     <g id=\"text_11\">\n      <!-- 0.6 -->\n      <g transform=\"translate(20.878125 221.813344)scale(0.1 -0.1)\">\n       <use xlink:href=\"#DejaVuSans-48\"/>\n       <use x=\"63.623047\" xlink:href=\"#DejaVuSans-46\"/>\n       <use x=\"95.410156\" xlink:href=\"#DejaVuSans-54\"/>\n      </g>\n     </g>\n    </g>\n    <g id=\"ytick_5\">\n     <g id=\"line2d_21\">\n      <path clip-path=\"url(#p93d1683efe)\" d=\"M 43.78125 120.166125 \nL 713.38125 120.166125 \n\" style=\"fill:none;stroke:#b0b0b0;stroke-linecap:square;stroke-width:0.8;\"/>\n     </g>\n     <g id=\"line2d_22\">\n      <g>\n       <use style=\"stroke:#000000;stroke-width:0.8;\" x=\"43.78125\" xlink:href=\"#m3f5e25acac\" y=\"120.166125\"/>\n      </g>\n     </g>\n     <g id=\"text_12\">\n      <!-- 0.8 -->\n      <g transform=\"translate(20.878125 123.965344)scale(0.1 -0.1)\">\n       <use xlink:href=\"#DejaVuSans-48\"/>\n       <use x=\"63.623047\" xlink:href=\"#DejaVuSans-46\"/>\n       <use x=\"95.410156\" xlink:href=\"#DejaVuSans-56\"/>\n      </g>\n     </g>\n    </g>\n    <g id=\"ytick_6\">\n     <g id=\"line2d_23\">\n      <path clip-path=\"url(#p93d1683efe)\" d=\"M 43.78125 22.318125 \nL 713.38125 22.318125 \n\" style=\"fill:none;stroke:#b0b0b0;stroke-linecap:square;stroke-width:0.8;\"/>\n     </g>\n     <g id=\"line2d_24\">\n      <g>\n       <use style=\"stroke:#000000;stroke-width:0.8;\" x=\"43.78125\" xlink:href=\"#m3f5e25acac\" y=\"22.318125\"/>\n      </g>\n     </g>\n     <g id=\"text_13\">\n      <!-- 1.0 -->\n      <g transform=\"translate(20.878125 26.117344)scale(0.1 -0.1)\">\n       <use xlink:href=\"#DejaVuSans-49\"/>\n       <use x=\"63.623047\" xlink:href=\"#DejaVuSans-46\"/>\n       <use x=\"95.410156\" xlink:href=\"#DejaVuSans-48\"/>\n      </g>\n     </g>\n    </g>\n    <g id=\"text_14\">\n     <!-- Precision -->\n     <defs>\n      <path d=\"M 19.671875 64.796875 \nL 19.671875 37.40625 \nL 32.078125 37.40625 \nQ 38.96875 37.40625 42.71875 40.96875 \nQ 46.484375 44.53125 46.484375 51.125 \nQ 46.484375 57.671875 42.71875 61.234375 \nQ 38.96875 64.796875 32.078125 64.796875 \nz\nM 9.8125 72.90625 \nL 32.078125 72.90625 \nQ 44.34375 72.90625 50.609375 67.359375 \nQ 56.890625 61.8125 56.890625 51.125 \nQ 56.890625 40.328125 50.609375 34.8125 \nQ 44.34375 29.296875 32.078125 29.296875 \nL 19.671875 29.296875 \nL 19.671875 0 \nL 9.8125 0 \nz\n\" id=\"DejaVuSans-80\"/>\n      <path d=\"M 41.109375 46.296875 \nQ 39.59375 47.171875 37.8125 47.578125 \nQ 36.03125 48 33.890625 48 \nQ 26.265625 48 22.1875 43.046875 \nQ 18.109375 38.09375 18.109375 28.8125 \nL 18.109375 0 \nL 9.078125 0 \nL 9.078125 54.6875 \nL 18.109375 54.6875 \nL 18.109375 46.1875 \nQ 20.953125 51.171875 25.484375 53.578125 \nQ 30.03125 56 36.53125 56 \nQ 37.453125 56 38.578125 55.875 \nQ 39.703125 55.765625 41.0625 55.515625 \nz\n\" id=\"DejaVuSans-114\"/>\n      <path d=\"M 9.421875 54.6875 \nL 18.40625 54.6875 \nL 18.40625 0 \nL 9.421875 0 \nz\nM 9.421875 75.984375 \nL 18.40625 75.984375 \nL 18.40625 64.59375 \nL 9.421875 64.59375 \nz\n\" id=\"DejaVuSans-105\"/>\n      <path d=\"M 44.28125 53.078125 \nL 44.28125 44.578125 \nQ 40.484375 46.53125 36.375 47.5 \nQ 32.28125 48.484375 27.875 48.484375 \nQ 21.1875 48.484375 17.84375 46.4375 \nQ 14.5 44.390625 14.5 40.28125 \nQ 14.5 37.15625 16.890625 35.375 \nQ 19.28125 33.59375 26.515625 31.984375 \nL 29.59375 31.296875 \nQ 39.15625 29.25 43.1875 25.515625 \nQ 47.21875 21.78125 47.21875 15.09375 \nQ 47.21875 7.46875 41.1875 3.015625 \nQ 35.15625 -1.421875 24.609375 -1.421875 \nQ 20.21875 -1.421875 15.453125 -0.5625 \nQ 10.6875 0.296875 5.421875 2 \nL 5.421875 11.28125 \nQ 10.40625 8.6875 15.234375 7.390625 \nQ 20.0625 6.109375 24.8125 6.109375 \nQ 31.15625 6.109375 34.5625 8.28125 \nQ 37.984375 10.453125 37.984375 14.40625 \nQ 37.984375 18.0625 35.515625 20.015625 \nQ 33.0625 21.96875 24.703125 23.78125 \nL 21.578125 24.515625 \nQ 13.234375 26.265625 9.515625 29.90625 \nQ 5.8125 33.546875 5.8125 39.890625 \nQ 5.8125 47.609375 11.28125 51.796875 \nQ 16.75 56 26.8125 56 \nQ 31.78125 56 36.171875 55.265625 \nQ 40.578125 54.546875 44.28125 53.078125 \nz\n\" id=\"DejaVuSans-115\"/>\n      <path d=\"M 30.609375 48.390625 \nQ 23.390625 48.390625 19.1875 42.75 \nQ 14.984375 37.109375 14.984375 27.296875 \nQ 14.984375 17.484375 19.15625 11.84375 \nQ 23.34375 6.203125 30.609375 6.203125 \nQ 37.796875 6.203125 41.984375 11.859375 \nQ 46.1875 17.53125 46.1875 27.296875 \nQ 46.1875 37.015625 41.984375 42.703125 \nQ 37.796875 48.390625 30.609375 48.390625 \nz\nM 30.609375 56 \nQ 42.328125 56 49.015625 48.375 \nQ 55.71875 40.765625 55.71875 27.296875 \nQ 55.71875 13.875 49.015625 6.21875 \nQ 42.328125 -1.421875 30.609375 -1.421875 \nQ 18.84375 -1.421875 12.171875 6.21875 \nQ 5.515625 13.875 5.515625 27.296875 \nQ 5.515625 40.765625 12.171875 48.375 \nQ 18.84375 56 30.609375 56 \nz\n\" id=\"DejaVuSans-111\"/>\n      <path d=\"M 54.890625 33.015625 \nL 54.890625 0 \nL 45.90625 0 \nL 45.90625 32.71875 \nQ 45.90625 40.484375 42.875 44.328125 \nQ 39.84375 48.1875 33.796875 48.1875 \nQ 26.515625 48.1875 22.3125 43.546875 \nQ 18.109375 38.921875 18.109375 30.90625 \nL 18.109375 0 \nL 9.078125 0 \nL 9.078125 54.6875 \nL 18.109375 54.6875 \nL 18.109375 46.1875 \nQ 21.34375 51.125 25.703125 53.5625 \nQ 30.078125 56 35.796875 56 \nQ 45.21875 56 50.046875 50.171875 \nQ 54.890625 44.34375 54.890625 33.015625 \nz\n\" id=\"DejaVuSans-110\"/>\n     </defs>\n     <g transform=\"translate(14.798438 289.245156)rotate(-90)scale(0.1 -0.1)\">\n      <use xlink:href=\"#DejaVuSans-80\"/>\n      <use x=\"58.552734\" xlink:href=\"#DejaVuSans-114\"/>\n      <use x=\"97.416016\" xlink:href=\"#DejaVuSans-101\"/>\n      <use x=\"158.939453\" xlink:href=\"#DejaVuSans-99\"/>\n      <use x=\"213.919922\" xlink:href=\"#DejaVuSans-105\"/>\n      <use x=\"241.703125\" xlink:href=\"#DejaVuSans-115\"/>\n      <use x=\"293.802734\" xlink:href=\"#DejaVuSans-105\"/>\n      <use x=\"321.585938\" xlink:href=\"#DejaVuSans-111\"/>\n      <use x=\"382.767578\" xlink:href=\"#DejaVuSans-110\"/>\n     </g>\n    </g>\n   </g>\n   <g id=\"line2d_25\">\n    <path clip-path=\"url(#p93d1683efe)\" d=\"M 74.217614 92.419682 \nL 74.217614 194.352434 \nL 135.090341 194.352434 \nL 135.090341 253.450866 \nL 195.963068 253.450866 \nL 195.963068 333.059263 \nL 256.835795 333.059263 \nL 256.835795 368.363018 \nL 317.708523 368.363018 \nL 317.708523 395.896857 \nL 378.58125 395.896857 \nL 378.58125 414.820936 \nL 439.453977 414.820936 \nL 439.453977 427.088824 \nL 500.326705 427.088824 \nL 500.326705 432.238981 \nL 561.199432 432.238981 \nL 561.199432 433.043414 \nL 622.072159 433.043414 \nL 622.072159 433.043414 \nL 682.944886 433.043414 \n\" style=\"fill:none;stroke:#0000ff;stroke-linecap:square;stroke-opacity:0.7;stroke-width:1.5;\"/>\n    <defs>\n     <path d=\"M 0 3 \nC 0.795609 3 1.55874 2.683901 2.12132 2.12132 \nC 2.683901 1.55874 3 0.795609 3 0 \nC 3 -0.795609 2.683901 -1.55874 2.12132 -2.12132 \nC 1.55874 -2.683901 0.795609 -3 0 -3 \nC -0.795609 -3 -1.55874 -2.683901 -2.12132 -2.12132 \nC -2.683901 -1.55874 -3 -0.795609 -3 0 \nC -3 0.795609 -2.683901 1.55874 -2.12132 2.12132 \nC -1.55874 2.683901 -0.795609 3 0 3 \nz\n\" id=\"m91f57081a3\" style=\"stroke:#0000ff;stroke-opacity:0.7;\"/>\n    </defs>\n    <g clip-path=\"url(#p93d1683efe)\">\n     <use style=\"fill:#0000ff;fill-opacity:0.7;stroke:#0000ff;stroke-opacity:0.7;\" x=\"74.217614\" xlink:href=\"#m91f57081a3\" y=\"92.419682\"/>\n     <use style=\"fill:#0000ff;fill-opacity:0.7;stroke:#0000ff;stroke-opacity:0.7;\" x=\"135.090341\" xlink:href=\"#m91f57081a3\" y=\"194.352434\"/>\n     <use style=\"fill:#0000ff;fill-opacity:0.7;stroke:#0000ff;stroke-opacity:0.7;\" x=\"195.963068\" xlink:href=\"#m91f57081a3\" y=\"253.450866\"/>\n     <use style=\"fill:#0000ff;fill-opacity:0.7;stroke:#0000ff;stroke-opacity:0.7;\" x=\"256.835795\" xlink:href=\"#m91f57081a3\" y=\"333.059263\"/>\n     <use style=\"fill:#0000ff;fill-opacity:0.7;stroke:#0000ff;stroke-opacity:0.7;\" x=\"317.708523\" xlink:href=\"#m91f57081a3\" y=\"368.363018\"/>\n     <use style=\"fill:#0000ff;fill-opacity:0.7;stroke:#0000ff;stroke-opacity:0.7;\" x=\"378.58125\" xlink:href=\"#m91f57081a3\" y=\"395.896857\"/>\n     <use style=\"fill:#0000ff;fill-opacity:0.7;stroke:#0000ff;stroke-opacity:0.7;\" x=\"439.453977\" xlink:href=\"#m91f57081a3\" y=\"414.820936\"/>\n     <use style=\"fill:#0000ff;fill-opacity:0.7;stroke:#0000ff;stroke-opacity:0.7;\" x=\"500.326705\" xlink:href=\"#m91f57081a3\" y=\"427.088824\"/>\n     <use style=\"fill:#0000ff;fill-opacity:0.7;stroke:#0000ff;stroke-opacity:0.7;\" x=\"561.199432\" xlink:href=\"#m91f57081a3\" y=\"432.238981\"/>\n     <use style=\"fill:#0000ff;fill-opacity:0.7;stroke:#0000ff;stroke-opacity:0.7;\" x=\"622.072159\" xlink:href=\"#m91f57081a3\" y=\"433.043414\"/>\n     <use style=\"fill:#0000ff;fill-opacity:0.7;stroke:#0000ff;stroke-opacity:0.7;\" x=\"682.944886\" xlink:href=\"#m91f57081a3\" y=\"433.043414\"/>\n    </g>\n   </g>\n   <g id=\"patch_3\">\n    <path d=\"M 43.78125 511.558125 \nL 43.78125 22.318125 \n\" style=\"fill:none;stroke:#000000;stroke-linecap:square;stroke-linejoin:miter;stroke-width:0.8;\"/>\n   </g>\n   <g id=\"patch_4\">\n    <path d=\"M 713.38125 511.558125 \nL 713.38125 22.318125 \n\" style=\"fill:none;stroke:#000000;stroke-linecap:square;stroke-linejoin:miter;stroke-width:0.8;\"/>\n   </g>\n   <g id=\"patch_5\">\n    <path d=\"M 43.78125 511.558125 \nL 713.38125 511.558125 \n\" style=\"fill:none;stroke:#000000;stroke-linecap:square;stroke-linejoin:miter;stroke-width:0.8;\"/>\n   </g>\n   <g id=\"patch_6\">\n    <path d=\"M 43.78125 22.318125 \nL 713.38125 22.318125 \n\" style=\"fill:none;stroke:#000000;stroke-linecap:square;stroke-linejoin:miter;stroke-width:0.8;\"/>\n   </g>\n   <g id=\"text_15\">\n    <!-- 11 points recall precision -->\n    <defs>\n     <path id=\"DejaVuSans-32\"/>\n     <path d=\"M 18.109375 8.203125 \nL 18.109375 -20.796875 \nL 9.078125 -20.796875 \nL 9.078125 54.6875 \nL 18.109375 54.6875 \nL 18.109375 46.390625 \nQ 20.953125 51.265625 25.265625 53.625 \nQ 29.59375 56 35.59375 56 \nQ 45.5625 56 51.78125 48.09375 \nQ 58.015625 40.1875 58.015625 27.296875 \nQ 58.015625 14.40625 51.78125 6.484375 \nQ 45.5625 -1.421875 35.59375 -1.421875 \nQ 29.59375 -1.421875 25.265625 0.953125 \nQ 20.953125 3.328125 18.109375 8.203125 \nz\nM 48.6875 27.296875 \nQ 48.6875 37.203125 44.609375 42.84375 \nQ 40.53125 48.484375 33.40625 48.484375 \nQ 26.265625 48.484375 22.1875 42.84375 \nQ 18.109375 37.203125 18.109375 27.296875 \nQ 18.109375 17.390625 22.1875 11.75 \nQ 26.265625 6.109375 33.40625 6.109375 \nQ 40.53125 6.109375 44.609375 11.75 \nQ 48.6875 17.390625 48.6875 27.296875 \nz\n\" id=\"DejaVuSans-112\"/>\n     <path d=\"M 18.3125 70.21875 \nL 18.3125 54.6875 \nL 36.8125 54.6875 \nL 36.8125 47.703125 \nL 18.3125 47.703125 \nL 18.3125 18.015625 \nQ 18.3125 11.328125 20.140625 9.421875 \nQ 21.96875 7.515625 27.59375 7.515625 \nL 36.8125 7.515625 \nL 36.8125 0 \nL 27.59375 0 \nQ 17.1875 0 13.234375 3.875 \nQ 9.28125 7.765625 9.28125 18.015625 \nL 9.28125 47.703125 \nL 2.6875 47.703125 \nL 2.6875 54.6875 \nL 9.28125 54.6875 \nL 9.28125 70.21875 \nz\n\" id=\"DejaVuSans-116\"/>\n    </defs>\n    <g transform=\"translate(303.400313 16.318125)scale(0.12 -0.12)\">\n     <use xlink:href=\"#DejaVuSans-49\"/>\n     <use x=\"63.623047\" xlink:href=\"#DejaVuSans-49\"/>\n     <use x=\"127.246094\" xlink:href=\"#DejaVuSans-32\"/>\n     <use x=\"159.033203\" xlink:href=\"#DejaVuSans-112\"/>\n     <use x=\"222.509766\" xlink:href=\"#DejaVuSans-111\"/>\n     <use x=\"283.691406\" xlink:href=\"#DejaVuSans-105\"/>\n     <use x=\"311.474609\" xlink:href=\"#DejaVuSans-110\"/>\n     <use x=\"374.853516\" xlink:href=\"#DejaVuSans-116\"/>\n     <use x=\"414.0625\" xlink:href=\"#DejaVuSans-115\"/>\n     <use x=\"466.162109\" xlink:href=\"#DejaVuSans-32\"/>\n     <use x=\"497.949219\" xlink:href=\"#DejaVuSans-114\"/>\n     <use x=\"536.8125\" xlink:href=\"#DejaVuSans-101\"/>\n     <use x=\"598.335938\" xlink:href=\"#DejaVuSans-99\"/>\n     <use x=\"653.316406\" xlink:href=\"#DejaVuSans-97\"/>\n     <use x=\"714.595703\" xlink:href=\"#DejaVuSans-108\"/>\n     <use x=\"742.378906\" xlink:href=\"#DejaVuSans-108\"/>\n     <use x=\"770.162109\" xlink:href=\"#DejaVuSans-32\"/>\n     <use x=\"801.949219\" xlink:href=\"#DejaVuSans-112\"/>\n     <use x=\"865.425781\" xlink:href=\"#DejaVuSans-114\"/>\n     <use x=\"904.289062\" xlink:href=\"#DejaVuSans-101\"/>\n     <use x=\"965.8125\" xlink:href=\"#DejaVuSans-99\"/>\n     <use x=\"1020.792969\" xlink:href=\"#DejaVuSans-105\"/>\n     <use x=\"1048.576172\" xlink:href=\"#DejaVuSans-115\"/>\n     <use x=\"1100.675781\" xlink:href=\"#DejaVuSans-105\"/>\n     <use x=\"1128.458984\" xlink:href=\"#DejaVuSans-111\"/>\n     <use x=\"1189.640625\" xlink:href=\"#DejaVuSans-110\"/>\n    </g>\n   </g>\n  </g>\n </g>\n <defs>\n  <clipPath id=\"p93d1683efe\">\n   <rect height=\"489.24\" width=\"669.6\" x=\"43.78125\" y=\"22.318125\"/>\n  </clipPath>\n </defs>\n</svg>\n",
            "image/png": "[encoded data removed]"
          },
          "metadata": {
            "needs_background": "light"
          }
        }
      ],
      "source": [
        "\n",
        "\n",
        "plt.figure(figsize=(12,9))\n",
        "plt.title('11 points recall precision')\n",
        "plt.ylim(bottom=0.0, top=1.0)\n",
        "plt.ylabel('Precision')\n",
        "plt.xlabel('Recall')\n",
        "plt.step(avg_rec_prec_11_points[:,0], avg_rec_prec_11_points[:,1], 'o-', c='b', alpha=0.7)\n",
        "plt.grid()\n",
        "# plt.savefig(f'{eval_files_path}11points_{stemmer_present}_{query_number}.pdf')\n",
        "plt.show()"
      ]
    },
    {
      "cell_type": "code",
      "execution_count": 116,
      "metadata": {},
      "outputs": [
        {
          "output_type": "execute_result",
          "data": {
            "text/plain": "    Recall  Precision\n0      0.0   1.000000\n1      0.1   1.000000\n2      0.2   1.000000\n3      0.3   0.200000\n4      0.4   0.020325\n5      0.5   0.020325\n6      0.6   0.020325\n7      0.7   0.020325\n8      0.8   0.020325\n9      0.9   0.020325\n10     1.0   0.020325",
            "text/html": "<div>\n<style scoped>\n    .dataframe tbody tr th:only-of-type {\n        vertical-align: middle;\n    }\n\n    .dataframe tbody tr th {\n        vertical-align: top;\n    }\n\n    .dataframe thead th {\n        text-align: right;\n    }\n</style>\n<table border=\"1\" class=\"dataframe\">\n  <thead>\n    <tr style=\"text-align: right;\">\n      <th></th>\n      <th>Recall</th>\n      <th>Precision</th>\n    </tr>\n  </thead>\n  <tbody>\n    <tr>\n      <th>0</th>\n      <td>0.0</td>\n      <td>1.000000</td>\n    </tr>\n    <tr>\n      <th>1</th>\n      <td>0.1</td>\n      <td>1.000000</td>\n    </tr>\n    <tr>\n      <th>2</th>\n      <td>0.2</td>\n      <td>1.000000</td>\n    </tr>\n    <tr>\n      <th>3</th>\n      <td>0.3</td>\n      <td>0.200000</td>\n    </tr>\n    <tr>\n      <th>4</th>\n      <td>0.4</td>\n      <td>0.020325</td>\n    </tr>\n    <tr>\n      <th>5</th>\n      <td>0.5</td>\n      <td>0.020325</td>\n    </tr>\n    <tr>\n      <th>6</th>\n      <td>0.6</td>\n      <td>0.020325</td>\n    </tr>\n    <tr>\n      <th>7</th>\n      <td>0.7</td>\n      <td>0.020325</td>\n    </tr>\n    <tr>\n      <th>8</th>\n      <td>0.8</td>\n      <td>0.020325</td>\n    </tr>\n    <tr>\n      <th>9</th>\n      <td>0.9</td>\n      <td>0.020325</td>\n    </tr>\n    <tr>\n      <th>10</th>\n      <td>1.0</td>\n      <td>0.020325</td>\n    </tr>\n  </tbody>\n</table>\n</div>"
          },
          "metadata": {},
          "execution_count": 116
        }
      ],
      "source": [
        "df_11_points = pd.DataFrame(rec_prec_11_points).rename(columns={0:'Recall',1:'Precision'})\n",
        "df_11_points.to_csv(f\"{eval_files_path}11points_{stemmer_present}_{query_number}.csv\",index=False)"
      ]
    },
    {
      "cell_type": "code",
      "execution_count": 96,
      "metadata": {},
      "outputs": [
        {
          "output_type": "execute_result",
          "data": {
            "text/plain": "0.4638856277702484"
          },
          "metadata": {},
          "execution_count": 96
        }
      ],
      "source": [
        "normalized_dcg_10"
      ]
    },
    {
      "cell_type": "code",
      "execution_count": 97,
      "metadata": {},
      "outputs": [
        {
          "output_type": "execute_result",
          "data": {
            "text/plain": "0.25056880019104233"
          },
          "metadata": {},
          "execution_count": 97
        }
      ],
      "source": [
        "mean_average_precision"
      ]
    },
    {
      "cell_type": "code",
      "execution_count": 98,
      "metadata": {},
      "outputs": [
        {
          "output_type": "execute_result",
          "data": {
            "text/plain": "0.8204774929522404"
          },
          "metadata": {},
          "execution_count": 98
        }
      ],
      "source": [
        "mean_reciprocal_rank"
      ]
    },
    {
      "cell_type": "code",
      "execution_count": 99,
      "metadata": {},
      "outputs": [
        {
          "output_type": "display_data",
          "data": {
            "text/plain": "<Figure size 864x648 with 1 Axes>",
            "image/svg+xml": "<?xml version=\"1.0\" encoding=\"utf-8\" standalone=\"no\"?>\n<!DOCTYPE svg PUBLIC \"-//W3C//DTD SVG 1.1//EN\"\n  \"http://www.w3.org/Graphics/SVG/1.1/DTD/svg11.dtd\">\n<!-- Created with matplotlib (https://matplotlib.org/) -->\n<svg height=\"549.114375pt\" version=\"1.1\" viewBox=\"0 0 720.58125 549.114375\" width=\"720.58125pt\" xmlns=\"http://www.w3.org/2000/svg\" xmlns:xlink=\"http://www.w3.org/1999/xlink\">\n <defs>\n  <style type=\"text/css\">\n*{stroke-linecap:butt;stroke-linejoin:round;}\n  </style>\n </defs>\n <g id=\"figure_1\">\n  <g id=\"patch_1\">\n   <path d=\"M 0 549.114375 \nL 720.58125 549.114375 \nL 720.58125 0 \nL 0 0 \nz\n\" style=\"fill:none;\"/>\n  </g>\n  <g id=\"axes_1\">\n   <g id=\"patch_2\">\n    <path d=\"M 43.78125 511.558125 \nL 713.38125 511.558125 \nL 713.38125 22.318125 \nL 43.78125 22.318125 \nz\n\" style=\"fill:#ffffff;\"/>\n   </g>\n   <g id=\"patch_3\">\n    <path clip-path=\"url(#p51d6f9ad5c)\" d=\"M 74.217614 511.558125 \nL 79.097191 511.558125 \nL 79.097191 283.154764 \nL 74.217614 283.154764 \nz\n\" style=\"fill:#1f77b4;\"/>\n   </g>\n   <g id=\"patch_4\">\n    <path clip-path=\"url(#p51d6f9ad5c)\" d=\"M 80.317085 511.558125 \nL 85.196663 511.558125 \nL 85.196663 289.680574 \nL 80.317085 289.680574 \nz\n\" style=\"fill:#1f77b4;\"/>\n   </g>\n   <g id=\"patch_5\">\n    <path clip-path=\"url(#p51d6f9ad5c)\" d=\"M 86.416557 511.558125 \nL 91.296134 511.558125 \nL 91.296134 276.780716 \nL 86.416557 276.780716 \nz\n\" style=\"fill:#1f77b4;\"/>\n   </g>\n   <g id=\"patch_6\">\n    <path clip-path=\"url(#p51d6f9ad5c)\" d=\"M 92.516029 511.558125 \nL 97.395606 511.558125 \nL 97.395606 425.272411 \nL 92.516029 425.272411 \nz\n\" style=\"fill:#1f77b4;\"/>\n   </g>\n   <g id=\"patch_7\">\n    <path clip-path=\"url(#p51d6f9ad5c)\" d=\"M 98.6155 511.558125 \nL 103.495078 511.558125 \nL 103.495078 250.724973 \nL 98.6155 250.724973 \nz\n\" style=\"fill:#1f77b4;\"/>\n   </g>\n   <g id=\"patch_8\">\n    <path clip-path=\"url(#p51d6f9ad5c)\" d=\"M 104.714972 511.558125 \nL 109.594549 511.558125 \nL 109.594549 285.058125 \nL 104.714972 285.058125 \nz\n\" style=\"fill:#1f77b4;\"/>\n   </g>\n   <g id=\"patch_9\">\n    <path clip-path=\"url(#p51d6f9ad5c)\" d=\"M 110.814444 511.558125 \nL 115.694021 511.558125 \nL 115.694021 317.415268 \nL 110.814444 317.415268 \nz\n\" style=\"fill:#1f77b4;\"/>\n   </g>\n   <g id=\"patch_10\">\n    <path clip-path=\"url(#p51d6f9ad5c)\" d=\"M 116.913915 511.558125 \nL 121.793493 511.558125 \nL 121.793493 440.960722 \nL 116.913915 440.960722 \nz\n\" style=\"fill:#1f77b4;\"/>\n   </g>\n   <g id=\"patch_11\">\n    <path clip-path=\"url(#p51d6f9ad5c)\" d=\"M 123.013387 511.558125 \nL 127.892964 511.558125 \nL 127.892964 356.243839 \nL 123.013387 356.243839 \nz\n\" style=\"fill:#1f77b4;\"/>\n   </g>\n   <g id=\"patch_12\">\n    <path clip-path=\"url(#p51d6f9ad5c)\" d=\"M 129.112859 511.558125 \nL 133.992436 511.558125 \nL 133.992436 200.929554 \nL 129.112859 200.929554 \nz\n\" style=\"fill:#1f77b4;\"/>\n   </g>\n   <g id=\"patch_13\">\n    <path clip-path=\"url(#p51d6f9ad5c)\" d=\"M 135.21233 511.558125 \nL 140.091908 511.558125 \nL 140.091908 123.272411 \nL 135.21233 123.272411 \nz\n\" style=\"fill:#1f77b4;\"/>\n   </g>\n   <g id=\"patch_14\">\n    <path clip-path=\"url(#p51d6f9ad5c)\" d=\"M 141.311802 511.558125 \nL 146.191379 511.558125 \nL 146.191379 511.558125 \nL 141.311802 511.558125 \nz\n\" style=\"fill:#1f77b4;\"/>\n   </g>\n   <g id=\"patch_15\">\n    <path clip-path=\"url(#p51d6f9ad5c)\" d=\"M 147.411274 511.558125 \nL 152.290851 511.558125 \nL 152.290851 349.772411 \nL 147.411274 349.772411 \nz\n\" style=\"fill:#1f77b4;\"/>\n   </g>\n   <g id=\"patch_16\">\n    <path clip-path=\"url(#p51d6f9ad5c)\" d=\"M 153.510745 511.558125 \nL 158.390323 511.558125 \nL 158.390323 328.004878 \nL 153.510745 328.004878 \nz\n\" style=\"fill:#1f77b4;\"/>\n   </g>\n   <g id=\"patch_17\">\n    <path clip-path=\"url(#p51d6f9ad5c)\" d=\"M 159.610217 511.558125 \nL 164.489794 511.558125 \nL 164.489794 287.547136 \nL 159.610217 287.547136 \nz\n\" style=\"fill:#1f77b4;\"/>\n   </g>\n   <g id=\"patch_18\">\n    <path clip-path=\"url(#p51d6f9ad5c)\" d=\"M 165.709689 511.558125 \nL 170.589266 511.558125 \nL 170.589266 282.900982 \nL 165.709689 282.900982 \nz\n\" style=\"fill:#1f77b4;\"/>\n   </g>\n   <g id=\"patch_19\">\n    <path clip-path=\"url(#p51d6f9ad5c)\" d=\"M 171.80916 511.558125 \nL 176.688738 511.558125 \nL 176.688738 370.36332 \nL 171.80916 370.36332 \nz\n\" style=\"fill:#1f77b4;\"/>\n   </g>\n   <g id=\"patch_20\">\n    <path clip-path=\"url(#p51d6f9ad5c)\" d=\"M 177.908632 511.558125 \nL 182.788209 511.558125 \nL 182.788209 141.762207 \nL 177.908632 141.762207 \nz\n\" style=\"fill:#1f77b4;\"/>\n   </g>\n   <g id=\"patch_21\">\n    <path clip-path=\"url(#p51d6f9ad5c)\" d=\"M 184.008104 511.558125 \nL 188.887681 511.558125 \nL 188.887681 511.558125 \nL 184.008104 511.558125 \nz\n\" style=\"fill:#1f77b4;\"/>\n   </g>\n   <g id=\"patch_22\">\n    <path clip-path=\"url(#p51d6f9ad5c)\" d=\"M 190.107575 511.558125 \nL 194.987153 511.558125 \nL 194.987153 89.508436 \nL 190.107575 89.508436 \nz\n\" style=\"fill:#1f77b4;\"/>\n   </g>\n   <g id=\"patch_23\">\n    <path clip-path=\"url(#p51d6f9ad5c)\" d=\"M 196.207047 511.558125 \nL 201.086624 511.558125 \nL 201.086624 325.180982 \nL 196.207047 325.180982 \nz\n\" style=\"fill:#1f77b4;\"/>\n   </g>\n   <g id=\"patch_24\">\n    <path clip-path=\"url(#p51d6f9ad5c)\" d=\"M 202.306519 511.558125 \nL 207.186096 511.558125 \nL 207.186096 289.680574 \nL 202.306519 289.680574 \nz\n\" style=\"fill:#1f77b4;\"/>\n   </g>\n   <g id=\"patch_25\">\n    <path clip-path=\"url(#p51d6f9ad5c)\" d=\"M 208.40599 511.558125 \nL 213.285568 511.558125 \nL 213.285568 489.37037 \nL 208.40599 489.37037 \nz\n\" style=\"fill:#1f77b4;\"/>\n   </g>\n   <g id=\"patch_26\">\n    <path clip-path=\"url(#p51d6f9ad5c)\" d=\"M 214.505462 511.558125 \nL 219.385039 511.558125 \nL 219.385039 411.35536 \nL 214.505462 411.35536 \nz\n\" style=\"fill:#1f77b4;\"/>\n   </g>\n   <g id=\"patch_27\">\n    <path clip-path=\"url(#p51d6f9ad5c)\" d=\"M 220.604934 511.558125 \nL 225.484511 511.558125 \nL 225.484511 267.927873 \nL 220.604934 267.927873 \nz\n\" style=\"fill:#1f77b4;\"/>\n   </g>\n   <g id=\"patch_28\">\n    <path clip-path=\"url(#p51d6f9ad5c)\" d=\"M 226.704405 511.558125 \nL 231.583983 511.558125 \nL 231.583983 299.765917 \nL 226.704405 299.765917 \nz\n\" style=\"fill:#1f77b4;\"/>\n   </g>\n   <g id=\"patch_29\">\n    <path clip-path=\"url(#p51d6f9ad5c)\" d=\"M 232.803877 511.558125 \nL 237.683454 511.558125 \nL 237.683454 370.36332 \nL 232.803877 370.36332 \nz\n\" style=\"fill:#1f77b4;\"/>\n   </g>\n   <g id=\"patch_30\">\n    <path clip-path=\"url(#p51d6f9ad5c)\" d=\"M 238.903349 511.558125 \nL 243.782926 511.558125 \nL 243.782926 313.608545 \nL 238.903349 313.608545 \nz\n\" style=\"fill:#1f77b4;\"/>\n   </g>\n   <g id=\"patch_31\">\n    <path clip-path=\"url(#p51d6f9ad5c)\" d=\"M 245.00282 511.558125 \nL 249.882398 511.558125 \nL 249.882398 370.36332 \nL 245.00282 370.36332 \nz\n\" style=\"fill:#1f77b4;\"/>\n   </g>\n   <g id=\"patch_32\">\n    <path clip-path=\"url(#p51d6f9ad5c)\" d=\"M 251.102292 511.558125 \nL 255.981869 511.558125 \nL 255.981869 283.154764 \nL 251.102292 283.154764 \nz\n\" style=\"fill:#1f77b4;\"/>\n   </g>\n   <g id=\"patch_33\">\n    <path clip-path=\"url(#p51d6f9ad5c)\" d=\"M 257.201764 511.558125 \nL 262.081341 511.558125 \nL 262.081341 270.553199 \nL 257.201764 270.553199 \nz\n\" style=\"fill:#1f77b4;\"/>\n   </g>\n   <g id=\"patch_34\">\n    <path clip-path=\"url(#p51d6f9ad5c)\" d=\"M 263.301235 511.558125 \nL 268.180813 511.558125 \nL 268.180813 382.129554 \nL 263.301235 382.129554 \nz\n\" style=\"fill:#1f77b4;\"/>\n   </g>\n   <g id=\"patch_35\">\n    <path clip-path=\"url(#p51d6f9ad5c)\" d=\"M 269.400707 511.558125 \nL 274.280284 511.558125 \nL 274.280284 184.580681 \nL 269.400707 184.580681 \nz\n\" style=\"fill:#1f77b4;\"/>\n   </g>\n   <g id=\"patch_36\">\n    <path clip-path=\"url(#p51d6f9ad5c)\" d=\"M 275.500179 511.558125 \nL 280.379756 511.558125 \nL 280.379756 272.61307 \nL 275.500179 272.61307 \nz\n\" style=\"fill:#1f77b4;\"/>\n   </g>\n   <g id=\"patch_37\">\n    <path clip-path=\"url(#p51d6f9ad5c)\" d=\"M 281.59965 511.558125 \nL 286.479228 511.558125 \nL 286.479228 234.211186 \nL 281.59965 234.211186 \nz\n\" style=\"fill:#1f77b4;\"/>\n   </g>\n   <g id=\"patch_38\">\n    <path clip-path=\"url(#p51d6f9ad5c)\" d=\"M 287.699122 511.558125 \nL 292.578699 511.558125 \nL 292.578699 252.700982 \nL 287.699122 252.700982 \nz\n\" style=\"fill:#1f77b4;\"/>\n   </g>\n   <g id=\"patch_39\">\n    <path clip-path=\"url(#p51d6f9ad5c)\" d=\"M 293.798594 511.558125 \nL 298.678171 511.558125 \nL 298.678171 115.348212 \nL 293.798594 115.348212 \nz\n\" style=\"fill:#1f77b4;\"/>\n   </g>\n   <g id=\"patch_40\">\n    <path clip-path=\"url(#p51d6f9ad5c)\" d=\"M 299.898065 511.558125 \nL 304.777643 511.558125 \nL 304.777643 277.121467 \nL 299.898065 277.121467 \nz\n\" style=\"fill:#1f77b4;\"/>\n   </g>\n   <g id=\"patch_41\">\n    <path clip-path=\"url(#p51d6f9ad5c)\" d=\"M 305.997537 511.558125 \nL 310.877114 511.558125 \nL 310.877114 142.447014 \nL 305.997537 142.447014 \nz\n\" style=\"fill:#1f77b4;\"/>\n   </g>\n   <g id=\"patch_42\">\n    <path clip-path=\"url(#p51d6f9ad5c)\" d=\"M 312.097009 511.558125 \nL 316.976586 511.558125 \nL 316.976586 325.393741 \nL 312.097009 325.393741 \nz\n\" style=\"fill:#1f77b4;\"/>\n   </g>\n   <g id=\"patch_43\">\n    <path clip-path=\"url(#p51d6f9ad5c)\" d=\"M 318.19648 511.558125 \nL 323.076058 511.558125 \nL 323.076058 200.929554 \nL 318.19648 200.929554 \nz\n\" style=\"fill:#1f77b4;\"/>\n   </g>\n   <g id=\"patch_44\">\n    <path clip-path=\"url(#p51d6f9ad5c)\" d=\"M 324.295952 511.558125 \nL 329.175529 511.558125 \nL 329.175529 329.807365 \nL 324.295952 329.807365 \nz\n\" style=\"fill:#1f77b4;\"/>\n   </g>\n   <g id=\"patch_45\">\n    <path clip-path=\"url(#p51d6f9ad5c)\" d=\"M 330.395424 511.558125 \nL 335.275001 511.558125 \nL 335.275001 170.8176 \nL 330.395424 170.8176 \nz\n\" style=\"fill:#1f77b4;\"/>\n   </g>\n   <g id=\"patch_46\">\n    <path clip-path=\"url(#p51d6f9ad5c)\" d=\"M 336.494895 511.558125 \nL 341.374473 511.558125 \nL 341.374473 112.178533 \nL 336.494895 112.178533 \nz\n\" style=\"fill:#1f77b4;\"/>\n   </g>\n   <g id=\"patch_47\">\n    <path clip-path=\"url(#p51d6f9ad5c)\" d=\"M 342.594367 511.558125 \nL 347.473944 511.558125 \nL 347.473944 200.929554 \nL 342.594367 200.929554 \nz\n\" style=\"fill:#1f77b4;\"/>\n   </g>\n   <g id=\"patch_48\">\n    <path clip-path=\"url(#p51d6f9ad5c)\" d=\"M 348.693839 511.558125 \nL 353.573416 511.558125 \nL 353.573416 252.700982 \nL 348.693839 252.700982 \nz\n\" style=\"fill:#1f77b4;\"/>\n   </g>\n   <g id=\"patch_49\">\n    <path clip-path=\"url(#p51d6f9ad5c)\" d=\"M 354.79331 511.558125 \nL 359.672888 511.558125 \nL 359.672888 343.300982 \nL 354.79331 343.300982 \nz\n\" style=\"fill:#1f77b4;\"/>\n   </g>\n   <g id=\"patch_50\">\n    <path clip-path=\"url(#p51d6f9ad5c)\" d=\"M 360.892782 511.558125 \nL 365.772359 511.558125 \nL 365.772359 356.243839 \nL 360.892782 356.243839 \nz\n\" style=\"fill:#1f77b4;\"/>\n   </g>\n   <g id=\"patch_51\">\n    <path clip-path=\"url(#p51d6f9ad5c)\" d=\"M 366.992254 511.558125 \nL 371.871831 511.558125 \nL 371.871831 231.129554 \nL 366.992254 231.129554 \nz\n\" style=\"fill:#1f77b4;\"/>\n   </g>\n   <g id=\"patch_52\">\n    <path clip-path=\"url(#p51d6f9ad5c)\" d=\"M 373.091725 511.558125 \nL 377.971303 511.558125 \nL 377.971303 294.118125 \nL 373.091725 294.118125 \nz\n\" style=\"fill:#1f77b4;\"/>\n   </g>\n   <g id=\"patch_53\">\n    <path clip-path=\"url(#p51d6f9ad5c)\" d=\"M 379.191197 511.558125 \nL 384.070775 511.558125 \nL 384.070775 192.551605 \nL 379.191197 192.551605 \nz\n\" style=\"fill:#1f77b4;\"/>\n   </g>\n   <g id=\"patch_54\">\n    <path clip-path=\"url(#p51d6f9ad5c)\" d=\"M 385.290669 511.558125 \nL 390.170246 511.558125 \nL 390.170246 123.272411 \nL 385.290669 123.272411 \nz\n\" style=\"fill:#1f77b4;\"/>\n   </g>\n   <g id=\"patch_55\">\n    <path clip-path=\"url(#p51d6f9ad5c)\" d=\"M 391.390141 511.558125 \nL 396.269718 511.558125 \nL 396.269718 275.210299 \nL 391.390141 275.210299 \nz\n\" style=\"fill:#1f77b4;\"/>\n   </g>\n   <g id=\"patch_56\">\n    <path clip-path=\"url(#p51d6f9ad5c)\" d=\"M 397.489612 511.558125 \nL 402.36919 511.558125 \nL 402.36919 236.000521 \nL 397.489612 236.000521 \nz\n\" style=\"fill:#1f77b4;\"/>\n   </g>\n   <g id=\"patch_57\">\n    <path clip-path=\"url(#p51d6f9ad5c)\" d=\"M 403.589084 511.558125 \nL 408.468661 511.558125 \nL 408.468661 414.486696 \nL 403.589084 414.486696 \nz\n\" style=\"fill:#1f77b4;\"/>\n   </g>\n   <g id=\"patch_58\">\n    <path clip-path=\"url(#p51d6f9ad5c)\" d=\"M 409.688556 511.558125 \nL 414.568133 511.558125 \nL 414.568133 341.683125 \nL 409.688556 341.683125 \nz\n\" style=\"fill:#1f77b4;\"/>\n   </g>\n   <g id=\"patch_59\">\n    <path clip-path=\"url(#p51d6f9ad5c)\" d=\"M 415.788027 511.558125 \nL 420.667605 511.558125 \nL 420.667605 146.112747 \nL 415.788027 146.112747 \nz\n\" style=\"fill:#1f77b4;\"/>\n   </g>\n   <g id=\"patch_60\">\n    <path clip-path=\"url(#p51d6f9ad5c)\" d=\"M 421.887499 511.558125 \nL 426.767076 511.558125 \nL 426.767076 168.231809 \nL 421.887499 168.231809 \nz\n\" style=\"fill:#1f77b4;\"/>\n   </g>\n   <g id=\"patch_61\">\n    <path clip-path=\"url(#p51d6f9ad5c)\" d=\"M 427.986971 511.558125 \nL 432.866548 511.558125 \nL 432.866548 350.888174 \nL 427.986971 350.888174 \nz\n\" style=\"fill:#1f77b4;\"/>\n   </g>\n   <g id=\"patch_62\">\n    <path clip-path=\"url(#p51d6f9ad5c)\" d=\"M 434.086442 511.558125 \nL 438.96602 511.558125 \nL 438.96602 465.877453 \nL 434.086442 465.877453 \nz\n\" style=\"fill:#1f77b4;\"/>\n   </g>\n   <g id=\"patch_63\">\n    <path clip-path=\"url(#p51d6f9ad5c)\" d=\"M 440.185914 511.558125 \nL 445.065491 511.558125 \nL 445.065491 223.117309 \nL 440.185914 223.117309 \nz\n\" style=\"fill:#1f77b4;\"/>\n   </g>\n   <g id=\"patch_64\">\n    <path clip-path=\"url(#p51d6f9ad5c)\" d=\"M 446.285386 511.558125 \nL 451.164963 511.558125 \nL 451.164963 290.450982 \nL 446.285386 290.450982 \nz\n\" style=\"fill:#1f77b4;\"/>\n   </g>\n   <g id=\"patch_65\">\n    <path clip-path=\"url(#p51d6f9ad5c)\" d=\"M 452.384857 511.558125 \nL 457.264435 511.558125 \nL 457.264435 372.17351 \nL 452.384857 372.17351 \nz\n\" style=\"fill:#1f77b4;\"/>\n   </g>\n   <g id=\"patch_66\">\n    <path clip-path=\"url(#p51d6f9ad5c)\" d=\"M 458.484329 511.558125 \nL 463.363906 511.558125 \nL 463.363906 356.243839 \nL 458.484329 356.243839 \nz\n\" style=\"fill:#1f77b4;\"/>\n   </g>\n   <g id=\"patch_67\">\n    <path clip-path=\"url(#p51d6f9ad5c)\" d=\"M 464.583801 511.558125 \nL 469.463378 511.558125 \nL 469.463378 214.147791 \nL 464.583801 214.147791 \nz\n\" style=\"fill:#1f77b4;\"/>\n   </g>\n   <g id=\"patch_68\">\n    <path clip-path=\"url(#p51d6f9ad5c)\" d=\"M 470.683272 511.558125 \nL 475.56285 511.558125 \nL 475.56285 326.660166 \nL 470.683272 326.660166 \nz\n\" style=\"fill:#1f77b4;\"/>\n   </g>\n   <g id=\"patch_69\">\n    <path clip-path=\"url(#p51d6f9ad5c)\" d=\"M 476.782744 511.558125 \nL 481.662321 511.558125 \nL 481.662321 178.741798 \nL 476.782744 178.741798 \nz\n\" style=\"fill:#1f77b4;\"/>\n   </g>\n   <g id=\"patch_70\">\n    <path clip-path=\"url(#p51d6f9ad5c)\" d=\"M 482.882216 511.558125 \nL 487.761793 511.558125 \nL 487.761793 373.500982 \nL 482.882216 373.500982 \nz\n\" style=\"fill:#1f77b4;\"/>\n   </g>\n   <g id=\"patch_71\">\n    <path clip-path=\"url(#p51d6f9ad5c)\" d=\"M 488.981687 511.558125 \nL 493.861265 511.558125 \nL 493.861265 200.929554 \nL 488.981687 200.929554 \nz\n\" style=\"fill:#1f77b4;\"/>\n   </g>\n   <g id=\"patch_72\">\n    <path clip-path=\"url(#p51d6f9ad5c)\" d=\"M 495.081159 511.558125 \nL 499.960736 511.558125 \nL 499.960736 146.112747 \nL 495.081159 146.112747 \nz\n\" style=\"fill:#1f77b4;\"/>\n   </g>\n   <g id=\"patch_73\">\n    <path clip-path=\"url(#p51d6f9ad5c)\" d=\"M 501.180631 511.558125 \nL 506.060208 511.558125 \nL 506.060208 252.700982 \nL 501.180631 252.700982 \nz\n\" style=\"fill:#1f77b4;\"/>\n   </g>\n   <g id=\"patch_74\">\n    <path clip-path=\"url(#p51d6f9ad5c)\" d=\"M 507.280102 511.558125 \nL 512.15968 511.558125 \nL 512.15968 153.140543 \nL 507.280102 153.140543 \nz\n\" style=\"fill:#1f77b4;\"/>\n   </g>\n   <g id=\"patch_75\">\n    <path clip-path=\"url(#p51d6f9ad5c)\" d=\"M 513.379574 511.558125 \nL 518.259151 511.558125 \nL 518.259151 209.558125 \nL 513.379574 209.558125 \nz\n\" style=\"fill:#1f77b4;\"/>\n   </g>\n   <g id=\"patch_76\">\n    <path clip-path=\"url(#p51d6f9ad5c)\" d=\"M 519.479046 511.558125 \nL 524.358623 511.558125 \nL 524.358623 289.680574 \nL 519.479046 289.680574 \nz\n\" style=\"fill:#1f77b4;\"/>\n   </g>\n   <g id=\"patch_77\">\n    <path clip-path=\"url(#p51d6f9ad5c)\" d=\"M 525.578517 511.558125 \nL 530.458095 511.558125 \nL 530.458095 178.741798 \nL 525.578517 178.741798 \nz\n\" style=\"fill:#1f77b4;\"/>\n   </g>\n   <g id=\"patch_78\">\n    <path clip-path=\"url(#p51d6f9ad5c)\" d=\"M 531.677989 511.558125 \nL 536.557566 511.558125 \nL 536.557566 237.474091 \nL 531.677989 237.474091 \nz\n\" style=\"fill:#1f77b4;\"/>\n   </g>\n   <g id=\"patch_79\">\n    <path clip-path=\"url(#p51d6f9ad5c)\" d=\"M 537.777461 511.558125 \nL 542.657038 511.558125 \nL 542.657038 397.913526 \nL 537.777461 397.913526 \nz\n\" style=\"fill:#1f77b4;\"/>\n   </g>\n   <g id=\"patch_80\">\n    <path clip-path=\"url(#p51d6f9ad5c)\" d=\"M 543.876932 511.558125 \nL 548.75651 511.558125 \nL 548.75651 219.083171 \nL 543.876932 219.083171 \nz\n\" style=\"fill:#1f77b4;\"/>\n   </g>\n   <g id=\"patch_81\">\n    <path clip-path=\"url(#p51d6f9ad5c)\" d=\"M 549.976404 511.558125 \nL 554.855981 511.558125 \nL 554.855981 349.019919 \nL 549.976404 349.019919 \nz\n\" style=\"fill:#1f77b4;\"/>\n   </g>\n   <g id=\"patch_82\">\n    <path clip-path=\"url(#p51d6f9ad5c)\" d=\"M 556.075876 511.558125 \nL 560.955453 511.558125 \nL 560.955453 260.314428 \nL 556.075876 260.314428 \nz\n\" style=\"fill:#1f77b4;\"/>\n   </g>\n   <g id=\"patch_83\">\n    <path clip-path=\"url(#p51d6f9ad5c)\" d=\"M 562.175347 511.558125 \nL 567.054925 511.558125 \nL 567.054925 345.149962 \nL 562.175347 345.149962 \nz\n\" style=\"fill:#1f77b4;\"/>\n   </g>\n   <g id=\"patch_84\">\n    <path clip-path=\"url(#p51d6f9ad5c)\" d=\"M 568.274819 511.558125 \nL 573.154396 511.558125 \nL 573.154396 298.627249 \nL 568.274819 298.627249 \nz\n\" style=\"fill:#1f77b4;\"/>\n   </g>\n   <g id=\"patch_85\">\n    <path clip-path=\"url(#p51d6f9ad5c)\" d=\"M 574.374291 511.558125 \nL 579.253868 511.558125 \nL 579.253868 293.147411 \nL 574.374291 293.147411 \nz\n\" style=\"fill:#1f77b4;\"/>\n   </g>\n   <g id=\"patch_86\">\n    <path clip-path=\"url(#p51d6f9ad5c)\" d=\"M 580.473762 511.558125 \nL 585.35334 511.558125 \nL 585.35334 74.736696 \nL 580.473762 74.736696 \nz\n\" style=\"fill:#1f77b4;\"/>\n   </g>\n   <g id=\"patch_87\">\n    <path clip-path=\"url(#p51d6f9ad5c)\" d=\"M 586.573234 511.558125 \nL 591.452811 511.558125 \nL 591.452811 361.253978 \nL 586.573234 361.253978 \nz\n\" style=\"fill:#1f77b4;\"/>\n   </g>\n   <g id=\"patch_88\">\n    <path clip-path=\"url(#p51d6f9ad5c)\" d=\"M 592.672706 511.558125 \nL 597.552283 511.558125 \nL 597.552283 247.193383 \nL 592.672706 247.193383 \nz\n\" style=\"fill:#1f77b4;\"/>\n   </g>\n   <g id=\"patch_89\">\n    <path clip-path=\"url(#p51d6f9ad5c)\" d=\"M 598.772177 511.558125 \nL 603.651755 511.558125 \nL 603.651755 409.377674 \nL 598.772177 409.377674 \nz\n\" style=\"fill:#1f77b4;\"/>\n   </g>\n   <g id=\"patch_90\">\n    <path clip-path=\"url(#p51d6f9ad5c)\" d=\"M 604.871649 511.558125 \nL 609.751226 511.558125 \nL 609.751226 345.149962 \nL 604.871649 345.149962 \nz\n\" style=\"fill:#1f77b4;\"/>\n   </g>\n   <g id=\"patch_91\">\n    <path clip-path=\"url(#p51d6f9ad5c)\" d=\"M 610.971121 511.558125 \nL 615.850698 511.558125 \nL 615.850698 191.793419 \nL 610.971121 191.793419 \nz\n\" style=\"fill:#1f77b4;\"/>\n   </g>\n   <g id=\"patch_92\">\n    <path clip-path=\"url(#p51d6f9ad5c)\" d=\"M 617.070592 511.558125 \nL 621.95017 511.558125 \nL 621.95017 123.272411 \nL 617.070592 123.272411 \nz\n\" style=\"fill:#1f77b4;\"/>\n   </g>\n   <g id=\"patch_93\">\n    <path clip-path=\"url(#p51d6f9ad5c)\" d=\"M 623.170064 511.558125 \nL 628.049641 511.558125 \nL 628.049641 279.097599 \nL 623.170064 279.097599 \nz\n\" style=\"fill:#1f77b4;\"/>\n   </g>\n   <g id=\"patch_94\">\n    <path clip-path=\"url(#p51d6f9ad5c)\" d=\"M 629.269536 511.558125 \nL 634.149113 511.558125 \nL 634.149113 243.999902 \nL 629.269536 243.999902 \nz\n\" style=\"fill:#1f77b4;\"/>\n   </g>\n   <g id=\"patch_95\">\n    <path clip-path=\"url(#p51d6f9ad5c)\" d=\"M 641.468479 511.558125 \nL 646.348056 511.558125 \nL 646.348056 258.720916 \nL 641.468479 258.720916 \nz\n\" style=\"fill:#1f77b4;\"/>\n   </g>\n   <g id=\"patch_96\">\n    <path clip-path=\"url(#p51d6f9ad5c)\" d=\"M 647.567951 511.558125 \nL 652.447528 511.558125 \nL 652.447528 252.700982 \nL 647.567951 252.700982 \nz\n\" style=\"fill:#1f77b4;\"/>\n   </g>\n   <g id=\"patch_97\">\n    <path clip-path=\"url(#p51d6f9ad5c)\" d=\"M 653.667422 511.558125 \nL 658.547 511.558125 \nL 658.547 252.700982 \nL 653.667422 252.700982 \nz\n\" style=\"fill:#1f77b4;\"/>\n   </g>\n   <g id=\"patch_98\">\n    <path clip-path=\"url(#p51d6f9ad5c)\" d=\"M 659.766894 511.558125 \nL 664.646471 511.558125 \nL 664.646471 229.168515 \nL 659.766894 229.168515 \nz\n\" style=\"fill:#1f77b4;\"/>\n   </g>\n   <g id=\"patch_99\">\n    <path clip-path=\"url(#p51d6f9ad5c)\" d=\"M 665.866366 511.558125 \nL 670.745943 511.558125 \nL 670.745943 356.243839 \nL 665.866366 356.243839 \nz\n\" style=\"fill:#1f77b4;\"/>\n   </g>\n   <g id=\"patch_100\">\n    <path clip-path=\"url(#p51d6f9ad5c)\" d=\"M 671.965837 511.558125 \nL 676.845415 511.558125 \nL 676.845415 45.615268 \nL 671.965837 45.615268 \nz\n\" style=\"fill:#1f77b4;\"/>\n   </g>\n   <g id=\"patch_101\">\n    <path clip-path=\"url(#p51d6f9ad5c)\" d=\"M 678.065309 511.558125 \nL 682.944886 511.558125 \nL 682.944886 299.765917 \nL 678.065309 299.765917 \nz\n\" style=\"fill:#1f77b4;\"/>\n   </g>\n   <g id=\"matplotlib.axis_1\">\n    <g id=\"xtick_1\">\n     <g id=\"line2d_1\">\n      <path clip-path=\"url(#p51d6f9ad5c)\" d=\"M 70.557931 511.558125 \nL 70.557931 22.318125 \n\" style=\"fill:none;stroke:#b0b0b0;stroke-linecap:square;stroke-width:0.8;\"/>\n     </g>\n     <g id=\"line2d_2\">\n      <defs>\n       <path d=\"M 0 0 \nL 0 3.5 \n\" id=\"m089c4c84db\" style=\"stroke:#000000;stroke-width:0.8;\"/>\n      </defs>\n      <g>\n       <use style=\"stroke:#000000;stroke-width:0.8;\" x=\"70.557931\" xlink:href=\"#m089c4c84db\" y=\"511.558125\"/>\n      </g>\n     </g>\n     <g id=\"text_1\">\n      <!-- 0 -->\n      <defs>\n       <path d=\"M 31.78125 66.40625 \nQ 24.171875 66.40625 20.328125 58.90625 \nQ 16.5 51.421875 16.5 36.375 \nQ 16.5 21.390625 20.328125 13.890625 \nQ 24.171875 6.390625 31.78125 6.390625 \nQ 39.453125 6.390625 43.28125 13.890625 \nQ 47.125 21.390625 47.125 36.375 \nQ 47.125 51.421875 43.28125 58.90625 \nQ 39.453125 66.40625 31.78125 66.40625 \nz\nM 31.78125 74.21875 \nQ 44.046875 74.21875 50.515625 64.515625 \nQ 56.984375 54.828125 56.984375 36.375 \nQ 56.984375 17.96875 50.515625 8.265625 \nQ 44.046875 -1.421875 31.78125 -1.421875 \nQ 19.53125 -1.421875 13.0625 8.265625 \nQ 6.59375 17.96875 6.59375 36.375 \nQ 6.59375 54.828125 13.0625 64.515625 \nQ 19.53125 74.21875 31.78125 74.21875 \nz\n\" id=\"DejaVuSans-48\"/>\n      </defs>\n      <g transform=\"translate(67.376681 526.156562)scale(0.1 -0.1)\">\n       <use xlink:href=\"#DejaVuSans-48\"/>\n      </g>\n     </g>\n    </g>\n    <g id=\"xtick_2\">\n     <g id=\"line2d_3\">\n      <path clip-path=\"url(#p51d6f9ad5c)\" d=\"M 192.547364 511.558125 \nL 192.547364 22.318125 \n\" style=\"fill:none;stroke:#b0b0b0;stroke-linecap:square;stroke-width:0.8;\"/>\n     </g>\n     <g id=\"line2d_4\">\n      <g>\n       <use style=\"stroke:#000000;stroke-width:0.8;\" x=\"192.547364\" xlink:href=\"#m089c4c84db\" y=\"511.558125\"/>\n      </g>\n     </g>\n     <g id=\"text_2\">\n      <!-- 20 -->\n      <defs>\n       <path d=\"M 19.1875 8.296875 \nL 53.609375 8.296875 \nL 53.609375 0 \nL 7.328125 0 \nL 7.328125 8.296875 \nQ 12.9375 14.109375 22.625 23.890625 \nQ 32.328125 33.6875 34.8125 36.53125 \nQ 39.546875 41.84375 41.421875 45.53125 \nQ 43.3125 49.21875 43.3125 52.78125 \nQ 43.3125 58.59375 39.234375 62.25 \nQ 35.15625 65.921875 28.609375 65.921875 \nQ 23.96875 65.921875 18.8125 64.3125 \nQ 13.671875 62.703125 7.8125 59.421875 \nL 7.8125 69.390625 \nQ 13.765625 71.78125 18.9375 73 \nQ 24.125 74.21875 28.421875 74.21875 \nQ 39.75 74.21875 46.484375 68.546875 \nQ 53.21875 62.890625 53.21875 53.421875 \nQ 53.21875 48.921875 51.53125 44.890625 \nQ 49.859375 40.875 45.40625 35.40625 \nQ 44.1875 33.984375 37.640625 27.21875 \nQ 31.109375 20.453125 19.1875 8.296875 \nz\n\" id=\"DejaVuSans-50\"/>\n      </defs>\n      <g transform=\"translate(186.184864 526.156562)scale(0.1 -0.1)\">\n       <use xlink:href=\"#DejaVuSans-50\"/>\n       <use x=\"63.623047\" xlink:href=\"#DejaVuSans-48\"/>\n      </g>\n     </g>\n    </g>\n    <g id=\"xtick_3\">\n     <g id=\"line2d_5\">\n      <path clip-path=\"url(#p51d6f9ad5c)\" d=\"M 314.536797 511.558125 \nL 314.536797 22.318125 \n\" style=\"fill:none;stroke:#b0b0b0;stroke-linecap:square;stroke-width:0.8;\"/>\n     </g>\n     <g id=\"line2d_6\">\n      <g>\n       <use style=\"stroke:#000000;stroke-width:0.8;\" x=\"314.536797\" xlink:href=\"#m089c4c84db\" y=\"511.558125\"/>\n      </g>\n     </g>\n     <g id=\"text_3\">\n      <!-- 40 -->\n      <defs>\n       <path d=\"M 37.796875 64.3125 \nL 12.890625 25.390625 \nL 37.796875 25.390625 \nz\nM 35.203125 72.90625 \nL 47.609375 72.90625 \nL 47.609375 25.390625 \nL 58.015625 25.390625 \nL 58.015625 17.1875 \nL 47.609375 17.1875 \nL 47.609375 0 \nL 37.796875 0 \nL 37.796875 17.1875 \nL 4.890625 17.1875 \nL 4.890625 26.703125 \nz\n\" id=\"DejaVuSans-52\"/>\n      </defs>\n      <g transform=\"translate(308.174297 526.156562)scale(0.1 -0.1)\">\n       <use xlink:href=\"#DejaVuSans-52\"/>\n       <use x=\"63.623047\" xlink:href=\"#DejaVuSans-48\"/>\n      </g>\n     </g>\n    </g>\n    <g id=\"xtick_4\">\n     <g id=\"line2d_7\">\n      <path clip-path=\"url(#p51d6f9ad5c)\" d=\"M 436.526231 511.558125 \nL 436.526231 22.318125 \n\" style=\"fill:none;stroke:#b0b0b0;stroke-linecap:square;stroke-width:0.8;\"/>\n     </g>\n     <g id=\"line2d_8\">\n      <g>\n       <use style=\"stroke:#000000;stroke-width:0.8;\" x=\"436.526231\" xlink:href=\"#m089c4c84db\" y=\"511.558125\"/>\n      </g>\n     </g>\n     <g id=\"text_4\">\n      <!-- 60 -->\n      <defs>\n       <path d=\"M 33.015625 40.375 \nQ 26.375 40.375 22.484375 35.828125 \nQ 18.609375 31.296875 18.609375 23.390625 \nQ 18.609375 15.53125 22.484375 10.953125 \nQ 26.375 6.390625 33.015625 6.390625 \nQ 39.65625 6.390625 43.53125 10.953125 \nQ 47.40625 15.53125 47.40625 23.390625 \nQ 47.40625 31.296875 43.53125 35.828125 \nQ 39.65625 40.375 33.015625 40.375 \nz\nM 52.59375 71.296875 \nL 52.59375 62.3125 \nQ 48.875 64.0625 45.09375 64.984375 \nQ 41.3125 65.921875 37.59375 65.921875 \nQ 27.828125 65.921875 22.671875 59.328125 \nQ 17.53125 52.734375 16.796875 39.40625 \nQ 19.671875 43.65625 24.015625 45.921875 \nQ 28.375 48.1875 33.59375 48.1875 \nQ 44.578125 48.1875 50.953125 41.515625 \nQ 57.328125 34.859375 57.328125 23.390625 \nQ 57.328125 12.15625 50.6875 5.359375 \nQ 44.046875 -1.421875 33.015625 -1.421875 \nQ 20.359375 -1.421875 13.671875 8.265625 \nQ 6.984375 17.96875 6.984375 36.375 \nQ 6.984375 53.65625 15.1875 63.9375 \nQ 23.390625 74.21875 37.203125 74.21875 \nQ 40.921875 74.21875 44.703125 73.484375 \nQ 48.484375 72.75 52.59375 71.296875 \nz\n\" id=\"DejaVuSans-54\"/>\n      </defs>\n      <g transform=\"translate(430.163731 526.156562)scale(0.1 -0.1)\">\n       <use xlink:href=\"#DejaVuSans-54\"/>\n       <use x=\"63.623047\" xlink:href=\"#DejaVuSans-48\"/>\n      </g>\n     </g>\n    </g>\n    <g id=\"xtick_5\">\n     <g id=\"line2d_9\">\n      <path clip-path=\"url(#p51d6f9ad5c)\" d=\"M 558.515664 511.558125 \nL 558.515664 22.318125 \n\" style=\"fill:none;stroke:#b0b0b0;stroke-linecap:square;stroke-width:0.8;\"/>\n     </g>\n     <g id=\"line2d_10\">\n      <g>\n       <use style=\"stroke:#000000;stroke-width:0.8;\" x=\"558.515664\" xlink:href=\"#m089c4c84db\" y=\"511.558125\"/>\n      </g>\n     </g>\n     <g id=\"text_5\">\n      <!-- 80 -->\n      <defs>\n       <path d=\"M 31.78125 34.625 \nQ 24.75 34.625 20.71875 30.859375 \nQ 16.703125 27.09375 16.703125 20.515625 \nQ 16.703125 13.921875 20.71875 10.15625 \nQ 24.75 6.390625 31.78125 6.390625 \nQ 38.8125 6.390625 42.859375 10.171875 \nQ 46.921875 13.96875 46.921875 20.515625 \nQ 46.921875 27.09375 42.890625 30.859375 \nQ 38.875 34.625 31.78125 34.625 \nz\nM 21.921875 38.8125 \nQ 15.578125 40.375 12.03125 44.71875 \nQ 8.5 49.078125 8.5 55.328125 \nQ 8.5 64.0625 14.71875 69.140625 \nQ 20.953125 74.21875 31.78125 74.21875 \nQ 42.671875 74.21875 48.875 69.140625 \nQ 55.078125 64.0625 55.078125 55.328125 \nQ 55.078125 49.078125 51.53125 44.71875 \nQ 48 40.375 41.703125 38.8125 \nQ 48.828125 37.15625 52.796875 32.3125 \nQ 56.78125 27.484375 56.78125 20.515625 \nQ 56.78125 9.90625 50.3125 4.234375 \nQ 43.84375 -1.421875 31.78125 -1.421875 \nQ 19.734375 -1.421875 13.25 4.234375 \nQ 6.78125 9.90625 6.78125 20.515625 \nQ 6.78125 27.484375 10.78125 32.3125 \nQ 14.796875 37.15625 21.921875 38.8125 \nz\nM 18.3125 54.390625 \nQ 18.3125 48.734375 21.84375 45.5625 \nQ 25.390625 42.390625 31.78125 42.390625 \nQ 38.140625 42.390625 41.71875 45.5625 \nQ 45.3125 48.734375 45.3125 54.390625 \nQ 45.3125 60.0625 41.71875 63.234375 \nQ 38.140625 66.40625 31.78125 66.40625 \nQ 25.390625 66.40625 21.84375 63.234375 \nQ 18.3125 60.0625 18.3125 54.390625 \nz\n\" id=\"DejaVuSans-56\"/>\n      </defs>\n      <g transform=\"translate(552.153164 526.156562)scale(0.1 -0.1)\">\n       <use xlink:href=\"#DejaVuSans-56\"/>\n       <use x=\"63.623047\" xlink:href=\"#DejaVuSans-48\"/>\n      </g>\n     </g>\n    </g>\n    <g id=\"xtick_6\">\n     <g id=\"line2d_11\">\n      <path clip-path=\"url(#p51d6f9ad5c)\" d=\"M 680.505098 511.558125 \nL 680.505098 22.318125 \n\" style=\"fill:none;stroke:#b0b0b0;stroke-linecap:square;stroke-width:0.8;\"/>\n     </g>\n     <g id=\"line2d_12\">\n      <g>\n       <use style=\"stroke:#000000;stroke-width:0.8;\" x=\"680.505098\" xlink:href=\"#m089c4c84db\" y=\"511.558125\"/>\n      </g>\n     </g>\n     <g id=\"text_6\">\n      <!-- 100 -->\n      <defs>\n       <path d=\"M 12.40625 8.296875 \nL 28.515625 8.296875 \nL 28.515625 63.921875 \nL 10.984375 60.40625 \nL 10.984375 69.390625 \nL 28.421875 72.90625 \nL 38.28125 72.90625 \nL 38.28125 8.296875 \nL 54.390625 8.296875 \nL 54.390625 0 \nL 12.40625 0 \nz\n\" id=\"DejaVuSans-49\"/>\n      </defs>\n      <g transform=\"translate(670.961348 526.156562)scale(0.1 -0.1)\">\n       <use xlink:href=\"#DejaVuSans-49\"/>\n       <use x=\"63.623047\" xlink:href=\"#DejaVuSans-48\"/>\n       <use x=\"127.246094\" xlink:href=\"#DejaVuSans-48\"/>\n      </g>\n     </g>\n    </g>\n    <g id=\"text_7\">\n     <!-- Query number -->\n     <defs>\n      <path d=\"M 39.40625 66.21875 \nQ 28.65625 66.21875 22.328125 58.203125 \nQ 16.015625 50.203125 16.015625 36.375 \nQ 16.015625 22.609375 22.328125 14.59375 \nQ 28.65625 6.59375 39.40625 6.59375 \nQ 50.140625 6.59375 56.421875 14.59375 \nQ 62.703125 22.609375 62.703125 36.375 \nQ 62.703125 50.203125 56.421875 58.203125 \nQ 50.140625 66.21875 39.40625 66.21875 \nz\nM 53.21875 1.3125 \nL 66.21875 -12.890625 \nL 54.296875 -12.890625 \nL 43.5 -1.21875 \nQ 41.890625 -1.3125 41.03125 -1.359375 \nQ 40.1875 -1.421875 39.40625 -1.421875 \nQ 24.03125 -1.421875 14.8125 8.859375 \nQ 5.609375 19.140625 5.609375 36.375 \nQ 5.609375 53.65625 14.8125 63.9375 \nQ 24.03125 74.21875 39.40625 74.21875 \nQ 54.734375 74.21875 63.90625 63.9375 \nQ 73.09375 53.65625 73.09375 36.375 \nQ 73.09375 23.6875 67.984375 14.640625 \nQ 62.890625 5.609375 53.21875 1.3125 \nz\n\" id=\"DejaVuSans-81\"/>\n      <path d=\"M 8.5 21.578125 \nL 8.5 54.6875 \nL 17.484375 54.6875 \nL 17.484375 21.921875 \nQ 17.484375 14.15625 20.5 10.265625 \nQ 23.53125 6.390625 29.59375 6.390625 \nQ 36.859375 6.390625 41.078125 11.03125 \nQ 45.3125 15.671875 45.3125 23.6875 \nL 45.3125 54.6875 \nL 54.296875 54.6875 \nL 54.296875 0 \nL 45.3125 0 \nL 45.3125 8.40625 \nQ 42.046875 3.421875 37.71875 1 \nQ 33.40625 -1.421875 27.6875 -1.421875 \nQ 18.265625 -1.421875 13.375 4.4375 \nQ 8.5 10.296875 8.5 21.578125 \nz\nM 31.109375 56 \nz\n\" id=\"DejaVuSans-117\"/>\n      <path d=\"M 56.203125 29.59375 \nL 56.203125 25.203125 \nL 14.890625 25.203125 \nQ 15.484375 15.921875 20.484375 11.0625 \nQ 25.484375 6.203125 34.421875 6.203125 \nQ 39.59375 6.203125 44.453125 7.46875 \nQ 49.3125 8.734375 54.109375 11.28125 \nL 54.109375 2.78125 \nQ 49.265625 0.734375 44.1875 -0.34375 \nQ 39.109375 -1.421875 33.890625 -1.421875 \nQ 20.796875 -1.421875 13.15625 6.1875 \nQ 5.515625 13.8125 5.515625 26.8125 \nQ 5.515625 40.234375 12.765625 48.109375 \nQ 20.015625 56 32.328125 56 \nQ 43.359375 56 49.78125 48.890625 \nQ 56.203125 41.796875 56.203125 29.59375 \nz\nM 47.21875 32.234375 \nQ 47.125 39.59375 43.09375 43.984375 \nQ 39.0625 48.390625 32.421875 48.390625 \nQ 24.90625 48.390625 20.390625 44.140625 \nQ 15.875 39.890625 15.1875 32.171875 \nz\n\" id=\"DejaVuSans-101\"/>\n      <path d=\"M 41.109375 46.296875 \nQ 39.59375 47.171875 37.8125 47.578125 \nQ 36.03125 48 33.890625 48 \nQ 26.265625 48 22.1875 43.046875 \nQ 18.109375 38.09375 18.109375 28.8125 \nL 18.109375 0 \nL 9.078125 0 \nL 9.078125 54.6875 \nL 18.109375 54.6875 \nL 18.109375 46.1875 \nQ 20.953125 51.171875 25.484375 53.578125 \nQ 30.03125 56 36.53125 56 \nQ 37.453125 56 38.578125 55.875 \nQ 39.703125 55.765625 41.0625 55.515625 \nz\n\" id=\"DejaVuSans-114\"/>\n      <path d=\"M 32.171875 -5.078125 \nQ 28.375 -14.84375 24.75 -17.8125 \nQ 21.140625 -20.796875 15.09375 -20.796875 \nL 7.90625 -20.796875 \nL 7.90625 -13.28125 \nL 13.1875 -13.28125 \nQ 16.890625 -13.28125 18.9375 -11.515625 \nQ 21 -9.765625 23.484375 -3.21875 \nL 25.09375 0.875 \nL 2.984375 54.6875 \nL 12.5 54.6875 \nL 29.59375 11.921875 \nL 46.6875 54.6875 \nL 56.203125 54.6875 \nz\n\" id=\"DejaVuSans-121\"/>\n      <path id=\"DejaVuSans-32\"/>\n      <path d=\"M 54.890625 33.015625 \nL 54.890625 0 \nL 45.90625 0 \nL 45.90625 32.71875 \nQ 45.90625 40.484375 42.875 44.328125 \nQ 39.84375 48.1875 33.796875 48.1875 \nQ 26.515625 48.1875 22.3125 43.546875 \nQ 18.109375 38.921875 18.109375 30.90625 \nL 18.109375 0 \nL 9.078125 0 \nL 9.078125 54.6875 \nL 18.109375 54.6875 \nL 18.109375 46.1875 \nQ 21.34375 51.125 25.703125 53.5625 \nQ 30.078125 56 35.796875 56 \nQ 45.21875 56 50.046875 50.171875 \nQ 54.890625 44.34375 54.890625 33.015625 \nz\n\" id=\"DejaVuSans-110\"/>\n      <path d=\"M 52 44.1875 \nQ 55.375 50.25 60.0625 53.125 \nQ 64.75 56 71.09375 56 \nQ 79.640625 56 84.28125 50.015625 \nQ 88.921875 44.046875 88.921875 33.015625 \nL 88.921875 0 \nL 79.890625 0 \nL 79.890625 32.71875 \nQ 79.890625 40.578125 77.09375 44.375 \nQ 74.3125 48.1875 68.609375 48.1875 \nQ 61.625 48.1875 57.5625 43.546875 \nQ 53.515625 38.921875 53.515625 30.90625 \nL 53.515625 0 \nL 44.484375 0 \nL 44.484375 32.71875 \nQ 44.484375 40.625 41.703125 44.40625 \nQ 38.921875 48.1875 33.109375 48.1875 \nQ 26.21875 48.1875 22.15625 43.53125 \nQ 18.109375 38.875 18.109375 30.90625 \nL 18.109375 0 \nL 9.078125 0 \nL 9.078125 54.6875 \nL 18.109375 54.6875 \nL 18.109375 46.1875 \nQ 21.1875 51.21875 25.484375 53.609375 \nQ 29.78125 56 35.6875 56 \nQ 41.65625 56 45.828125 52.96875 \nQ 50 49.953125 52 44.1875 \nz\n\" id=\"DejaVuSans-109\"/>\n      <path d=\"M 48.6875 27.296875 \nQ 48.6875 37.203125 44.609375 42.84375 \nQ 40.53125 48.484375 33.40625 48.484375 \nQ 26.265625 48.484375 22.1875 42.84375 \nQ 18.109375 37.203125 18.109375 27.296875 \nQ 18.109375 17.390625 22.1875 11.75 \nQ 26.265625 6.109375 33.40625 6.109375 \nQ 40.53125 6.109375 44.609375 11.75 \nQ 48.6875 17.390625 48.6875 27.296875 \nz\nM 18.109375 46.390625 \nQ 20.953125 51.265625 25.265625 53.625 \nQ 29.59375 56 35.59375 56 \nQ 45.5625 56 51.78125 48.09375 \nQ 58.015625 40.1875 58.015625 27.296875 \nQ 58.015625 14.40625 51.78125 6.484375 \nQ 45.5625 -1.421875 35.59375 -1.421875 \nQ 29.59375 -1.421875 25.265625 0.953125 \nQ 20.953125 3.328125 18.109375 8.203125 \nL 18.109375 0 \nL 9.078125 0 \nL 9.078125 75.984375 \nL 18.109375 75.984375 \nz\n\" id=\"DejaVuSans-98\"/>\n     </defs>\n     <g transform=\"translate(342.282031 539.834687)scale(0.1 -0.1)\">\n      <use xlink:href=\"#DejaVuSans-81\"/>\n      <use x=\"78.710938\" xlink:href=\"#DejaVuSans-117\"/>\n      <use x=\"142.089844\" xlink:href=\"#DejaVuSans-101\"/>\n      <use x=\"203.613281\" xlink:href=\"#DejaVuSans-114\"/>\n      <use x=\"244.726562\" xlink:href=\"#DejaVuSans-121\"/>\n      <use x=\"303.90625\" xlink:href=\"#DejaVuSans-32\"/>\n      <use x=\"335.693359\" xlink:href=\"#DejaVuSans-110\"/>\n      <use x=\"399.072266\" xlink:href=\"#DejaVuSans-117\"/>\n      <use x=\"462.451172\" xlink:href=\"#DejaVuSans-109\"/>\n      <use x=\"559.863281\" xlink:href=\"#DejaVuSans-98\"/>\n      <use x=\"623.339844\" xlink:href=\"#DejaVuSans-101\"/>\n      <use x=\"684.863281\" xlink:href=\"#DejaVuSans-114\"/>\n     </g>\n    </g>\n   </g>\n   <g id=\"matplotlib.axis_2\">\n    <g id=\"ytick_1\">\n     <g id=\"line2d_13\">\n      <path clip-path=\"url(#p51d6f9ad5c)\" d=\"M 43.78125 511.558125 \nL 713.38125 511.558125 \n\" style=\"fill:none;stroke:#b0b0b0;stroke-linecap:square;stroke-width:0.8;\"/>\n     </g>\n     <g id=\"line2d_14\">\n      <defs>\n       <path d=\"M 0 0 \nL -3.5 0 \n\" id=\"m4cc22a2278\" style=\"stroke:#000000;stroke-width:0.8;\"/>\n      </defs>\n      <g>\n       <use style=\"stroke:#000000;stroke-width:0.8;\" x=\"43.78125\" xlink:href=\"#m4cc22a2278\" y=\"511.558125\"/>\n      </g>\n     </g>\n     <g id=\"text_8\">\n      <!-- 0.0 -->\n      <defs>\n       <path d=\"M 10.6875 12.40625 \nL 21 12.40625 \nL 21 0 \nL 10.6875 0 \nz\n\" id=\"DejaVuSans-46\"/>\n      </defs>\n      <g transform=\"translate(20.878125 515.357344)scale(0.1 -0.1)\">\n       <use xlink:href=\"#DejaVuSans-48\"/>\n       <use x=\"63.623047\" xlink:href=\"#DejaVuSans-46\"/>\n       <use x=\"95.410156\" xlink:href=\"#DejaVuSans-48\"/>\n      </g>\n     </g>\n    </g>\n    <g id=\"ytick_2\">\n     <g id=\"line2d_15\">\n      <path clip-path=\"url(#p51d6f9ad5c)\" d=\"M 43.78125 433.900982 \nL 713.38125 433.900982 \n\" style=\"fill:none;stroke:#b0b0b0;stroke-linecap:square;stroke-width:0.8;\"/>\n     </g>\n     <g id=\"line2d_16\">\n      <g>\n       <use style=\"stroke:#000000;stroke-width:0.8;\" x=\"43.78125\" xlink:href=\"#m4cc22a2278\" y=\"433.900982\"/>\n      </g>\n     </g>\n     <g id=\"text_9\">\n      <!-- 0.1 -->\n      <g transform=\"translate(20.878125 437.700201)scale(0.1 -0.1)\">\n       <use xlink:href=\"#DejaVuSans-48\"/>\n       <use x=\"63.623047\" xlink:href=\"#DejaVuSans-46\"/>\n       <use x=\"95.410156\" xlink:href=\"#DejaVuSans-49\"/>\n      </g>\n     </g>\n    </g>\n    <g id=\"ytick_3\">\n     <g id=\"line2d_17\">\n      <path clip-path=\"url(#p51d6f9ad5c)\" d=\"M 43.78125 356.243839 \nL 713.38125 356.243839 \n\" style=\"fill:none;stroke:#b0b0b0;stroke-linecap:square;stroke-width:0.8;\"/>\n     </g>\n     <g id=\"line2d_18\">\n      <g>\n       <use style=\"stroke:#000000;stroke-width:0.8;\" x=\"43.78125\" xlink:href=\"#m4cc22a2278\" y=\"356.243839\"/>\n      </g>\n     </g>\n     <g id=\"text_10\">\n      <!-- 0.2 -->\n      <g transform=\"translate(20.878125 360.043058)scale(0.1 -0.1)\">\n       <use xlink:href=\"#DejaVuSans-48\"/>\n       <use x=\"63.623047\" xlink:href=\"#DejaVuSans-46\"/>\n       <use x=\"95.410156\" xlink:href=\"#DejaVuSans-50\"/>\n      </g>\n     </g>\n    </g>\n    <g id=\"ytick_4\">\n     <g id=\"line2d_19\">\n      <path clip-path=\"url(#p51d6f9ad5c)\" d=\"M 43.78125 278.586696 \nL 713.38125 278.586696 \n\" style=\"fill:none;stroke:#b0b0b0;stroke-linecap:square;stroke-width:0.8;\"/>\n     </g>\n     <g id=\"line2d_20\">\n      <g>\n       <use style=\"stroke:#000000;stroke-width:0.8;\" x=\"43.78125\" xlink:href=\"#m4cc22a2278\" y=\"278.586696\"/>\n      </g>\n     </g>\n     <g id=\"text_11\">\n      <!-- 0.3 -->\n      <defs>\n       <path d=\"M 40.578125 39.3125 \nQ 47.65625 37.796875 51.625 33 \nQ 55.609375 28.21875 55.609375 21.1875 \nQ 55.609375 10.40625 48.1875 4.484375 \nQ 40.765625 -1.421875 27.09375 -1.421875 \nQ 22.515625 -1.421875 17.65625 -0.515625 \nQ 12.796875 0.390625 7.625 2.203125 \nL 7.625 11.71875 \nQ 11.71875 9.328125 16.59375 8.109375 \nQ 21.484375 6.890625 26.8125 6.890625 \nQ 36.078125 6.890625 40.9375 10.546875 \nQ 45.796875 14.203125 45.796875 21.1875 \nQ 45.796875 27.640625 41.28125 31.265625 \nQ 36.765625 34.90625 28.71875 34.90625 \nL 20.21875 34.90625 \nL 20.21875 43.015625 \nL 29.109375 43.015625 \nQ 36.375 43.015625 40.234375 45.921875 \nQ 44.09375 48.828125 44.09375 54.296875 \nQ 44.09375 59.90625 40.109375 62.90625 \nQ 36.140625 65.921875 28.71875 65.921875 \nQ 24.65625 65.921875 20.015625 65.03125 \nQ 15.375 64.15625 9.8125 62.3125 \nL 9.8125 71.09375 \nQ 15.4375 72.65625 20.34375 73.4375 \nQ 25.25 74.21875 29.59375 74.21875 \nQ 40.828125 74.21875 47.359375 69.109375 \nQ 53.90625 64.015625 53.90625 55.328125 \nQ 53.90625 49.265625 50.4375 45.09375 \nQ 46.96875 40.921875 40.578125 39.3125 \nz\n\" id=\"DejaVuSans-51\"/>\n      </defs>\n      <g transform=\"translate(20.878125 282.385915)scale(0.1 -0.1)\">\n       <use xlink:href=\"#DejaVuSans-48\"/>\n       <use x=\"63.623047\" xlink:href=\"#DejaVuSans-46\"/>\n       <use x=\"95.410156\" xlink:href=\"#DejaVuSans-51\"/>\n      </g>\n     </g>\n    </g>\n    <g id=\"ytick_5\">\n     <g id=\"line2d_21\">\n      <path clip-path=\"url(#p51d6f9ad5c)\" d=\"M 43.78125 200.929554 \nL 713.38125 200.929554 \n\" style=\"fill:none;stroke:#b0b0b0;stroke-linecap:square;stroke-width:0.8;\"/>\n     </g>\n     <g id=\"line2d_22\">\n      <g>\n       <use style=\"stroke:#000000;stroke-width:0.8;\" x=\"43.78125\" xlink:href=\"#m4cc22a2278\" y=\"200.929554\"/>\n      </g>\n     </g>\n     <g id=\"text_12\">\n      <!-- 0.4 -->\n      <g transform=\"translate(20.878125 204.728772)scale(0.1 -0.1)\">\n       <use xlink:href=\"#DejaVuSans-48\"/>\n       <use x=\"63.623047\" xlink:href=\"#DejaVuSans-46\"/>\n       <use x=\"95.410156\" xlink:href=\"#DejaVuSans-52\"/>\n      </g>\n     </g>\n    </g>\n    <g id=\"ytick_6\">\n     <g id=\"line2d_23\">\n      <path clip-path=\"url(#p51d6f9ad5c)\" d=\"M 43.78125 123.272411 \nL 713.38125 123.272411 \n\" style=\"fill:none;stroke:#b0b0b0;stroke-linecap:square;stroke-width:0.8;\"/>\n     </g>\n     <g id=\"line2d_24\">\n      <g>\n       <use style=\"stroke:#000000;stroke-width:0.8;\" x=\"43.78125\" xlink:href=\"#m4cc22a2278\" y=\"123.272411\"/>\n      </g>\n     </g>\n     <g id=\"text_13\">\n      <!-- 0.5 -->\n      <defs>\n       <path d=\"M 10.796875 72.90625 \nL 49.515625 72.90625 \nL 49.515625 64.59375 \nL 19.828125 64.59375 \nL 19.828125 46.734375 \nQ 21.96875 47.46875 24.109375 47.828125 \nQ 26.265625 48.1875 28.421875 48.1875 \nQ 40.625 48.1875 47.75 41.5 \nQ 54.890625 34.8125 54.890625 23.390625 \nQ 54.890625 11.625 47.5625 5.09375 \nQ 40.234375 -1.421875 26.90625 -1.421875 \nQ 22.3125 -1.421875 17.546875 -0.640625 \nQ 12.796875 0.140625 7.71875 1.703125 \nL 7.71875 11.625 \nQ 12.109375 9.234375 16.796875 8.0625 \nQ 21.484375 6.890625 26.703125 6.890625 \nQ 35.15625 6.890625 40.078125 11.328125 \nQ 45.015625 15.765625 45.015625 23.390625 \nQ 45.015625 31 40.078125 35.4375 \nQ 35.15625 39.890625 26.703125 39.890625 \nQ 22.75 39.890625 18.8125 39.015625 \nQ 14.890625 38.140625 10.796875 36.28125 \nz\n\" id=\"DejaVuSans-53\"/>\n      </defs>\n      <g transform=\"translate(20.878125 127.071629)scale(0.1 -0.1)\">\n       <use xlink:href=\"#DejaVuSans-48\"/>\n       <use x=\"63.623047\" xlink:href=\"#DejaVuSans-46\"/>\n       <use x=\"95.410156\" xlink:href=\"#DejaVuSans-53\"/>\n      </g>\n     </g>\n    </g>\n    <g id=\"ytick_7\">\n     <g id=\"line2d_25\">\n      <path clip-path=\"url(#p51d6f9ad5c)\" d=\"M 43.78125 45.615268 \nL 713.38125 45.615268 \n\" style=\"fill:none;stroke:#b0b0b0;stroke-linecap:square;stroke-width:0.8;\"/>\n     </g>\n     <g id=\"line2d_26\">\n      <g>\n       <use style=\"stroke:#000000;stroke-width:0.8;\" x=\"43.78125\" xlink:href=\"#m4cc22a2278\" y=\"45.615268\"/>\n      </g>\n     </g>\n     <g id=\"text_14\">\n      <!-- 0.6 -->\n      <g transform=\"translate(20.878125 49.414487)scale(0.1 -0.1)\">\n       <use xlink:href=\"#DejaVuSans-48\"/>\n       <use x=\"63.623047\" xlink:href=\"#DejaVuSans-46\"/>\n       <use x=\"95.410156\" xlink:href=\"#DejaVuSans-54\"/>\n      </g>\n     </g>\n    </g>\n    <g id=\"text_15\">\n     <!-- R-Precision -->\n     <defs>\n      <path d=\"M 44.390625 34.1875 \nQ 47.5625 33.109375 50.5625 29.59375 \nQ 53.5625 26.078125 56.59375 19.921875 \nL 66.609375 0 \nL 56 0 \nL 46.6875 18.703125 \nQ 43.0625 26.03125 39.671875 28.421875 \nQ 36.28125 30.8125 30.421875 30.8125 \nL 19.671875 30.8125 \nL 19.671875 0 \nL 9.8125 0 \nL 9.8125 72.90625 \nL 32.078125 72.90625 \nQ 44.578125 72.90625 50.734375 67.671875 \nQ 56.890625 62.453125 56.890625 51.90625 \nQ 56.890625 45.015625 53.6875 40.46875 \nQ 50.484375 35.9375 44.390625 34.1875 \nz\nM 19.671875 64.796875 \nL 19.671875 38.921875 \nL 32.078125 38.921875 \nQ 39.203125 38.921875 42.84375 42.21875 \nQ 46.484375 45.515625 46.484375 51.90625 \nQ 46.484375 58.296875 42.84375 61.546875 \nQ 39.203125 64.796875 32.078125 64.796875 \nz\n\" id=\"DejaVuSans-82\"/>\n      <path d=\"M 4.890625 31.390625 \nL 31.203125 31.390625 \nL 31.203125 23.390625 \nL 4.890625 23.390625 \nz\n\" id=\"DejaVuSans-45\"/>\n      <path d=\"M 19.671875 64.796875 \nL 19.671875 37.40625 \nL 32.078125 37.40625 \nQ 38.96875 37.40625 42.71875 40.96875 \nQ 46.484375 44.53125 46.484375 51.125 \nQ 46.484375 57.671875 42.71875 61.234375 \nQ 38.96875 64.796875 32.078125 64.796875 \nz\nM 9.8125 72.90625 \nL 32.078125 72.90625 \nQ 44.34375 72.90625 50.609375 67.359375 \nQ 56.890625 61.8125 56.890625 51.125 \nQ 56.890625 40.328125 50.609375 34.8125 \nQ 44.34375 29.296875 32.078125 29.296875 \nL 19.671875 29.296875 \nL 19.671875 0 \nL 9.8125 0 \nz\n\" id=\"DejaVuSans-80\"/>\n      <path d=\"M 48.78125 52.59375 \nL 48.78125 44.1875 \nQ 44.96875 46.296875 41.140625 47.34375 \nQ 37.3125 48.390625 33.40625 48.390625 \nQ 24.65625 48.390625 19.8125 42.84375 \nQ 14.984375 37.3125 14.984375 27.296875 \nQ 14.984375 17.28125 19.8125 11.734375 \nQ 24.65625 6.203125 33.40625 6.203125 \nQ 37.3125 6.203125 41.140625 7.25 \nQ 44.96875 8.296875 48.78125 10.40625 \nL 48.78125 2.09375 \nQ 45.015625 0.34375 40.984375 -0.53125 \nQ 36.96875 -1.421875 32.421875 -1.421875 \nQ 20.0625 -1.421875 12.78125 6.34375 \nQ 5.515625 14.109375 5.515625 27.296875 \nQ 5.515625 40.671875 12.859375 48.328125 \nQ 20.21875 56 33.015625 56 \nQ 37.15625 56 41.109375 55.140625 \nQ 45.0625 54.296875 48.78125 52.59375 \nz\n\" id=\"DejaVuSans-99\"/>\n      <path d=\"M 9.421875 54.6875 \nL 18.40625 54.6875 \nL 18.40625 0 \nL 9.421875 0 \nz\nM 9.421875 75.984375 \nL 18.40625 75.984375 \nL 18.40625 64.59375 \nL 9.421875 64.59375 \nz\n\" id=\"DejaVuSans-105\"/>\n      <path d=\"M 44.28125 53.078125 \nL 44.28125 44.578125 \nQ 40.484375 46.53125 36.375 47.5 \nQ 32.28125 48.484375 27.875 48.484375 \nQ 21.1875 48.484375 17.84375 46.4375 \nQ 14.5 44.390625 14.5 40.28125 \nQ 14.5 37.15625 16.890625 35.375 \nQ 19.28125 33.59375 26.515625 31.984375 \nL 29.59375 31.296875 \nQ 39.15625 29.25 43.1875 25.515625 \nQ 47.21875 21.78125 47.21875 15.09375 \nQ 47.21875 7.46875 41.1875 3.015625 \nQ 35.15625 -1.421875 24.609375 -1.421875 \nQ 20.21875 -1.421875 15.453125 -0.5625 \nQ 10.6875 0.296875 5.421875 2 \nL 5.421875 11.28125 \nQ 10.40625 8.6875 15.234375 7.390625 \nQ 20.0625 6.109375 24.8125 6.109375 \nQ 31.15625 6.109375 34.5625 8.28125 \nQ 37.984375 10.453125 37.984375 14.40625 \nQ 37.984375 18.0625 35.515625 20.015625 \nQ 33.0625 21.96875 24.703125 23.78125 \nL 21.578125 24.515625 \nQ 13.234375 26.265625 9.515625 29.90625 \nQ 5.8125 33.546875 5.8125 39.890625 \nQ 5.8125 47.609375 11.28125 51.796875 \nQ 16.75 56 26.8125 56 \nQ 31.78125 56 36.171875 55.265625 \nQ 40.578125 54.546875 44.28125 53.078125 \nz\n\" id=\"DejaVuSans-115\"/>\n      <path d=\"M 30.609375 48.390625 \nQ 23.390625 48.390625 19.1875 42.75 \nQ 14.984375 37.109375 14.984375 27.296875 \nQ 14.984375 17.484375 19.15625 11.84375 \nQ 23.34375 6.203125 30.609375 6.203125 \nQ 37.796875 6.203125 41.984375 11.859375 \nQ 46.1875 17.53125 46.1875 27.296875 \nQ 46.1875 37.015625 41.984375 42.703125 \nQ 37.796875 48.390625 30.609375 48.390625 \nz\nM 30.609375 56 \nQ 42.328125 56 49.015625 48.375 \nQ 55.71875 40.765625 55.71875 27.296875 \nQ 55.71875 13.875 49.015625 6.21875 \nQ 42.328125 -1.421875 30.609375 -1.421875 \nQ 18.84375 -1.421875 12.171875 6.21875 \nQ 5.515625 13.875 5.515625 27.296875 \nQ 5.515625 40.765625 12.171875 48.375 \nQ 18.84375 56 30.609375 56 \nz\n\" id=\"DejaVuSans-111\"/>\n     </defs>\n     <g transform=\"translate(14.798438 294.323281)rotate(-90)scale(0.1 -0.1)\">\n      <use xlink:href=\"#DejaVuSans-82\"/>\n      <use x=\"65.482422\" xlink:href=\"#DejaVuSans-45\"/>\n      <use x=\"101.566406\" xlink:href=\"#DejaVuSans-80\"/>\n      <use x=\"160.119141\" xlink:href=\"#DejaVuSans-114\"/>\n      <use x=\"198.982422\" xlink:href=\"#DejaVuSans-101\"/>\n      <use x=\"260.505859\" xlink:href=\"#DejaVuSans-99\"/>\n      <use x=\"315.486328\" xlink:href=\"#DejaVuSans-105\"/>\n      <use x=\"343.269531\" xlink:href=\"#DejaVuSans-115\"/>\n      <use x=\"395.369141\" xlink:href=\"#DejaVuSans-105\"/>\n      <use x=\"423.152344\" xlink:href=\"#DejaVuSans-111\"/>\n      <use x=\"484.333984\" xlink:href=\"#DejaVuSans-110\"/>\n     </g>\n    </g>\n   </g>\n   <g id=\"patch_102\">\n    <path d=\"M 43.78125 511.558125 \nL 43.78125 22.318125 \n\" style=\"fill:none;stroke:#000000;stroke-linecap:square;stroke-linejoin:miter;stroke-width:0.8;\"/>\n   </g>\n   <g id=\"patch_103\">\n    <path d=\"M 713.38125 511.558125 \nL 713.38125 22.318125 \n\" style=\"fill:none;stroke:#000000;stroke-linecap:square;stroke-linejoin:miter;stroke-width:0.8;\"/>\n   </g>\n   <g id=\"patch_104\">\n    <path d=\"M 43.78125 511.558125 \nL 713.38125 511.558125 \n\" style=\"fill:none;stroke:#000000;stroke-linecap:square;stroke-linejoin:miter;stroke-width:0.8;\"/>\n   </g>\n   <g id=\"patch_105\">\n    <path d=\"M 43.78125 22.318125 \nL 713.38125 22.318125 \n\" style=\"fill:none;stroke:#000000;stroke-linecap:square;stroke-linejoin:miter;stroke-width:0.8;\"/>\n   </g>\n   <g id=\"text_16\">\n    <!-- R-Precision Histogram -->\n    <defs>\n     <path d=\"M 9.8125 72.90625 \nL 19.671875 72.90625 \nL 19.671875 43.015625 \nL 55.515625 43.015625 \nL 55.515625 72.90625 \nL 65.375 72.90625 \nL 65.375 0 \nL 55.515625 0 \nL 55.515625 34.71875 \nL 19.671875 34.71875 \nL 19.671875 0 \nL 9.8125 0 \nz\n\" id=\"DejaVuSans-72\"/>\n     <path d=\"M 18.3125 70.21875 \nL 18.3125 54.6875 \nL 36.8125 54.6875 \nL 36.8125 47.703125 \nL 18.3125 47.703125 \nL 18.3125 18.015625 \nQ 18.3125 11.328125 20.140625 9.421875 \nQ 21.96875 7.515625 27.59375 7.515625 \nL 36.8125 7.515625 \nL 36.8125 0 \nL 27.59375 0 \nQ 17.1875 0 13.234375 3.875 \nQ 9.28125 7.765625 9.28125 18.015625 \nL 9.28125 47.703125 \nL 2.6875 47.703125 \nL 2.6875 54.6875 \nL 9.28125 54.6875 \nL 9.28125 70.21875 \nz\n\" id=\"DejaVuSans-116\"/>\n     <path d=\"M 45.40625 27.984375 \nQ 45.40625 37.75 41.375 43.109375 \nQ 37.359375 48.484375 30.078125 48.484375 \nQ 22.859375 48.484375 18.828125 43.109375 \nQ 14.796875 37.75 14.796875 27.984375 \nQ 14.796875 18.265625 18.828125 12.890625 \nQ 22.859375 7.515625 30.078125 7.515625 \nQ 37.359375 7.515625 41.375 12.890625 \nQ 45.40625 18.265625 45.40625 27.984375 \nz\nM 54.390625 6.78125 \nQ 54.390625 -7.171875 48.1875 -13.984375 \nQ 42 -20.796875 29.203125 -20.796875 \nQ 24.46875 -20.796875 20.265625 -20.09375 \nQ 16.0625 -19.390625 12.109375 -17.921875 \nL 12.109375 -9.1875 \nQ 16.0625 -11.328125 19.921875 -12.34375 \nQ 23.78125 -13.375 27.78125 -13.375 \nQ 36.625 -13.375 41.015625 -8.765625 \nQ 45.40625 -4.15625 45.40625 5.171875 \nL 45.40625 9.625 \nQ 42.625 4.78125 38.28125 2.390625 \nQ 33.9375 0 27.875 0 \nQ 17.828125 0 11.671875 7.65625 \nQ 5.515625 15.328125 5.515625 27.984375 \nQ 5.515625 40.671875 11.671875 48.328125 \nQ 17.828125 56 27.875 56 \nQ 33.9375 56 38.28125 53.609375 \nQ 42.625 51.21875 45.40625 46.390625 \nL 45.40625 54.6875 \nL 54.390625 54.6875 \nz\n\" id=\"DejaVuSans-103\"/>\n     <path d=\"M 34.28125 27.484375 \nQ 23.390625 27.484375 19.1875 25 \nQ 14.984375 22.515625 14.984375 16.5 \nQ 14.984375 11.71875 18.140625 8.90625 \nQ 21.296875 6.109375 26.703125 6.109375 \nQ 34.1875 6.109375 38.703125 11.40625 \nQ 43.21875 16.703125 43.21875 25.484375 \nL 43.21875 27.484375 \nz\nM 52.203125 31.203125 \nL 52.203125 0 \nL 43.21875 0 \nL 43.21875 8.296875 \nQ 40.140625 3.328125 35.546875 0.953125 \nQ 30.953125 -1.421875 24.3125 -1.421875 \nQ 15.921875 -1.421875 10.953125 3.296875 \nQ 6 8.015625 6 15.921875 \nQ 6 25.140625 12.171875 29.828125 \nQ 18.359375 34.515625 30.609375 34.515625 \nL 43.21875 34.515625 \nL 43.21875 35.40625 \nQ 43.21875 41.609375 39.140625 45 \nQ 35.0625 48.390625 27.6875 48.390625 \nQ 23 48.390625 18.546875 47.265625 \nQ 14.109375 46.140625 10.015625 43.890625 \nL 10.015625 52.203125 \nQ 14.9375 54.109375 19.578125 55.046875 \nQ 24.21875 56 28.609375 56 \nQ 40.484375 56 46.34375 49.84375 \nQ 52.203125 43.703125 52.203125 31.203125 \nz\n\" id=\"DejaVuSans-97\"/>\n    </defs>\n    <g transform=\"translate(312.687187 16.318125)scale(0.12 -0.12)\">\n     <use xlink:href=\"#DejaVuSans-82\"/>\n     <use x=\"65.482422\" xlink:href=\"#DejaVuSans-45\"/>\n     <use x=\"101.566406\" xlink:href=\"#DejaVuSans-80\"/>\n     <use x=\"160.119141\" xlink:href=\"#DejaVuSans-114\"/>\n     <use x=\"198.982422\" xlink:href=\"#DejaVuSans-101\"/>\n     <use x=\"260.505859\" xlink:href=\"#DejaVuSans-99\"/>\n     <use x=\"315.486328\" xlink:href=\"#DejaVuSans-105\"/>\n     <use x=\"343.269531\" xlink:href=\"#DejaVuSans-115\"/>\n     <use x=\"395.369141\" xlink:href=\"#DejaVuSans-105\"/>\n     <use x=\"423.152344\" xlink:href=\"#DejaVuSans-111\"/>\n     <use x=\"484.333984\" xlink:href=\"#DejaVuSans-110\"/>\n     <use x=\"547.712891\" xlink:href=\"#DejaVuSans-32\"/>\n     <use x=\"579.5\" xlink:href=\"#DejaVuSans-72\"/>\n     <use x=\"654.695312\" xlink:href=\"#DejaVuSans-105\"/>\n     <use x=\"682.478516\" xlink:href=\"#DejaVuSans-115\"/>\n     <use x=\"734.578125\" xlink:href=\"#DejaVuSans-116\"/>\n     <use x=\"773.787109\" xlink:href=\"#DejaVuSans-111\"/>\n     <use x=\"834.96875\" xlink:href=\"#DejaVuSans-103\"/>\n     <use x=\"898.445312\" xlink:href=\"#DejaVuSans-114\"/>\n     <use x=\"939.558594\" xlink:href=\"#DejaVuSans-97\"/>\n     <use x=\"1000.837891\" xlink:href=\"#DejaVuSans-109\"/>\n    </g>\n   </g>\n  </g>\n </g>\n <defs>\n  <clipPath id=\"p51d6f9ad5c\">\n   <rect height=\"489.24\" width=\"669.6\" x=\"43.78125\" y=\"22.318125\"/>\n  </clipPath>\n </defs>\n</svg>\n",
            "image/png": "[encoded data removed]"
          },
          "metadata": {
            "needs_background": "light"
          }
        }
      ],
      "source": [
        "x = list(expected_df['query_number'])\n",
        "y = r_precision_total\n",
        "plt.figure(figsize=(12,9))\n",
        "plt.title('R-Precision Histogram')\n",
        "plt.ylabel('R-Precision')\n",
        "plt.xlabel('Query number')\n",
        "plt.bar(x,y)\n",
        "plt.grid()\n",
        "plt.show()"
      ]
    },
    {
      "cell_type": "code",
      "execution_count": 60,
      "metadata": {},
      "outputs": [
        {
          "output_type": "execute_result",
          "data": {
            "text/plain": "     rank  doc_number  distance\n0       1         183  0.597088\n1       2         579  0.479441\n2       3        1017  0.233545\n3       4         871  0.107459\n4       5         594  0.079242\n..    ...         ...       ...\n299   300        1060  0.002096\n300   301        1110  0.002089\n301   302         998  0.002088\n302   303         310  0.002086\n303   304         589  0.002079\n\n[304 rows x 3 columns]",
            "text/html": "<div>\n<style scoped>\n    .dataframe tbody tr th:only-of-type {\n        vertical-align: middle;\n    }\n\n    .dataframe tbody tr th {\n        vertical-align: top;\n    }\n\n    .dataframe thead th {\n        text-align: right;\n    }\n</style>\n<table border=\"1\" class=\"dataframe\">\n  <thead>\n    <tr style=\"text-align: right;\">\n      <th></th>\n      <th>rank</th>\n      <th>doc_number</th>\n      <th>distance</th>\n    </tr>\n  </thead>\n  <tbody>\n    <tr>\n      <th>0</th>\n      <td>1</td>\n      <td>183</td>\n      <td>0.597088</td>\n    </tr>\n    <tr>\n      <th>1</th>\n      <td>2</td>\n      <td>579</td>\n      <td>0.479441</td>\n    </tr>\n    <tr>\n      <th>2</th>\n      <td>3</td>\n      <td>1017</td>\n      <td>0.233545</td>\n    </tr>\n    <tr>\n      <th>3</th>\n      <td>4</td>\n      <td>871</td>\n      <td>0.107459</td>\n    </tr>\n    <tr>\n      <th>4</th>\n      <td>5</td>\n      <td>594</td>\n      <td>0.079242</td>\n    </tr>\n    <tr>\n      <th>...</th>\n      <td>...</td>\n      <td>...</td>\n      <td>...</td>\n    </tr>\n    <tr>\n      <th>299</th>\n      <td>300</td>\n      <td>1060</td>\n      <td>0.002096</td>\n    </tr>\n    <tr>\n      <th>300</th>\n      <td>301</td>\n      <td>1110</td>\n      <td>0.002089</td>\n    </tr>\n    <tr>\n      <th>301</th>\n      <td>302</td>\n      <td>998</td>\n      <td>0.002088</td>\n    </tr>\n    <tr>\n      <th>302</th>\n      <td>303</td>\n      <td>310</td>\n      <td>0.002086</td>\n    </tr>\n    <tr>\n      <th>303</th>\n      <td>304</td>\n      <td>589</td>\n      <td>0.002079</td>\n    </tr>\n  </tbody>\n</table>\n<p>304 rows × 3 columns</p>\n</div>"
          },
          "metadata": {},
          "execution_count": 60
        }
      ],
      "source": [
        "rank_df"
      ]
    },
    {
      "cell_type": "code",
      "execution_count": 61,
      "metadata": {},
      "outputs": [
        {
          "output_type": "execute_result",
          "data": {
            "text/plain": "    doc_number     score  rank\n0          183  0.186667     1\n1          579  0.186667     2\n2         1017  0.160000     3\n3         1000  0.133333     4\n4          370  0.106667     5\n5           59  0.040000     6\n6          803  0.040000     7\n7          833  0.040000     8\n8         1097  0.040000     9\n9         1232  0.040000    10\n10        1033  0.026667    11",
            "text/html": "<div>\n<style scoped>\n    .dataframe tbody tr th:only-of-type {\n        vertical-align: middle;\n    }\n\n    .dataframe tbody tr th {\n        vertical-align: top;\n    }\n\n    .dataframe thead th {\n        text-align: right;\n    }\n</style>\n<table border=\"1\" class=\"dataframe\">\n  <thead>\n    <tr style=\"text-align: right;\">\n      <th></th>\n      <th>doc_number</th>\n      <th>score</th>\n      <th>rank</th>\n    </tr>\n  </thead>\n  <tbody>\n    <tr>\n      <th>0</th>\n      <td>183</td>\n      <td>0.186667</td>\n      <td>1</td>\n    </tr>\n    <tr>\n      <th>1</th>\n      <td>579</td>\n      <td>0.186667</td>\n      <td>2</td>\n    </tr>\n    <tr>\n      <th>2</th>\n      <td>1017</td>\n      <td>0.160000</td>\n      <td>3</td>\n    </tr>\n    <tr>\n      <th>3</th>\n      <td>1000</td>\n      <td>0.133333</td>\n      <td>4</td>\n    </tr>\n    <tr>\n      <th>4</th>\n      <td>370</td>\n      <td>0.106667</td>\n      <td>5</td>\n    </tr>\n    <tr>\n      <th>5</th>\n      <td>59</td>\n      <td>0.040000</td>\n      <td>6</td>\n    </tr>\n    <tr>\n      <th>6</th>\n      <td>803</td>\n      <td>0.040000</td>\n      <td>7</td>\n    </tr>\n    <tr>\n      <th>7</th>\n      <td>833</td>\n      <td>0.040000</td>\n      <td>8</td>\n    </tr>\n    <tr>\n      <th>8</th>\n      <td>1097</td>\n      <td>0.040000</td>\n      <td>9</td>\n    </tr>\n    <tr>\n      <th>9</th>\n      <td>1232</td>\n      <td>0.040000</td>\n      <td>10</td>\n    </tr>\n    <tr>\n      <th>10</th>\n      <td>1033</td>\n      <td>0.026667</td>\n      <td>11</td>\n    </tr>\n  </tbody>\n</table>\n</div>"
          },
          "metadata": {},
          "execution_count": 61
        }
      ],
      "source": [
        "expected_rank_df"
      ]
    },
    {
      "cell_type": "code",
      "execution_count": 62,
      "metadata": {},
      "outputs": [
        {
          "output_type": "execute_result",
          "data": {
            "text/plain": "{59, 183, 370, 579, 803, 833, 1000, 1017, 1033, 1097, 1232}"
          },
          "metadata": {},
          "execution_count": 62
        }
      ],
      "source": [
        "expected_rank_doc_set"
      ]
    },
    {
      "cell_type": "code",
      "execution_count": 68,
      "metadata": {},
      "outputs": [
        {
          "output_type": "execute_result",
          "data": {
            "text/plain": "{'index': [1, 2, 3, 20, 246],\n 'precision': [1.0, 1.0, 1.0, 0.2, 0.02032520325203252],\n 'recall': [0.09090909090909091,\n  0.18181818181818182,\n  0.2727272727272727,\n  0.36363636363636365,\n  0.45454545454545453]}"
          },
          "metadata": {},
          "execution_count": 68
        }
      ],
      "source": [
        "rel_pres_recall(rank_df, expected_rank_doc_set)"
      ]
    },
    {
      "cell_type": "code",
      "execution_count": 67,
      "metadata": {},
      "outputs": [],
      "source": []
    },
    {
      "cell_type": "code",
      "execution_count": 65,
      "metadata": {},
      "outputs": [
        {
          "output_type": "execute_result",
          "data": {
            "text/plain": "304"
          },
          "metadata": {},
          "execution_count": 65
        }
      ],
      "source": [
        "len(rank_doc_set)"
      ]
    },
    {
      "cell_type": "code",
      "execution_count": null,
      "metadata": {},
      "outputs": [],
      "source": []
    }
  ],
  "metadata": {
    "colab": {
      "name": "Vector_space_model.ipynb",
      "provenance": [],
      "collapsed_sections": [
        "MDCr_iTxPnee",
        "r815VK32PftG",
        "DPgMlPbrqIEM"
      ]
    },
    "kernelspec": {
      "name": "python37764bitpescvenv4339c29c52874c78a6593bcbce2e453f",
      "display_name": "Python 3.7.7 64-bit ('pesc': venv)"
    }
  },
  "nbformat": 4,
  "nbformat_minor": 0
}