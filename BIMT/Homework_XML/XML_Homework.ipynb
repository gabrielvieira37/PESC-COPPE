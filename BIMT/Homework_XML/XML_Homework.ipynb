{
  "nbformat": 4,
  "nbformat_minor": 0,
  "metadata": {
    "colab": {
      "name": "XML_Homework.ipynb",
      "provenance": []
    },
    "kernelspec": {
      "name": "python3",
      "display_name": "Python 3"
    }
  },
  "cells": [
    {
      "cell_type": "code",
      "metadata": {
        "id": "ej8mYeNZy2x_",
        "colab_type": "code",
        "colab": {}
      },
      "source": [
        "from lxml import etree\n",
        "from xml.dom import minidom"
      ],
      "execution_count": 4,
      "outputs": []
    },
    {
      "cell_type": "code",
      "metadata": {
        "id": "MkIffn1UwKdj",
        "colab_type": "code",
        "colab": {
          "base_uri": "https://localhost:8080/",
          "height": 221
        },
        "outputId": "1e824426-2e0b-4367-c6a9-6014e154264a"
      },
      "source": [
        "!unzip CysticFibrosis2-20200710.zip"
      ],
      "execution_count": 5,
      "outputs": [
        {
          "output_type": "stream",
          "text": [
            "Archive:  CysticFibrosis2-20200710.zip\n",
            "   creating: data/\n",
            "  inflating: data/cf74.xml           \n",
            "  inflating: data/cf75.xml           \n",
            "  inflating: data/cf76.xml           \n",
            "  inflating: data/cf77.xml           \n",
            "  inflating: data/cf78.xml           \n",
            "  inflating: data/cf79.xml           \n",
            "  inflating: data/cfc-2.dtd          \n",
            "  inflating: data/cfcquery-2.dtd     \n",
            "  inflating: data/cfquery.xml        \n",
            "  inflating: data/Modern Information Retrieval - Cystic Fibrosis Collection.htm  \n"
          ],
          "name": "stdout"
        }
      ]
    },
    {
      "cell_type": "code",
      "metadata": {
        "id": "8dWj9_Z6G1H3",
        "colab_type": "code",
        "colab": {}
      },
      "source": [
        "# load cf79 on a ElementTree\n",
        "tree = etree.parse('data/cf79.xml')\n",
        "# from anywhere on the document find all tags named AUTHOR\n",
        "founded_authors = tree.findall('//AUTHOR')\n",
        "# create xml root\n",
        "auth_root = etree.Element('AUTHORS') \n",
        "# create xml tree\n",
        "auth_tree = etree.ElementTree(auth_root) \n",
        "# save all elements on root\n",
        "auth_root.extend(founded_authors)\n",
        "# write xml file\n",
        "auth_tree.write('auth.xml', pretty_print=True, encoding='utf-8', xml_declaration=True)"
      ],
      "execution_count": 6,
      "outputs": []
    },
    {
      "cell_type": "code",
      "metadata": {
        "id": "59o6SgO-CwT-",
        "colab_type": "code",
        "colab": {}
      },
      "source": [
        "# load cf79 on a DOM\n",
        "dom = minidom.parse('data/cf79.xml')\n",
        "# from anywhere on the document find all tags named TITLE\n",
        "founded_titles = dom.getElementsByTagName('TITLE')\n",
        "\n",
        "# Create DOM document\n",
        "title_dom = minidom.Document()   \n",
        "# Create xml root\n",
        "title_root = title_dom.createElement('TITLES')  \n",
        "# add root to document\n",
        "title_dom.appendChild(title_root) \n",
        "# add each TITLE tag on document\n",
        "for title in founded_titles:\n",
        "    title_root.appendChild(title)\n",
        "\n",
        "# write DOM document to xml file\n",
        "file_title = open('title.xml','w+')\n",
        "title_dom.writexml(file_title, newl='\\n')\n",
        "file_title.close()"
      ],
      "execution_count": 7,
      "outputs": []
    },
    {
      "cell_type": "code",
      "metadata": {
        "id": "CgSeqWskFJfC",
        "colab_type": "code",
        "colab": {}
      },
      "source": [
        ""
      ],
      "execution_count": 7,
      "outputs": []
    }
  ]
}