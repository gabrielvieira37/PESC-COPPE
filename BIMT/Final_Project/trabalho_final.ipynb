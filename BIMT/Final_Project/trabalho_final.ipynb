{
  "nbformat": 4,
  "nbformat_minor": 0,
  "metadata": {
    "colab": {
      "name": "trabalho_bi_mt.ipynb",
      "provenance": [],
      "collapsed_sections": [],
      "authorship_tag": "ABX9TyPdqTQ8q9CNDhUOz/u3omTX",
      "include_colab_link": true
    },
    "kernelspec": {
      "name": "python3",
      "display_name": "Python 3"
    }
  },
  "cells": [
    {
      "cell_type": "markdown",
      "metadata": {
        "id": "view-in-github",
        "colab_type": "text"
      },
      "source": [
        "<a href=\"https://colab.research.google.com/github/biemt-pesc-coppe-ufrj/GabrielLeticiaRennan/blob/master/trabalho_final.ipynb\" target=\"_parent\"><img src=\"https://colab.research.google.com/assets/colab-badge.svg\" alt=\"Open In Colab\"/></a>"
      ]
    },
    {
      "cell_type": "code",
      "metadata": {
        "id": "kzUiC7KrHc6I",
        "outputId": "313a3dd2-6462-4355-de06-b91a6845280a",
        "colab": {
          "base_uri": "https://localhost:8080/",
          "height": 68
        }
      },
      "source": [
        "import certifi\n",
        "# import elasticsearch\n",
        "import json\n",
        "# import lime\n",
        "import matplotlib.pyplot as plt\n",
        "import numpy as np\n",
        "import nltk\n",
        "import pandas as pd\n",
        "import random\n",
        "import re\n",
        "import requests\n",
        "import statistics\n",
        "import sklearn.ensemble\n",
        "# from elasticsearch.helpers import scan\n",
        "from io import BytesIO\n",
        "from PIL import Image\n",
        "from sklearn import metrics\n",
        "from sklearn.feature_extraction.text import CountVectorizer, TfidfVectorizer\n",
        "from sklearn.feature_selection import mutual_info_classif\n",
        "from sklearn.linear_model import SGDClassifier\n",
        "from sklearn.model_selection import cross_val_predict, StratifiedKFold\n",
        "from sklearn.naive_bayes import MultinomialNB\n",
        "from sklearn.pipeline import make_pipeline\n",
        "from tqdm import tqdm\n",
        "from xgboost import XGBClassifier\n",
        "from wordcloud import WordCloud\n",
        "from sklearn.model_selection import train_test_split\n",
        "nltk.download('stopwords')"
      ],
      "execution_count": null,
      "outputs": [
        {
          "output_type": "stream",
          "text": [
            "[nltk_data] Downloading package stopwords to /root/nltk_data...\n",
            "[nltk_data]   Unzipping corpora/stopwords.zip.\n"
          ],
          "name": "stdout"
        },
        {
          "output_type": "execute_result",
          "data": {
            "text/plain": [
              "True"
            ]
          },
          "metadata": {
            "tags": []
          },
          "execution_count": 7
        }
      ]
    },
    {
      "cell_type": "markdown",
      "metadata": {
        "id": "OFzgN5XgJLGL"
      },
      "source": [
        "# Trabalho Final \n",
        "\n",
        "O objetivo deste trabalho é comparar resultados de 4 classificadores utilizando dois datasets com discurso de ódio. Para realizar a classificação, os dois datasets foram reunidos em um só e cada classificador foi executado 10 vezes, dando resultados de acurácia, precisão e F1."
      ]
    },
    {
      "cell_type": "code",
      "metadata": {
        "id": "GVfTOKWOHgY_"
      },
      "source": [
        "class DatasetFile:\n",
        "\n",
        "  def __init__(self):\n",
        "    self.keywords = [\"arrombado\", \"asno\", \"acefalo\", \"babaca\", \"babuino\", \"baitola\", \"biba\", \"bixa\", \"bixinha\", \"bobo\", \"boquete\", \"borra\", \"bosta\", \"buceta\", \"burro\", \"cacete\", \"cadela\", \"cagar\", \"cala\", \"caralho\", \"chupe\", \"come\", \"corno\", \"cu\", \"cusao\", \"desgracado\", \"egua\", \"enraba\", \"fdp\", \"fiderapariga\", \"fidumaegua\", \"filhodaputa\", \"filhodeumaputa\", \"foda\", \"fodase\", \"foder\", \"fudido\", \"gay\", \"grelo\", \"idiota\", \"inferno\", \"jegue\", \"louco\", \"macaco\", \"mamar\", \"marica\", \"merda\", \"mijao\", \"otario\", \"pariu\", \"pau\", \"peidar\", \"pica\", \"pinto\", \"piriguete\", \"piroca\", \"piru\", \"porra\", \"puta\", \"quinto\", \"rapariga\", \"retardado\", \"rola\", \"siririca\", \"tesuda\", \"tomar\", \"vagabundo\", \"vaite\", \"veado\", \"velha\", \"viado\", \"xereca\"]\n",
        "\n",
        "  def clean_text(self, text):\n",
        "      REPLACE_BY_SPACE_RE = re.compile('[/(){}\\[\\]\\|,;]')\n",
        "\n",
        "      text = text.lower() # lowercase text\n",
        "      text = REPLACE_BY_SPACE_RE.sub(' ', text) \n",
        "      return text\n",
        "\n",
        "  def load_datasets(self, list_file_name):\n",
        "    files_content = []\n",
        "    for file_name in list_file_name:\n",
        "      files_content.append(pd.read_csv(file_name))\n",
        "    return pd.concat(frames)\n",
        "\n",
        "  def load_dataset(self, file_path):\n",
        "      \"\"\"\n",
        "      Load dataset from arff file\n",
        "\n",
        "      Parameters\n",
        "      ----------\n",
        "      file_path: string\n",
        "          path from arff file\n",
        "\n",
        "      Returns\n",
        "      -------\n",
        "      file_dataframe: pandas.DataFrame\n",
        "          return loaded data on a\n",
        "          DataFrame\n",
        "      \"\"\"\n",
        "      classification = []\n",
        "      text = []\n",
        "      bad_word_feature = []\n",
        "      with open(file_path,'r') as file:\n",
        "          for line in file:\n",
        "              class_i = line[:3]\n",
        "              text_i = line[4:-2]\n",
        "              if class_i == 'no,':\n",
        "                  class_i = 0\n",
        "                  text_cleaned = self.clean_text(text_i)\n",
        "                  classification.append(class_i)\n",
        "              if class_i == 'yes':\n",
        "                  class_i = 1\n",
        "                  text_cleaned = self.clean_text(text_i[1:])\n",
        "                  classification.append(class_i)\n",
        "              \n",
        "              if class_i == 1 or class_i == 0:\n",
        "                  text.append(text_cleaned)\n",
        "                  has_word = 0\n",
        "                  for word in self.keywords:\n",
        "                      if word in text_cleaned:\n",
        "                          has_word = 1\n",
        "                  bad_word_feature.append(has_word)\n",
        "      dataset_dict = {'classification': classification , 'text':text}\n",
        "      file_dataframe = pd.DataFrame(dataset_dict)\n",
        "      return file_dataframe"
      ],
      "execution_count": null,
      "outputs": []
    },
    {
      "cell_type": "markdown",
      "metadata": {
        "id": "aCfXrIX_KJXL"
      },
      "source": [
        "Definindo como os modelos devem dividir o dataset e calculando a acurácia, f1 e precisão dos resultados.\n",
        "\n",
        "A acurácia é a porcentagem de predições feitas corretamente, dado o número total de predicões:\n",
        "\n",
        "$Acc = \\frac{VP + VN}{VP + VN + FP + FN}$\n",
        "\n",
        "sendo VP = verdadeiro positivo, \n",
        "      FP = falso positivo,\n",
        "      VN = verdadeiro negativo e\n",
        "      FN = falso negativo.\n",
        "\n",
        "A precisão informa o quanto o classificador consegue não classificar como postivas, labels que são negativas.\n",
        "\n",
        "$Prec = \\frac{VP}{VP+FP}$\n",
        "\n",
        "E a métrica F1 é uma média ponderada da precisão e do recall.\n",
        "\n",
        "$F1 = \\frac{2*(Prec*Rec)}{Prec+Rec}$\n",
        "\n",
        "sendo $Rec = \\frac{VP}{VP+FN}$"
      ]
    },
    {
      "cell_type": "code",
      "metadata": {
        "id": "sZ1BG2vJcPCe"
      },
      "source": [
        "class Models:\n",
        "\n",
        "  def __init__(self):\n",
        "    pass\n",
        "\n",
        "  def evaluate_model(self, model, X, y, model_name):\n",
        "    \"\"\"\n",
        "    Routine to evaluate model performance without k-fold\n",
        "    \"\"\"\n",
        "    test_acc_list = []\n",
        "    test_f1_list = []\n",
        "    test_prec_list = []\n",
        "    for i in range(0, 10):\n",
        "      X_train, X_test, y_train, y_test = train_test_split(X, y, \n",
        "                                                          test_size=0.30)\n",
        "      \n",
        "      model.fit(X_train, y_train)\n",
        "      \n",
        "      test_results = model.predict(X_test)\n",
        "\n",
        "      test_acc = metrics.accuracy_score(y_test, test_results)\n",
        "      test_f1 = metrics.f1_score(y_test, test_results, pos_label=1)\n",
        "      test_prec = metrics.precision_score(y_test, test_results, pos_label=1)\n",
        "      test_acc_list.append(test_acc)\n",
        "      test_f1_list.append(test_f1)\n",
        "      test_prec_list.append(test_prec)\n",
        "     \n",
        "    test_mean_acc = statistics.mean(test_acc_list)\n",
        "    test_mean_f1 = statistics.mean(test_f1_list)\n",
        "    test_mean_prec = statistics.mean(test_prec_list)\n",
        "\n",
        "    test_std_acc = statistics.stdev(test_acc_list)\n",
        "    test_std_f1 = statistics.stdev(test_f1_list)\n",
        "    test_std_prec = statistics.stdev(test_prec_list)\n",
        "    \n",
        "    print(f\"{model_name} Results: \\n\")\n",
        "    print(f\"Test accuracy score of Hate speech {test_mean_acc} +/- {test_std_acc}\\n\")\n",
        "    print(f\"Test f1 score of Hate speech {test_mean_f1} +/- {test_std_f1}\\n\")\n",
        "    print(f\"Test precision score of Hate speech {test_mean_prec} +/- {test_std_prec}\\n\")\n",
        "\n",
        "    return test_acc_list, test_f1_list, test_prec_list\n"
      ],
      "execution_count": null,
      "outputs": []
    },
    {
      "cell_type": "markdown",
      "metadata": {
        "id": "BmTLQT2zOPxc"
      },
      "source": [
        "# Abrindo o dataset"
      ]
    },
    {
      "cell_type": "code",
      "metadata": {
        "id": "rRa_tlg1XxNj",
        "outputId": "b2321db8-21a3-4b69-dc78-ed868a231d2e",
        "colab": {
          "base_uri": "https://localhost:8080/",
          "height": 34
        }
      },
      "source": [
        "df = DatasetFile()\n",
        "\n",
        "dataset = df.load_datasets(['cleaned_balanced_paula.csv', 'cleaned_balanced_rogers.csv'])\n",
        "size_ofensive_examples = dataset[dataset['classification']==1].count()[0]\n",
        "size_normal_examples = dataset[dataset['classification']==0].count()[0]\n",
        "print(f\"We have {size_ofensive_examples} ofensive examples and {size_normal_examples} normal examples\")\n"
      ],
      "execution_count": null,
      "outputs": [
        {
          "output_type": "stream",
          "text": [
            "We have 2207 ofensive examples and 2207 normal examples\n"
          ],
          "name": "stdout"
        }
      ]
    },
    {
      "cell_type": "code",
      "metadata": {
        "id": "wXa1p9QNX4nJ",
        "outputId": "a6d06738-d3b0-4387-e57a-371a1ae4b10d",
        "colab": {
          "base_uri": "https://localhost:8080/",
          "height": 71
        }
      },
      "source": [
        "stopwords = nltk.corpus.stopwords.words('portuguese')\n",
        "text = dataset['text']\n",
        "classification = dataset['classification']\n",
        "\n",
        "# Creating Bag of words\n",
        "vectorizer = TfidfVectorizer(stop_words=stopwords, lowercase=True, analyzer='word', token_pattern=r'[A-Za-z]{3,}')\n",
        "bag_of_words = vectorizer.fit_transform(text)"
      ],
      "execution_count": null,
      "outputs": [
        {
          "output_type": "stream",
          "text": [
            "/usr/local/lib/python3.6/dist-packages/sklearn/feature_extraction/text.py:385: UserWarning: Your stop_words may be inconsistent with your preprocessing. Tokenizing the stop words generated tokens ['amos', 'est', 'estiv', 'houv', 'nhamos', 'ramos', 'ser', 'ssemos', 'tamb', 'ter', 'tiv', 'vamos', 'voc'] not in stop_words.\n",
            "  'stop_words.' % sorted(inconsistent))\n"
          ],
          "name": "stderr"
        }
      ]
    },
    {
      "cell_type": "markdown",
      "metadata": {
        "id": "Qgzu3ZN0NIkZ"
      },
      "source": [
        "# Treinando e testando os modelos"
      ]
    },
    {
      "cell_type": "code",
      "metadata": {
        "id": "GCUhpaj5cq21",
        "outputId": "5c6649f3-7a42-49f2-a78e-4c0aa89b29e3",
        "colab": {
          "base_uri": "https://localhost:8080/",
          "height": 153
        }
      },
      "source": [
        "model = Models()\n",
        "\n",
        "best_number_of_trees=10\n",
        "# Random forest using the best number of trees\n",
        "rf = sklearn.ensemble.RandomForestClassifier(n_estimators=best_number_of_trees)\n",
        "# rf.fit(bag_of_words, classification)\n",
        "\n",
        "# Evaluate model metrics\n",
        "rfc_acc_list, rfc_f1_list, rfc_prec_list = model.evaluate_model(rf, bag_of_words, classification, 'Random Forest')"
      ],
      "execution_count": null,
      "outputs": [
        {
          "output_type": "stream",
          "text": [
            "Random Forest Results: \n",
            "\n",
            "Test accuracy score of Hate speech 0.6537358490566038 +/- 0.006160183924714737\n",
            "\n",
            "Test f1 score of Hate speech 0.5950418516076282 +/- 0.02391271431500575\n",
            "\n",
            "Test precision score of Hate speech 0.7078056410697638 +/- 0.04472388556335876\n",
            "\n"
          ],
          "name": "stdout"
        }
      ]
    },
    {
      "cell_type": "code",
      "metadata": {
        "id": "7sSrgWKXcxu8",
        "outputId": "901c3710-d48e-4be2-e4a4-8ba26c18efe5",
        "colab": {
          "base_uri": "https://localhost:8080/",
          "height": 153
        }
      },
      "source": [
        "# Using multinomial naive bayes\n",
        "mnb = MultinomialNB()\n",
        "\n",
        "# Evaluate model metrics\n",
        "mnb_acc_list, mnb_f1_list, mnb_prec_list = model.evaluate_model(mnb, bag_of_words, classification, 'Naive Bayes')"
      ],
      "execution_count": null,
      "outputs": [
        {
          "output_type": "stream",
          "text": [
            "Naive Bayes Results: \n",
            "\n",
            "Test accuracy score of Hate speech 0.6839245283018868 +/- 0.010340816163956823\n",
            "\n",
            "Test f1 score of Hate speech 0.6978641649056389 +/- 0.009619309500776206\n",
            "\n",
            "Test precision score of Hate speech 0.6759581961144369 +/- 0.01850262549233322\n",
            "\n"
          ],
          "name": "stdout"
        }
      ]
    },
    {
      "cell_type": "code",
      "metadata": {
        "id": "GUCm6JwNc2E8",
        "outputId": "9b084799-260a-4dff-cfd4-8ab4ec8c9850",
        "colab": {
          "base_uri": "https://localhost:8080/",
          "height": 153
        }
      },
      "source": [
        "svm = SGDClassifier()\n",
        "\n",
        "# Evaluate model metrics\n",
        "svm_acc_list, svm_f1_list, svm_prec_list = model.evaluate_model(svm, bag_of_words, classification, 'Support Vector Machine')"
      ],
      "execution_count": null,
      "outputs": [
        {
          "output_type": "stream",
          "text": [
            "Support Vector Machine Results: \n",
            "\n",
            "Test accuracy score of Hate speech 0.6610566037735849 +/- 0.01607092385546931\n",
            "\n",
            "Test f1 score of Hate speech 0.6561337740230891 +/- 0.01715020424591968\n",
            "\n",
            "Test precision score of Hate speech 0.6640486573017889 +/- 0.01609223876486641\n",
            "\n"
          ],
          "name": "stdout"
        }
      ]
    },
    {
      "cell_type": "code",
      "metadata": {
        "id": "vdGc6_jqc3uO",
        "outputId": "dd3519b8-9d53-46de-fe8a-470a97778e4c",
        "colab": {
          "base_uri": "https://localhost:8080/",
          "height": 153
        }
      },
      "source": [
        "xgb = XGBClassifier()\n",
        "\n",
        "# Evaluate model metrics\n",
        "xgb_acc_list, xgb_f1_list, xgb_prec_list = model.evaluate_model(xgb, bag_of_words, classification, 'Xtreme Gradient Boosting')"
      ],
      "execution_count": null,
      "outputs": [
        {
          "output_type": "stream",
          "text": [
            "Xtreme Gradient Boosting Results: \n",
            "\n",
            "Test accuracy score of Hate speech 0.6354716981132076 +/- 0.01254334677969099\n",
            "\n",
            "Test f1 score of Hate speech 0.5334727162433334 +/- 0.0244260885424244\n",
            "\n",
            "Test precision score of Hate speech 0.7506117648422923 +/- 0.03270423536423263\n",
            "\n"
          ],
          "name": "stdout"
        }
      ]
    },
    {
      "cell_type": "markdown",
      "metadata": {
        "id": "0rmGiX_0OYtr"
      },
      "source": [
        "# Analisando os resultados"
      ]
    },
    {
      "cell_type": "code",
      "metadata": {
        "id": "T_3KCsLk_UAl",
        "outputId": "6fcb009d-550b-49eb-f4b5-9cb94bae0311",
        "colab": {
          "base_uri": "https://localhost:8080/",
          "height": 478
        }
      },
      "source": [
        "import matplotlib.pyplot as plt\n",
        "data_acc = [rfc_acc_list, mnb_acc_list, svm_acc_list, xgb_acc_list] \n",
        "data_f1 = [rfc_f1_list, mnb_f1_list, svm_f1_list, xgb_f1_list] \n",
        "data_prec = [rfc_prec_list, mnb_prec_list, svm_prec_list, xgb_prec_list]\n",
        "labels = ['Random Forest', 'MNB', 'SVM', 'XGBoost']\n",
        "plt.figure(figsize=(12,8))\n",
        "fig, axes = plt.subplots(nrows=1, ncols=3, figsize=(15, 7))\n",
        "\n",
        "bplot1 = axes[0].boxplot(data_acc, labels=labels)\n",
        "axes[0].set_title('Accuracy')\n",
        "\n",
        "bplot2 = axes[1].boxplot(data_f1, labels=labels) \n",
        "axes[1].set_title('F1')\n",
        "\n",
        "bplot3 = axes[2].boxplot(data_prec, labels=labels) \n",
        "axes[2].set_title('Precision')\n",
        "\n"
      ],
      "execution_count": null,
      "outputs": [
        {
          "output_type": "execute_result",
          "data": {
            "text/plain": [
              "Text(0.5, 1.0, 'Precision')"
            ]
          },
          "metadata": {
            "tags": []
          },
          "execution_count": 84
        },
        {
          "output_type": "display_data",
          "data": {
            "text/plain": [
              "<Figure size 864x576 with 0 Axes>"
            ]
          },
          "metadata": {
            "tags": []
          }
        },
        {
          "output_type": "display_data",
          "data": {
            "image/png": "[encoded data removed]",
            "text/plain": [
              "<Figure size 1080x504 with 3 Axes>"
            ]
          },
          "metadata": {
            "tags": [],
            "needs_background": "light"
          }
        }
      ]
    }
  ]
}